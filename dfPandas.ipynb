{
  "nbformat": 4,
  "nbformat_minor": 0,
  "metadata": {
    "colab": {
      "name": "dfPandas.ipynb",
      "provenance": [],
      "collapsed_sections": [],
      "authorship_tag": "ABX9TyO1pV/bUpm75IMfoiIyj3a/",
      "include_colab_link": true
    },
    "kernelspec": {
      "name": "python3",
      "display_name": "Python 3"
    }
  },
  "cells": [
    {
      "cell_type": "markdown",
      "metadata": {
        "id": "view-in-github",
        "colab_type": "text"
      },
      "source": [
        "<a href=\"https://colab.research.google.com/github/jcjimenezb123/ProgramacionPython/blob/master/dfPandas.ipynb\" target=\"_parent\"><img src=\"https://colab.research.google.com/assets/colab-badge.svg\" alt=\"Open In Colab\"/></a>"
      ]
    },
    {
      "cell_type": "code",
      "metadata": {
        "id": "FAWhg7EkFA-B"
      },
      "source": [
        "import pandas as pd"
      ],
      "execution_count": null,
      "outputs": []
    },
    {
      "cell_type": "code",
      "metadata": {
        "id": "FbUkxTf0EWfK"
      },
      "source": [
        "data={\n",
        "    'bebida':['Cafe','Soda','Te','Cerveza'],\n",
        "    'precio':[10,12,9,15]\n",
        "}"
      ],
      "execution_count": null,
      "outputs": []
    },
    {
      "cell_type": "code",
      "metadata": {
        "id": "YXtmsjDGFDJV"
      },
      "source": [
        "df=pd.DataFrame(data)"
      ],
      "execution_count": null,
      "outputs": []
    },
    {
      "cell_type": "code",
      "metadata": {
        "id": "qfqc1WZYFLTp",
        "colab": {
          "base_uri": "https://localhost:8080/",
          "height": 171
        },
        "outputId": "5f8724fa-aa83-4d42-bf8b-edf1629fc929"
      },
      "source": [
        "df"
      ],
      "execution_count": null,
      "outputs": [
        {
          "output_type": "execute_result",
          "data": {
            "text/html": [
              "<div>\n",
              "<style scoped>\n",
              "    .dataframe tbody tr th:only-of-type {\n",
              "        vertical-align: middle;\n",
              "    }\n",
              "\n",
              "    .dataframe tbody tr th {\n",
              "        vertical-align: top;\n",
              "    }\n",
              "\n",
              "    .dataframe thead th {\n",
              "        text-align: right;\n",
              "    }\n",
              "</style>\n",
              "<table border=\"1\" class=\"dataframe\">\n",
              "  <thead>\n",
              "    <tr style=\"text-align: right;\">\n",
              "      <th></th>\n",
              "      <th>bebida</th>\n",
              "      <th>precio</th>\n",
              "    </tr>\n",
              "  </thead>\n",
              "  <tbody>\n",
              "    <tr>\n",
              "      <th>0</th>\n",
              "      <td>Cafe</td>\n",
              "      <td>10</td>\n",
              "    </tr>\n",
              "    <tr>\n",
              "      <th>1</th>\n",
              "      <td>Soda</td>\n",
              "      <td>12</td>\n",
              "    </tr>\n",
              "    <tr>\n",
              "      <th>2</th>\n",
              "      <td>Te</td>\n",
              "      <td>9</td>\n",
              "    </tr>\n",
              "    <tr>\n",
              "      <th>3</th>\n",
              "      <td>Cerveza</td>\n",
              "      <td>15</td>\n",
              "    </tr>\n",
              "  </tbody>\n",
              "</table>\n",
              "</div>"
            ],
            "text/plain": [
              "    bebida  precio\n",
              "0     Cafe      10\n",
              "1     Soda      12\n",
              "2       Te       9\n",
              "3  Cerveza      15"
            ]
          },
          "metadata": {
            "tags": []
          },
          "execution_count": 4
        }
      ]
    },
    {
      "cell_type": "code",
      "metadata": {
        "id": "ggr7BjT2FNwC",
        "colab": {
          "base_uri": "https://localhost:8080/",
          "height": 171
        },
        "outputId": "7d27c896-5020-4f4c-c261-cc92b54eee30"
      },
      "source": [
        "df=pd.DataFrame(data,index=['Juan','Pedro','Ana','Cecilia'])\n",
        "df"
      ],
      "execution_count": null,
      "outputs": [
        {
          "output_type": "execute_result",
          "data": {
            "text/html": [
              "<div>\n",
              "<style scoped>\n",
              "    .dataframe tbody tr th:only-of-type {\n",
              "        vertical-align: middle;\n",
              "    }\n",
              "\n",
              "    .dataframe tbody tr th {\n",
              "        vertical-align: top;\n",
              "    }\n",
              "\n",
              "    .dataframe thead th {\n",
              "        text-align: right;\n",
              "    }\n",
              "</style>\n",
              "<table border=\"1\" class=\"dataframe\">\n",
              "  <thead>\n",
              "    <tr style=\"text-align: right;\">\n",
              "      <th></th>\n",
              "      <th>bebida</th>\n",
              "      <th>precio</th>\n",
              "    </tr>\n",
              "  </thead>\n",
              "  <tbody>\n",
              "    <tr>\n",
              "      <th>Juan</th>\n",
              "      <td>Cafe</td>\n",
              "      <td>10</td>\n",
              "    </tr>\n",
              "    <tr>\n",
              "      <th>Pedro</th>\n",
              "      <td>Soda</td>\n",
              "      <td>12</td>\n",
              "    </tr>\n",
              "    <tr>\n",
              "      <th>Ana</th>\n",
              "      <td>Te</td>\n",
              "      <td>9</td>\n",
              "    </tr>\n",
              "    <tr>\n",
              "      <th>Cecilia</th>\n",
              "      <td>Cerveza</td>\n",
              "      <td>15</td>\n",
              "    </tr>\n",
              "  </tbody>\n",
              "</table>\n",
              "</div>"
            ],
            "text/plain": [
              "          bebida  precio\n",
              "Juan        Cafe      10\n",
              "Pedro       Soda      12\n",
              "Ana           Te       9\n",
              "Cecilia  Cerveza      15"
            ]
          },
          "metadata": {
            "tags": []
          },
          "execution_count": 5
        }
      ]
    },
    {
      "cell_type": "code",
      "metadata": {
        "id": "NZS6M76-GVcb",
        "colab": {
          "base_uri": "https://localhost:8080/",
          "height": 69
        },
        "outputId": "cb317cec-5fcd-411c-ea35-77513cf40b2c"
      },
      "source": [
        "df.loc['Ana']"
      ],
      "execution_count": null,
      "outputs": [
        {
          "output_type": "execute_result",
          "data": {
            "text/plain": [
              "bebida    Te\n",
              "precio     9\n",
              "Name: Ana, dtype: object"
            ]
          },
          "metadata": {
            "tags": []
          },
          "execution_count": 6
        }
      ]
    },
    {
      "cell_type": "code",
      "metadata": {
        "id": "9I-I-swVGlan",
        "colab": {
          "base_uri": "https://localhost:8080/",
          "height": 166
        },
        "outputId": "9b800352-b1f2-48e7-cbee-c90faed4d1bd"
      },
      "source": [
        "df=pd.read_csv('purchases.csv')\n",
        "df"
      ],
      "execution_count": null,
      "outputs": [
        {
          "output_type": "execute_result",
          "data": {
            "text/html": [
              "<div>\n",
              "<style scoped>\n",
              "    .dataframe tbody tr th:only-of-type {\n",
              "        vertical-align: middle;\n",
              "    }\n",
              "\n",
              "    .dataframe tbody tr th {\n",
              "        vertical-align: top;\n",
              "    }\n",
              "\n",
              "    .dataframe thead th {\n",
              "        text-align: right;\n",
              "    }\n",
              "</style>\n",
              "<table border=\"1\" class=\"dataframe\">\n",
              "  <thead>\n",
              "    <tr style=\"text-align: right;\">\n",
              "      <th></th>\n",
              "      <th>Unnamed: 0</th>\n",
              "      <th>apples</th>\n",
              "      <th>oranges</th>\n",
              "    </tr>\n",
              "  </thead>\n",
              "  <tbody>\n",
              "    <tr>\n",
              "      <th>0</th>\n",
              "      <td>June</td>\n",
              "      <td>3</td>\n",
              "      <td>0</td>\n",
              "    </tr>\n",
              "    <tr>\n",
              "      <th>1</th>\n",
              "      <td>Robert</td>\n",
              "      <td>2</td>\n",
              "      <td>3</td>\n",
              "    </tr>\n",
              "    <tr>\n",
              "      <th>2</th>\n",
              "      <td>Lily</td>\n",
              "      <td>0</td>\n",
              "      <td>7</td>\n",
              "    </tr>\n",
              "    <tr>\n",
              "      <th>3</th>\n",
              "      <td>David</td>\n",
              "      <td>1</td>\n",
              "      <td>2</td>\n",
              "    </tr>\n",
              "  </tbody>\n",
              "</table>\n",
              "</div>"
            ],
            "text/plain": [
              "  Unnamed: 0  apples  oranges\n",
              "0       June       3        0\n",
              "1     Robert       2        3\n",
              "2       Lily       0        7\n",
              "3      David       1        2"
            ]
          },
          "metadata": {
            "tags": []
          },
          "execution_count": 7
        }
      ]
    },
    {
      "cell_type": "code",
      "metadata": {
        "id": "KktJOOqgJTCE",
        "colab": {
          "base_uri": "https://localhost:8080/",
          "height": 166
        },
        "outputId": "685b5d6a-a352-4343-b38c-c35e60770d8d"
      },
      "source": [
        "df=pd.read_csv('purchases.csv',index_col=0)\n",
        "df"
      ],
      "execution_count": null,
      "outputs": [
        {
          "output_type": "execute_result",
          "data": {
            "text/html": [
              "<div>\n",
              "<style scoped>\n",
              "    .dataframe tbody tr th:only-of-type {\n",
              "        vertical-align: middle;\n",
              "    }\n",
              "\n",
              "    .dataframe tbody tr th {\n",
              "        vertical-align: top;\n",
              "    }\n",
              "\n",
              "    .dataframe thead th {\n",
              "        text-align: right;\n",
              "    }\n",
              "</style>\n",
              "<table border=\"1\" class=\"dataframe\">\n",
              "  <thead>\n",
              "    <tr style=\"text-align: right;\">\n",
              "      <th></th>\n",
              "      <th>apples</th>\n",
              "      <th>oranges</th>\n",
              "    </tr>\n",
              "  </thead>\n",
              "  <tbody>\n",
              "    <tr>\n",
              "      <th>June</th>\n",
              "      <td>3</td>\n",
              "      <td>0</td>\n",
              "    </tr>\n",
              "    <tr>\n",
              "      <th>Robert</th>\n",
              "      <td>2</td>\n",
              "      <td>3</td>\n",
              "    </tr>\n",
              "    <tr>\n",
              "      <th>Lily</th>\n",
              "      <td>0</td>\n",
              "      <td>7</td>\n",
              "    </tr>\n",
              "    <tr>\n",
              "      <th>David</th>\n",
              "      <td>1</td>\n",
              "      <td>2</td>\n",
              "    </tr>\n",
              "  </tbody>\n",
              "</table>\n",
              "</div>"
            ],
            "text/plain": [
              "        apples  oranges\n",
              "June         3        0\n",
              "Robert       2        3\n",
              "Lily         0        7\n",
              "David        1        2"
            ]
          },
          "metadata": {
            "tags": []
          },
          "execution_count": 8
        }
      ]
    },
    {
      "cell_type": "code",
      "metadata": {
        "id": "4Ph_uPRKJiDW",
        "colab": {
          "base_uri": "https://localhost:8080/",
          "height": 166
        },
        "outputId": "cdcffef3-d7d7-4050-b70e-81fe8f7ab205"
      },
      "source": [
        "df=pd.read_json('purchases.json')\n",
        "df"
      ],
      "execution_count": null,
      "outputs": [
        {
          "output_type": "execute_result",
          "data": {
            "text/html": [
              "<div>\n",
              "<style scoped>\n",
              "    .dataframe tbody tr th:only-of-type {\n",
              "        vertical-align: middle;\n",
              "    }\n",
              "\n",
              "    .dataframe tbody tr th {\n",
              "        vertical-align: top;\n",
              "    }\n",
              "\n",
              "    .dataframe thead th {\n",
              "        text-align: right;\n",
              "    }\n",
              "</style>\n",
              "<table border=\"1\" class=\"dataframe\">\n",
              "  <thead>\n",
              "    <tr style=\"text-align: right;\">\n",
              "      <th></th>\n",
              "      <th>apples</th>\n",
              "      <th>oranges</th>\n",
              "    </tr>\n",
              "  </thead>\n",
              "  <tbody>\n",
              "    <tr>\n",
              "      <th>June</th>\n",
              "      <td>3</td>\n",
              "      <td>0</td>\n",
              "    </tr>\n",
              "    <tr>\n",
              "      <th>Robert</th>\n",
              "      <td>2</td>\n",
              "      <td>3</td>\n",
              "    </tr>\n",
              "    <tr>\n",
              "      <th>Lily</th>\n",
              "      <td>0</td>\n",
              "      <td>7</td>\n",
              "    </tr>\n",
              "    <tr>\n",
              "      <th>David</th>\n",
              "      <td>1</td>\n",
              "      <td>2</td>\n",
              "    </tr>\n",
              "  </tbody>\n",
              "</table>\n",
              "</div>"
            ],
            "text/plain": [
              "        apples  oranges\n",
              "June         3        0\n",
              "Robert       2        3\n",
              "Lily         0        7\n",
              "David        1        2"
            ]
          },
          "metadata": {
            "tags": []
          },
          "execution_count": 11
        }
      ]
    },
    {
      "cell_type": "code",
      "metadata": {
        "id": "G9Pp1VsoJz4x"
      },
      "source": [
        "import sqlite3"
      ],
      "execution_count": null,
      "outputs": []
    },
    {
      "cell_type": "code",
      "metadata": {
        "id": "hp7RSX9gKy0_"
      },
      "source": [
        "con = sqlite3.connect(\"database.db\")"
      ],
      "execution_count": null,
      "outputs": []
    },
    {
      "cell_type": "code",
      "metadata": {
        "id": "SQ0WjbY1Kzh2",
        "colab": {
          "base_uri": "https://localhost:8080/",
          "height": 166
        },
        "outputId": "59c97ab8-eca0-4de0-c638-195d98b88066"
      },
      "source": [
        "df = pd.read_sql_query(\"SELECT * FROM purchases\", con)\n",
        "df"
      ],
      "execution_count": null,
      "outputs": [
        {
          "output_type": "execute_result",
          "data": {
            "text/html": [
              "<div>\n",
              "<style scoped>\n",
              "    .dataframe tbody tr th:only-of-type {\n",
              "        vertical-align: middle;\n",
              "    }\n",
              "\n",
              "    .dataframe tbody tr th {\n",
              "        vertical-align: top;\n",
              "    }\n",
              "\n",
              "    .dataframe thead th {\n",
              "        text-align: right;\n",
              "    }\n",
              "</style>\n",
              "<table border=\"1\" class=\"dataframe\">\n",
              "  <thead>\n",
              "    <tr style=\"text-align: right;\">\n",
              "      <th></th>\n",
              "      <th>index</th>\n",
              "      <th>apples</th>\n",
              "      <th>oranges</th>\n",
              "    </tr>\n",
              "  </thead>\n",
              "  <tbody>\n",
              "    <tr>\n",
              "      <th>0</th>\n",
              "      <td>June</td>\n",
              "      <td>3</td>\n",
              "      <td>0</td>\n",
              "    </tr>\n",
              "    <tr>\n",
              "      <th>1</th>\n",
              "      <td>Robert</td>\n",
              "      <td>2</td>\n",
              "      <td>3</td>\n",
              "    </tr>\n",
              "    <tr>\n",
              "      <th>2</th>\n",
              "      <td>Lily</td>\n",
              "      <td>0</td>\n",
              "      <td>7</td>\n",
              "    </tr>\n",
              "    <tr>\n",
              "      <th>3</th>\n",
              "      <td>David</td>\n",
              "      <td>1</td>\n",
              "      <td>2</td>\n",
              "    </tr>\n",
              "  </tbody>\n",
              "</table>\n",
              "</div>"
            ],
            "text/plain": [
              "    index  apples  oranges\n",
              "0    June       3        0\n",
              "1  Robert       2        3\n",
              "2    Lily       0        7\n",
              "3   David       1        2"
            ]
          },
          "metadata": {
            "tags": []
          },
          "execution_count": 14
        }
      ]
    },
    {
      "cell_type": "code",
      "metadata": {
        "id": "UwXyGWScLGJa",
        "colab": {
          "base_uri": "https://localhost:8080/",
          "height": 195
        },
        "outputId": "294889d8-ba64-4095-8772-7b89c7e9030a"
      },
      "source": [
        "df.set_index('index')"
      ],
      "execution_count": null,
      "outputs": [
        {
          "output_type": "execute_result",
          "data": {
            "text/html": [
              "<div>\n",
              "<style scoped>\n",
              "    .dataframe tbody tr th:only-of-type {\n",
              "        vertical-align: middle;\n",
              "    }\n",
              "\n",
              "    .dataframe tbody tr th {\n",
              "        vertical-align: top;\n",
              "    }\n",
              "\n",
              "    .dataframe thead th {\n",
              "        text-align: right;\n",
              "    }\n",
              "</style>\n",
              "<table border=\"1\" class=\"dataframe\">\n",
              "  <thead>\n",
              "    <tr style=\"text-align: right;\">\n",
              "      <th></th>\n",
              "      <th>apples</th>\n",
              "      <th>oranges</th>\n",
              "    </tr>\n",
              "    <tr>\n",
              "      <th>index</th>\n",
              "      <th></th>\n",
              "      <th></th>\n",
              "    </tr>\n",
              "  </thead>\n",
              "  <tbody>\n",
              "    <tr>\n",
              "      <th>June</th>\n",
              "      <td>3</td>\n",
              "      <td>0</td>\n",
              "    </tr>\n",
              "    <tr>\n",
              "      <th>Robert</th>\n",
              "      <td>2</td>\n",
              "      <td>3</td>\n",
              "    </tr>\n",
              "    <tr>\n",
              "      <th>Lily</th>\n",
              "      <td>0</td>\n",
              "      <td>7</td>\n",
              "    </tr>\n",
              "    <tr>\n",
              "      <th>David</th>\n",
              "      <td>1</td>\n",
              "      <td>2</td>\n",
              "    </tr>\n",
              "  </tbody>\n",
              "</table>\n",
              "</div>"
            ],
            "text/plain": [
              "        apples  oranges\n",
              "index                  \n",
              "June         3        0\n",
              "Robert       2        3\n",
              "Lily         0        7\n",
              "David        1        2"
            ]
          },
          "metadata": {
            "tags": []
          },
          "execution_count": 15
        }
      ]
    },
    {
      "cell_type": "code",
      "metadata": {
        "id": "AdlkK7hxLRp0"
      },
      "source": [
        "df.to_csv('archivo.csv')"
      ],
      "execution_count": null,
      "outputs": []
    },
    {
      "cell_type": "code",
      "metadata": {
        "id": "c_WgyjVmLhZb"
      },
      "source": [
        "df.to_json('archivo.json')"
      ],
      "execution_count": null,
      "outputs": []
    },
    {
      "cell_type": "code",
      "metadata": {
        "id": "sgRWCxmpLnYJ"
      },
      "source": [
        "df.to_excel('archivo.xlsx')"
      ],
      "execution_count": null,
      "outputs": []
    },
    {
      "cell_type": "code",
      "metadata": {
        "id": "UgUXaYsILzYn"
      },
      "source": [
        "df.to_sql('nuevo',con)"
      ],
      "execution_count": null,
      "outputs": []
    },
    {
      "cell_type": "code",
      "metadata": {
        "id": "1k5d44rLMJBy"
      },
      "source": [
        "df2=pd.read_sql_query(\"SELECT * FROM nuevo\", con)"
      ],
      "execution_count": null,
      "outputs": []
    },
    {
      "cell_type": "code",
      "metadata": {
        "id": "-sehhlYAMYLx",
        "colab": {
          "base_uri": "https://localhost:8080/",
          "height": 581
        },
        "outputId": "2505146d-4abb-4385-b17d-e9ae4aab04bb"
      },
      "source": [
        "movies_df = pd.read_csv(\"sample_data/IMDB-Movie-Data.csv\", index_col=\"Title\")\n",
        "movies_df.head()"
      ],
      "execution_count": null,
      "outputs": [
        {
          "output_type": "execute_result",
          "data": {
            "text/html": [
              "<div>\n",
              "<style scoped>\n",
              "    .dataframe tbody tr th:only-of-type {\n",
              "        vertical-align: middle;\n",
              "    }\n",
              "\n",
              "    .dataframe tbody tr th {\n",
              "        vertical-align: top;\n",
              "    }\n",
              "\n",
              "    .dataframe thead th {\n",
              "        text-align: right;\n",
              "    }\n",
              "</style>\n",
              "<table border=\"1\" class=\"dataframe\">\n",
              "  <thead>\n",
              "    <tr style=\"text-align: right;\">\n",
              "      <th></th>\n",
              "      <th>Rank</th>\n",
              "      <th>Genre</th>\n",
              "      <th>Description</th>\n",
              "      <th>Director</th>\n",
              "      <th>Actors</th>\n",
              "      <th>Year</th>\n",
              "      <th>Runtime (Minutes)</th>\n",
              "      <th>Rating</th>\n",
              "      <th>Votes</th>\n",
              "      <th>Revenue (Millions)</th>\n",
              "      <th>Metascore</th>\n",
              "    </tr>\n",
              "    <tr>\n",
              "      <th>Title</th>\n",
              "      <th></th>\n",
              "      <th></th>\n",
              "      <th></th>\n",
              "      <th></th>\n",
              "      <th></th>\n",
              "      <th></th>\n",
              "      <th></th>\n",
              "      <th></th>\n",
              "      <th></th>\n",
              "      <th></th>\n",
              "      <th></th>\n",
              "    </tr>\n",
              "  </thead>\n",
              "  <tbody>\n",
              "    <tr>\n",
              "      <th>Guardians of the Galaxy</th>\n",
              "      <td>1</td>\n",
              "      <td>Action,Adventure,Sci-Fi</td>\n",
              "      <td>A group of intergalactic criminals are forced ...</td>\n",
              "      <td>James Gunn</td>\n",
              "      <td>Chris Pratt, Vin Diesel, Bradley Cooper, Zoe S...</td>\n",
              "      <td>2014</td>\n",
              "      <td>121</td>\n",
              "      <td>8.1</td>\n",
              "      <td>757074</td>\n",
              "      <td>333.13</td>\n",
              "      <td>76.0</td>\n",
              "    </tr>\n",
              "    <tr>\n",
              "      <th>Prometheus</th>\n",
              "      <td>2</td>\n",
              "      <td>Adventure,Mystery,Sci-Fi</td>\n",
              "      <td>Following clues to the origin of mankind, a te...</td>\n",
              "      <td>Ridley Scott</td>\n",
              "      <td>Noomi Rapace, Logan Marshall-Green, Michael Fa...</td>\n",
              "      <td>2012</td>\n",
              "      <td>124</td>\n",
              "      <td>7.0</td>\n",
              "      <td>485820</td>\n",
              "      <td>126.46</td>\n",
              "      <td>65.0</td>\n",
              "    </tr>\n",
              "    <tr>\n",
              "      <th>Split</th>\n",
              "      <td>3</td>\n",
              "      <td>Horror,Thriller</td>\n",
              "      <td>Three girls are kidnapped by a man with a diag...</td>\n",
              "      <td>M. Night Shyamalan</td>\n",
              "      <td>James McAvoy, Anya Taylor-Joy, Haley Lu Richar...</td>\n",
              "      <td>2016</td>\n",
              "      <td>117</td>\n",
              "      <td>7.3</td>\n",
              "      <td>157606</td>\n",
              "      <td>138.12</td>\n",
              "      <td>62.0</td>\n",
              "    </tr>\n",
              "    <tr>\n",
              "      <th>Sing</th>\n",
              "      <td>4</td>\n",
              "      <td>Animation,Comedy,Family</td>\n",
              "      <td>In a city of humanoid animals, a hustling thea...</td>\n",
              "      <td>Christophe Lourdelet</td>\n",
              "      <td>Matthew McConaughey,Reese Witherspoon, Seth Ma...</td>\n",
              "      <td>2016</td>\n",
              "      <td>108</td>\n",
              "      <td>7.2</td>\n",
              "      <td>60545</td>\n",
              "      <td>270.32</td>\n",
              "      <td>59.0</td>\n",
              "    </tr>\n",
              "    <tr>\n",
              "      <th>Suicide Squad</th>\n",
              "      <td>5</td>\n",
              "      <td>Action,Adventure,Fantasy</td>\n",
              "      <td>A secret government agency recruits some of th...</td>\n",
              "      <td>David Ayer</td>\n",
              "      <td>Will Smith, Jared Leto, Margot Robbie, Viola D...</td>\n",
              "      <td>2016</td>\n",
              "      <td>123</td>\n",
              "      <td>6.2</td>\n",
              "      <td>393727</td>\n",
              "      <td>325.02</td>\n",
              "      <td>40.0</td>\n",
              "    </tr>\n",
              "  </tbody>\n",
              "</table>\n",
              "</div>"
            ],
            "text/plain": [
              "                         Rank  ... Metascore\n",
              "Title                          ...          \n",
              "Guardians of the Galaxy     1  ...      76.0\n",
              "Prometheus                  2  ...      65.0\n",
              "Split                       3  ...      62.0\n",
              "Sing                        4  ...      59.0\n",
              "Suicide Squad               5  ...      40.0\n",
              "\n",
              "[5 rows x 11 columns]"
            ]
          },
          "metadata": {
            "tags": []
          },
          "execution_count": 7
        }
      ]
    },
    {
      "cell_type": "code",
      "metadata": {
        "id": "a9iRslLtNEH9",
        "colab": {
          "base_uri": "https://localhost:8080/",
          "height": 387
        },
        "outputId": "f5a275d1-07b7-4d46-eafa-327cb9c2abbb"
      },
      "source": [
        "movies_df.tail(3)"
      ],
      "execution_count": null,
      "outputs": [
        {
          "output_type": "execute_result",
          "data": {
            "text/html": [
              "<div>\n",
              "<style scoped>\n",
              "    .dataframe tbody tr th:only-of-type {\n",
              "        vertical-align: middle;\n",
              "    }\n",
              "\n",
              "    .dataframe tbody tr th {\n",
              "        vertical-align: top;\n",
              "    }\n",
              "\n",
              "    .dataframe thead th {\n",
              "        text-align: right;\n",
              "    }\n",
              "</style>\n",
              "<table border=\"1\" class=\"dataframe\">\n",
              "  <thead>\n",
              "    <tr style=\"text-align: right;\">\n",
              "      <th></th>\n",
              "      <th>Rank</th>\n",
              "      <th>Genre</th>\n",
              "      <th>Description</th>\n",
              "      <th>Director</th>\n",
              "      <th>Actors</th>\n",
              "      <th>Year</th>\n",
              "      <th>Runtime (Minutes)</th>\n",
              "      <th>Rating</th>\n",
              "      <th>Votes</th>\n",
              "      <th>Revenue (Millions)</th>\n",
              "      <th>Metascore</th>\n",
              "    </tr>\n",
              "    <tr>\n",
              "      <th>Title</th>\n",
              "      <th></th>\n",
              "      <th></th>\n",
              "      <th></th>\n",
              "      <th></th>\n",
              "      <th></th>\n",
              "      <th></th>\n",
              "      <th></th>\n",
              "      <th></th>\n",
              "      <th></th>\n",
              "      <th></th>\n",
              "      <th></th>\n",
              "    </tr>\n",
              "  </thead>\n",
              "  <tbody>\n",
              "    <tr>\n",
              "      <th>Step Up 2: The Streets</th>\n",
              "      <td>998</td>\n",
              "      <td>Drama,Music,Romance</td>\n",
              "      <td>Romantic sparks occur between two dance studen...</td>\n",
              "      <td>Jon M. Chu</td>\n",
              "      <td>Robert Hoffman, Briana Evigan, Cassie Ventura,...</td>\n",
              "      <td>2008</td>\n",
              "      <td>98</td>\n",
              "      <td>6.2</td>\n",
              "      <td>70699</td>\n",
              "      <td>58.01</td>\n",
              "      <td>50.0</td>\n",
              "    </tr>\n",
              "    <tr>\n",
              "      <th>Search Party</th>\n",
              "      <td>999</td>\n",
              "      <td>Adventure,Comedy</td>\n",
              "      <td>A pair of friends embark on a mission to reuni...</td>\n",
              "      <td>Scot Armstrong</td>\n",
              "      <td>Adam Pally, T.J. Miller, Thomas Middleditch,Sh...</td>\n",
              "      <td>2014</td>\n",
              "      <td>93</td>\n",
              "      <td>5.6</td>\n",
              "      <td>4881</td>\n",
              "      <td>NaN</td>\n",
              "      <td>22.0</td>\n",
              "    </tr>\n",
              "    <tr>\n",
              "      <th>Nine Lives</th>\n",
              "      <td>1000</td>\n",
              "      <td>Comedy,Family,Fantasy</td>\n",
              "      <td>A stuffy businessman finds himself trapped ins...</td>\n",
              "      <td>Barry Sonnenfeld</td>\n",
              "      <td>Kevin Spacey, Jennifer Garner, Robbie Amell,Ch...</td>\n",
              "      <td>2016</td>\n",
              "      <td>87</td>\n",
              "      <td>5.3</td>\n",
              "      <td>12435</td>\n",
              "      <td>19.64</td>\n",
              "      <td>11.0</td>\n",
              "    </tr>\n",
              "  </tbody>\n",
              "</table>\n",
              "</div>"
            ],
            "text/plain": [
              "                        Rank  ... Metascore\n",
              "Title                         ...          \n",
              "Step Up 2: The Streets   998  ...      50.0\n",
              "Search Party             999  ...      22.0\n",
              "Nine Lives              1000  ...      11.0\n",
              "\n",
              "[3 rows x 11 columns]"
            ]
          },
          "metadata": {
            "tags": []
          },
          "execution_count": 24
        }
      ]
    },
    {
      "cell_type": "code",
      "metadata": {
        "id": "SUSQXf6YNnXK",
        "colab": {
          "base_uri": "https://localhost:8080/",
          "height": 319
        },
        "outputId": "f4b55113-f394-47ec-a740-04a21ecb7a38"
      },
      "source": [
        "movies_df.info()"
      ],
      "execution_count": null,
      "outputs": [
        {
          "output_type": "stream",
          "text": [
            "<class 'pandas.core.frame.DataFrame'>\n",
            "Index: 1000 entries, Guardians of the Galaxy to Nine Lives\n",
            "Data columns (total 11 columns):\n",
            " #   Column              Non-Null Count  Dtype  \n",
            "---  ------              --------------  -----  \n",
            " 0   Rank                1000 non-null   int64  \n",
            " 1   Genre               1000 non-null   object \n",
            " 2   Description         1000 non-null   object \n",
            " 3   Director            1000 non-null   object \n",
            " 4   Actors              1000 non-null   object \n",
            " 5   Year                1000 non-null   int64  \n",
            " 6   Runtime (Minutes)   1000 non-null   int64  \n",
            " 7   Rating              1000 non-null   float64\n",
            " 8   Votes               1000 non-null   int64  \n",
            " 9   Revenue (Millions)  872 non-null    float64\n",
            " 10  Metascore           936 non-null    float64\n",
            "dtypes: float64(3), int64(4), object(4)\n",
            "memory usage: 133.8+ KB\n"
          ],
          "name": "stdout"
        }
      ]
    },
    {
      "cell_type": "code",
      "metadata": {
        "id": "K9doGrFj4F-d"
      },
      "source": [
        "movies_df=movies_df.append(movies_df.head(10))"
      ],
      "execution_count": null,
      "outputs": []
    },
    {
      "cell_type": "code",
      "metadata": {
        "id": "IQqY3P7n4Zyt",
        "colab": {
          "base_uri": "https://localhost:8080/",
          "height": 34
        },
        "outputId": "704d18f6-be7c-4fb3-c1fa-2162744d258f"
      },
      "source": [
        "movies_df.shape"
      ],
      "execution_count": null,
      "outputs": [
        {
          "output_type": "execute_result",
          "data": {
            "text/plain": [
              "(1010, 11)"
            ]
          },
          "metadata": {
            "tags": []
          },
          "execution_count": 9
        }
      ]
    },
    {
      "cell_type": "code",
      "metadata": {
        "id": "ttZmXMQm52MZ",
        "colab": {
          "base_uri": "https://localhost:8080/",
          "height": 34
        },
        "outputId": "273d575f-5136-464d-8139-ca571bae419b"
      },
      "source": [
        "movies_df=movies_df.drop_duplicates()\n",
        "movies_df.shape"
      ],
      "execution_count": null,
      "outputs": [
        {
          "output_type": "execute_result",
          "data": {
            "text/plain": [
              "(1000, 11)"
            ]
          },
          "metadata": {
            "tags": []
          },
          "execution_count": 11
        }
      ]
    },
    {
      "cell_type": "code",
      "metadata": {
        "id": "w2H1LK4K6JbN",
        "colab": {
          "base_uri": "https://localhost:8080/",
          "height": 34
        },
        "outputId": "48aa1a65-a50c-4d52-b9b9-c3914915e9fc"
      },
      "source": [
        "movies_df.drop_duplicates(inplace=True,keep='first')\n",
        "movies_df.shape"
      ],
      "execution_count": null,
      "outputs": [
        {
          "output_type": "execute_result",
          "data": {
            "text/plain": [
              "(1000, 11)"
            ]
          },
          "metadata": {
            "tags": []
          },
          "execution_count": 15
        }
      ]
    },
    {
      "cell_type": "code",
      "metadata": {
        "id": "kZaXUPsf6nJB",
        "colab": {
          "base_uri": "https://localhost:8080/",
          "height": 84
        },
        "outputId": "2005534f-cf48-4ae1-f9f7-469efb8870ab"
      },
      "source": [
        "movies_df.columns"
      ],
      "execution_count": null,
      "outputs": [
        {
          "output_type": "execute_result",
          "data": {
            "text/plain": [
              "Index(['Rank', 'Genre', 'Description', 'Director', 'Actors', 'Year',\n",
              "       'Runtime (Minutes)', 'Rating', 'Votes', 'Revenue (Millions)',\n",
              "       'Metascore'],\n",
              "      dtype='object')"
            ]
          },
          "metadata": {
            "tags": []
          },
          "execution_count": 16
        }
      ]
    },
    {
      "cell_type": "code",
      "metadata": {
        "id": "BIgemW-t7bpf"
      },
      "source": [
        "movies_df.rename(columns={\n",
        "    'Runtime (Minutes)': 'Runtime',\n",
        "    'Revenue (Millions)': 'Revenue_millions'\n",
        "},inplace=True)"
      ],
      "execution_count": null,
      "outputs": []
    },
    {
      "cell_type": "code",
      "metadata": {
        "id": "ereViAmy8B97",
        "colab": {
          "base_uri": "https://localhost:8080/",
          "height": 67
        },
        "outputId": "587ab58b-4814-4473-f2af-ec721b787e1b"
      },
      "source": [
        "movies_df.columns"
      ],
      "execution_count": null,
      "outputs": [
        {
          "output_type": "execute_result",
          "data": {
            "text/plain": [
              "Index(['Rank', 'Genre', 'Description', 'Director', 'Actors', 'Year', 'Runtime',\n",
              "       'Rating', 'Votes', 'Revenue_millions', 'Metascore'],\n",
              "      dtype='object')"
            ]
          },
          "metadata": {
            "tags": []
          },
          "execution_count": 18
        }
      ]
    },
    {
      "cell_type": "code",
      "metadata": {
        "id": "0VrOwMBn8GsD",
        "colab": {
          "base_uri": "https://localhost:8080/",
          "height": 569
        },
        "outputId": "8f5e0474-ffc0-4853-e0db-55fd657e799f"
      },
      "source": [
        "movies_df.isnull()"
      ],
      "execution_count": null,
      "outputs": [
        {
          "output_type": "execute_result",
          "data": {
            "text/html": [
              "<div>\n",
              "<style scoped>\n",
              "    .dataframe tbody tr th:only-of-type {\n",
              "        vertical-align: middle;\n",
              "    }\n",
              "\n",
              "    .dataframe tbody tr th {\n",
              "        vertical-align: top;\n",
              "    }\n",
              "\n",
              "    .dataframe thead th {\n",
              "        text-align: right;\n",
              "    }\n",
              "</style>\n",
              "<table border=\"1\" class=\"dataframe\">\n",
              "  <thead>\n",
              "    <tr style=\"text-align: right;\">\n",
              "      <th></th>\n",
              "      <th>Rank</th>\n",
              "      <th>Genre</th>\n",
              "      <th>Description</th>\n",
              "      <th>Director</th>\n",
              "      <th>Actors</th>\n",
              "      <th>Year</th>\n",
              "      <th>Runtime</th>\n",
              "      <th>Rating</th>\n",
              "      <th>Votes</th>\n",
              "      <th>Revenue_millions</th>\n",
              "      <th>Metascore</th>\n",
              "    </tr>\n",
              "    <tr>\n",
              "      <th>Title</th>\n",
              "      <th></th>\n",
              "      <th></th>\n",
              "      <th></th>\n",
              "      <th></th>\n",
              "      <th></th>\n",
              "      <th></th>\n",
              "      <th></th>\n",
              "      <th></th>\n",
              "      <th></th>\n",
              "      <th></th>\n",
              "      <th></th>\n",
              "    </tr>\n",
              "  </thead>\n",
              "  <tbody>\n",
              "    <tr>\n",
              "      <th>Guardians of the Galaxy</th>\n",
              "      <td>False</td>\n",
              "      <td>False</td>\n",
              "      <td>False</td>\n",
              "      <td>False</td>\n",
              "      <td>False</td>\n",
              "      <td>False</td>\n",
              "      <td>False</td>\n",
              "      <td>False</td>\n",
              "      <td>False</td>\n",
              "      <td>False</td>\n",
              "      <td>False</td>\n",
              "    </tr>\n",
              "    <tr>\n",
              "      <th>Prometheus</th>\n",
              "      <td>False</td>\n",
              "      <td>False</td>\n",
              "      <td>False</td>\n",
              "      <td>False</td>\n",
              "      <td>False</td>\n",
              "      <td>False</td>\n",
              "      <td>False</td>\n",
              "      <td>False</td>\n",
              "      <td>False</td>\n",
              "      <td>False</td>\n",
              "      <td>False</td>\n",
              "    </tr>\n",
              "    <tr>\n",
              "      <th>Split</th>\n",
              "      <td>False</td>\n",
              "      <td>False</td>\n",
              "      <td>False</td>\n",
              "      <td>False</td>\n",
              "      <td>False</td>\n",
              "      <td>False</td>\n",
              "      <td>False</td>\n",
              "      <td>False</td>\n",
              "      <td>False</td>\n",
              "      <td>False</td>\n",
              "      <td>False</td>\n",
              "    </tr>\n",
              "    <tr>\n",
              "      <th>Sing</th>\n",
              "      <td>False</td>\n",
              "      <td>False</td>\n",
              "      <td>False</td>\n",
              "      <td>False</td>\n",
              "      <td>False</td>\n",
              "      <td>False</td>\n",
              "      <td>False</td>\n",
              "      <td>False</td>\n",
              "      <td>False</td>\n",
              "      <td>False</td>\n",
              "      <td>False</td>\n",
              "    </tr>\n",
              "    <tr>\n",
              "      <th>Suicide Squad</th>\n",
              "      <td>False</td>\n",
              "      <td>False</td>\n",
              "      <td>False</td>\n",
              "      <td>False</td>\n",
              "      <td>False</td>\n",
              "      <td>False</td>\n",
              "      <td>False</td>\n",
              "      <td>False</td>\n",
              "      <td>False</td>\n",
              "      <td>False</td>\n",
              "      <td>False</td>\n",
              "    </tr>\n",
              "    <tr>\n",
              "      <th>...</th>\n",
              "      <td>...</td>\n",
              "      <td>...</td>\n",
              "      <td>...</td>\n",
              "      <td>...</td>\n",
              "      <td>...</td>\n",
              "      <td>...</td>\n",
              "      <td>...</td>\n",
              "      <td>...</td>\n",
              "      <td>...</td>\n",
              "      <td>...</td>\n",
              "      <td>...</td>\n",
              "    </tr>\n",
              "    <tr>\n",
              "      <th>Secret in Their Eyes</th>\n",
              "      <td>False</td>\n",
              "      <td>False</td>\n",
              "      <td>False</td>\n",
              "      <td>False</td>\n",
              "      <td>False</td>\n",
              "      <td>False</td>\n",
              "      <td>False</td>\n",
              "      <td>False</td>\n",
              "      <td>False</td>\n",
              "      <td>True</td>\n",
              "      <td>False</td>\n",
              "    </tr>\n",
              "    <tr>\n",
              "      <th>Hostel: Part II</th>\n",
              "      <td>False</td>\n",
              "      <td>False</td>\n",
              "      <td>False</td>\n",
              "      <td>False</td>\n",
              "      <td>False</td>\n",
              "      <td>False</td>\n",
              "      <td>False</td>\n",
              "      <td>False</td>\n",
              "      <td>False</td>\n",
              "      <td>False</td>\n",
              "      <td>False</td>\n",
              "    </tr>\n",
              "    <tr>\n",
              "      <th>Step Up 2: The Streets</th>\n",
              "      <td>False</td>\n",
              "      <td>False</td>\n",
              "      <td>False</td>\n",
              "      <td>False</td>\n",
              "      <td>False</td>\n",
              "      <td>False</td>\n",
              "      <td>False</td>\n",
              "      <td>False</td>\n",
              "      <td>False</td>\n",
              "      <td>False</td>\n",
              "      <td>False</td>\n",
              "    </tr>\n",
              "    <tr>\n",
              "      <th>Search Party</th>\n",
              "      <td>False</td>\n",
              "      <td>False</td>\n",
              "      <td>False</td>\n",
              "      <td>False</td>\n",
              "      <td>False</td>\n",
              "      <td>False</td>\n",
              "      <td>False</td>\n",
              "      <td>False</td>\n",
              "      <td>False</td>\n",
              "      <td>True</td>\n",
              "      <td>False</td>\n",
              "    </tr>\n",
              "    <tr>\n",
              "      <th>Nine Lives</th>\n",
              "      <td>False</td>\n",
              "      <td>False</td>\n",
              "      <td>False</td>\n",
              "      <td>False</td>\n",
              "      <td>False</td>\n",
              "      <td>False</td>\n",
              "      <td>False</td>\n",
              "      <td>False</td>\n",
              "      <td>False</td>\n",
              "      <td>False</td>\n",
              "      <td>False</td>\n",
              "    </tr>\n",
              "  </tbody>\n",
              "</table>\n",
              "<p>1000 rows × 11 columns</p>\n",
              "</div>"
            ],
            "text/plain": [
              "                          Rank  Genre  ...  Revenue_millions  Metascore\n",
              "Title                                  ...                             \n",
              "Guardians of the Galaxy  False  False  ...             False      False\n",
              "Prometheus               False  False  ...             False      False\n",
              "Split                    False  False  ...             False      False\n",
              "Sing                     False  False  ...             False      False\n",
              "Suicide Squad            False  False  ...             False      False\n",
              "...                        ...    ...  ...               ...        ...\n",
              "Secret in Their Eyes     False  False  ...              True      False\n",
              "Hostel: Part II          False  False  ...             False      False\n",
              "Step Up 2: The Streets   False  False  ...             False      False\n",
              "Search Party             False  False  ...              True      False\n",
              "Nine Lives               False  False  ...             False      False\n",
              "\n",
              "[1000 rows x 11 columns]"
            ]
          },
          "metadata": {
            "tags": []
          },
          "execution_count": 19
        }
      ]
    },
    {
      "cell_type": "code",
      "metadata": {
        "id": "gwcA5Vq08otY",
        "colab": {
          "base_uri": "https://localhost:8080/",
          "height": 218
        },
        "outputId": "5ccd3847-1aed-4e35-8a15-b9f76260501c"
      },
      "source": [
        "movies_df.isnull().sum()"
      ],
      "execution_count": null,
      "outputs": [
        {
          "output_type": "execute_result",
          "data": {
            "text/plain": [
              "Rank                  0\n",
              "Genre                 0\n",
              "Description           0\n",
              "Director              0\n",
              "Actors                0\n",
              "Year                  0\n",
              "Runtime               0\n",
              "Rating                0\n",
              "Votes                 0\n",
              "Revenue_millions    128\n",
              "Metascore            64\n",
              "dtype: int64"
            ]
          },
          "metadata": {
            "tags": []
          },
          "execution_count": 20
        }
      ]
    },
    {
      "cell_type": "code",
      "metadata": {
        "id": "j9IjT7wY8syp",
        "colab": {
          "base_uri": "https://localhost:8080/",
          "height": 34
        },
        "outputId": "b7755040-6c59-4c2e-d739-063dc903d0fb"
      },
      "source": [
        "movies_df.dropna(inplace=True)\n",
        "movies_df.shape"
      ],
      "execution_count": null,
      "outputs": [
        {
          "output_type": "execute_result",
          "data": {
            "text/plain": [
              "(838, 11)"
            ]
          },
          "metadata": {
            "tags": []
          },
          "execution_count": 21
        }
      ]
    },
    {
      "cell_type": "code",
      "metadata": {
        "id": "sOAhA76N9R49"
      },
      "source": [
        "import pandas as pd\n",
        "movies_df = pd.read_csv(\"sample_data/IMDB-Movie-Data.csv\", index_col=\"Title\")\n",
        "movies_df.rename(columns={\n",
        "    'Runtime (Minutes)': 'Runtime',\n",
        "    'Revenue (Millions)': 'Revenue_millions'\n",
        "},inplace=True)"
      ],
      "execution_count": null,
      "outputs": []
    },
    {
      "cell_type": "code",
      "metadata": {
        "id": "8_GrJS3G-WXC"
      },
      "source": [
        "revenue = movies_df['Revenue_millions']"
      ],
      "execution_count": null,
      "outputs": []
    },
    {
      "cell_type": "code",
      "metadata": {
        "id": "fHhNLGG8-dIG",
        "colab": {
          "base_uri": "https://localhost:8080/",
          "height": 134
        },
        "outputId": "7ee9bd13-cd84-45ed-ec74-3ebf665010cb"
      },
      "source": [
        "revenue.head()"
      ],
      "execution_count": null,
      "outputs": [
        {
          "output_type": "execute_result",
          "data": {
            "text/plain": [
              "Title\n",
              "Guardians of the Galaxy    333.13\n",
              "Prometheus                 126.46\n",
              "Split                      138.12\n",
              "Sing                       270.32\n",
              "Suicide Squad              325.02\n",
              "Name: Revenue_millions, dtype: float64"
            ]
          },
          "metadata": {
            "tags": []
          },
          "execution_count": 4
        }
      ]
    },
    {
      "cell_type": "code",
      "metadata": {
        "id": "YU4-Iv1S-rXC",
        "colab": {
          "base_uri": "https://localhost:8080/",
          "height": 34
        },
        "outputId": "fae5fbc4-ce65-4b27-c036-11ed19777aa2"
      },
      "source": [
        "revenue_mean = revenue.mean()\n",
        "revenue_mean"
      ],
      "execution_count": null,
      "outputs": [
        {
          "output_type": "execute_result",
          "data": {
            "text/plain": [
              "82.95637614678897"
            ]
          },
          "metadata": {
            "tags": []
          },
          "execution_count": 4
        }
      ]
    },
    {
      "cell_type": "code",
      "metadata": {
        "id": "TjZ9B6bM-zce"
      },
      "source": [
        "revenue.fillna(revenue_mean,inplace=True)"
      ],
      "execution_count": null,
      "outputs": []
    },
    {
      "cell_type": "code",
      "metadata": {
        "id": "8C1bvQ4J_Jdj",
        "colab": {
          "base_uri": "https://localhost:8080/",
          "height": 218
        },
        "outputId": "08061da5-4c34-4f70-cf3a-8b53bf028414"
      },
      "source": [
        "movies_df.isnull().sum()"
      ],
      "execution_count": null,
      "outputs": [
        {
          "output_type": "execute_result",
          "data": {
            "text/plain": [
              "Rank                 0\n",
              "Genre                0\n",
              "Description          0\n",
              "Director             0\n",
              "Actors               0\n",
              "Year                 0\n",
              "Runtime              0\n",
              "Rating               0\n",
              "Votes                0\n",
              "Revenue_millions     0\n",
              "Metascore           64\n",
              "dtype: int64"
            ]
          },
          "metadata": {
            "tags": []
          },
          "execution_count": 7
        }
      ]
    },
    {
      "cell_type": "code",
      "metadata": {
        "id": "qserj4oX_XXE",
        "colab": {
          "base_uri": "https://localhost:8080/",
          "height": 304
        },
        "outputId": "af254fe9-4014-452d-9f3f-1aff946f6579"
      },
      "source": [
        "movies_df.describe()"
      ],
      "execution_count": null,
      "outputs": [
        {
          "output_type": "execute_result",
          "data": {
            "text/html": [
              "<div>\n",
              "<style scoped>\n",
              "    .dataframe tbody tr th:only-of-type {\n",
              "        vertical-align: middle;\n",
              "    }\n",
              "\n",
              "    .dataframe tbody tr th {\n",
              "        vertical-align: top;\n",
              "    }\n",
              "\n",
              "    .dataframe thead th {\n",
              "        text-align: right;\n",
              "    }\n",
              "</style>\n",
              "<table border=\"1\" class=\"dataframe\">\n",
              "  <thead>\n",
              "    <tr style=\"text-align: right;\">\n",
              "      <th></th>\n",
              "      <th>Rank</th>\n",
              "      <th>Year</th>\n",
              "      <th>Runtime</th>\n",
              "      <th>Rating</th>\n",
              "      <th>Votes</th>\n",
              "      <th>Revenue_millions</th>\n",
              "      <th>Metascore</th>\n",
              "    </tr>\n",
              "  </thead>\n",
              "  <tbody>\n",
              "    <tr>\n",
              "      <th>count</th>\n",
              "      <td>1000.000000</td>\n",
              "      <td>1000.000000</td>\n",
              "      <td>1000.000000</td>\n",
              "      <td>1000.000000</td>\n",
              "      <td>1.000000e+03</td>\n",
              "      <td>1000.000000</td>\n",
              "      <td>936.000000</td>\n",
              "    </tr>\n",
              "    <tr>\n",
              "      <th>mean</th>\n",
              "      <td>500.500000</td>\n",
              "      <td>2012.783000</td>\n",
              "      <td>113.172000</td>\n",
              "      <td>6.723200</td>\n",
              "      <td>1.698083e+05</td>\n",
              "      <td>82.956376</td>\n",
              "      <td>58.985043</td>\n",
              "    </tr>\n",
              "    <tr>\n",
              "      <th>std</th>\n",
              "      <td>288.819436</td>\n",
              "      <td>3.205962</td>\n",
              "      <td>18.810908</td>\n",
              "      <td>0.945429</td>\n",
              "      <td>1.887626e+05</td>\n",
              "      <td>96.412043</td>\n",
              "      <td>17.194757</td>\n",
              "    </tr>\n",
              "    <tr>\n",
              "      <th>min</th>\n",
              "      <td>1.000000</td>\n",
              "      <td>2006.000000</td>\n",
              "      <td>66.000000</td>\n",
              "      <td>1.900000</td>\n",
              "      <td>6.100000e+01</td>\n",
              "      <td>0.000000</td>\n",
              "      <td>11.000000</td>\n",
              "    </tr>\n",
              "    <tr>\n",
              "      <th>25%</th>\n",
              "      <td>250.750000</td>\n",
              "      <td>2010.000000</td>\n",
              "      <td>100.000000</td>\n",
              "      <td>6.200000</td>\n",
              "      <td>3.630900e+04</td>\n",
              "      <td>17.442500</td>\n",
              "      <td>47.000000</td>\n",
              "    </tr>\n",
              "    <tr>\n",
              "      <th>50%</th>\n",
              "      <td>500.500000</td>\n",
              "      <td>2014.000000</td>\n",
              "      <td>111.000000</td>\n",
              "      <td>6.800000</td>\n",
              "      <td>1.107990e+05</td>\n",
              "      <td>60.375000</td>\n",
              "      <td>59.500000</td>\n",
              "    </tr>\n",
              "    <tr>\n",
              "      <th>75%</th>\n",
              "      <td>750.250000</td>\n",
              "      <td>2016.000000</td>\n",
              "      <td>123.000000</td>\n",
              "      <td>7.400000</td>\n",
              "      <td>2.399098e+05</td>\n",
              "      <td>99.177500</td>\n",
              "      <td>72.000000</td>\n",
              "    </tr>\n",
              "    <tr>\n",
              "      <th>max</th>\n",
              "      <td>1000.000000</td>\n",
              "      <td>2016.000000</td>\n",
              "      <td>191.000000</td>\n",
              "      <td>9.000000</td>\n",
              "      <td>1.791916e+06</td>\n",
              "      <td>936.630000</td>\n",
              "      <td>100.000000</td>\n",
              "    </tr>\n",
              "  </tbody>\n",
              "</table>\n",
              "</div>"
            ],
            "text/plain": [
              "              Rank         Year  ...  Revenue_millions   Metascore\n",
              "count  1000.000000  1000.000000  ...       1000.000000  936.000000\n",
              "mean    500.500000  2012.783000  ...         82.956376   58.985043\n",
              "std     288.819436     3.205962  ...         96.412043   17.194757\n",
              "min       1.000000  2006.000000  ...          0.000000   11.000000\n",
              "25%     250.750000  2010.000000  ...         17.442500   47.000000\n",
              "50%     500.500000  2014.000000  ...         60.375000   59.500000\n",
              "75%     750.250000  2016.000000  ...         99.177500   72.000000\n",
              "max    1000.000000  2016.000000  ...        936.630000  100.000000\n",
              "\n",
              "[8 rows x 7 columns]"
            ]
          },
          "metadata": {
            "tags": []
          },
          "execution_count": 8
        }
      ]
    },
    {
      "cell_type": "code",
      "metadata": {
        "id": "2C-0xLZ4_6NQ",
        "colab": {
          "base_uri": "https://localhost:8080/",
          "height": 101
        },
        "outputId": "c18076e8-6c23-4466-e347-bf47ab531f62"
      },
      "source": [
        "movies_df['Genre'].describe()"
      ],
      "execution_count": null,
      "outputs": [
        {
          "output_type": "execute_result",
          "data": {
            "text/plain": [
              "count                        1000\n",
              "unique                        207\n",
              "top       Action,Adventure,Sci-Fi\n",
              "freq                           50\n",
              "Name: Genre, dtype: object"
            ]
          },
          "metadata": {
            "tags": []
          },
          "execution_count": 9
        }
      ]
    },
    {
      "cell_type": "code",
      "metadata": {
        "id": "4GYz8Q-2Ab3m",
        "colab": {
          "base_uri": "https://localhost:8080/",
          "height": 218
        },
        "outputId": "23182816-530c-469f-c596-d1439e830cfc"
      },
      "source": [
        "movies_df['Genre'].value_counts()"
      ],
      "execution_count": null,
      "outputs": [
        {
          "output_type": "execute_result",
          "data": {
            "text/plain": [
              "Action,Adventure,Sci-Fi     50\n",
              "Drama                       48\n",
              "Comedy,Drama,Romance        35\n",
              "Comedy                      32\n",
              "Drama,Romance               31\n",
              "                            ..\n",
              "Comedy,Family,Fantasy        1\n",
              "Mystery,Thriller,Western     1\n",
              "Drama,Thriller,War           1\n",
              "Biography,Drama,Family       1\n",
              "Action,Horror                1\n",
              "Name: Genre, Length: 207, dtype: int64"
            ]
          },
          "metadata": {
            "tags": []
          },
          "execution_count": 10
        }
      ]
    },
    {
      "cell_type": "code",
      "metadata": {
        "id": "6xn7tg3WAvPl",
        "colab": {
          "base_uri": "https://localhost:8080/",
          "height": 254
        },
        "outputId": "abbf5975-8426-441d-fd23-e0e57c3c83ef"
      },
      "source": [
        "movies_df.corr()"
      ],
      "execution_count": null,
      "outputs": [
        {
          "output_type": "execute_result",
          "data": {
            "text/html": [
              "<div>\n",
              "<style scoped>\n",
              "    .dataframe tbody tr th:only-of-type {\n",
              "        vertical-align: middle;\n",
              "    }\n",
              "\n",
              "    .dataframe tbody tr th {\n",
              "        vertical-align: top;\n",
              "    }\n",
              "\n",
              "    .dataframe thead th {\n",
              "        text-align: right;\n",
              "    }\n",
              "</style>\n",
              "<table border=\"1\" class=\"dataframe\">\n",
              "  <thead>\n",
              "    <tr style=\"text-align: right;\">\n",
              "      <th></th>\n",
              "      <th>Rank</th>\n",
              "      <th>Year</th>\n",
              "      <th>Runtime</th>\n",
              "      <th>Rating</th>\n",
              "      <th>Votes</th>\n",
              "      <th>Revenue_millions</th>\n",
              "      <th>Metascore</th>\n",
              "    </tr>\n",
              "  </thead>\n",
              "  <tbody>\n",
              "    <tr>\n",
              "      <th>Rank</th>\n",
              "      <td>1.000000</td>\n",
              "      <td>-0.261605</td>\n",
              "      <td>-0.221739</td>\n",
              "      <td>-0.219555</td>\n",
              "      <td>-0.283876</td>\n",
              "      <td>-0.252996</td>\n",
              "      <td>-0.191869</td>\n",
              "    </tr>\n",
              "    <tr>\n",
              "      <th>Year</th>\n",
              "      <td>-0.261605</td>\n",
              "      <td>1.000000</td>\n",
              "      <td>-0.164900</td>\n",
              "      <td>-0.211219</td>\n",
              "      <td>-0.411904</td>\n",
              "      <td>-0.117562</td>\n",
              "      <td>-0.079305</td>\n",
              "    </tr>\n",
              "    <tr>\n",
              "      <th>Runtime</th>\n",
              "      <td>-0.221739</td>\n",
              "      <td>-0.164900</td>\n",
              "      <td>1.000000</td>\n",
              "      <td>0.392214</td>\n",
              "      <td>0.407062</td>\n",
              "      <td>0.247834</td>\n",
              "      <td>0.211978</td>\n",
              "    </tr>\n",
              "    <tr>\n",
              "      <th>Rating</th>\n",
              "      <td>-0.219555</td>\n",
              "      <td>-0.211219</td>\n",
              "      <td>0.392214</td>\n",
              "      <td>1.000000</td>\n",
              "      <td>0.511537</td>\n",
              "      <td>0.189527</td>\n",
              "      <td>0.631897</td>\n",
              "    </tr>\n",
              "    <tr>\n",
              "      <th>Votes</th>\n",
              "      <td>-0.283876</td>\n",
              "      <td>-0.411904</td>\n",
              "      <td>0.407062</td>\n",
              "      <td>0.511537</td>\n",
              "      <td>1.000000</td>\n",
              "      <td>0.607941</td>\n",
              "      <td>0.325684</td>\n",
              "    </tr>\n",
              "    <tr>\n",
              "      <th>Revenue_millions</th>\n",
              "      <td>-0.252996</td>\n",
              "      <td>-0.117562</td>\n",
              "      <td>0.247834</td>\n",
              "      <td>0.189527</td>\n",
              "      <td>0.607941</td>\n",
              "      <td>1.000000</td>\n",
              "      <td>0.133328</td>\n",
              "    </tr>\n",
              "    <tr>\n",
              "      <th>Metascore</th>\n",
              "      <td>-0.191869</td>\n",
              "      <td>-0.079305</td>\n",
              "      <td>0.211978</td>\n",
              "      <td>0.631897</td>\n",
              "      <td>0.325684</td>\n",
              "      <td>0.133328</td>\n",
              "      <td>1.000000</td>\n",
              "    </tr>\n",
              "  </tbody>\n",
              "</table>\n",
              "</div>"
            ],
            "text/plain": [
              "                      Rank      Year  ...  Revenue_millions  Metascore\n",
              "Rank              1.000000 -0.261605  ...         -0.252996  -0.191869\n",
              "Year             -0.261605  1.000000  ...         -0.117562  -0.079305\n",
              "Runtime          -0.221739 -0.164900  ...          0.247834   0.211978\n",
              "Rating           -0.219555 -0.211219  ...          0.189527   0.631897\n",
              "Votes            -0.283876 -0.411904  ...          0.607941   0.325684\n",
              "Revenue_millions -0.252996 -0.117562  ...          1.000000   0.133328\n",
              "Metascore        -0.191869 -0.079305  ...          0.133328   1.000000\n",
              "\n",
              "[7 rows x 7 columns]"
            ]
          },
          "metadata": {
            "tags": []
          },
          "execution_count": 11
        }
      ]
    },
    {
      "cell_type": "code",
      "metadata": {
        "id": "GjmQWmWzA8kF",
        "colab": {
          "base_uri": "https://localhost:8080/",
          "height": 218
        },
        "outputId": "74c76cee-7f88-4837-ee23-88907047bd7b"
      },
      "source": [
        "p=movies_df.loc['Prometheus']\n",
        "p"
      ],
      "execution_count": null,
      "outputs": [
        {
          "output_type": "execute_result",
          "data": {
            "text/plain": [
              "Rank                                                                2\n",
              "Genre                                        Adventure,Mystery,Sci-Fi\n",
              "Description         Following clues to the origin of mankind, a te...\n",
              "Director                                                 Ridley Scott\n",
              "Actors              Noomi Rapace, Logan Marshall-Green, Michael Fa...\n",
              "Year                                                             2012\n",
              "Runtime                                                           124\n",
              "Rating                                                              7\n",
              "Votes                                                          485820\n",
              "Revenue_millions                                               126.46\n",
              "Metascore                                                          65\n",
              "Name: Prometheus, dtype: object"
            ]
          },
          "metadata": {
            "tags": []
          },
          "execution_count": 12
        }
      ]
    },
    {
      "cell_type": "code",
      "metadata": {
        "id": "-AvIVJT_DmQK",
        "colab": {
          "base_uri": "https://localhost:8080/",
          "height": 218
        },
        "outputId": "683131be-8d34-4209-f8a3-bde161ba5505"
      },
      "source": [
        "p=movies_df.iloc[1]\n",
        "p"
      ],
      "execution_count": null,
      "outputs": [
        {
          "output_type": "execute_result",
          "data": {
            "text/plain": [
              "Rank                                                                2\n",
              "Genre                                        Adventure,Mystery,Sci-Fi\n",
              "Description         Following clues to the origin of mankind, a te...\n",
              "Director                                                 Ridley Scott\n",
              "Actors              Noomi Rapace, Logan Marshall-Green, Michael Fa...\n",
              "Year                                                             2012\n",
              "Runtime                                                           124\n",
              "Rating                                                              7\n",
              "Votes                                                          485820\n",
              "Revenue_millions                                               126.46\n",
              "Metascore                                                          65\n",
              "Name: Prometheus, dtype: object"
            ]
          },
          "metadata": {
            "tags": []
          },
          "execution_count": 13
        }
      ]
    },
    {
      "cell_type": "code",
      "metadata": {
        "id": "-PQB9poyD4Zi",
        "colab": {
          "base_uri": "https://localhost:8080/",
          "height": 387
        },
        "outputId": "ce33d31c-afac-44a8-f785-a50c7ce269b0"
      },
      "source": [
        "movies_subset=movies_df.loc['Prometheus':'Sing']\n",
        "movies_subset"
      ],
      "execution_count": null,
      "outputs": [
        {
          "output_type": "execute_result",
          "data": {
            "text/html": [
              "<div>\n",
              "<style scoped>\n",
              "    .dataframe tbody tr th:only-of-type {\n",
              "        vertical-align: middle;\n",
              "    }\n",
              "\n",
              "    .dataframe tbody tr th {\n",
              "        vertical-align: top;\n",
              "    }\n",
              "\n",
              "    .dataframe thead th {\n",
              "        text-align: right;\n",
              "    }\n",
              "</style>\n",
              "<table border=\"1\" class=\"dataframe\">\n",
              "  <thead>\n",
              "    <tr style=\"text-align: right;\">\n",
              "      <th></th>\n",
              "      <th>Rank</th>\n",
              "      <th>Genre</th>\n",
              "      <th>Description</th>\n",
              "      <th>Director</th>\n",
              "      <th>Actors</th>\n",
              "      <th>Year</th>\n",
              "      <th>Runtime</th>\n",
              "      <th>Rating</th>\n",
              "      <th>Votes</th>\n",
              "      <th>Revenue_millions</th>\n",
              "      <th>Metascore</th>\n",
              "    </tr>\n",
              "    <tr>\n",
              "      <th>Title</th>\n",
              "      <th></th>\n",
              "      <th></th>\n",
              "      <th></th>\n",
              "      <th></th>\n",
              "      <th></th>\n",
              "      <th></th>\n",
              "      <th></th>\n",
              "      <th></th>\n",
              "      <th></th>\n",
              "      <th></th>\n",
              "      <th></th>\n",
              "    </tr>\n",
              "  </thead>\n",
              "  <tbody>\n",
              "    <tr>\n",
              "      <th>Prometheus</th>\n",
              "      <td>2</td>\n",
              "      <td>Adventure,Mystery,Sci-Fi</td>\n",
              "      <td>Following clues to the origin of mankind, a te...</td>\n",
              "      <td>Ridley Scott</td>\n",
              "      <td>Noomi Rapace, Logan Marshall-Green, Michael Fa...</td>\n",
              "      <td>2012</td>\n",
              "      <td>124</td>\n",
              "      <td>7.0</td>\n",
              "      <td>485820</td>\n",
              "      <td>126.46</td>\n",
              "      <td>65.0</td>\n",
              "    </tr>\n",
              "    <tr>\n",
              "      <th>Split</th>\n",
              "      <td>3</td>\n",
              "      <td>Horror,Thriller</td>\n",
              "      <td>Three girls are kidnapped by a man with a diag...</td>\n",
              "      <td>M. Night Shyamalan</td>\n",
              "      <td>James McAvoy, Anya Taylor-Joy, Haley Lu Richar...</td>\n",
              "      <td>2016</td>\n",
              "      <td>117</td>\n",
              "      <td>7.3</td>\n",
              "      <td>157606</td>\n",
              "      <td>138.12</td>\n",
              "      <td>62.0</td>\n",
              "    </tr>\n",
              "    <tr>\n",
              "      <th>Sing</th>\n",
              "      <td>4</td>\n",
              "      <td>Animation,Comedy,Family</td>\n",
              "      <td>In a city of humanoid animals, a hustling thea...</td>\n",
              "      <td>Christophe Lourdelet</td>\n",
              "      <td>Matthew McConaughey,Reese Witherspoon, Seth Ma...</td>\n",
              "      <td>2016</td>\n",
              "      <td>108</td>\n",
              "      <td>7.2</td>\n",
              "      <td>60545</td>\n",
              "      <td>270.32</td>\n",
              "      <td>59.0</td>\n",
              "    </tr>\n",
              "  </tbody>\n",
              "</table>\n",
              "</div>"
            ],
            "text/plain": [
              "            Rank                     Genre  ... Revenue_millions Metascore\n",
              "Title                                       ...                           \n",
              "Prometheus     2  Adventure,Mystery,Sci-Fi  ...           126.46      65.0\n",
              "Split          3           Horror,Thriller  ...           138.12      62.0\n",
              "Sing           4   Animation,Comedy,Family  ...           270.32      59.0\n",
              "\n",
              "[3 rows x 11 columns]"
            ]
          },
          "metadata": {
            "tags": []
          },
          "execution_count": 14
        }
      ]
    },
    {
      "cell_type": "code",
      "metadata": {
        "id": "KIYF1OZ-EL5N",
        "colab": {
          "base_uri": "https://localhost:8080/",
          "height": 387
        },
        "outputId": "2b50840e-70c6-4c41-9bc5-11f0a8f2734d"
      },
      "source": [
        "movies_subset=movies_df.iloc[1:4]\n",
        "movies_subset"
      ],
      "execution_count": null,
      "outputs": [
        {
          "output_type": "execute_result",
          "data": {
            "text/html": [
              "<div>\n",
              "<style scoped>\n",
              "    .dataframe tbody tr th:only-of-type {\n",
              "        vertical-align: middle;\n",
              "    }\n",
              "\n",
              "    .dataframe tbody tr th {\n",
              "        vertical-align: top;\n",
              "    }\n",
              "\n",
              "    .dataframe thead th {\n",
              "        text-align: right;\n",
              "    }\n",
              "</style>\n",
              "<table border=\"1\" class=\"dataframe\">\n",
              "  <thead>\n",
              "    <tr style=\"text-align: right;\">\n",
              "      <th></th>\n",
              "      <th>Rank</th>\n",
              "      <th>Genre</th>\n",
              "      <th>Description</th>\n",
              "      <th>Director</th>\n",
              "      <th>Actors</th>\n",
              "      <th>Year</th>\n",
              "      <th>Runtime</th>\n",
              "      <th>Rating</th>\n",
              "      <th>Votes</th>\n",
              "      <th>Revenue_millions</th>\n",
              "      <th>Metascore</th>\n",
              "    </tr>\n",
              "    <tr>\n",
              "      <th>Title</th>\n",
              "      <th></th>\n",
              "      <th></th>\n",
              "      <th></th>\n",
              "      <th></th>\n",
              "      <th></th>\n",
              "      <th></th>\n",
              "      <th></th>\n",
              "      <th></th>\n",
              "      <th></th>\n",
              "      <th></th>\n",
              "      <th></th>\n",
              "    </tr>\n",
              "  </thead>\n",
              "  <tbody>\n",
              "    <tr>\n",
              "      <th>Prometheus</th>\n",
              "      <td>2</td>\n",
              "      <td>Adventure,Mystery,Sci-Fi</td>\n",
              "      <td>Following clues to the origin of mankind, a te...</td>\n",
              "      <td>Ridley Scott</td>\n",
              "      <td>Noomi Rapace, Logan Marshall-Green, Michael Fa...</td>\n",
              "      <td>2012</td>\n",
              "      <td>124</td>\n",
              "      <td>7.0</td>\n",
              "      <td>485820</td>\n",
              "      <td>126.46</td>\n",
              "      <td>65.0</td>\n",
              "    </tr>\n",
              "    <tr>\n",
              "      <th>Split</th>\n",
              "      <td>3</td>\n",
              "      <td>Horror,Thriller</td>\n",
              "      <td>Three girls are kidnapped by a man with a diag...</td>\n",
              "      <td>M. Night Shyamalan</td>\n",
              "      <td>James McAvoy, Anya Taylor-Joy, Haley Lu Richar...</td>\n",
              "      <td>2016</td>\n",
              "      <td>117</td>\n",
              "      <td>7.3</td>\n",
              "      <td>157606</td>\n",
              "      <td>138.12</td>\n",
              "      <td>62.0</td>\n",
              "    </tr>\n",
              "    <tr>\n",
              "      <th>Sing</th>\n",
              "      <td>4</td>\n",
              "      <td>Animation,Comedy,Family</td>\n",
              "      <td>In a city of humanoid animals, a hustling thea...</td>\n",
              "      <td>Christophe Lourdelet</td>\n",
              "      <td>Matthew McConaughey,Reese Witherspoon, Seth Ma...</td>\n",
              "      <td>2016</td>\n",
              "      <td>108</td>\n",
              "      <td>7.2</td>\n",
              "      <td>60545</td>\n",
              "      <td>270.32</td>\n",
              "      <td>59.0</td>\n",
              "    </tr>\n",
              "  </tbody>\n",
              "</table>\n",
              "</div>"
            ],
            "text/plain": [
              "            Rank                     Genre  ... Revenue_millions Metascore\n",
              "Title                                       ...                           \n",
              "Prometheus     2  Adventure,Mystery,Sci-Fi  ...           126.46      65.0\n",
              "Split          3           Horror,Thriller  ...           138.12      62.0\n",
              "Sing           4   Animation,Comedy,Family  ...           270.32      59.0\n",
              "\n",
              "[3 rows x 11 columns]"
            ]
          },
          "metadata": {
            "tags": []
          },
          "execution_count": 15
        }
      ]
    },
    {
      "cell_type": "code",
      "metadata": {
        "id": "pbrJ3-71EWdi",
        "colab": {
          "base_uri": "https://localhost:8080/",
          "height": 134
        },
        "outputId": "d4fbe239-2d75-413d-d36c-7b7966e6852f"
      },
      "source": [
        "Ridley=movies_df['Director']=='Ridley Scott'\n",
        "Ridley.head()"
      ],
      "execution_count": null,
      "outputs": [
        {
          "output_type": "execute_result",
          "data": {
            "text/plain": [
              "Title\n",
              "Guardians of the Galaxy    False\n",
              "Prometheus                  True\n",
              "Split                      False\n",
              "Sing                       False\n",
              "Suicide Squad              False\n",
              "Name: Director, dtype: bool"
            ]
          },
          "metadata": {
            "tags": []
          },
          "execution_count": 17
        }
      ]
    },
    {
      "cell_type": "code",
      "metadata": {
        "id": "soSZC4T3E0To",
        "colab": {
          "base_uri": "https://localhost:8080/",
          "height": 1000
        },
        "outputId": "a3356047-caf1-4eb0-dea9-bd5b01843d1c"
      },
      "source": [
        "movies_df[movies_df['Director']=='Ridley Scott']"
      ],
      "execution_count": null,
      "outputs": [
        {
          "output_type": "execute_result",
          "data": {
            "text/html": [
              "<div>\n",
              "<style scoped>\n",
              "    .dataframe tbody tr th:only-of-type {\n",
              "        vertical-align: middle;\n",
              "    }\n",
              "\n",
              "    .dataframe tbody tr th {\n",
              "        vertical-align: top;\n",
              "    }\n",
              "\n",
              "    .dataframe thead th {\n",
              "        text-align: right;\n",
              "    }\n",
              "</style>\n",
              "<table border=\"1\" class=\"dataframe\">\n",
              "  <thead>\n",
              "    <tr style=\"text-align: right;\">\n",
              "      <th></th>\n",
              "      <th>Rank</th>\n",
              "      <th>Genre</th>\n",
              "      <th>Description</th>\n",
              "      <th>Director</th>\n",
              "      <th>Actors</th>\n",
              "      <th>Year</th>\n",
              "      <th>Runtime</th>\n",
              "      <th>Rating</th>\n",
              "      <th>Votes</th>\n",
              "      <th>Revenue_millions</th>\n",
              "      <th>Metascore</th>\n",
              "    </tr>\n",
              "    <tr>\n",
              "      <th>Title</th>\n",
              "      <th></th>\n",
              "      <th></th>\n",
              "      <th></th>\n",
              "      <th></th>\n",
              "      <th></th>\n",
              "      <th></th>\n",
              "      <th></th>\n",
              "      <th></th>\n",
              "      <th></th>\n",
              "      <th></th>\n",
              "      <th></th>\n",
              "    </tr>\n",
              "  </thead>\n",
              "  <tbody>\n",
              "    <tr>\n",
              "      <th>Prometheus</th>\n",
              "      <td>2</td>\n",
              "      <td>Adventure,Mystery,Sci-Fi</td>\n",
              "      <td>Following clues to the origin of mankind, a te...</td>\n",
              "      <td>Ridley Scott</td>\n",
              "      <td>Noomi Rapace, Logan Marshall-Green, Michael Fa...</td>\n",
              "      <td>2012</td>\n",
              "      <td>124</td>\n",
              "      <td>7.0</td>\n",
              "      <td>485820</td>\n",
              "      <td>126.46</td>\n",
              "      <td>65.0</td>\n",
              "    </tr>\n",
              "    <tr>\n",
              "      <th>The Martian</th>\n",
              "      <td>103</td>\n",
              "      <td>Adventure,Drama,Sci-Fi</td>\n",
              "      <td>An astronaut becomes stranded on Mars after hi...</td>\n",
              "      <td>Ridley Scott</td>\n",
              "      <td>Matt Damon, Jessica Chastain, Kristen Wiig, Ka...</td>\n",
              "      <td>2015</td>\n",
              "      <td>144</td>\n",
              "      <td>8.0</td>\n",
              "      <td>556097</td>\n",
              "      <td>228.43</td>\n",
              "      <td>80.0</td>\n",
              "    </tr>\n",
              "    <tr>\n",
              "      <th>Robin Hood</th>\n",
              "      <td>388</td>\n",
              "      <td>Action,Adventure,Drama</td>\n",
              "      <td>In 12th century England, Robin and his band of...</td>\n",
              "      <td>Ridley Scott</td>\n",
              "      <td>Russell Crowe, Cate Blanchett, Matthew Macfady...</td>\n",
              "      <td>2010</td>\n",
              "      <td>140</td>\n",
              "      <td>6.7</td>\n",
              "      <td>221117</td>\n",
              "      <td>105.22</td>\n",
              "      <td>53.0</td>\n",
              "    </tr>\n",
              "    <tr>\n",
              "      <th>American Gangster</th>\n",
              "      <td>471</td>\n",
              "      <td>Biography,Crime,Drama</td>\n",
              "      <td>In 1970s America, a detective works to bring d...</td>\n",
              "      <td>Ridley Scott</td>\n",
              "      <td>Denzel Washington, Russell Crowe, Chiwetel Eji...</td>\n",
              "      <td>2007</td>\n",
              "      <td>157</td>\n",
              "      <td>7.8</td>\n",
              "      <td>337835</td>\n",
              "      <td>130.13</td>\n",
              "      <td>76.0</td>\n",
              "    </tr>\n",
              "    <tr>\n",
              "      <th>Exodus: Gods and Kings</th>\n",
              "      <td>517</td>\n",
              "      <td>Action,Adventure,Drama</td>\n",
              "      <td>The defiant leader Moses rises up against the ...</td>\n",
              "      <td>Ridley Scott</td>\n",
              "      <td>Christian Bale, Joel Edgerton, Ben Kingsley, S...</td>\n",
              "      <td>2014</td>\n",
              "      <td>150</td>\n",
              "      <td>6.0</td>\n",
              "      <td>137299</td>\n",
              "      <td>65.01</td>\n",
              "      <td>52.0</td>\n",
              "    </tr>\n",
              "    <tr>\n",
              "      <th>The Counselor</th>\n",
              "      <td>522</td>\n",
              "      <td>Crime,Drama,Thriller</td>\n",
              "      <td>A lawyer finds himself in over his head when h...</td>\n",
              "      <td>Ridley Scott</td>\n",
              "      <td>Michael Fassbender, Penélope Cruz, Cameron Dia...</td>\n",
              "      <td>2013</td>\n",
              "      <td>117</td>\n",
              "      <td>5.3</td>\n",
              "      <td>84927</td>\n",
              "      <td>16.97</td>\n",
              "      <td>48.0</td>\n",
              "    </tr>\n",
              "    <tr>\n",
              "      <th>A Good Year</th>\n",
              "      <td>531</td>\n",
              "      <td>Comedy,Drama,Romance</td>\n",
              "      <td>A British investment broker inherits his uncle...</td>\n",
              "      <td>Ridley Scott</td>\n",
              "      <td>Russell Crowe, Abbie Cornish, Albert Finney, M...</td>\n",
              "      <td>2006</td>\n",
              "      <td>117</td>\n",
              "      <td>6.9</td>\n",
              "      <td>74674</td>\n",
              "      <td>7.46</td>\n",
              "      <td>47.0</td>\n",
              "    </tr>\n",
              "    <tr>\n",
              "      <th>Body of Lies</th>\n",
              "      <td>738</td>\n",
              "      <td>Action,Drama,Romance</td>\n",
              "      <td>A CIA agent on the ground in Jordan hunts down...</td>\n",
              "      <td>Ridley Scott</td>\n",
              "      <td>Leonardo DiCaprio, Russell Crowe, Mark Strong,...</td>\n",
              "      <td>2008</td>\n",
              "      <td>128</td>\n",
              "      <td>7.1</td>\n",
              "      <td>182305</td>\n",
              "      <td>39.38</td>\n",
              "      <td>57.0</td>\n",
              "    </tr>\n",
              "  </tbody>\n",
              "</table>\n",
              "</div>"
            ],
            "text/plain": [
              "                        Rank  ... Metascore\n",
              "Title                         ...          \n",
              "Prometheus                 2  ...      65.0\n",
              "The Martian              103  ...      80.0\n",
              "Robin Hood               388  ...      53.0\n",
              "American Gangster        471  ...      76.0\n",
              "Exodus: Gods and Kings   517  ...      52.0\n",
              "The Counselor            522  ...      48.0\n",
              "A Good Year              531  ...      47.0\n",
              "Body of Lies             738  ...      57.0\n",
              "\n",
              "[8 rows x 11 columns]"
            ]
          },
          "metadata": {
            "tags": []
          },
          "execution_count": 18
        }
      ]
    },
    {
      "cell_type": "code",
      "metadata": {
        "id": "6egVouySvnaN",
        "colab": {
          "base_uri": "https://localhost:8080/",
          "height": 387
        },
        "outputId": "128f3768-b47b-49d6-a143-7ca2c1eec040"
      },
      "source": [
        "movies_df[movies_df['Rating']>8.5].head(3)"
      ],
      "execution_count": null,
      "outputs": [
        {
          "output_type": "execute_result",
          "data": {
            "text/html": [
              "<div>\n",
              "<style scoped>\n",
              "    .dataframe tbody tr th:only-of-type {\n",
              "        vertical-align: middle;\n",
              "    }\n",
              "\n",
              "    .dataframe tbody tr th {\n",
              "        vertical-align: top;\n",
              "    }\n",
              "\n",
              "    .dataframe thead th {\n",
              "        text-align: right;\n",
              "    }\n",
              "</style>\n",
              "<table border=\"1\" class=\"dataframe\">\n",
              "  <thead>\n",
              "    <tr style=\"text-align: right;\">\n",
              "      <th></th>\n",
              "      <th>Rank</th>\n",
              "      <th>Genre</th>\n",
              "      <th>Description</th>\n",
              "      <th>Director</th>\n",
              "      <th>Actors</th>\n",
              "      <th>Year</th>\n",
              "      <th>Runtime</th>\n",
              "      <th>Rating</th>\n",
              "      <th>Votes</th>\n",
              "      <th>Revenue_millions</th>\n",
              "      <th>Metascore</th>\n",
              "    </tr>\n",
              "    <tr>\n",
              "      <th>Title</th>\n",
              "      <th></th>\n",
              "      <th></th>\n",
              "      <th></th>\n",
              "      <th></th>\n",
              "      <th></th>\n",
              "      <th></th>\n",
              "      <th></th>\n",
              "      <th></th>\n",
              "      <th></th>\n",
              "      <th></th>\n",
              "      <th></th>\n",
              "    </tr>\n",
              "  </thead>\n",
              "  <tbody>\n",
              "    <tr>\n",
              "      <th>Interstellar</th>\n",
              "      <td>37</td>\n",
              "      <td>Adventure,Drama,Sci-Fi</td>\n",
              "      <td>A team of explorers travel through a wormhole ...</td>\n",
              "      <td>Christopher Nolan</td>\n",
              "      <td>Matthew McConaughey, Anne Hathaway, Jessica Ch...</td>\n",
              "      <td>2014</td>\n",
              "      <td>169</td>\n",
              "      <td>8.6</td>\n",
              "      <td>1047747</td>\n",
              "      <td>187.99</td>\n",
              "      <td>74.0</td>\n",
              "    </tr>\n",
              "    <tr>\n",
              "      <th>The Dark Knight</th>\n",
              "      <td>55</td>\n",
              "      <td>Action,Crime,Drama</td>\n",
              "      <td>When the menace known as the Joker wreaks havo...</td>\n",
              "      <td>Christopher Nolan</td>\n",
              "      <td>Christian Bale, Heath Ledger, Aaron Eckhart,Mi...</td>\n",
              "      <td>2008</td>\n",
              "      <td>152</td>\n",
              "      <td>9.0</td>\n",
              "      <td>1791916</td>\n",
              "      <td>533.32</td>\n",
              "      <td>82.0</td>\n",
              "    </tr>\n",
              "    <tr>\n",
              "      <th>Inception</th>\n",
              "      <td>81</td>\n",
              "      <td>Action,Adventure,Sci-Fi</td>\n",
              "      <td>A thief, who steals corporate secrets through ...</td>\n",
              "      <td>Christopher Nolan</td>\n",
              "      <td>Leonardo DiCaprio, Joseph Gordon-Levitt, Ellen...</td>\n",
              "      <td>2010</td>\n",
              "      <td>148</td>\n",
              "      <td>8.8</td>\n",
              "      <td>1583625</td>\n",
              "      <td>292.57</td>\n",
              "      <td>74.0</td>\n",
              "    </tr>\n",
              "  </tbody>\n",
              "</table>\n",
              "</div>"
            ],
            "text/plain": [
              "                 Rank                    Genre  ... Revenue_millions Metascore\n",
              "Title                                           ...                           \n",
              "Interstellar       37   Adventure,Drama,Sci-Fi  ...           187.99      74.0\n",
              "The Dark Knight    55       Action,Crime,Drama  ...           533.32      82.0\n",
              "Inception          81  Action,Adventure,Sci-Fi  ...           292.57      74.0\n",
              "\n",
              "[3 rows x 11 columns]"
            ]
          },
          "metadata": {
            "tags": []
          },
          "execution_count": 20
        }
      ]
    },
    {
      "cell_type": "code",
      "metadata": {
        "id": "k8gRqxLewGa_",
        "colab": {
          "base_uri": "https://localhost:8080/",
          "height": 77
        },
        "outputId": "7d5caae5-e4f0-4327-ed3b-c996e339812b"
      },
      "source": [
        "movies_df[(movies_df['Director']=='Ridley Scott') &\n",
        "          (movies_df['Rating']>8.5)]"
      ],
      "execution_count": null,
      "outputs": [
        {
          "output_type": "execute_result",
          "data": {
            "text/html": [
              "<div>\n",
              "<style scoped>\n",
              "    .dataframe tbody tr th:only-of-type {\n",
              "        vertical-align: middle;\n",
              "    }\n",
              "\n",
              "    .dataframe tbody tr th {\n",
              "        vertical-align: top;\n",
              "    }\n",
              "\n",
              "    .dataframe thead th {\n",
              "        text-align: right;\n",
              "    }\n",
              "</style>\n",
              "<table border=\"1\" class=\"dataframe\">\n",
              "  <thead>\n",
              "    <tr style=\"text-align: right;\">\n",
              "      <th></th>\n",
              "      <th>Rank</th>\n",
              "      <th>Genre</th>\n",
              "      <th>Description</th>\n",
              "      <th>Director</th>\n",
              "      <th>Actors</th>\n",
              "      <th>Year</th>\n",
              "      <th>Runtime</th>\n",
              "      <th>Rating</th>\n",
              "      <th>Votes</th>\n",
              "      <th>Revenue_millions</th>\n",
              "      <th>Metascore</th>\n",
              "    </tr>\n",
              "    <tr>\n",
              "      <th>Title</th>\n",
              "      <th></th>\n",
              "      <th></th>\n",
              "      <th></th>\n",
              "      <th></th>\n",
              "      <th></th>\n",
              "      <th></th>\n",
              "      <th></th>\n",
              "      <th></th>\n",
              "      <th></th>\n",
              "      <th></th>\n",
              "      <th></th>\n",
              "    </tr>\n",
              "  </thead>\n",
              "  <tbody>\n",
              "  </tbody>\n",
              "</table>\n",
              "</div>"
            ],
            "text/plain": [
              "Empty DataFrame\n",
              "Columns: [Rank, Genre, Description, Director, Actors, Year, Runtime, Rating, Votes, Revenue_millions, Metascore]\n",
              "Index: []"
            ]
          },
          "metadata": {
            "tags": []
          },
          "execution_count": 23
        }
      ]
    },
    {
      "cell_type": "code",
      "metadata": {
        "id": "VIuKX_B3wnfk",
        "colab": {
          "base_uri": "https://localhost:8080/",
          "height": 434
        },
        "outputId": "f28724a8-ec97-48d0-972a-ca5a7f56268c"
      },
      "source": [
        "movies_df[\n",
        "          (movies_df['Year']>=2005)&(movies_df['Year']<=2010)&\n",
        "          (movies_df['Rating']>8)&\n",
        "          (movies_df['Revenue_millions']<movies_df['Revenue_millions'].quantile(0.25))\n",
        "]"
      ],
      "execution_count": null,
      "outputs": [
        {
          "output_type": "execute_result",
          "data": {
            "text/html": [
              "<div>\n",
              "<style scoped>\n",
              "    .dataframe tbody tr th:only-of-type {\n",
              "        vertical-align: middle;\n",
              "    }\n",
              "\n",
              "    .dataframe tbody tr th {\n",
              "        vertical-align: top;\n",
              "    }\n",
              "\n",
              "    .dataframe thead th {\n",
              "        text-align: right;\n",
              "    }\n",
              "</style>\n",
              "<table border=\"1\" class=\"dataframe\">\n",
              "  <thead>\n",
              "    <tr style=\"text-align: right;\">\n",
              "      <th></th>\n",
              "      <th>Rank</th>\n",
              "      <th>Genre</th>\n",
              "      <th>Description</th>\n",
              "      <th>Director</th>\n",
              "      <th>Actors</th>\n",
              "      <th>Year</th>\n",
              "      <th>Runtime</th>\n",
              "      <th>Rating</th>\n",
              "      <th>Votes</th>\n",
              "      <th>Revenue_millions</th>\n",
              "      <th>Metascore</th>\n",
              "    </tr>\n",
              "    <tr>\n",
              "      <th>Title</th>\n",
              "      <th></th>\n",
              "      <th></th>\n",
              "      <th></th>\n",
              "      <th></th>\n",
              "      <th></th>\n",
              "      <th></th>\n",
              "      <th></th>\n",
              "      <th></th>\n",
              "      <th></th>\n",
              "      <th></th>\n",
              "      <th></th>\n",
              "    </tr>\n",
              "  </thead>\n",
              "  <tbody>\n",
              "    <tr>\n",
              "      <th>3 Idiots</th>\n",
              "      <td>431</td>\n",
              "      <td>Comedy,Drama</td>\n",
              "      <td>Two friends are searching for their long lost ...</td>\n",
              "      <td>Rajkumar Hirani</td>\n",
              "      <td>Aamir Khan, Madhavan, Mona Singh, Sharman Joshi</td>\n",
              "      <td>2009</td>\n",
              "      <td>170</td>\n",
              "      <td>8.4</td>\n",
              "      <td>238789</td>\n",
              "      <td>6.52</td>\n",
              "      <td>67.0</td>\n",
              "    </tr>\n",
              "    <tr>\n",
              "      <th>The Lives of Others</th>\n",
              "      <td>477</td>\n",
              "      <td>Drama,Thriller</td>\n",
              "      <td>In 1984 East Berlin, an agent of the secret po...</td>\n",
              "      <td>Florian Henckel von Donnersmarck</td>\n",
              "      <td>Ulrich Mühe, Martina Gedeck,Sebastian Koch, Ul...</td>\n",
              "      <td>2006</td>\n",
              "      <td>137</td>\n",
              "      <td>8.5</td>\n",
              "      <td>278103</td>\n",
              "      <td>11.28</td>\n",
              "      <td>89.0</td>\n",
              "    </tr>\n",
              "    <tr>\n",
              "      <th>Incendies</th>\n",
              "      <td>714</td>\n",
              "      <td>Drama,Mystery,War</td>\n",
              "      <td>Twins journey to the Middle East to discover t...</td>\n",
              "      <td>Denis Villeneuve</td>\n",
              "      <td>Lubna Azabal, Mélissa Désormeaux-Poulin, Maxim...</td>\n",
              "      <td>2010</td>\n",
              "      <td>131</td>\n",
              "      <td>8.2</td>\n",
              "      <td>92863</td>\n",
              "      <td>6.86</td>\n",
              "      <td>80.0</td>\n",
              "    </tr>\n",
              "    <tr>\n",
              "      <th>Taare Zameen Par</th>\n",
              "      <td>992</td>\n",
              "      <td>Drama,Family,Music</td>\n",
              "      <td>An eight-year-old boy is thought to be a lazy ...</td>\n",
              "      <td>Aamir Khan</td>\n",
              "      <td>Darsheel Safary, Aamir Khan, Tanay Chheda, Sac...</td>\n",
              "      <td>2007</td>\n",
              "      <td>165</td>\n",
              "      <td>8.5</td>\n",
              "      <td>102697</td>\n",
              "      <td>1.20</td>\n",
              "      <td>42.0</td>\n",
              "    </tr>\n",
              "  </tbody>\n",
              "</table>\n",
              "</div>"
            ],
            "text/plain": [
              "                     Rank               Genre  ... Revenue_millions Metascore\n",
              "Title                                          ...                           \n",
              "3 Idiots              431        Comedy,Drama  ...             6.52      67.0\n",
              "The Lives of Others   477      Drama,Thriller  ...            11.28      89.0\n",
              "Incendies             714   Drama,Mystery,War  ...             6.86      80.0\n",
              "Taare Zameen Par      992  Drama,Family,Music  ...             1.20      42.0\n",
              "\n",
              "[4 rows x 11 columns]"
            ]
          },
          "metadata": {
            "tags": []
          },
          "execution_count": 24
        }
      ]
    },
    {
      "cell_type": "code",
      "metadata": {
        "id": "X3C66vxUyNND"
      },
      "source": [
        "def rating(x):\n",
        "  if x>=8.0:\n",
        "    return \"Good\"\n",
        "  else:\n",
        "    return \"Bad\""
      ],
      "execution_count": null,
      "outputs": []
    },
    {
      "cell_type": "code",
      "metadata": {
        "id": "tcPWgT-4y3GB",
        "colab": {
          "base_uri": "https://localhost:8080/",
          "height": 471
        },
        "outputId": "7b394116-ab11-4384-f5c1-58fcb76e2a02"
      },
      "source": [
        "movies_df['rating_category']=movies_df['Rating'].apply(rating)\n",
        "movies_df.head(3)"
      ],
      "execution_count": null,
      "outputs": [
        {
          "output_type": "execute_result",
          "data": {
            "text/html": [
              "<div>\n",
              "<style scoped>\n",
              "    .dataframe tbody tr th:only-of-type {\n",
              "        vertical-align: middle;\n",
              "    }\n",
              "\n",
              "    .dataframe tbody tr th {\n",
              "        vertical-align: top;\n",
              "    }\n",
              "\n",
              "    .dataframe thead th {\n",
              "        text-align: right;\n",
              "    }\n",
              "</style>\n",
              "<table border=\"1\" class=\"dataframe\">\n",
              "  <thead>\n",
              "    <tr style=\"text-align: right;\">\n",
              "      <th></th>\n",
              "      <th>Rank</th>\n",
              "      <th>Genre</th>\n",
              "      <th>Description</th>\n",
              "      <th>Director</th>\n",
              "      <th>Actors</th>\n",
              "      <th>Year</th>\n",
              "      <th>Runtime</th>\n",
              "      <th>Rating</th>\n",
              "      <th>Votes</th>\n",
              "      <th>Revenue_millions</th>\n",
              "      <th>Metascore</th>\n",
              "      <th>rating_category</th>\n",
              "    </tr>\n",
              "    <tr>\n",
              "      <th>Title</th>\n",
              "      <th></th>\n",
              "      <th></th>\n",
              "      <th></th>\n",
              "      <th></th>\n",
              "      <th></th>\n",
              "      <th></th>\n",
              "      <th></th>\n",
              "      <th></th>\n",
              "      <th></th>\n",
              "      <th></th>\n",
              "      <th></th>\n",
              "      <th></th>\n",
              "    </tr>\n",
              "  </thead>\n",
              "  <tbody>\n",
              "    <tr>\n",
              "      <th>Guardians of the Galaxy</th>\n",
              "      <td>1</td>\n",
              "      <td>Action,Adventure,Sci-Fi</td>\n",
              "      <td>A group of intergalactic criminals are forced ...</td>\n",
              "      <td>James Gunn</td>\n",
              "      <td>Chris Pratt, Vin Diesel, Bradley Cooper, Zoe S...</td>\n",
              "      <td>2014</td>\n",
              "      <td>121</td>\n",
              "      <td>8.1</td>\n",
              "      <td>757074</td>\n",
              "      <td>333.13</td>\n",
              "      <td>76.0</td>\n",
              "      <td>Good</td>\n",
              "    </tr>\n",
              "    <tr>\n",
              "      <th>Prometheus</th>\n",
              "      <td>2</td>\n",
              "      <td>Adventure,Mystery,Sci-Fi</td>\n",
              "      <td>Following clues to the origin of mankind, a te...</td>\n",
              "      <td>Ridley Scott</td>\n",
              "      <td>Noomi Rapace, Logan Marshall-Green, Michael Fa...</td>\n",
              "      <td>2012</td>\n",
              "      <td>124</td>\n",
              "      <td>7.0</td>\n",
              "      <td>485820</td>\n",
              "      <td>126.46</td>\n",
              "      <td>65.0</td>\n",
              "      <td>Bad</td>\n",
              "    </tr>\n",
              "    <tr>\n",
              "      <th>Split</th>\n",
              "      <td>3</td>\n",
              "      <td>Horror,Thriller</td>\n",
              "      <td>Three girls are kidnapped by a man with a diag...</td>\n",
              "      <td>M. Night Shyamalan</td>\n",
              "      <td>James McAvoy, Anya Taylor-Joy, Haley Lu Richar...</td>\n",
              "      <td>2016</td>\n",
              "      <td>117</td>\n",
              "      <td>7.3</td>\n",
              "      <td>157606</td>\n",
              "      <td>138.12</td>\n",
              "      <td>62.0</td>\n",
              "      <td>Bad</td>\n",
              "    </tr>\n",
              "  </tbody>\n",
              "</table>\n",
              "</div>"
            ],
            "text/plain": [
              "                         Rank  ... rating_category\n",
              "Title                          ...                \n",
              "Guardians of the Galaxy     1  ...            Good\n",
              "Prometheus                  2  ...             Bad\n",
              "Split                       3  ...             Bad\n",
              "\n",
              "[3 rows x 12 columns]"
            ]
          },
          "metadata": {
            "tags": []
          },
          "execution_count": 28
        }
      ]
    },
    {
      "cell_type": "code",
      "metadata": {
        "id": "CqvPvgtEzQg6",
        "colab": {
          "base_uri": "https://localhost:8080/",
          "height": 471
        },
        "outputId": "e3ba623c-27fb-4b2f-bb4d-ae004612c084"
      },
      "source": [
        "movies_df['rating_category']=movies_df['Rating'].apply(\n",
        "    lambda x:'Good' if x>8.0 else 'Bad'\n",
        ")\n",
        "movies_df.head(3)"
      ],
      "execution_count": null,
      "outputs": [
        {
          "output_type": "execute_result",
          "data": {
            "text/html": [
              "<div>\n",
              "<style scoped>\n",
              "    .dataframe tbody tr th:only-of-type {\n",
              "        vertical-align: middle;\n",
              "    }\n",
              "\n",
              "    .dataframe tbody tr th {\n",
              "        vertical-align: top;\n",
              "    }\n",
              "\n",
              "    .dataframe thead th {\n",
              "        text-align: right;\n",
              "    }\n",
              "</style>\n",
              "<table border=\"1\" class=\"dataframe\">\n",
              "  <thead>\n",
              "    <tr style=\"text-align: right;\">\n",
              "      <th></th>\n",
              "      <th>Rank</th>\n",
              "      <th>Genre</th>\n",
              "      <th>Description</th>\n",
              "      <th>Director</th>\n",
              "      <th>Actors</th>\n",
              "      <th>Year</th>\n",
              "      <th>Runtime</th>\n",
              "      <th>Rating</th>\n",
              "      <th>Votes</th>\n",
              "      <th>Revenue_millions</th>\n",
              "      <th>Metascore</th>\n",
              "      <th>rating_category</th>\n",
              "    </tr>\n",
              "    <tr>\n",
              "      <th>Title</th>\n",
              "      <th></th>\n",
              "      <th></th>\n",
              "      <th></th>\n",
              "      <th></th>\n",
              "      <th></th>\n",
              "      <th></th>\n",
              "      <th></th>\n",
              "      <th></th>\n",
              "      <th></th>\n",
              "      <th></th>\n",
              "      <th></th>\n",
              "      <th></th>\n",
              "    </tr>\n",
              "  </thead>\n",
              "  <tbody>\n",
              "    <tr>\n",
              "      <th>Guardians of the Galaxy</th>\n",
              "      <td>1</td>\n",
              "      <td>Action,Adventure,Sci-Fi</td>\n",
              "      <td>A group of intergalactic criminals are forced ...</td>\n",
              "      <td>James Gunn</td>\n",
              "      <td>Chris Pratt, Vin Diesel, Bradley Cooper, Zoe S...</td>\n",
              "      <td>2014</td>\n",
              "      <td>121</td>\n",
              "      <td>8.1</td>\n",
              "      <td>757074</td>\n",
              "      <td>333.13</td>\n",
              "      <td>76.0</td>\n",
              "      <td>Good</td>\n",
              "    </tr>\n",
              "    <tr>\n",
              "      <th>Prometheus</th>\n",
              "      <td>2</td>\n",
              "      <td>Adventure,Mystery,Sci-Fi</td>\n",
              "      <td>Following clues to the origin of mankind, a te...</td>\n",
              "      <td>Ridley Scott</td>\n",
              "      <td>Noomi Rapace, Logan Marshall-Green, Michael Fa...</td>\n",
              "      <td>2012</td>\n",
              "      <td>124</td>\n",
              "      <td>7.0</td>\n",
              "      <td>485820</td>\n",
              "      <td>126.46</td>\n",
              "      <td>65.0</td>\n",
              "      <td>Bad</td>\n",
              "    </tr>\n",
              "    <tr>\n",
              "      <th>Split</th>\n",
              "      <td>3</td>\n",
              "      <td>Horror,Thriller</td>\n",
              "      <td>Three girls are kidnapped by a man with a diag...</td>\n",
              "      <td>M. Night Shyamalan</td>\n",
              "      <td>James McAvoy, Anya Taylor-Joy, Haley Lu Richar...</td>\n",
              "      <td>2016</td>\n",
              "      <td>117</td>\n",
              "      <td>7.3</td>\n",
              "      <td>157606</td>\n",
              "      <td>138.12</td>\n",
              "      <td>62.0</td>\n",
              "      <td>Bad</td>\n",
              "    </tr>\n",
              "  </tbody>\n",
              "</table>\n",
              "</div>"
            ],
            "text/plain": [
              "                         Rank  ... rating_category\n",
              "Title                          ...                \n",
              "Guardians of the Galaxy     1  ...            Good\n",
              "Prometheus                  2  ...             Bad\n",
              "Split                       3  ...             Bad\n",
              "\n",
              "[3 rows x 12 columns]"
            ]
          },
          "metadata": {
            "tags": []
          },
          "execution_count": 29
        }
      ]
    },
    {
      "cell_type": "code",
      "metadata": {
        "id": "HInWt0R705rS"
      },
      "source": [
        "import matplotlib.pyplot as plt\n",
        "plt.rcParams.update({'font.size': 20, 'figure.figsize': (10, 8)}) # set font and plot size to be larger"
      ],
      "execution_count": null,
      "outputs": []
    },
    {
      "cell_type": "code",
      "metadata": {
        "id": "HgUuLYAz07Pg",
        "colab": {
          "base_uri": "https://localhost:8080/",
          "height": 540
        },
        "outputId": "b299d4a9-eeed-479f-dd9c-0ba3ba0a564f"
      },
      "source": [
        "movies_df.plot(\n",
        "    kind='scatter',\n",
        "    x='Rating',y='Revenue_millions',\n",
        "    title='Rating vs Revenue_millions'\n",
        "    );"
      ],
      "execution_count": null,
      "outputs": [
        {
          "output_type": "display_data",
          "data": {
            "image/png": "[encoded data removed]",
            "text/plain": [
              "<Figure size 720x576 with 1 Axes>"
            ]
          },
          "metadata": {
            "tags": [],
            "needs_background": "light"
          }
        }
      ]
    },
    {
      "cell_type": "code",
      "metadata": {
        "id": "Hlw7WvV31r0W",
        "colab": {
          "base_uri": "https://localhost:8080/",
          "height": 517
        },
        "outputId": "b10edd42-b13a-4ea3-8c0f-1e4996c5851c"
      },
      "source": [
        "movies_df['Rating'].plot(kind='hist',title='Rating');"
      ],
      "execution_count": null,
      "outputs": [
        {
          "output_type": "display_data",
          "data": {
            "image/png": "[encoded data removed]",
            "text/plain": [
              "<Figure size 720x576 with 1 Axes>"
            ]
          },
          "metadata": {
            "tags": [],
            "needs_background": "light"
          }
        }
      ]
    },
    {
      "cell_type": "code",
      "metadata": {
        "id": "XucdIJQc2dg5",
        "colab": {
          "base_uri": "https://localhost:8080/",
          "height": 168
        },
        "outputId": "962656c9-235c-4426-e16c-b14c9b97b8a6"
      },
      "source": [
        "movies_df['Rating'].describe()"
      ],
      "execution_count": null,
      "outputs": [
        {
          "output_type": "execute_result",
          "data": {
            "text/plain": [
              "count    1000.000000\n",
              "mean        6.723200\n",
              "std         0.945429\n",
              "min         1.900000\n",
              "25%         6.200000\n",
              "50%         6.800000\n",
              "75%         7.400000\n",
              "max         9.000000\n",
              "Name: Rating, dtype: float64"
            ]
          },
          "metadata": {
            "tags": []
          },
          "execution_count": 38
        }
      ]
    },
    {
      "cell_type": "code",
      "metadata": {
        "id": "9LJSMjay2yEj",
        "colab": {
          "base_uri": "https://localhost:8080/",
          "height": 492
        },
        "outputId": "b94a5bea-3cd6-49ad-8510-a4b64e796867"
      },
      "source": [
        "movies_df['Rating'].plot(kind='box');"
      ],
      "execution_count": null,
      "outputs": [
        {
          "output_type": "display_data",
          "data": {
            "image/png": "[encoded data removed]",
            "text/plain": [
              "<Figure size 720x576 with 1 Axes>"
            ]
          },
          "metadata": {
            "tags": [],
            "needs_background": "light"
          }
        }
      ]
    },
    {
      "cell_type": "code",
      "metadata": {
        "id": "oykPjjmd3Lv4",
        "colab": {
          "base_uri": "https://localhost:8080/",
          "height": 34
        },
        "outputId": "3e608f78-150c-49df-f464-da229baa6f07"
      },
      "source": [
        "6.8*1.5"
      ],
      "execution_count": null,
      "outputs": [
        {
          "output_type": "execute_result",
          "data": {
            "text/plain": [
              "10.2"
            ]
          },
          "metadata": {
            "tags": []
          },
          "execution_count": 41
        }
      ]
    },
    {
      "cell_type": "code",
      "metadata": {
        "id": "rtWNJKZ74Zhi",
        "colab": {
          "base_uri": "https://localhost:8080/",
          "height": 559
        },
        "outputId": "0b7f0711-f2e2-4d68-c4c9-4494215bf32e"
      },
      "source": [
        "movies_df.boxplot(column='Revenue_millions',by='rating_category');"
      ],
      "execution_count": null,
      "outputs": [
        {
          "output_type": "display_data",
          "data": {
            "image/png": "[encoded data removed]",
            "text/plain": [
              "<Figure size 720x576 with 1 Axes>"
            ]
          },
          "metadata": {
            "tags": [],
            "needs_background": "light"
          }
        }
      ]
    },
    {
      "cell_type": "code",
      "metadata": {
        "id": "RTHTYsLq6DzZ",
        "colab": {
          "base_uri": "https://localhost:8080/",
          "height": 431
        },
        "outputId": "bd3f6ab8-4fc9-44c4-9988-75f733fa9443"
      },
      "source": [
        "pd.pivot_table(movies_df,index=['Director','Year'],values=['Rating'],aggfunc=np.sum)"
      ],
      "execution_count": null,
      "outputs": [
        {
          "output_type": "execute_result",
          "data": {
            "text/html": [
              "<div>\n",
              "<style scoped>\n",
              "    .dataframe tbody tr th:only-of-type {\n",
              "        vertical-align: middle;\n",
              "    }\n",
              "\n",
              "    .dataframe tbody tr th {\n",
              "        vertical-align: top;\n",
              "    }\n",
              "\n",
              "    .dataframe thead th {\n",
              "        text-align: right;\n",
              "    }\n",
              "</style>\n",
              "<table border=\"1\" class=\"dataframe\">\n",
              "  <thead>\n",
              "    <tr style=\"text-align: right;\">\n",
              "      <th></th>\n",
              "      <th></th>\n",
              "      <th>Rating</th>\n",
              "    </tr>\n",
              "    <tr>\n",
              "      <th>Director</th>\n",
              "      <th>Year</th>\n",
              "      <th></th>\n",
              "    </tr>\n",
              "  </thead>\n",
              "  <tbody>\n",
              "    <tr>\n",
              "      <th>Aamir Khan</th>\n",
              "      <th>2007</th>\n",
              "      <td>8.5</td>\n",
              "    </tr>\n",
              "    <tr>\n",
              "      <th>Abdellatif Kechiche</th>\n",
              "      <th>2013</th>\n",
              "      <td>7.8</td>\n",
              "    </tr>\n",
              "    <tr>\n",
              "      <th>Adam Leon</th>\n",
              "      <th>2016</th>\n",
              "      <td>6.5</td>\n",
              "    </tr>\n",
              "    <tr>\n",
              "      <th rowspan=\"2\" valign=\"top\">Adam McKay</th>\n",
              "      <th>2006</th>\n",
              "      <td>6.6</td>\n",
              "    </tr>\n",
              "    <tr>\n",
              "      <th>2008</th>\n",
              "      <td>6.9</td>\n",
              "    </tr>\n",
              "    <tr>\n",
              "      <th>...</th>\n",
              "      <th>...</th>\n",
              "      <td>...</td>\n",
              "    </tr>\n",
              "    <tr>\n",
              "      <th rowspan=\"4\" valign=\"top\">Zack Snyder</th>\n",
              "      <th>2009</th>\n",
              "      <td>7.6</td>\n",
              "    </tr>\n",
              "    <tr>\n",
              "      <th>2011</th>\n",
              "      <td>6.1</td>\n",
              "    </tr>\n",
              "    <tr>\n",
              "      <th>2013</th>\n",
              "      <td>7.1</td>\n",
              "    </tr>\n",
              "    <tr>\n",
              "      <th>2016</th>\n",
              "      <td>6.7</td>\n",
              "    </tr>\n",
              "    <tr>\n",
              "      <th>Zackary Adler</th>\n",
              "      <th>2015</th>\n",
              "      <td>5.1</td>\n",
              "    </tr>\n",
              "  </tbody>\n",
              "</table>\n",
              "<p>987 rows × 1 columns</p>\n",
              "</div>"
            ],
            "text/plain": [
              "                          Rating\n",
              "Director            Year        \n",
              "Aamir Khan          2007     8.5\n",
              "Abdellatif Kechiche 2013     7.8\n",
              "Adam Leon           2016     6.5\n",
              "Adam McKay          2006     6.6\n",
              "                    2008     6.9\n",
              "...                          ...\n",
              "Zack Snyder         2009     7.6\n",
              "                    2011     6.1\n",
              "                    2013     7.1\n",
              "                    2016     6.7\n",
              "Zackary Adler       2015     5.1\n",
              "\n",
              "[987 rows x 1 columns]"
            ]
          },
          "metadata": {
            "tags": []
          },
          "execution_count": 15
        }
      ]
    },
    {
      "cell_type": "code",
      "metadata": {
        "id": "P_4d32NSkhfi"
      },
      "source": [
        "import pandas as pd"
      ],
      "execution_count": null,
      "outputs": []
    },
    {
      "cell_type": "code",
      "metadata": {
        "id": "fZF6fu3C7CEK",
        "colab": {
          "base_uri": "https://localhost:8080/",
          "height": 197
        },
        "outputId": "87602981-8ac0-4281-dce6-454afc771091"
      },
      "source": [
        "df = pd.read_excel('sample_data/sales-funnel.xlsx')\n",
        "df.head()"
      ],
      "execution_count": null,
      "outputs": [
        {
          "output_type": "execute_result",
          "data": {
            "text/html": [
              "<div>\n",
              "<style scoped>\n",
              "    .dataframe tbody tr th:only-of-type {\n",
              "        vertical-align: middle;\n",
              "    }\n",
              "\n",
              "    .dataframe tbody tr th {\n",
              "        vertical-align: top;\n",
              "    }\n",
              "\n",
              "    .dataframe thead th {\n",
              "        text-align: right;\n",
              "    }\n",
              "</style>\n",
              "<table border=\"1\" class=\"dataframe\">\n",
              "  <thead>\n",
              "    <tr style=\"text-align: right;\">\n",
              "      <th></th>\n",
              "      <th>Account</th>\n",
              "      <th>Name</th>\n",
              "      <th>Rep</th>\n",
              "      <th>Manager</th>\n",
              "      <th>Product</th>\n",
              "      <th>Quantity</th>\n",
              "      <th>Price</th>\n",
              "      <th>Status</th>\n",
              "    </tr>\n",
              "  </thead>\n",
              "  <tbody>\n",
              "    <tr>\n",
              "      <th>0</th>\n",
              "      <td>714466</td>\n",
              "      <td>Trantow-Barrows</td>\n",
              "      <td>Craig Booker</td>\n",
              "      <td>Debra Henley</td>\n",
              "      <td>CPU</td>\n",
              "      <td>1</td>\n",
              "      <td>30000</td>\n",
              "      <td>presented</td>\n",
              "    </tr>\n",
              "    <tr>\n",
              "      <th>1</th>\n",
              "      <td>714466</td>\n",
              "      <td>Trantow-Barrows</td>\n",
              "      <td>Craig Booker</td>\n",
              "      <td>Debra Henley</td>\n",
              "      <td>Software</td>\n",
              "      <td>1</td>\n",
              "      <td>10000</td>\n",
              "      <td>presented</td>\n",
              "    </tr>\n",
              "    <tr>\n",
              "      <th>2</th>\n",
              "      <td>714466</td>\n",
              "      <td>Trantow-Barrows</td>\n",
              "      <td>Craig Booker</td>\n",
              "      <td>Debra Henley</td>\n",
              "      <td>Maintenance</td>\n",
              "      <td>2</td>\n",
              "      <td>5000</td>\n",
              "      <td>pending</td>\n",
              "    </tr>\n",
              "    <tr>\n",
              "      <th>3</th>\n",
              "      <td>737550</td>\n",
              "      <td>Fritsch, Russel and Anderson</td>\n",
              "      <td>Craig Booker</td>\n",
              "      <td>Debra Henley</td>\n",
              "      <td>CPU</td>\n",
              "      <td>1</td>\n",
              "      <td>35000</td>\n",
              "      <td>declined</td>\n",
              "    </tr>\n",
              "    <tr>\n",
              "      <th>4</th>\n",
              "      <td>146832</td>\n",
              "      <td>Kiehn-Spinka</td>\n",
              "      <td>Daniel Hilton</td>\n",
              "      <td>Debra Henley</td>\n",
              "      <td>CPU</td>\n",
              "      <td>2</td>\n",
              "      <td>65000</td>\n",
              "      <td>won</td>\n",
              "    </tr>\n",
              "  </tbody>\n",
              "</table>\n",
              "</div>"
            ],
            "text/plain": [
              "   Account                          Name  ...  Price     Status\n",
              "0   714466               Trantow-Barrows  ...  30000  presented\n",
              "1   714466               Trantow-Barrows  ...  10000  presented\n",
              "2   714466               Trantow-Barrows  ...   5000    pending\n",
              "3   737550  Fritsch, Russel and Anderson  ...  35000   declined\n",
              "4   146832                  Kiehn-Spinka  ...  65000        won\n",
              "\n",
              "[5 rows x 8 columns]"
            ]
          },
          "metadata": {
            "tags": []
          },
          "execution_count": 9
        }
      ]
    },
    {
      "cell_type": "code",
      "metadata": {
        "id": "_RLWCyDyL5HN",
        "colab": {
          "base_uri": "https://localhost:8080/"
        },
        "outputId": "e01150f6-be18-47c2-adc6-2f580f313fd0"
      },
      "source": [
        "df.style.highlight_null().render().split('\\n')[:10]"
      ],
      "execution_count": null,
      "outputs": [
        {
          "output_type": "execute_result",
          "data": {
            "text/plain": [
              "['<style  type=\"text/css\" >',\n",
              " '</style><table id=\"T_0a3c8c82_1aee_11eb_8f86_0242ac1c0002\" ><thead>    <tr>        <th class=\"blank level0\" ></th>        <th class=\"col_heading level0 col0\" >Account</th>        <th class=\"col_heading level0 col1\" >Name</th>        <th class=\"col_heading level0 col2\" >Rep</th>        <th class=\"col_heading level0 col3\" >Manager</th>        <th class=\"col_heading level0 col4\" >Product</th>        <th class=\"col_heading level0 col5\" >Quantity</th>        <th class=\"col_heading level0 col6\" >Price</th>        <th class=\"col_heading level0 col7\" >Status</th>    </tr></thead><tbody>',\n",
              " '                <tr>',\n",
              " '                        <th id=\"T_0a3c8c82_1aee_11eb_8f86_0242ac1c0002level0_row0\" class=\"row_heading level0 row0\" >0</th>',\n",
              " '                        <td id=\"T_0a3c8c82_1aee_11eb_8f86_0242ac1c0002row0_col0\" class=\"data row0 col0\" >714466</td>',\n",
              " '                        <td id=\"T_0a3c8c82_1aee_11eb_8f86_0242ac1c0002row0_col1\" class=\"data row0 col1\" >Trantow-Barrows</td>',\n",
              " '                        <td id=\"T_0a3c8c82_1aee_11eb_8f86_0242ac1c0002row0_col2\" class=\"data row0 col2\" >Craig Booker</td>',\n",
              " '                        <td id=\"T_0a3c8c82_1aee_11eb_8f86_0242ac1c0002row0_col3\" class=\"data row0 col3\" >Debra Henley</td>',\n",
              " '                        <td id=\"T_0a3c8c82_1aee_11eb_8f86_0242ac1c0002row0_col4\" class=\"data row0 col4\" >CPU</td>',\n",
              " '                        <td id=\"T_0a3c8c82_1aee_11eb_8f86_0242ac1c0002row0_col5\" class=\"data row0 col5\" >1</td>']"
            ]
          },
          "metadata": {
            "tags": []
          },
          "execution_count": 22
        }
      ]
    },
    {
      "cell_type": "code",
      "metadata": {
        "id": "DOE-dpoP7SVc"
      },
      "source": [
        "def marca_maximos(frame):\n",
        "  maximo= frame==frame.max()\n",
        "  return ['background-color: yellow' if v else '' for v in maximo]\n",
        "\n",
        "def marca_minimos(frame):\n",
        "  minimo= frame==frame.min()\n",
        "  return ['color: red' if v else '' for v in minimo]"
      ],
      "execution_count": null,
      "outputs": []
    },
    {
      "cell_type": "code",
      "metadata": {
        "id": "Eyl8xVpz9y5E",
        "colab": {
          "base_uri": "https://localhost:8080/",
          "height": 337
        },
        "outputId": "045b0660-1393-4fe1-ea49-fc1259ff6755"
      },
      "source": [
        "df.style.apply(marca_maximos,subset=['Price','Quantity'])"
      ],
      "execution_count": null,
      "outputs": [
        {
          "output_type": "execute_result",
          "data": {
            "text/html": [
              "<style  type=\"text/css\" >\n",
              "#T_0d021914_1aee_11eb_8f86_0242ac1c0002row14_col5,#T_0d021914_1aee_11eb_8f86_0242ac1c0002row14_col6{\n",
              "            background-color:  yellow;\n",
              "        }</style><table id=\"T_0d021914_1aee_11eb_8f86_0242ac1c0002\" ><thead>    <tr>        <th class=\"blank level0\" ></th>        <th class=\"col_heading level0 col0\" >Account</th>        <th class=\"col_heading level0 col1\" >Name</th>        <th class=\"col_heading level0 col2\" >Rep</th>        <th class=\"col_heading level0 col3\" >Manager</th>        <th class=\"col_heading level0 col4\" >Product</th>        <th class=\"col_heading level0 col5\" >Quantity</th>        <th class=\"col_heading level0 col6\" >Price</th>        <th class=\"col_heading level0 col7\" >Status</th>    </tr></thead><tbody>\n",
              "                <tr>\n",
              "                        <th id=\"T_0d021914_1aee_11eb_8f86_0242ac1c0002level0_row0\" class=\"row_heading level0 row0\" >0</th>\n",
              "                        <td id=\"T_0d021914_1aee_11eb_8f86_0242ac1c0002row0_col0\" class=\"data row0 col0\" >714466</td>\n",
              "                        <td id=\"T_0d021914_1aee_11eb_8f86_0242ac1c0002row0_col1\" class=\"data row0 col1\" >Trantow-Barrows</td>\n",
              "                        <td id=\"T_0d021914_1aee_11eb_8f86_0242ac1c0002row0_col2\" class=\"data row0 col2\" >Craig Booker</td>\n",
              "                        <td id=\"T_0d021914_1aee_11eb_8f86_0242ac1c0002row0_col3\" class=\"data row0 col3\" >Debra Henley</td>\n",
              "                        <td id=\"T_0d021914_1aee_11eb_8f86_0242ac1c0002row0_col4\" class=\"data row0 col4\" >CPU</td>\n",
              "                        <td id=\"T_0d021914_1aee_11eb_8f86_0242ac1c0002row0_col5\" class=\"data row0 col5\" >1</td>\n",
              "                        <td id=\"T_0d021914_1aee_11eb_8f86_0242ac1c0002row0_col6\" class=\"data row0 col6\" >30000</td>\n",
              "                        <td id=\"T_0d021914_1aee_11eb_8f86_0242ac1c0002row0_col7\" class=\"data row0 col7\" >presented</td>\n",
              "            </tr>\n",
              "            <tr>\n",
              "                        <th id=\"T_0d021914_1aee_11eb_8f86_0242ac1c0002level0_row1\" class=\"row_heading level0 row1\" >1</th>\n",
              "                        <td id=\"T_0d021914_1aee_11eb_8f86_0242ac1c0002row1_col0\" class=\"data row1 col0\" >714466</td>\n",
              "                        <td id=\"T_0d021914_1aee_11eb_8f86_0242ac1c0002row1_col1\" class=\"data row1 col1\" >Trantow-Barrows</td>\n",
              "                        <td id=\"T_0d021914_1aee_11eb_8f86_0242ac1c0002row1_col2\" class=\"data row1 col2\" >Craig Booker</td>\n",
              "                        <td id=\"T_0d021914_1aee_11eb_8f86_0242ac1c0002row1_col3\" class=\"data row1 col3\" >Debra Henley</td>\n",
              "                        <td id=\"T_0d021914_1aee_11eb_8f86_0242ac1c0002row1_col4\" class=\"data row1 col4\" >Software</td>\n",
              "                        <td id=\"T_0d021914_1aee_11eb_8f86_0242ac1c0002row1_col5\" class=\"data row1 col5\" >1</td>\n",
              "                        <td id=\"T_0d021914_1aee_11eb_8f86_0242ac1c0002row1_col6\" class=\"data row1 col6\" >10000</td>\n",
              "                        <td id=\"T_0d021914_1aee_11eb_8f86_0242ac1c0002row1_col7\" class=\"data row1 col7\" >presented</td>\n",
              "            </tr>\n",
              "            <tr>\n",
              "                        <th id=\"T_0d021914_1aee_11eb_8f86_0242ac1c0002level0_row2\" class=\"row_heading level0 row2\" >2</th>\n",
              "                        <td id=\"T_0d021914_1aee_11eb_8f86_0242ac1c0002row2_col0\" class=\"data row2 col0\" >714466</td>\n",
              "                        <td id=\"T_0d021914_1aee_11eb_8f86_0242ac1c0002row2_col1\" class=\"data row2 col1\" >Trantow-Barrows</td>\n",
              "                        <td id=\"T_0d021914_1aee_11eb_8f86_0242ac1c0002row2_col2\" class=\"data row2 col2\" >Craig Booker</td>\n",
              "                        <td id=\"T_0d021914_1aee_11eb_8f86_0242ac1c0002row2_col3\" class=\"data row2 col3\" >Debra Henley</td>\n",
              "                        <td id=\"T_0d021914_1aee_11eb_8f86_0242ac1c0002row2_col4\" class=\"data row2 col4\" >Maintenance</td>\n",
              "                        <td id=\"T_0d021914_1aee_11eb_8f86_0242ac1c0002row2_col5\" class=\"data row2 col5\" >2</td>\n",
              "                        <td id=\"T_0d021914_1aee_11eb_8f86_0242ac1c0002row2_col6\" class=\"data row2 col6\" >5000</td>\n",
              "                        <td id=\"T_0d021914_1aee_11eb_8f86_0242ac1c0002row2_col7\" class=\"data row2 col7\" >pending</td>\n",
              "            </tr>\n",
              "            <tr>\n",
              "                        <th id=\"T_0d021914_1aee_11eb_8f86_0242ac1c0002level0_row3\" class=\"row_heading level0 row3\" >3</th>\n",
              "                        <td id=\"T_0d021914_1aee_11eb_8f86_0242ac1c0002row3_col0\" class=\"data row3 col0\" >737550</td>\n",
              "                        <td id=\"T_0d021914_1aee_11eb_8f86_0242ac1c0002row3_col1\" class=\"data row3 col1\" >Fritsch, Russel and Anderson</td>\n",
              "                        <td id=\"T_0d021914_1aee_11eb_8f86_0242ac1c0002row3_col2\" class=\"data row3 col2\" >Craig Booker</td>\n",
              "                        <td id=\"T_0d021914_1aee_11eb_8f86_0242ac1c0002row3_col3\" class=\"data row3 col3\" >Debra Henley</td>\n",
              "                        <td id=\"T_0d021914_1aee_11eb_8f86_0242ac1c0002row3_col4\" class=\"data row3 col4\" >CPU</td>\n",
              "                        <td id=\"T_0d021914_1aee_11eb_8f86_0242ac1c0002row3_col5\" class=\"data row3 col5\" >1</td>\n",
              "                        <td id=\"T_0d021914_1aee_11eb_8f86_0242ac1c0002row3_col6\" class=\"data row3 col6\" >35000</td>\n",
              "                        <td id=\"T_0d021914_1aee_11eb_8f86_0242ac1c0002row3_col7\" class=\"data row3 col7\" >declined</td>\n",
              "            </tr>\n",
              "            <tr>\n",
              "                        <th id=\"T_0d021914_1aee_11eb_8f86_0242ac1c0002level0_row4\" class=\"row_heading level0 row4\" >4</th>\n",
              "                        <td id=\"T_0d021914_1aee_11eb_8f86_0242ac1c0002row4_col0\" class=\"data row4 col0\" >146832</td>\n",
              "                        <td id=\"T_0d021914_1aee_11eb_8f86_0242ac1c0002row4_col1\" class=\"data row4 col1\" >Kiehn-Spinka</td>\n",
              "                        <td id=\"T_0d021914_1aee_11eb_8f86_0242ac1c0002row4_col2\" class=\"data row4 col2\" >Daniel Hilton</td>\n",
              "                        <td id=\"T_0d021914_1aee_11eb_8f86_0242ac1c0002row4_col3\" class=\"data row4 col3\" >Debra Henley</td>\n",
              "                        <td id=\"T_0d021914_1aee_11eb_8f86_0242ac1c0002row4_col4\" class=\"data row4 col4\" >CPU</td>\n",
              "                        <td id=\"T_0d021914_1aee_11eb_8f86_0242ac1c0002row4_col5\" class=\"data row4 col5\" >2</td>\n",
              "                        <td id=\"T_0d021914_1aee_11eb_8f86_0242ac1c0002row4_col6\" class=\"data row4 col6\" >65000</td>\n",
              "                        <td id=\"T_0d021914_1aee_11eb_8f86_0242ac1c0002row4_col7\" class=\"data row4 col7\" >won</td>\n",
              "            </tr>\n",
              "            <tr>\n",
              "                        <th id=\"T_0d021914_1aee_11eb_8f86_0242ac1c0002level0_row5\" class=\"row_heading level0 row5\" >5</th>\n",
              "                        <td id=\"T_0d021914_1aee_11eb_8f86_0242ac1c0002row5_col0\" class=\"data row5 col0\" >218895</td>\n",
              "                        <td id=\"T_0d021914_1aee_11eb_8f86_0242ac1c0002row5_col1\" class=\"data row5 col1\" >Kulas Inc</td>\n",
              "                        <td id=\"T_0d021914_1aee_11eb_8f86_0242ac1c0002row5_col2\" class=\"data row5 col2\" >Daniel Hilton</td>\n",
              "                        <td id=\"T_0d021914_1aee_11eb_8f86_0242ac1c0002row5_col3\" class=\"data row5 col3\" >Debra Henley</td>\n",
              "                        <td id=\"T_0d021914_1aee_11eb_8f86_0242ac1c0002row5_col4\" class=\"data row5 col4\" >CPU</td>\n",
              "                        <td id=\"T_0d021914_1aee_11eb_8f86_0242ac1c0002row5_col5\" class=\"data row5 col5\" >2</td>\n",
              "                        <td id=\"T_0d021914_1aee_11eb_8f86_0242ac1c0002row5_col6\" class=\"data row5 col6\" >40000</td>\n",
              "                        <td id=\"T_0d021914_1aee_11eb_8f86_0242ac1c0002row5_col7\" class=\"data row5 col7\" >pending</td>\n",
              "            </tr>\n",
              "            <tr>\n",
              "                        <th id=\"T_0d021914_1aee_11eb_8f86_0242ac1c0002level0_row6\" class=\"row_heading level0 row6\" >6</th>\n",
              "                        <td id=\"T_0d021914_1aee_11eb_8f86_0242ac1c0002row6_col0\" class=\"data row6 col0\" >218895</td>\n",
              "                        <td id=\"T_0d021914_1aee_11eb_8f86_0242ac1c0002row6_col1\" class=\"data row6 col1\" >Kulas Inc</td>\n",
              "                        <td id=\"T_0d021914_1aee_11eb_8f86_0242ac1c0002row6_col2\" class=\"data row6 col2\" >Daniel Hilton</td>\n",
              "                        <td id=\"T_0d021914_1aee_11eb_8f86_0242ac1c0002row6_col3\" class=\"data row6 col3\" >Debra Henley</td>\n",
              "                        <td id=\"T_0d021914_1aee_11eb_8f86_0242ac1c0002row6_col4\" class=\"data row6 col4\" >Software</td>\n",
              "                        <td id=\"T_0d021914_1aee_11eb_8f86_0242ac1c0002row6_col5\" class=\"data row6 col5\" >1</td>\n",
              "                        <td id=\"T_0d021914_1aee_11eb_8f86_0242ac1c0002row6_col6\" class=\"data row6 col6\" >10000</td>\n",
              "                        <td id=\"T_0d021914_1aee_11eb_8f86_0242ac1c0002row6_col7\" class=\"data row6 col7\" >presented</td>\n",
              "            </tr>\n",
              "            <tr>\n",
              "                        <th id=\"T_0d021914_1aee_11eb_8f86_0242ac1c0002level0_row7\" class=\"row_heading level0 row7\" >7</th>\n",
              "                        <td id=\"T_0d021914_1aee_11eb_8f86_0242ac1c0002row7_col0\" class=\"data row7 col0\" >412290</td>\n",
              "                        <td id=\"T_0d021914_1aee_11eb_8f86_0242ac1c0002row7_col1\" class=\"data row7 col1\" >Jerde-Hilpert</td>\n",
              "                        <td id=\"T_0d021914_1aee_11eb_8f86_0242ac1c0002row7_col2\" class=\"data row7 col2\" >John Smith</td>\n",
              "                        <td id=\"T_0d021914_1aee_11eb_8f86_0242ac1c0002row7_col3\" class=\"data row7 col3\" >Debra Henley</td>\n",
              "                        <td id=\"T_0d021914_1aee_11eb_8f86_0242ac1c0002row7_col4\" class=\"data row7 col4\" >Maintenance</td>\n",
              "                        <td id=\"T_0d021914_1aee_11eb_8f86_0242ac1c0002row7_col5\" class=\"data row7 col5\" >2</td>\n",
              "                        <td id=\"T_0d021914_1aee_11eb_8f86_0242ac1c0002row7_col6\" class=\"data row7 col6\" >5000</td>\n",
              "                        <td id=\"T_0d021914_1aee_11eb_8f86_0242ac1c0002row7_col7\" class=\"data row7 col7\" >pending</td>\n",
              "            </tr>\n",
              "            <tr>\n",
              "                        <th id=\"T_0d021914_1aee_11eb_8f86_0242ac1c0002level0_row8\" class=\"row_heading level0 row8\" >8</th>\n",
              "                        <td id=\"T_0d021914_1aee_11eb_8f86_0242ac1c0002row8_col0\" class=\"data row8 col0\" >740150</td>\n",
              "                        <td id=\"T_0d021914_1aee_11eb_8f86_0242ac1c0002row8_col1\" class=\"data row8 col1\" >Barton LLC</td>\n",
              "                        <td id=\"T_0d021914_1aee_11eb_8f86_0242ac1c0002row8_col2\" class=\"data row8 col2\" >John Smith</td>\n",
              "                        <td id=\"T_0d021914_1aee_11eb_8f86_0242ac1c0002row8_col3\" class=\"data row8 col3\" >Debra Henley</td>\n",
              "                        <td id=\"T_0d021914_1aee_11eb_8f86_0242ac1c0002row8_col4\" class=\"data row8 col4\" >CPU</td>\n",
              "                        <td id=\"T_0d021914_1aee_11eb_8f86_0242ac1c0002row8_col5\" class=\"data row8 col5\" >1</td>\n",
              "                        <td id=\"T_0d021914_1aee_11eb_8f86_0242ac1c0002row8_col6\" class=\"data row8 col6\" >35000</td>\n",
              "                        <td id=\"T_0d021914_1aee_11eb_8f86_0242ac1c0002row8_col7\" class=\"data row8 col7\" >declined</td>\n",
              "            </tr>\n",
              "            <tr>\n",
              "                        <th id=\"T_0d021914_1aee_11eb_8f86_0242ac1c0002level0_row9\" class=\"row_heading level0 row9\" >9</th>\n",
              "                        <td id=\"T_0d021914_1aee_11eb_8f86_0242ac1c0002row9_col0\" class=\"data row9 col0\" >141962</td>\n",
              "                        <td id=\"T_0d021914_1aee_11eb_8f86_0242ac1c0002row9_col1\" class=\"data row9 col1\" >Herman LLC</td>\n",
              "                        <td id=\"T_0d021914_1aee_11eb_8f86_0242ac1c0002row9_col2\" class=\"data row9 col2\" >Cedric Moss</td>\n",
              "                        <td id=\"T_0d021914_1aee_11eb_8f86_0242ac1c0002row9_col3\" class=\"data row9 col3\" >Fred Anderson</td>\n",
              "                        <td id=\"T_0d021914_1aee_11eb_8f86_0242ac1c0002row9_col4\" class=\"data row9 col4\" >CPU</td>\n",
              "                        <td id=\"T_0d021914_1aee_11eb_8f86_0242ac1c0002row9_col5\" class=\"data row9 col5\" >2</td>\n",
              "                        <td id=\"T_0d021914_1aee_11eb_8f86_0242ac1c0002row9_col6\" class=\"data row9 col6\" >65000</td>\n",
              "                        <td id=\"T_0d021914_1aee_11eb_8f86_0242ac1c0002row9_col7\" class=\"data row9 col7\" >won</td>\n",
              "            </tr>\n",
              "            <tr>\n",
              "                        <th id=\"T_0d021914_1aee_11eb_8f86_0242ac1c0002level0_row10\" class=\"row_heading level0 row10\" >10</th>\n",
              "                        <td id=\"T_0d021914_1aee_11eb_8f86_0242ac1c0002row10_col0\" class=\"data row10 col0\" >163416</td>\n",
              "                        <td id=\"T_0d021914_1aee_11eb_8f86_0242ac1c0002row10_col1\" class=\"data row10 col1\" >Purdy-Kunde</td>\n",
              "                        <td id=\"T_0d021914_1aee_11eb_8f86_0242ac1c0002row10_col2\" class=\"data row10 col2\" >Cedric Moss</td>\n",
              "                        <td id=\"T_0d021914_1aee_11eb_8f86_0242ac1c0002row10_col3\" class=\"data row10 col3\" >Fred Anderson</td>\n",
              "                        <td id=\"T_0d021914_1aee_11eb_8f86_0242ac1c0002row10_col4\" class=\"data row10 col4\" >CPU</td>\n",
              "                        <td id=\"T_0d021914_1aee_11eb_8f86_0242ac1c0002row10_col5\" class=\"data row10 col5\" >1</td>\n",
              "                        <td id=\"T_0d021914_1aee_11eb_8f86_0242ac1c0002row10_col6\" class=\"data row10 col6\" >30000</td>\n",
              "                        <td id=\"T_0d021914_1aee_11eb_8f86_0242ac1c0002row10_col7\" class=\"data row10 col7\" >presented</td>\n",
              "            </tr>\n",
              "            <tr>\n",
              "                        <th id=\"T_0d021914_1aee_11eb_8f86_0242ac1c0002level0_row11\" class=\"row_heading level0 row11\" >11</th>\n",
              "                        <td id=\"T_0d021914_1aee_11eb_8f86_0242ac1c0002row11_col0\" class=\"data row11 col0\" >239344</td>\n",
              "                        <td id=\"T_0d021914_1aee_11eb_8f86_0242ac1c0002row11_col1\" class=\"data row11 col1\" >Stokes LLC</td>\n",
              "                        <td id=\"T_0d021914_1aee_11eb_8f86_0242ac1c0002row11_col2\" class=\"data row11 col2\" >Cedric Moss</td>\n",
              "                        <td id=\"T_0d021914_1aee_11eb_8f86_0242ac1c0002row11_col3\" class=\"data row11 col3\" >Fred Anderson</td>\n",
              "                        <td id=\"T_0d021914_1aee_11eb_8f86_0242ac1c0002row11_col4\" class=\"data row11 col4\" >Maintenance</td>\n",
              "                        <td id=\"T_0d021914_1aee_11eb_8f86_0242ac1c0002row11_col5\" class=\"data row11 col5\" >1</td>\n",
              "                        <td id=\"T_0d021914_1aee_11eb_8f86_0242ac1c0002row11_col6\" class=\"data row11 col6\" >5000</td>\n",
              "                        <td id=\"T_0d021914_1aee_11eb_8f86_0242ac1c0002row11_col7\" class=\"data row11 col7\" >pending</td>\n",
              "            </tr>\n",
              "            <tr>\n",
              "                        <th id=\"T_0d021914_1aee_11eb_8f86_0242ac1c0002level0_row12\" class=\"row_heading level0 row12\" >12</th>\n",
              "                        <td id=\"T_0d021914_1aee_11eb_8f86_0242ac1c0002row12_col0\" class=\"data row12 col0\" >239344</td>\n",
              "                        <td id=\"T_0d021914_1aee_11eb_8f86_0242ac1c0002row12_col1\" class=\"data row12 col1\" >Stokes LLC</td>\n",
              "                        <td id=\"T_0d021914_1aee_11eb_8f86_0242ac1c0002row12_col2\" class=\"data row12 col2\" >Cedric Moss</td>\n",
              "                        <td id=\"T_0d021914_1aee_11eb_8f86_0242ac1c0002row12_col3\" class=\"data row12 col3\" >Fred Anderson</td>\n",
              "                        <td id=\"T_0d021914_1aee_11eb_8f86_0242ac1c0002row12_col4\" class=\"data row12 col4\" >Software</td>\n",
              "                        <td id=\"T_0d021914_1aee_11eb_8f86_0242ac1c0002row12_col5\" class=\"data row12 col5\" >1</td>\n",
              "                        <td id=\"T_0d021914_1aee_11eb_8f86_0242ac1c0002row12_col6\" class=\"data row12 col6\" >10000</td>\n",
              "                        <td id=\"T_0d021914_1aee_11eb_8f86_0242ac1c0002row12_col7\" class=\"data row12 col7\" >presented</td>\n",
              "            </tr>\n",
              "            <tr>\n",
              "                        <th id=\"T_0d021914_1aee_11eb_8f86_0242ac1c0002level0_row13\" class=\"row_heading level0 row13\" >13</th>\n",
              "                        <td id=\"T_0d021914_1aee_11eb_8f86_0242ac1c0002row13_col0\" class=\"data row13 col0\" >307599</td>\n",
              "                        <td id=\"T_0d021914_1aee_11eb_8f86_0242ac1c0002row13_col1\" class=\"data row13 col1\" >Kassulke, Ondricka and Metz</td>\n",
              "                        <td id=\"T_0d021914_1aee_11eb_8f86_0242ac1c0002row13_col2\" class=\"data row13 col2\" >Wendy Yule</td>\n",
              "                        <td id=\"T_0d021914_1aee_11eb_8f86_0242ac1c0002row13_col3\" class=\"data row13 col3\" >Fred Anderson</td>\n",
              "                        <td id=\"T_0d021914_1aee_11eb_8f86_0242ac1c0002row13_col4\" class=\"data row13 col4\" >Maintenance</td>\n",
              "                        <td id=\"T_0d021914_1aee_11eb_8f86_0242ac1c0002row13_col5\" class=\"data row13 col5\" >3</td>\n",
              "                        <td id=\"T_0d021914_1aee_11eb_8f86_0242ac1c0002row13_col6\" class=\"data row13 col6\" >7000</td>\n",
              "                        <td id=\"T_0d021914_1aee_11eb_8f86_0242ac1c0002row13_col7\" class=\"data row13 col7\" >won</td>\n",
              "            </tr>\n",
              "            <tr>\n",
              "                        <th id=\"T_0d021914_1aee_11eb_8f86_0242ac1c0002level0_row14\" class=\"row_heading level0 row14\" >14</th>\n",
              "                        <td id=\"T_0d021914_1aee_11eb_8f86_0242ac1c0002row14_col0\" class=\"data row14 col0\" >688981</td>\n",
              "                        <td id=\"T_0d021914_1aee_11eb_8f86_0242ac1c0002row14_col1\" class=\"data row14 col1\" >Keeling LLC</td>\n",
              "                        <td id=\"T_0d021914_1aee_11eb_8f86_0242ac1c0002row14_col2\" class=\"data row14 col2\" >Wendy Yule</td>\n",
              "                        <td id=\"T_0d021914_1aee_11eb_8f86_0242ac1c0002row14_col3\" class=\"data row14 col3\" >Fred Anderson</td>\n",
              "                        <td id=\"T_0d021914_1aee_11eb_8f86_0242ac1c0002row14_col4\" class=\"data row14 col4\" >CPU</td>\n",
              "                        <td id=\"T_0d021914_1aee_11eb_8f86_0242ac1c0002row14_col5\" class=\"data row14 col5\" >5</td>\n",
              "                        <td id=\"T_0d021914_1aee_11eb_8f86_0242ac1c0002row14_col6\" class=\"data row14 col6\" >100000</td>\n",
              "                        <td id=\"T_0d021914_1aee_11eb_8f86_0242ac1c0002row14_col7\" class=\"data row14 col7\" >won</td>\n",
              "            </tr>\n",
              "            <tr>\n",
              "                        <th id=\"T_0d021914_1aee_11eb_8f86_0242ac1c0002level0_row15\" class=\"row_heading level0 row15\" >15</th>\n",
              "                        <td id=\"T_0d021914_1aee_11eb_8f86_0242ac1c0002row15_col0\" class=\"data row15 col0\" >729833</td>\n",
              "                        <td id=\"T_0d021914_1aee_11eb_8f86_0242ac1c0002row15_col1\" class=\"data row15 col1\" >Koepp Ltd</td>\n",
              "                        <td id=\"T_0d021914_1aee_11eb_8f86_0242ac1c0002row15_col2\" class=\"data row15 col2\" >Wendy Yule</td>\n",
              "                        <td id=\"T_0d021914_1aee_11eb_8f86_0242ac1c0002row15_col3\" class=\"data row15 col3\" >Fred Anderson</td>\n",
              "                        <td id=\"T_0d021914_1aee_11eb_8f86_0242ac1c0002row15_col4\" class=\"data row15 col4\" >CPU</td>\n",
              "                        <td id=\"T_0d021914_1aee_11eb_8f86_0242ac1c0002row15_col5\" class=\"data row15 col5\" >2</td>\n",
              "                        <td id=\"T_0d021914_1aee_11eb_8f86_0242ac1c0002row15_col6\" class=\"data row15 col6\" >65000</td>\n",
              "                        <td id=\"T_0d021914_1aee_11eb_8f86_0242ac1c0002row15_col7\" class=\"data row15 col7\" >declined</td>\n",
              "            </tr>\n",
              "            <tr>\n",
              "                        <th id=\"T_0d021914_1aee_11eb_8f86_0242ac1c0002level0_row16\" class=\"row_heading level0 row16\" >16</th>\n",
              "                        <td id=\"T_0d021914_1aee_11eb_8f86_0242ac1c0002row16_col0\" class=\"data row16 col0\" >729833</td>\n",
              "                        <td id=\"T_0d021914_1aee_11eb_8f86_0242ac1c0002row16_col1\" class=\"data row16 col1\" >Koepp Ltd</td>\n",
              "                        <td id=\"T_0d021914_1aee_11eb_8f86_0242ac1c0002row16_col2\" class=\"data row16 col2\" >Wendy Yule</td>\n",
              "                        <td id=\"T_0d021914_1aee_11eb_8f86_0242ac1c0002row16_col3\" class=\"data row16 col3\" >Fred Anderson</td>\n",
              "                        <td id=\"T_0d021914_1aee_11eb_8f86_0242ac1c0002row16_col4\" class=\"data row16 col4\" >Monitor</td>\n",
              "                        <td id=\"T_0d021914_1aee_11eb_8f86_0242ac1c0002row16_col5\" class=\"data row16 col5\" >2</td>\n",
              "                        <td id=\"T_0d021914_1aee_11eb_8f86_0242ac1c0002row16_col6\" class=\"data row16 col6\" >5000</td>\n",
              "                        <td id=\"T_0d021914_1aee_11eb_8f86_0242ac1c0002row16_col7\" class=\"data row16 col7\" >presented</td>\n",
              "            </tr>\n",
              "    </tbody></table>"
            ],
            "text/plain": [
              "<pandas.io.formats.style.Styler at 0x7f411dbccef0>"
            ]
          },
          "metadata": {
            "tags": []
          },
          "execution_count": 23
        }
      ]
    },
    {
      "cell_type": "code",
      "metadata": {
        "id": "kVs-qozOHp-9",
        "colab": {
          "base_uri": "https://localhost:8080/",
          "height": 337
        },
        "outputId": "e2b0b588-23c7-46a6-a186-d47c4149e2d8"
      },
      "source": [
        "df.style.apply(marca_maximos,subset=['Price','Quantity']).\\\n",
        "apply(marca_minimos,subset=['Price','Quantity'])"
      ],
      "execution_count": null,
      "outputs": [
        {
          "output_type": "execute_result",
          "data": {
            "text/html": [
              "<style  type=\"text/css\" >\n",
              "#T_0cbf158e_1af2_11eb_8f86_0242ac1c0002row0_col5,#T_0cbf158e_1af2_11eb_8f86_0242ac1c0002row1_col5,#T_0cbf158e_1af2_11eb_8f86_0242ac1c0002row2_col6,#T_0cbf158e_1af2_11eb_8f86_0242ac1c0002row3_col5,#T_0cbf158e_1af2_11eb_8f86_0242ac1c0002row6_col5,#T_0cbf158e_1af2_11eb_8f86_0242ac1c0002row7_col6,#T_0cbf158e_1af2_11eb_8f86_0242ac1c0002row8_col5,#T_0cbf158e_1af2_11eb_8f86_0242ac1c0002row10_col5,#T_0cbf158e_1af2_11eb_8f86_0242ac1c0002row11_col5,#T_0cbf158e_1af2_11eb_8f86_0242ac1c0002row11_col6,#T_0cbf158e_1af2_11eb_8f86_0242ac1c0002row12_col5,#T_0cbf158e_1af2_11eb_8f86_0242ac1c0002row16_col6{\n",
              "            color:  red;\n",
              "        }#T_0cbf158e_1af2_11eb_8f86_0242ac1c0002row14_col5,#T_0cbf158e_1af2_11eb_8f86_0242ac1c0002row14_col6{\n",
              "            background-color:  yellow;\n",
              "        }</style><table id=\"T_0cbf158e_1af2_11eb_8f86_0242ac1c0002\" ><thead>    <tr>        <th class=\"blank level0\" ></th>        <th class=\"col_heading level0 col0\" >Account</th>        <th class=\"col_heading level0 col1\" >Name</th>        <th class=\"col_heading level0 col2\" >Rep</th>        <th class=\"col_heading level0 col3\" >Manager</th>        <th class=\"col_heading level0 col4\" >Product</th>        <th class=\"col_heading level0 col5\" >Quantity</th>        <th class=\"col_heading level0 col6\" >Price</th>        <th class=\"col_heading level0 col7\" >Status</th>    </tr></thead><tbody>\n",
              "                <tr>\n",
              "                        <th id=\"T_0cbf158e_1af2_11eb_8f86_0242ac1c0002level0_row0\" class=\"row_heading level0 row0\" >0</th>\n",
              "                        <td id=\"T_0cbf158e_1af2_11eb_8f86_0242ac1c0002row0_col0\" class=\"data row0 col0\" >714466</td>\n",
              "                        <td id=\"T_0cbf158e_1af2_11eb_8f86_0242ac1c0002row0_col1\" class=\"data row0 col1\" >Trantow-Barrows</td>\n",
              "                        <td id=\"T_0cbf158e_1af2_11eb_8f86_0242ac1c0002row0_col2\" class=\"data row0 col2\" >Craig Booker</td>\n",
              "                        <td id=\"T_0cbf158e_1af2_11eb_8f86_0242ac1c0002row0_col3\" class=\"data row0 col3\" >Debra Henley</td>\n",
              "                        <td id=\"T_0cbf158e_1af2_11eb_8f86_0242ac1c0002row0_col4\" class=\"data row0 col4\" >CPU</td>\n",
              "                        <td id=\"T_0cbf158e_1af2_11eb_8f86_0242ac1c0002row0_col5\" class=\"data row0 col5\" >1</td>\n",
              "                        <td id=\"T_0cbf158e_1af2_11eb_8f86_0242ac1c0002row0_col6\" class=\"data row0 col6\" >30000</td>\n",
              "                        <td id=\"T_0cbf158e_1af2_11eb_8f86_0242ac1c0002row0_col7\" class=\"data row0 col7\" >presented</td>\n",
              "            </tr>\n",
              "            <tr>\n",
              "                        <th id=\"T_0cbf158e_1af2_11eb_8f86_0242ac1c0002level0_row1\" class=\"row_heading level0 row1\" >1</th>\n",
              "                        <td id=\"T_0cbf158e_1af2_11eb_8f86_0242ac1c0002row1_col0\" class=\"data row1 col0\" >714466</td>\n",
              "                        <td id=\"T_0cbf158e_1af2_11eb_8f86_0242ac1c0002row1_col1\" class=\"data row1 col1\" >Trantow-Barrows</td>\n",
              "                        <td id=\"T_0cbf158e_1af2_11eb_8f86_0242ac1c0002row1_col2\" class=\"data row1 col2\" >Craig Booker</td>\n",
              "                        <td id=\"T_0cbf158e_1af2_11eb_8f86_0242ac1c0002row1_col3\" class=\"data row1 col3\" >Debra Henley</td>\n",
              "                        <td id=\"T_0cbf158e_1af2_11eb_8f86_0242ac1c0002row1_col4\" class=\"data row1 col4\" >Software</td>\n",
              "                        <td id=\"T_0cbf158e_1af2_11eb_8f86_0242ac1c0002row1_col5\" class=\"data row1 col5\" >1</td>\n",
              "                        <td id=\"T_0cbf158e_1af2_11eb_8f86_0242ac1c0002row1_col6\" class=\"data row1 col6\" >10000</td>\n",
              "                        <td id=\"T_0cbf158e_1af2_11eb_8f86_0242ac1c0002row1_col7\" class=\"data row1 col7\" >presented</td>\n",
              "            </tr>\n",
              "            <tr>\n",
              "                        <th id=\"T_0cbf158e_1af2_11eb_8f86_0242ac1c0002level0_row2\" class=\"row_heading level0 row2\" >2</th>\n",
              "                        <td id=\"T_0cbf158e_1af2_11eb_8f86_0242ac1c0002row2_col0\" class=\"data row2 col0\" >714466</td>\n",
              "                        <td id=\"T_0cbf158e_1af2_11eb_8f86_0242ac1c0002row2_col1\" class=\"data row2 col1\" >Trantow-Barrows</td>\n",
              "                        <td id=\"T_0cbf158e_1af2_11eb_8f86_0242ac1c0002row2_col2\" class=\"data row2 col2\" >Craig Booker</td>\n",
              "                        <td id=\"T_0cbf158e_1af2_11eb_8f86_0242ac1c0002row2_col3\" class=\"data row2 col3\" >Debra Henley</td>\n",
              "                        <td id=\"T_0cbf158e_1af2_11eb_8f86_0242ac1c0002row2_col4\" class=\"data row2 col4\" >Maintenance</td>\n",
              "                        <td id=\"T_0cbf158e_1af2_11eb_8f86_0242ac1c0002row2_col5\" class=\"data row2 col5\" >2</td>\n",
              "                        <td id=\"T_0cbf158e_1af2_11eb_8f86_0242ac1c0002row2_col6\" class=\"data row2 col6\" >5000</td>\n",
              "                        <td id=\"T_0cbf158e_1af2_11eb_8f86_0242ac1c0002row2_col7\" class=\"data row2 col7\" >pending</td>\n",
              "            </tr>\n",
              "            <tr>\n",
              "                        <th id=\"T_0cbf158e_1af2_11eb_8f86_0242ac1c0002level0_row3\" class=\"row_heading level0 row3\" >3</th>\n",
              "                        <td id=\"T_0cbf158e_1af2_11eb_8f86_0242ac1c0002row3_col0\" class=\"data row3 col0\" >737550</td>\n",
              "                        <td id=\"T_0cbf158e_1af2_11eb_8f86_0242ac1c0002row3_col1\" class=\"data row3 col1\" >Fritsch, Russel and Anderson</td>\n",
              "                        <td id=\"T_0cbf158e_1af2_11eb_8f86_0242ac1c0002row3_col2\" class=\"data row3 col2\" >Craig Booker</td>\n",
              "                        <td id=\"T_0cbf158e_1af2_11eb_8f86_0242ac1c0002row3_col3\" class=\"data row3 col3\" >Debra Henley</td>\n",
              "                        <td id=\"T_0cbf158e_1af2_11eb_8f86_0242ac1c0002row3_col4\" class=\"data row3 col4\" >CPU</td>\n",
              "                        <td id=\"T_0cbf158e_1af2_11eb_8f86_0242ac1c0002row3_col5\" class=\"data row3 col5\" >1</td>\n",
              "                        <td id=\"T_0cbf158e_1af2_11eb_8f86_0242ac1c0002row3_col6\" class=\"data row3 col6\" >35000</td>\n",
              "                        <td id=\"T_0cbf158e_1af2_11eb_8f86_0242ac1c0002row3_col7\" class=\"data row3 col7\" >declined</td>\n",
              "            </tr>\n",
              "            <tr>\n",
              "                        <th id=\"T_0cbf158e_1af2_11eb_8f86_0242ac1c0002level0_row4\" class=\"row_heading level0 row4\" >4</th>\n",
              "                        <td id=\"T_0cbf158e_1af2_11eb_8f86_0242ac1c0002row4_col0\" class=\"data row4 col0\" >146832</td>\n",
              "                        <td id=\"T_0cbf158e_1af2_11eb_8f86_0242ac1c0002row4_col1\" class=\"data row4 col1\" >Kiehn-Spinka</td>\n",
              "                        <td id=\"T_0cbf158e_1af2_11eb_8f86_0242ac1c0002row4_col2\" class=\"data row4 col2\" >Daniel Hilton</td>\n",
              "                        <td id=\"T_0cbf158e_1af2_11eb_8f86_0242ac1c0002row4_col3\" class=\"data row4 col3\" >Debra Henley</td>\n",
              "                        <td id=\"T_0cbf158e_1af2_11eb_8f86_0242ac1c0002row4_col4\" class=\"data row4 col4\" >CPU</td>\n",
              "                        <td id=\"T_0cbf158e_1af2_11eb_8f86_0242ac1c0002row4_col5\" class=\"data row4 col5\" >2</td>\n",
              "                        <td id=\"T_0cbf158e_1af2_11eb_8f86_0242ac1c0002row4_col6\" class=\"data row4 col6\" >65000</td>\n",
              "                        <td id=\"T_0cbf158e_1af2_11eb_8f86_0242ac1c0002row4_col7\" class=\"data row4 col7\" >won</td>\n",
              "            </tr>\n",
              "            <tr>\n",
              "                        <th id=\"T_0cbf158e_1af2_11eb_8f86_0242ac1c0002level0_row5\" class=\"row_heading level0 row5\" >5</th>\n",
              "                        <td id=\"T_0cbf158e_1af2_11eb_8f86_0242ac1c0002row5_col0\" class=\"data row5 col0\" >218895</td>\n",
              "                        <td id=\"T_0cbf158e_1af2_11eb_8f86_0242ac1c0002row5_col1\" class=\"data row5 col1\" >Kulas Inc</td>\n",
              "                        <td id=\"T_0cbf158e_1af2_11eb_8f86_0242ac1c0002row5_col2\" class=\"data row5 col2\" >Daniel Hilton</td>\n",
              "                        <td id=\"T_0cbf158e_1af2_11eb_8f86_0242ac1c0002row5_col3\" class=\"data row5 col3\" >Debra Henley</td>\n",
              "                        <td id=\"T_0cbf158e_1af2_11eb_8f86_0242ac1c0002row5_col4\" class=\"data row5 col4\" >CPU</td>\n",
              "                        <td id=\"T_0cbf158e_1af2_11eb_8f86_0242ac1c0002row5_col5\" class=\"data row5 col5\" >2</td>\n",
              "                        <td id=\"T_0cbf158e_1af2_11eb_8f86_0242ac1c0002row5_col6\" class=\"data row5 col6\" >40000</td>\n",
              "                        <td id=\"T_0cbf158e_1af2_11eb_8f86_0242ac1c0002row5_col7\" class=\"data row5 col7\" >pending</td>\n",
              "            </tr>\n",
              "            <tr>\n",
              "                        <th id=\"T_0cbf158e_1af2_11eb_8f86_0242ac1c0002level0_row6\" class=\"row_heading level0 row6\" >6</th>\n",
              "                        <td id=\"T_0cbf158e_1af2_11eb_8f86_0242ac1c0002row6_col0\" class=\"data row6 col0\" >218895</td>\n",
              "                        <td id=\"T_0cbf158e_1af2_11eb_8f86_0242ac1c0002row6_col1\" class=\"data row6 col1\" >Kulas Inc</td>\n",
              "                        <td id=\"T_0cbf158e_1af2_11eb_8f86_0242ac1c0002row6_col2\" class=\"data row6 col2\" >Daniel Hilton</td>\n",
              "                        <td id=\"T_0cbf158e_1af2_11eb_8f86_0242ac1c0002row6_col3\" class=\"data row6 col3\" >Debra Henley</td>\n",
              "                        <td id=\"T_0cbf158e_1af2_11eb_8f86_0242ac1c0002row6_col4\" class=\"data row6 col4\" >Software</td>\n",
              "                        <td id=\"T_0cbf158e_1af2_11eb_8f86_0242ac1c0002row6_col5\" class=\"data row6 col5\" >1</td>\n",
              "                        <td id=\"T_0cbf158e_1af2_11eb_8f86_0242ac1c0002row6_col6\" class=\"data row6 col6\" >10000</td>\n",
              "                        <td id=\"T_0cbf158e_1af2_11eb_8f86_0242ac1c0002row6_col7\" class=\"data row6 col7\" >presented</td>\n",
              "            </tr>\n",
              "            <tr>\n",
              "                        <th id=\"T_0cbf158e_1af2_11eb_8f86_0242ac1c0002level0_row7\" class=\"row_heading level0 row7\" >7</th>\n",
              "                        <td id=\"T_0cbf158e_1af2_11eb_8f86_0242ac1c0002row7_col0\" class=\"data row7 col0\" >412290</td>\n",
              "                        <td id=\"T_0cbf158e_1af2_11eb_8f86_0242ac1c0002row7_col1\" class=\"data row7 col1\" >Jerde-Hilpert</td>\n",
              "                        <td id=\"T_0cbf158e_1af2_11eb_8f86_0242ac1c0002row7_col2\" class=\"data row7 col2\" >John Smith</td>\n",
              "                        <td id=\"T_0cbf158e_1af2_11eb_8f86_0242ac1c0002row7_col3\" class=\"data row7 col3\" >Debra Henley</td>\n",
              "                        <td id=\"T_0cbf158e_1af2_11eb_8f86_0242ac1c0002row7_col4\" class=\"data row7 col4\" >Maintenance</td>\n",
              "                        <td id=\"T_0cbf158e_1af2_11eb_8f86_0242ac1c0002row7_col5\" class=\"data row7 col5\" >2</td>\n",
              "                        <td id=\"T_0cbf158e_1af2_11eb_8f86_0242ac1c0002row7_col6\" class=\"data row7 col6\" >5000</td>\n",
              "                        <td id=\"T_0cbf158e_1af2_11eb_8f86_0242ac1c0002row7_col7\" class=\"data row7 col7\" >pending</td>\n",
              "            </tr>\n",
              "            <tr>\n",
              "                        <th id=\"T_0cbf158e_1af2_11eb_8f86_0242ac1c0002level0_row8\" class=\"row_heading level0 row8\" >8</th>\n",
              "                        <td id=\"T_0cbf158e_1af2_11eb_8f86_0242ac1c0002row8_col0\" class=\"data row8 col0\" >740150</td>\n",
              "                        <td id=\"T_0cbf158e_1af2_11eb_8f86_0242ac1c0002row8_col1\" class=\"data row8 col1\" >Barton LLC</td>\n",
              "                        <td id=\"T_0cbf158e_1af2_11eb_8f86_0242ac1c0002row8_col2\" class=\"data row8 col2\" >John Smith</td>\n",
              "                        <td id=\"T_0cbf158e_1af2_11eb_8f86_0242ac1c0002row8_col3\" class=\"data row8 col3\" >Debra Henley</td>\n",
              "                        <td id=\"T_0cbf158e_1af2_11eb_8f86_0242ac1c0002row8_col4\" class=\"data row8 col4\" >CPU</td>\n",
              "                        <td id=\"T_0cbf158e_1af2_11eb_8f86_0242ac1c0002row8_col5\" class=\"data row8 col5\" >1</td>\n",
              "                        <td id=\"T_0cbf158e_1af2_11eb_8f86_0242ac1c0002row8_col6\" class=\"data row8 col6\" >35000</td>\n",
              "                        <td id=\"T_0cbf158e_1af2_11eb_8f86_0242ac1c0002row8_col7\" class=\"data row8 col7\" >declined</td>\n",
              "            </tr>\n",
              "            <tr>\n",
              "                        <th id=\"T_0cbf158e_1af2_11eb_8f86_0242ac1c0002level0_row9\" class=\"row_heading level0 row9\" >9</th>\n",
              "                        <td id=\"T_0cbf158e_1af2_11eb_8f86_0242ac1c0002row9_col0\" class=\"data row9 col0\" >141962</td>\n",
              "                        <td id=\"T_0cbf158e_1af2_11eb_8f86_0242ac1c0002row9_col1\" class=\"data row9 col1\" >Herman LLC</td>\n",
              "                        <td id=\"T_0cbf158e_1af2_11eb_8f86_0242ac1c0002row9_col2\" class=\"data row9 col2\" >Cedric Moss</td>\n",
              "                        <td id=\"T_0cbf158e_1af2_11eb_8f86_0242ac1c0002row9_col3\" class=\"data row9 col3\" >Fred Anderson</td>\n",
              "                        <td id=\"T_0cbf158e_1af2_11eb_8f86_0242ac1c0002row9_col4\" class=\"data row9 col4\" >CPU</td>\n",
              "                        <td id=\"T_0cbf158e_1af2_11eb_8f86_0242ac1c0002row9_col5\" class=\"data row9 col5\" >2</td>\n",
              "                        <td id=\"T_0cbf158e_1af2_11eb_8f86_0242ac1c0002row9_col6\" class=\"data row9 col6\" >65000</td>\n",
              "                        <td id=\"T_0cbf158e_1af2_11eb_8f86_0242ac1c0002row9_col7\" class=\"data row9 col7\" >won</td>\n",
              "            </tr>\n",
              "            <tr>\n",
              "                        <th id=\"T_0cbf158e_1af2_11eb_8f86_0242ac1c0002level0_row10\" class=\"row_heading level0 row10\" >10</th>\n",
              "                        <td id=\"T_0cbf158e_1af2_11eb_8f86_0242ac1c0002row10_col0\" class=\"data row10 col0\" >163416</td>\n",
              "                        <td id=\"T_0cbf158e_1af2_11eb_8f86_0242ac1c0002row10_col1\" class=\"data row10 col1\" >Purdy-Kunde</td>\n",
              "                        <td id=\"T_0cbf158e_1af2_11eb_8f86_0242ac1c0002row10_col2\" class=\"data row10 col2\" >Cedric Moss</td>\n",
              "                        <td id=\"T_0cbf158e_1af2_11eb_8f86_0242ac1c0002row10_col3\" class=\"data row10 col3\" >Fred Anderson</td>\n",
              "                        <td id=\"T_0cbf158e_1af2_11eb_8f86_0242ac1c0002row10_col4\" class=\"data row10 col4\" >CPU</td>\n",
              "                        <td id=\"T_0cbf158e_1af2_11eb_8f86_0242ac1c0002row10_col5\" class=\"data row10 col5\" >1</td>\n",
              "                        <td id=\"T_0cbf158e_1af2_11eb_8f86_0242ac1c0002row10_col6\" class=\"data row10 col6\" >30000</td>\n",
              "                        <td id=\"T_0cbf158e_1af2_11eb_8f86_0242ac1c0002row10_col7\" class=\"data row10 col7\" >presented</td>\n",
              "            </tr>\n",
              "            <tr>\n",
              "                        <th id=\"T_0cbf158e_1af2_11eb_8f86_0242ac1c0002level0_row11\" class=\"row_heading level0 row11\" >11</th>\n",
              "                        <td id=\"T_0cbf158e_1af2_11eb_8f86_0242ac1c0002row11_col0\" class=\"data row11 col0\" >239344</td>\n",
              "                        <td id=\"T_0cbf158e_1af2_11eb_8f86_0242ac1c0002row11_col1\" class=\"data row11 col1\" >Stokes LLC</td>\n",
              "                        <td id=\"T_0cbf158e_1af2_11eb_8f86_0242ac1c0002row11_col2\" class=\"data row11 col2\" >Cedric Moss</td>\n",
              "                        <td id=\"T_0cbf158e_1af2_11eb_8f86_0242ac1c0002row11_col3\" class=\"data row11 col3\" >Fred Anderson</td>\n",
              "                        <td id=\"T_0cbf158e_1af2_11eb_8f86_0242ac1c0002row11_col4\" class=\"data row11 col4\" >Maintenance</td>\n",
              "                        <td id=\"T_0cbf158e_1af2_11eb_8f86_0242ac1c0002row11_col5\" class=\"data row11 col5\" >1</td>\n",
              "                        <td id=\"T_0cbf158e_1af2_11eb_8f86_0242ac1c0002row11_col6\" class=\"data row11 col6\" >5000</td>\n",
              "                        <td id=\"T_0cbf158e_1af2_11eb_8f86_0242ac1c0002row11_col7\" class=\"data row11 col7\" >pending</td>\n",
              "            </tr>\n",
              "            <tr>\n",
              "                        <th id=\"T_0cbf158e_1af2_11eb_8f86_0242ac1c0002level0_row12\" class=\"row_heading level0 row12\" >12</th>\n",
              "                        <td id=\"T_0cbf158e_1af2_11eb_8f86_0242ac1c0002row12_col0\" class=\"data row12 col0\" >239344</td>\n",
              "                        <td id=\"T_0cbf158e_1af2_11eb_8f86_0242ac1c0002row12_col1\" class=\"data row12 col1\" >Stokes LLC</td>\n",
              "                        <td id=\"T_0cbf158e_1af2_11eb_8f86_0242ac1c0002row12_col2\" class=\"data row12 col2\" >Cedric Moss</td>\n",
              "                        <td id=\"T_0cbf158e_1af2_11eb_8f86_0242ac1c0002row12_col3\" class=\"data row12 col3\" >Fred Anderson</td>\n",
              "                        <td id=\"T_0cbf158e_1af2_11eb_8f86_0242ac1c0002row12_col4\" class=\"data row12 col4\" >Software</td>\n",
              "                        <td id=\"T_0cbf158e_1af2_11eb_8f86_0242ac1c0002row12_col5\" class=\"data row12 col5\" >1</td>\n",
              "                        <td id=\"T_0cbf158e_1af2_11eb_8f86_0242ac1c0002row12_col6\" class=\"data row12 col6\" >10000</td>\n",
              "                        <td id=\"T_0cbf158e_1af2_11eb_8f86_0242ac1c0002row12_col7\" class=\"data row12 col7\" >presented</td>\n",
              "            </tr>\n",
              "            <tr>\n",
              "                        <th id=\"T_0cbf158e_1af2_11eb_8f86_0242ac1c0002level0_row13\" class=\"row_heading level0 row13\" >13</th>\n",
              "                        <td id=\"T_0cbf158e_1af2_11eb_8f86_0242ac1c0002row13_col0\" class=\"data row13 col0\" >307599</td>\n",
              "                        <td id=\"T_0cbf158e_1af2_11eb_8f86_0242ac1c0002row13_col1\" class=\"data row13 col1\" >Kassulke, Ondricka and Metz</td>\n",
              "                        <td id=\"T_0cbf158e_1af2_11eb_8f86_0242ac1c0002row13_col2\" class=\"data row13 col2\" >Wendy Yule</td>\n",
              "                        <td id=\"T_0cbf158e_1af2_11eb_8f86_0242ac1c0002row13_col3\" class=\"data row13 col3\" >Fred Anderson</td>\n",
              "                        <td id=\"T_0cbf158e_1af2_11eb_8f86_0242ac1c0002row13_col4\" class=\"data row13 col4\" >Maintenance</td>\n",
              "                        <td id=\"T_0cbf158e_1af2_11eb_8f86_0242ac1c0002row13_col5\" class=\"data row13 col5\" >3</td>\n",
              "                        <td id=\"T_0cbf158e_1af2_11eb_8f86_0242ac1c0002row13_col6\" class=\"data row13 col6\" >7000</td>\n",
              "                        <td id=\"T_0cbf158e_1af2_11eb_8f86_0242ac1c0002row13_col7\" class=\"data row13 col7\" >won</td>\n",
              "            </tr>\n",
              "            <tr>\n",
              "                        <th id=\"T_0cbf158e_1af2_11eb_8f86_0242ac1c0002level0_row14\" class=\"row_heading level0 row14\" >14</th>\n",
              "                        <td id=\"T_0cbf158e_1af2_11eb_8f86_0242ac1c0002row14_col0\" class=\"data row14 col0\" >688981</td>\n",
              "                        <td id=\"T_0cbf158e_1af2_11eb_8f86_0242ac1c0002row14_col1\" class=\"data row14 col1\" >Keeling LLC</td>\n",
              "                        <td id=\"T_0cbf158e_1af2_11eb_8f86_0242ac1c0002row14_col2\" class=\"data row14 col2\" >Wendy Yule</td>\n",
              "                        <td id=\"T_0cbf158e_1af2_11eb_8f86_0242ac1c0002row14_col3\" class=\"data row14 col3\" >Fred Anderson</td>\n",
              "                        <td id=\"T_0cbf158e_1af2_11eb_8f86_0242ac1c0002row14_col4\" class=\"data row14 col4\" >CPU</td>\n",
              "                        <td id=\"T_0cbf158e_1af2_11eb_8f86_0242ac1c0002row14_col5\" class=\"data row14 col5\" >5</td>\n",
              "                        <td id=\"T_0cbf158e_1af2_11eb_8f86_0242ac1c0002row14_col6\" class=\"data row14 col6\" >100000</td>\n",
              "                        <td id=\"T_0cbf158e_1af2_11eb_8f86_0242ac1c0002row14_col7\" class=\"data row14 col7\" >won</td>\n",
              "            </tr>\n",
              "            <tr>\n",
              "                        <th id=\"T_0cbf158e_1af2_11eb_8f86_0242ac1c0002level0_row15\" class=\"row_heading level0 row15\" >15</th>\n",
              "                        <td id=\"T_0cbf158e_1af2_11eb_8f86_0242ac1c0002row15_col0\" class=\"data row15 col0\" >729833</td>\n",
              "                        <td id=\"T_0cbf158e_1af2_11eb_8f86_0242ac1c0002row15_col1\" class=\"data row15 col1\" >Koepp Ltd</td>\n",
              "                        <td id=\"T_0cbf158e_1af2_11eb_8f86_0242ac1c0002row15_col2\" class=\"data row15 col2\" >Wendy Yule</td>\n",
              "                        <td id=\"T_0cbf158e_1af2_11eb_8f86_0242ac1c0002row15_col3\" class=\"data row15 col3\" >Fred Anderson</td>\n",
              "                        <td id=\"T_0cbf158e_1af2_11eb_8f86_0242ac1c0002row15_col4\" class=\"data row15 col4\" >CPU</td>\n",
              "                        <td id=\"T_0cbf158e_1af2_11eb_8f86_0242ac1c0002row15_col5\" class=\"data row15 col5\" >2</td>\n",
              "                        <td id=\"T_0cbf158e_1af2_11eb_8f86_0242ac1c0002row15_col6\" class=\"data row15 col6\" >65000</td>\n",
              "                        <td id=\"T_0cbf158e_1af2_11eb_8f86_0242ac1c0002row15_col7\" class=\"data row15 col7\" >declined</td>\n",
              "            </tr>\n",
              "            <tr>\n",
              "                        <th id=\"T_0cbf158e_1af2_11eb_8f86_0242ac1c0002level0_row16\" class=\"row_heading level0 row16\" >16</th>\n",
              "                        <td id=\"T_0cbf158e_1af2_11eb_8f86_0242ac1c0002row16_col0\" class=\"data row16 col0\" >729833</td>\n",
              "                        <td id=\"T_0cbf158e_1af2_11eb_8f86_0242ac1c0002row16_col1\" class=\"data row16 col1\" >Koepp Ltd</td>\n",
              "                        <td id=\"T_0cbf158e_1af2_11eb_8f86_0242ac1c0002row16_col2\" class=\"data row16 col2\" >Wendy Yule</td>\n",
              "                        <td id=\"T_0cbf158e_1af2_11eb_8f86_0242ac1c0002row16_col3\" class=\"data row16 col3\" >Fred Anderson</td>\n",
              "                        <td id=\"T_0cbf158e_1af2_11eb_8f86_0242ac1c0002row16_col4\" class=\"data row16 col4\" >Monitor</td>\n",
              "                        <td id=\"T_0cbf158e_1af2_11eb_8f86_0242ac1c0002row16_col5\" class=\"data row16 col5\" >2</td>\n",
              "                        <td id=\"T_0cbf158e_1af2_11eb_8f86_0242ac1c0002row16_col6\" class=\"data row16 col6\" >5000</td>\n",
              "                        <td id=\"T_0cbf158e_1af2_11eb_8f86_0242ac1c0002row16_col7\" class=\"data row16 col7\" >presented</td>\n",
              "            </tr>\n",
              "    </tbody></table>"
            ],
            "text/plain": [
              "<pandas.io.formats.style.Styler at 0x7f4114e49a90>"
            ]
          },
          "metadata": {
            "tags": []
          },
          "execution_count": 44
        }
      ]
    },
    {
      "cell_type": "code",
      "metadata": {
        "id": "t8QulAY2SfVd"
      },
      "source": [
        "df.style.apply(marca_maximos,subset=['Price','Quantity']).\\\n",
        "apply(marca_minimos,subset=['Price','Quantity']).\\\n",
        "to_excel('sample_data/conformato.xlsx')"
      ],
      "execution_count": null,
      "outputs": []
    },
    {
      "cell_type": "code",
      "metadata": {
        "id": "DiRhSfDi97e9",
        "colab": {
          "base_uri": "https://localhost:8080/",
          "height": 337
        },
        "outputId": "c776ec12-b0c6-445a-b6b1-f8a298609312"
      },
      "source": [
        "df.style.apply(marca_maximos,subset=pd.IndexSlice[5:10,['Price','Quantity']])"
      ],
      "execution_count": null,
      "outputs": [
        {
          "output_type": "execute_result",
          "data": {
            "text/html": [
              "<style  type=\"text/css\" >\n",
              "#T_15baae2c_1aee_11eb_8f86_0242ac1c0002row5_col5,#T_15baae2c_1aee_11eb_8f86_0242ac1c0002row7_col5,#T_15baae2c_1aee_11eb_8f86_0242ac1c0002row9_col5,#T_15baae2c_1aee_11eb_8f86_0242ac1c0002row9_col6{\n",
              "            background-color:  yellow;\n",
              "        }</style><table id=\"T_15baae2c_1aee_11eb_8f86_0242ac1c0002\" ><thead>    <tr>        <th class=\"blank level0\" ></th>        <th class=\"col_heading level0 col0\" >Account</th>        <th class=\"col_heading level0 col1\" >Name</th>        <th class=\"col_heading level0 col2\" >Rep</th>        <th class=\"col_heading level0 col3\" >Manager</th>        <th class=\"col_heading level0 col4\" >Product</th>        <th class=\"col_heading level0 col5\" >Quantity</th>        <th class=\"col_heading level0 col6\" >Price</th>        <th class=\"col_heading level0 col7\" >Status</th>    </tr></thead><tbody>\n",
              "                <tr>\n",
              "                        <th id=\"T_15baae2c_1aee_11eb_8f86_0242ac1c0002level0_row0\" class=\"row_heading level0 row0\" >0</th>\n",
              "                        <td id=\"T_15baae2c_1aee_11eb_8f86_0242ac1c0002row0_col0\" class=\"data row0 col0\" >714466</td>\n",
              "                        <td id=\"T_15baae2c_1aee_11eb_8f86_0242ac1c0002row0_col1\" class=\"data row0 col1\" >Trantow-Barrows</td>\n",
              "                        <td id=\"T_15baae2c_1aee_11eb_8f86_0242ac1c0002row0_col2\" class=\"data row0 col2\" >Craig Booker</td>\n",
              "                        <td id=\"T_15baae2c_1aee_11eb_8f86_0242ac1c0002row0_col3\" class=\"data row0 col3\" >Debra Henley</td>\n",
              "                        <td id=\"T_15baae2c_1aee_11eb_8f86_0242ac1c0002row0_col4\" class=\"data row0 col4\" >CPU</td>\n",
              "                        <td id=\"T_15baae2c_1aee_11eb_8f86_0242ac1c0002row0_col5\" class=\"data row0 col5\" >1</td>\n",
              "                        <td id=\"T_15baae2c_1aee_11eb_8f86_0242ac1c0002row0_col6\" class=\"data row0 col6\" >30000</td>\n",
              "                        <td id=\"T_15baae2c_1aee_11eb_8f86_0242ac1c0002row0_col7\" class=\"data row0 col7\" >presented</td>\n",
              "            </tr>\n",
              "            <tr>\n",
              "                        <th id=\"T_15baae2c_1aee_11eb_8f86_0242ac1c0002level0_row1\" class=\"row_heading level0 row1\" >1</th>\n",
              "                        <td id=\"T_15baae2c_1aee_11eb_8f86_0242ac1c0002row1_col0\" class=\"data row1 col0\" >714466</td>\n",
              "                        <td id=\"T_15baae2c_1aee_11eb_8f86_0242ac1c0002row1_col1\" class=\"data row1 col1\" >Trantow-Barrows</td>\n",
              "                        <td id=\"T_15baae2c_1aee_11eb_8f86_0242ac1c0002row1_col2\" class=\"data row1 col2\" >Craig Booker</td>\n",
              "                        <td id=\"T_15baae2c_1aee_11eb_8f86_0242ac1c0002row1_col3\" class=\"data row1 col3\" >Debra Henley</td>\n",
              "                        <td id=\"T_15baae2c_1aee_11eb_8f86_0242ac1c0002row1_col4\" class=\"data row1 col4\" >Software</td>\n",
              "                        <td id=\"T_15baae2c_1aee_11eb_8f86_0242ac1c0002row1_col5\" class=\"data row1 col5\" >1</td>\n",
              "                        <td id=\"T_15baae2c_1aee_11eb_8f86_0242ac1c0002row1_col6\" class=\"data row1 col6\" >10000</td>\n",
              "                        <td id=\"T_15baae2c_1aee_11eb_8f86_0242ac1c0002row1_col7\" class=\"data row1 col7\" >presented</td>\n",
              "            </tr>\n",
              "            <tr>\n",
              "                        <th id=\"T_15baae2c_1aee_11eb_8f86_0242ac1c0002level0_row2\" class=\"row_heading level0 row2\" >2</th>\n",
              "                        <td id=\"T_15baae2c_1aee_11eb_8f86_0242ac1c0002row2_col0\" class=\"data row2 col0\" >714466</td>\n",
              "                        <td id=\"T_15baae2c_1aee_11eb_8f86_0242ac1c0002row2_col1\" class=\"data row2 col1\" >Trantow-Barrows</td>\n",
              "                        <td id=\"T_15baae2c_1aee_11eb_8f86_0242ac1c0002row2_col2\" class=\"data row2 col2\" >Craig Booker</td>\n",
              "                        <td id=\"T_15baae2c_1aee_11eb_8f86_0242ac1c0002row2_col3\" class=\"data row2 col3\" >Debra Henley</td>\n",
              "                        <td id=\"T_15baae2c_1aee_11eb_8f86_0242ac1c0002row2_col4\" class=\"data row2 col4\" >Maintenance</td>\n",
              "                        <td id=\"T_15baae2c_1aee_11eb_8f86_0242ac1c0002row2_col5\" class=\"data row2 col5\" >2</td>\n",
              "                        <td id=\"T_15baae2c_1aee_11eb_8f86_0242ac1c0002row2_col6\" class=\"data row2 col6\" >5000</td>\n",
              "                        <td id=\"T_15baae2c_1aee_11eb_8f86_0242ac1c0002row2_col7\" class=\"data row2 col7\" >pending</td>\n",
              "            </tr>\n",
              "            <tr>\n",
              "                        <th id=\"T_15baae2c_1aee_11eb_8f86_0242ac1c0002level0_row3\" class=\"row_heading level0 row3\" >3</th>\n",
              "                        <td id=\"T_15baae2c_1aee_11eb_8f86_0242ac1c0002row3_col0\" class=\"data row3 col0\" >737550</td>\n",
              "                        <td id=\"T_15baae2c_1aee_11eb_8f86_0242ac1c0002row3_col1\" class=\"data row3 col1\" >Fritsch, Russel and Anderson</td>\n",
              "                        <td id=\"T_15baae2c_1aee_11eb_8f86_0242ac1c0002row3_col2\" class=\"data row3 col2\" >Craig Booker</td>\n",
              "                        <td id=\"T_15baae2c_1aee_11eb_8f86_0242ac1c0002row3_col3\" class=\"data row3 col3\" >Debra Henley</td>\n",
              "                        <td id=\"T_15baae2c_1aee_11eb_8f86_0242ac1c0002row3_col4\" class=\"data row3 col4\" >CPU</td>\n",
              "                        <td id=\"T_15baae2c_1aee_11eb_8f86_0242ac1c0002row3_col5\" class=\"data row3 col5\" >1</td>\n",
              "                        <td id=\"T_15baae2c_1aee_11eb_8f86_0242ac1c0002row3_col6\" class=\"data row3 col6\" >35000</td>\n",
              "                        <td id=\"T_15baae2c_1aee_11eb_8f86_0242ac1c0002row3_col7\" class=\"data row3 col7\" >declined</td>\n",
              "            </tr>\n",
              "            <tr>\n",
              "                        <th id=\"T_15baae2c_1aee_11eb_8f86_0242ac1c0002level0_row4\" class=\"row_heading level0 row4\" >4</th>\n",
              "                        <td id=\"T_15baae2c_1aee_11eb_8f86_0242ac1c0002row4_col0\" class=\"data row4 col0\" >146832</td>\n",
              "                        <td id=\"T_15baae2c_1aee_11eb_8f86_0242ac1c0002row4_col1\" class=\"data row4 col1\" >Kiehn-Spinka</td>\n",
              "                        <td id=\"T_15baae2c_1aee_11eb_8f86_0242ac1c0002row4_col2\" class=\"data row4 col2\" >Daniel Hilton</td>\n",
              "                        <td id=\"T_15baae2c_1aee_11eb_8f86_0242ac1c0002row4_col3\" class=\"data row4 col3\" >Debra Henley</td>\n",
              "                        <td id=\"T_15baae2c_1aee_11eb_8f86_0242ac1c0002row4_col4\" class=\"data row4 col4\" >CPU</td>\n",
              "                        <td id=\"T_15baae2c_1aee_11eb_8f86_0242ac1c0002row4_col5\" class=\"data row4 col5\" >2</td>\n",
              "                        <td id=\"T_15baae2c_1aee_11eb_8f86_0242ac1c0002row4_col6\" class=\"data row4 col6\" >65000</td>\n",
              "                        <td id=\"T_15baae2c_1aee_11eb_8f86_0242ac1c0002row4_col7\" class=\"data row4 col7\" >won</td>\n",
              "            </tr>\n",
              "            <tr>\n",
              "                        <th id=\"T_15baae2c_1aee_11eb_8f86_0242ac1c0002level0_row5\" class=\"row_heading level0 row5\" >5</th>\n",
              "                        <td id=\"T_15baae2c_1aee_11eb_8f86_0242ac1c0002row5_col0\" class=\"data row5 col0\" >218895</td>\n",
              "                        <td id=\"T_15baae2c_1aee_11eb_8f86_0242ac1c0002row5_col1\" class=\"data row5 col1\" >Kulas Inc</td>\n",
              "                        <td id=\"T_15baae2c_1aee_11eb_8f86_0242ac1c0002row5_col2\" class=\"data row5 col2\" >Daniel Hilton</td>\n",
              "                        <td id=\"T_15baae2c_1aee_11eb_8f86_0242ac1c0002row5_col3\" class=\"data row5 col3\" >Debra Henley</td>\n",
              "                        <td id=\"T_15baae2c_1aee_11eb_8f86_0242ac1c0002row5_col4\" class=\"data row5 col4\" >CPU</td>\n",
              "                        <td id=\"T_15baae2c_1aee_11eb_8f86_0242ac1c0002row5_col5\" class=\"data row5 col5\" >2</td>\n",
              "                        <td id=\"T_15baae2c_1aee_11eb_8f86_0242ac1c0002row5_col6\" class=\"data row5 col6\" >40000</td>\n",
              "                        <td id=\"T_15baae2c_1aee_11eb_8f86_0242ac1c0002row5_col7\" class=\"data row5 col7\" >pending</td>\n",
              "            </tr>\n",
              "            <tr>\n",
              "                        <th id=\"T_15baae2c_1aee_11eb_8f86_0242ac1c0002level0_row6\" class=\"row_heading level0 row6\" >6</th>\n",
              "                        <td id=\"T_15baae2c_1aee_11eb_8f86_0242ac1c0002row6_col0\" class=\"data row6 col0\" >218895</td>\n",
              "                        <td id=\"T_15baae2c_1aee_11eb_8f86_0242ac1c0002row6_col1\" class=\"data row6 col1\" >Kulas Inc</td>\n",
              "                        <td id=\"T_15baae2c_1aee_11eb_8f86_0242ac1c0002row6_col2\" class=\"data row6 col2\" >Daniel Hilton</td>\n",
              "                        <td id=\"T_15baae2c_1aee_11eb_8f86_0242ac1c0002row6_col3\" class=\"data row6 col3\" >Debra Henley</td>\n",
              "                        <td id=\"T_15baae2c_1aee_11eb_8f86_0242ac1c0002row6_col4\" class=\"data row6 col4\" >Software</td>\n",
              "                        <td id=\"T_15baae2c_1aee_11eb_8f86_0242ac1c0002row6_col5\" class=\"data row6 col5\" >1</td>\n",
              "                        <td id=\"T_15baae2c_1aee_11eb_8f86_0242ac1c0002row6_col6\" class=\"data row6 col6\" >10000</td>\n",
              "                        <td id=\"T_15baae2c_1aee_11eb_8f86_0242ac1c0002row6_col7\" class=\"data row6 col7\" >presented</td>\n",
              "            </tr>\n",
              "            <tr>\n",
              "                        <th id=\"T_15baae2c_1aee_11eb_8f86_0242ac1c0002level0_row7\" class=\"row_heading level0 row7\" >7</th>\n",
              "                        <td id=\"T_15baae2c_1aee_11eb_8f86_0242ac1c0002row7_col0\" class=\"data row7 col0\" >412290</td>\n",
              "                        <td id=\"T_15baae2c_1aee_11eb_8f86_0242ac1c0002row7_col1\" class=\"data row7 col1\" >Jerde-Hilpert</td>\n",
              "                        <td id=\"T_15baae2c_1aee_11eb_8f86_0242ac1c0002row7_col2\" class=\"data row7 col2\" >John Smith</td>\n",
              "                        <td id=\"T_15baae2c_1aee_11eb_8f86_0242ac1c0002row7_col3\" class=\"data row7 col3\" >Debra Henley</td>\n",
              "                        <td id=\"T_15baae2c_1aee_11eb_8f86_0242ac1c0002row7_col4\" class=\"data row7 col4\" >Maintenance</td>\n",
              "                        <td id=\"T_15baae2c_1aee_11eb_8f86_0242ac1c0002row7_col5\" class=\"data row7 col5\" >2</td>\n",
              "                        <td id=\"T_15baae2c_1aee_11eb_8f86_0242ac1c0002row7_col6\" class=\"data row7 col6\" >5000</td>\n",
              "                        <td id=\"T_15baae2c_1aee_11eb_8f86_0242ac1c0002row7_col7\" class=\"data row7 col7\" >pending</td>\n",
              "            </tr>\n",
              "            <tr>\n",
              "                        <th id=\"T_15baae2c_1aee_11eb_8f86_0242ac1c0002level0_row8\" class=\"row_heading level0 row8\" >8</th>\n",
              "                        <td id=\"T_15baae2c_1aee_11eb_8f86_0242ac1c0002row8_col0\" class=\"data row8 col0\" >740150</td>\n",
              "                        <td id=\"T_15baae2c_1aee_11eb_8f86_0242ac1c0002row8_col1\" class=\"data row8 col1\" >Barton LLC</td>\n",
              "                        <td id=\"T_15baae2c_1aee_11eb_8f86_0242ac1c0002row8_col2\" class=\"data row8 col2\" >John Smith</td>\n",
              "                        <td id=\"T_15baae2c_1aee_11eb_8f86_0242ac1c0002row8_col3\" class=\"data row8 col3\" >Debra Henley</td>\n",
              "                        <td id=\"T_15baae2c_1aee_11eb_8f86_0242ac1c0002row8_col4\" class=\"data row8 col4\" >CPU</td>\n",
              "                        <td id=\"T_15baae2c_1aee_11eb_8f86_0242ac1c0002row8_col5\" class=\"data row8 col5\" >1</td>\n",
              "                        <td id=\"T_15baae2c_1aee_11eb_8f86_0242ac1c0002row8_col6\" class=\"data row8 col6\" >35000</td>\n",
              "                        <td id=\"T_15baae2c_1aee_11eb_8f86_0242ac1c0002row8_col7\" class=\"data row8 col7\" >declined</td>\n",
              "            </tr>\n",
              "            <tr>\n",
              "                        <th id=\"T_15baae2c_1aee_11eb_8f86_0242ac1c0002level0_row9\" class=\"row_heading level0 row9\" >9</th>\n",
              "                        <td id=\"T_15baae2c_1aee_11eb_8f86_0242ac1c0002row9_col0\" class=\"data row9 col0\" >141962</td>\n",
              "                        <td id=\"T_15baae2c_1aee_11eb_8f86_0242ac1c0002row9_col1\" class=\"data row9 col1\" >Herman LLC</td>\n",
              "                        <td id=\"T_15baae2c_1aee_11eb_8f86_0242ac1c0002row9_col2\" class=\"data row9 col2\" >Cedric Moss</td>\n",
              "                        <td id=\"T_15baae2c_1aee_11eb_8f86_0242ac1c0002row9_col3\" class=\"data row9 col3\" >Fred Anderson</td>\n",
              "                        <td id=\"T_15baae2c_1aee_11eb_8f86_0242ac1c0002row9_col4\" class=\"data row9 col4\" >CPU</td>\n",
              "                        <td id=\"T_15baae2c_1aee_11eb_8f86_0242ac1c0002row9_col5\" class=\"data row9 col5\" >2</td>\n",
              "                        <td id=\"T_15baae2c_1aee_11eb_8f86_0242ac1c0002row9_col6\" class=\"data row9 col6\" >65000</td>\n",
              "                        <td id=\"T_15baae2c_1aee_11eb_8f86_0242ac1c0002row9_col7\" class=\"data row9 col7\" >won</td>\n",
              "            </tr>\n",
              "            <tr>\n",
              "                        <th id=\"T_15baae2c_1aee_11eb_8f86_0242ac1c0002level0_row10\" class=\"row_heading level0 row10\" >10</th>\n",
              "                        <td id=\"T_15baae2c_1aee_11eb_8f86_0242ac1c0002row10_col0\" class=\"data row10 col0\" >163416</td>\n",
              "                        <td id=\"T_15baae2c_1aee_11eb_8f86_0242ac1c0002row10_col1\" class=\"data row10 col1\" >Purdy-Kunde</td>\n",
              "                        <td id=\"T_15baae2c_1aee_11eb_8f86_0242ac1c0002row10_col2\" class=\"data row10 col2\" >Cedric Moss</td>\n",
              "                        <td id=\"T_15baae2c_1aee_11eb_8f86_0242ac1c0002row10_col3\" class=\"data row10 col3\" >Fred Anderson</td>\n",
              "                        <td id=\"T_15baae2c_1aee_11eb_8f86_0242ac1c0002row10_col4\" class=\"data row10 col4\" >CPU</td>\n",
              "                        <td id=\"T_15baae2c_1aee_11eb_8f86_0242ac1c0002row10_col5\" class=\"data row10 col5\" >1</td>\n",
              "                        <td id=\"T_15baae2c_1aee_11eb_8f86_0242ac1c0002row10_col6\" class=\"data row10 col6\" >30000</td>\n",
              "                        <td id=\"T_15baae2c_1aee_11eb_8f86_0242ac1c0002row10_col7\" class=\"data row10 col7\" >presented</td>\n",
              "            </tr>\n",
              "            <tr>\n",
              "                        <th id=\"T_15baae2c_1aee_11eb_8f86_0242ac1c0002level0_row11\" class=\"row_heading level0 row11\" >11</th>\n",
              "                        <td id=\"T_15baae2c_1aee_11eb_8f86_0242ac1c0002row11_col0\" class=\"data row11 col0\" >239344</td>\n",
              "                        <td id=\"T_15baae2c_1aee_11eb_8f86_0242ac1c0002row11_col1\" class=\"data row11 col1\" >Stokes LLC</td>\n",
              "                        <td id=\"T_15baae2c_1aee_11eb_8f86_0242ac1c0002row11_col2\" class=\"data row11 col2\" >Cedric Moss</td>\n",
              "                        <td id=\"T_15baae2c_1aee_11eb_8f86_0242ac1c0002row11_col3\" class=\"data row11 col3\" >Fred Anderson</td>\n",
              "                        <td id=\"T_15baae2c_1aee_11eb_8f86_0242ac1c0002row11_col4\" class=\"data row11 col4\" >Maintenance</td>\n",
              "                        <td id=\"T_15baae2c_1aee_11eb_8f86_0242ac1c0002row11_col5\" class=\"data row11 col5\" >1</td>\n",
              "                        <td id=\"T_15baae2c_1aee_11eb_8f86_0242ac1c0002row11_col6\" class=\"data row11 col6\" >5000</td>\n",
              "                        <td id=\"T_15baae2c_1aee_11eb_8f86_0242ac1c0002row11_col7\" class=\"data row11 col7\" >pending</td>\n",
              "            </tr>\n",
              "            <tr>\n",
              "                        <th id=\"T_15baae2c_1aee_11eb_8f86_0242ac1c0002level0_row12\" class=\"row_heading level0 row12\" >12</th>\n",
              "                        <td id=\"T_15baae2c_1aee_11eb_8f86_0242ac1c0002row12_col0\" class=\"data row12 col0\" >239344</td>\n",
              "                        <td id=\"T_15baae2c_1aee_11eb_8f86_0242ac1c0002row12_col1\" class=\"data row12 col1\" >Stokes LLC</td>\n",
              "                        <td id=\"T_15baae2c_1aee_11eb_8f86_0242ac1c0002row12_col2\" class=\"data row12 col2\" >Cedric Moss</td>\n",
              "                        <td id=\"T_15baae2c_1aee_11eb_8f86_0242ac1c0002row12_col3\" class=\"data row12 col3\" >Fred Anderson</td>\n",
              "                        <td id=\"T_15baae2c_1aee_11eb_8f86_0242ac1c0002row12_col4\" class=\"data row12 col4\" >Software</td>\n",
              "                        <td id=\"T_15baae2c_1aee_11eb_8f86_0242ac1c0002row12_col5\" class=\"data row12 col5\" >1</td>\n",
              "                        <td id=\"T_15baae2c_1aee_11eb_8f86_0242ac1c0002row12_col6\" class=\"data row12 col6\" >10000</td>\n",
              "                        <td id=\"T_15baae2c_1aee_11eb_8f86_0242ac1c0002row12_col7\" class=\"data row12 col7\" >presented</td>\n",
              "            </tr>\n",
              "            <tr>\n",
              "                        <th id=\"T_15baae2c_1aee_11eb_8f86_0242ac1c0002level0_row13\" class=\"row_heading level0 row13\" >13</th>\n",
              "                        <td id=\"T_15baae2c_1aee_11eb_8f86_0242ac1c0002row13_col0\" class=\"data row13 col0\" >307599</td>\n",
              "                        <td id=\"T_15baae2c_1aee_11eb_8f86_0242ac1c0002row13_col1\" class=\"data row13 col1\" >Kassulke, Ondricka and Metz</td>\n",
              "                        <td id=\"T_15baae2c_1aee_11eb_8f86_0242ac1c0002row13_col2\" class=\"data row13 col2\" >Wendy Yule</td>\n",
              "                        <td id=\"T_15baae2c_1aee_11eb_8f86_0242ac1c0002row13_col3\" class=\"data row13 col3\" >Fred Anderson</td>\n",
              "                        <td id=\"T_15baae2c_1aee_11eb_8f86_0242ac1c0002row13_col4\" class=\"data row13 col4\" >Maintenance</td>\n",
              "                        <td id=\"T_15baae2c_1aee_11eb_8f86_0242ac1c0002row13_col5\" class=\"data row13 col5\" >3</td>\n",
              "                        <td id=\"T_15baae2c_1aee_11eb_8f86_0242ac1c0002row13_col6\" class=\"data row13 col6\" >7000</td>\n",
              "                        <td id=\"T_15baae2c_1aee_11eb_8f86_0242ac1c0002row13_col7\" class=\"data row13 col7\" >won</td>\n",
              "            </tr>\n",
              "            <tr>\n",
              "                        <th id=\"T_15baae2c_1aee_11eb_8f86_0242ac1c0002level0_row14\" class=\"row_heading level0 row14\" >14</th>\n",
              "                        <td id=\"T_15baae2c_1aee_11eb_8f86_0242ac1c0002row14_col0\" class=\"data row14 col0\" >688981</td>\n",
              "                        <td id=\"T_15baae2c_1aee_11eb_8f86_0242ac1c0002row14_col1\" class=\"data row14 col1\" >Keeling LLC</td>\n",
              "                        <td id=\"T_15baae2c_1aee_11eb_8f86_0242ac1c0002row14_col2\" class=\"data row14 col2\" >Wendy Yule</td>\n",
              "                        <td id=\"T_15baae2c_1aee_11eb_8f86_0242ac1c0002row14_col3\" class=\"data row14 col3\" >Fred Anderson</td>\n",
              "                        <td id=\"T_15baae2c_1aee_11eb_8f86_0242ac1c0002row14_col4\" class=\"data row14 col4\" >CPU</td>\n",
              "                        <td id=\"T_15baae2c_1aee_11eb_8f86_0242ac1c0002row14_col5\" class=\"data row14 col5\" >5</td>\n",
              "                        <td id=\"T_15baae2c_1aee_11eb_8f86_0242ac1c0002row14_col6\" class=\"data row14 col6\" >100000</td>\n",
              "                        <td id=\"T_15baae2c_1aee_11eb_8f86_0242ac1c0002row14_col7\" class=\"data row14 col7\" >won</td>\n",
              "            </tr>\n",
              "            <tr>\n",
              "                        <th id=\"T_15baae2c_1aee_11eb_8f86_0242ac1c0002level0_row15\" class=\"row_heading level0 row15\" >15</th>\n",
              "                        <td id=\"T_15baae2c_1aee_11eb_8f86_0242ac1c0002row15_col0\" class=\"data row15 col0\" >729833</td>\n",
              "                        <td id=\"T_15baae2c_1aee_11eb_8f86_0242ac1c0002row15_col1\" class=\"data row15 col1\" >Koepp Ltd</td>\n",
              "                        <td id=\"T_15baae2c_1aee_11eb_8f86_0242ac1c0002row15_col2\" class=\"data row15 col2\" >Wendy Yule</td>\n",
              "                        <td id=\"T_15baae2c_1aee_11eb_8f86_0242ac1c0002row15_col3\" class=\"data row15 col3\" >Fred Anderson</td>\n",
              "                        <td id=\"T_15baae2c_1aee_11eb_8f86_0242ac1c0002row15_col4\" class=\"data row15 col4\" >CPU</td>\n",
              "                        <td id=\"T_15baae2c_1aee_11eb_8f86_0242ac1c0002row15_col5\" class=\"data row15 col5\" >2</td>\n",
              "                        <td id=\"T_15baae2c_1aee_11eb_8f86_0242ac1c0002row15_col6\" class=\"data row15 col6\" >65000</td>\n",
              "                        <td id=\"T_15baae2c_1aee_11eb_8f86_0242ac1c0002row15_col7\" class=\"data row15 col7\" >declined</td>\n",
              "            </tr>\n",
              "            <tr>\n",
              "                        <th id=\"T_15baae2c_1aee_11eb_8f86_0242ac1c0002level0_row16\" class=\"row_heading level0 row16\" >16</th>\n",
              "                        <td id=\"T_15baae2c_1aee_11eb_8f86_0242ac1c0002row16_col0\" class=\"data row16 col0\" >729833</td>\n",
              "                        <td id=\"T_15baae2c_1aee_11eb_8f86_0242ac1c0002row16_col1\" class=\"data row16 col1\" >Koepp Ltd</td>\n",
              "                        <td id=\"T_15baae2c_1aee_11eb_8f86_0242ac1c0002row16_col2\" class=\"data row16 col2\" >Wendy Yule</td>\n",
              "                        <td id=\"T_15baae2c_1aee_11eb_8f86_0242ac1c0002row16_col3\" class=\"data row16 col3\" >Fred Anderson</td>\n",
              "                        <td id=\"T_15baae2c_1aee_11eb_8f86_0242ac1c0002row16_col4\" class=\"data row16 col4\" >Monitor</td>\n",
              "                        <td id=\"T_15baae2c_1aee_11eb_8f86_0242ac1c0002row16_col5\" class=\"data row16 col5\" >2</td>\n",
              "                        <td id=\"T_15baae2c_1aee_11eb_8f86_0242ac1c0002row16_col6\" class=\"data row16 col6\" >5000</td>\n",
              "                        <td id=\"T_15baae2c_1aee_11eb_8f86_0242ac1c0002row16_col7\" class=\"data row16 col7\" >presented</td>\n",
              "            </tr>\n",
              "    </tbody></table>"
            ],
            "text/plain": [
              "<pandas.io.formats.style.Styler at 0x7f4115d68588>"
            ]
          },
          "metadata": {
            "tags": []
          },
          "execution_count": 25
        }
      ]
    },
    {
      "cell_type": "code",
      "metadata": {
        "id": "H6ktFHCv-FJj",
        "colab": {
          "base_uri": "https://localhost:8080/",
          "height": 337
        },
        "outputId": "8a6c322a-7071-47c0-ca04-167e046137a4"
      },
      "source": [
        "df.style.format({'Price': \"${:20,.0f}\"}).\\\n",
        "background_gradient(subset=['Quantity'],cmap='Blues').\\\n",
        "bar(subset=[\"Price\"], color='lightgreen')"
      ],
      "execution_count": null,
      "outputs": [
        {
          "output_type": "execute_result",
          "data": {
            "text/html": [
              "<style  type=\"text/css\" >\n",
              "#T_c45e0ef0_1aef_11eb_8f86_0242ac1c0002row0_col5,#T_c45e0ef0_1aef_11eb_8f86_0242ac1c0002row1_col5,#T_c45e0ef0_1aef_11eb_8f86_0242ac1c0002row3_col5,#T_c45e0ef0_1aef_11eb_8f86_0242ac1c0002row6_col5,#T_c45e0ef0_1aef_11eb_8f86_0242ac1c0002row8_col5,#T_c45e0ef0_1aef_11eb_8f86_0242ac1c0002row10_col5,#T_c45e0ef0_1aef_11eb_8f86_0242ac1c0002row11_col5,#T_c45e0ef0_1aef_11eb_8f86_0242ac1c0002row12_col5{\n",
              "            background-color:  #f7fbff;\n",
              "            color:  #000000;\n",
              "        }#T_c45e0ef0_1aef_11eb_8f86_0242ac1c0002row0_col6,#T_c45e0ef0_1aef_11eb_8f86_0242ac1c0002row10_col6{\n",
              "            width:  10em;\n",
              "             height:  80%;\n",
              "            background:  linear-gradient(90deg,lightgreen 26.3%, transparent 26.3%);\n",
              "        }#T_c45e0ef0_1aef_11eb_8f86_0242ac1c0002row1_col6,#T_c45e0ef0_1aef_11eb_8f86_0242ac1c0002row6_col6,#T_c45e0ef0_1aef_11eb_8f86_0242ac1c0002row12_col6{\n",
              "            width:  10em;\n",
              "             height:  80%;\n",
              "            background:  linear-gradient(90deg,lightgreen 5.3%, transparent 5.3%);\n",
              "        }#T_c45e0ef0_1aef_11eb_8f86_0242ac1c0002row2_col5,#T_c45e0ef0_1aef_11eb_8f86_0242ac1c0002row4_col5,#T_c45e0ef0_1aef_11eb_8f86_0242ac1c0002row5_col5,#T_c45e0ef0_1aef_11eb_8f86_0242ac1c0002row7_col5,#T_c45e0ef0_1aef_11eb_8f86_0242ac1c0002row9_col5,#T_c45e0ef0_1aef_11eb_8f86_0242ac1c0002row15_col5,#T_c45e0ef0_1aef_11eb_8f86_0242ac1c0002row16_col5{\n",
              "            background-color:  #c6dbef;\n",
              "            color:  #000000;\n",
              "        }#T_c45e0ef0_1aef_11eb_8f86_0242ac1c0002row2_col6,#T_c45e0ef0_1aef_11eb_8f86_0242ac1c0002row7_col6,#T_c45e0ef0_1aef_11eb_8f86_0242ac1c0002row11_col6,#T_c45e0ef0_1aef_11eb_8f86_0242ac1c0002row16_col6{\n",
              "            width:  10em;\n",
              "             height:  80%;\n",
              "        }#T_c45e0ef0_1aef_11eb_8f86_0242ac1c0002row3_col6,#T_c45e0ef0_1aef_11eb_8f86_0242ac1c0002row8_col6{\n",
              "            width:  10em;\n",
              "             height:  80%;\n",
              "            background:  linear-gradient(90deg,lightgreen 31.6%, transparent 31.6%);\n",
              "        }#T_c45e0ef0_1aef_11eb_8f86_0242ac1c0002row4_col6,#T_c45e0ef0_1aef_11eb_8f86_0242ac1c0002row9_col6,#T_c45e0ef0_1aef_11eb_8f86_0242ac1c0002row15_col6{\n",
              "            width:  10em;\n",
              "             height:  80%;\n",
              "            background:  linear-gradient(90deg,lightgreen 63.2%, transparent 63.2%);\n",
              "        }#T_c45e0ef0_1aef_11eb_8f86_0242ac1c0002row5_col6{\n",
              "            width:  10em;\n",
              "             height:  80%;\n",
              "            background:  linear-gradient(90deg,lightgreen 36.8%, transparent 36.8%);\n",
              "        }#T_c45e0ef0_1aef_11eb_8f86_0242ac1c0002row13_col5{\n",
              "            background-color:  #6aaed6;\n",
              "            color:  #000000;\n",
              "        }#T_c45e0ef0_1aef_11eb_8f86_0242ac1c0002row13_col6{\n",
              "            width:  10em;\n",
              "             height:  80%;\n",
              "            background:  linear-gradient(90deg,lightgreen 2.1%, transparent 2.1%);\n",
              "        }#T_c45e0ef0_1aef_11eb_8f86_0242ac1c0002row14_col5{\n",
              "            background-color:  #08306b;\n",
              "            color:  #f1f1f1;\n",
              "        }#T_c45e0ef0_1aef_11eb_8f86_0242ac1c0002row14_col6{\n",
              "            width:  10em;\n",
              "             height:  80%;\n",
              "            background:  linear-gradient(90deg,lightgreen 100.0%, transparent 100.0%);\n",
              "        }</style><table id=\"T_c45e0ef0_1aef_11eb_8f86_0242ac1c0002\" ><thead>    <tr>        <th class=\"blank level0\" ></th>        <th class=\"col_heading level0 col0\" >Account</th>        <th class=\"col_heading level0 col1\" >Name</th>        <th class=\"col_heading level0 col2\" >Rep</th>        <th class=\"col_heading level0 col3\" >Manager</th>        <th class=\"col_heading level0 col4\" >Product</th>        <th class=\"col_heading level0 col5\" >Quantity</th>        <th class=\"col_heading level0 col6\" >Price</th>        <th class=\"col_heading level0 col7\" >Status</th>    </tr></thead><tbody>\n",
              "                <tr>\n",
              "                        <th id=\"T_c45e0ef0_1aef_11eb_8f86_0242ac1c0002level0_row0\" class=\"row_heading level0 row0\" >0</th>\n",
              "                        <td id=\"T_c45e0ef0_1aef_11eb_8f86_0242ac1c0002row0_col0\" class=\"data row0 col0\" >714466</td>\n",
              "                        <td id=\"T_c45e0ef0_1aef_11eb_8f86_0242ac1c0002row0_col1\" class=\"data row0 col1\" >Trantow-Barrows</td>\n",
              "                        <td id=\"T_c45e0ef0_1aef_11eb_8f86_0242ac1c0002row0_col2\" class=\"data row0 col2\" >Craig Booker</td>\n",
              "                        <td id=\"T_c45e0ef0_1aef_11eb_8f86_0242ac1c0002row0_col3\" class=\"data row0 col3\" >Debra Henley</td>\n",
              "                        <td id=\"T_c45e0ef0_1aef_11eb_8f86_0242ac1c0002row0_col4\" class=\"data row0 col4\" >CPU</td>\n",
              "                        <td id=\"T_c45e0ef0_1aef_11eb_8f86_0242ac1c0002row0_col5\" class=\"data row0 col5\" >1</td>\n",
              "                        <td id=\"T_c45e0ef0_1aef_11eb_8f86_0242ac1c0002row0_col6\" class=\"data row0 col6\" >$              30,000</td>\n",
              "                        <td id=\"T_c45e0ef0_1aef_11eb_8f86_0242ac1c0002row0_col7\" class=\"data row0 col7\" >presented</td>\n",
              "            </tr>\n",
              "            <tr>\n",
              "                        <th id=\"T_c45e0ef0_1aef_11eb_8f86_0242ac1c0002level0_row1\" class=\"row_heading level0 row1\" >1</th>\n",
              "                        <td id=\"T_c45e0ef0_1aef_11eb_8f86_0242ac1c0002row1_col0\" class=\"data row1 col0\" >714466</td>\n",
              "                        <td id=\"T_c45e0ef0_1aef_11eb_8f86_0242ac1c0002row1_col1\" class=\"data row1 col1\" >Trantow-Barrows</td>\n",
              "                        <td id=\"T_c45e0ef0_1aef_11eb_8f86_0242ac1c0002row1_col2\" class=\"data row1 col2\" >Craig Booker</td>\n",
              "                        <td id=\"T_c45e0ef0_1aef_11eb_8f86_0242ac1c0002row1_col3\" class=\"data row1 col3\" >Debra Henley</td>\n",
              "                        <td id=\"T_c45e0ef0_1aef_11eb_8f86_0242ac1c0002row1_col4\" class=\"data row1 col4\" >Software</td>\n",
              "                        <td id=\"T_c45e0ef0_1aef_11eb_8f86_0242ac1c0002row1_col5\" class=\"data row1 col5\" >1</td>\n",
              "                        <td id=\"T_c45e0ef0_1aef_11eb_8f86_0242ac1c0002row1_col6\" class=\"data row1 col6\" >$              10,000</td>\n",
              "                        <td id=\"T_c45e0ef0_1aef_11eb_8f86_0242ac1c0002row1_col7\" class=\"data row1 col7\" >presented</td>\n",
              "            </tr>\n",
              "            <tr>\n",
              "                        <th id=\"T_c45e0ef0_1aef_11eb_8f86_0242ac1c0002level0_row2\" class=\"row_heading level0 row2\" >2</th>\n",
              "                        <td id=\"T_c45e0ef0_1aef_11eb_8f86_0242ac1c0002row2_col0\" class=\"data row2 col0\" >714466</td>\n",
              "                        <td id=\"T_c45e0ef0_1aef_11eb_8f86_0242ac1c0002row2_col1\" class=\"data row2 col1\" >Trantow-Barrows</td>\n",
              "                        <td id=\"T_c45e0ef0_1aef_11eb_8f86_0242ac1c0002row2_col2\" class=\"data row2 col2\" >Craig Booker</td>\n",
              "                        <td id=\"T_c45e0ef0_1aef_11eb_8f86_0242ac1c0002row2_col3\" class=\"data row2 col3\" >Debra Henley</td>\n",
              "                        <td id=\"T_c45e0ef0_1aef_11eb_8f86_0242ac1c0002row2_col4\" class=\"data row2 col4\" >Maintenance</td>\n",
              "                        <td id=\"T_c45e0ef0_1aef_11eb_8f86_0242ac1c0002row2_col5\" class=\"data row2 col5\" >2</td>\n",
              "                        <td id=\"T_c45e0ef0_1aef_11eb_8f86_0242ac1c0002row2_col6\" class=\"data row2 col6\" >$               5,000</td>\n",
              "                        <td id=\"T_c45e0ef0_1aef_11eb_8f86_0242ac1c0002row2_col7\" class=\"data row2 col7\" >pending</td>\n",
              "            </tr>\n",
              "            <tr>\n",
              "                        <th id=\"T_c45e0ef0_1aef_11eb_8f86_0242ac1c0002level0_row3\" class=\"row_heading level0 row3\" >3</th>\n",
              "                        <td id=\"T_c45e0ef0_1aef_11eb_8f86_0242ac1c0002row3_col0\" class=\"data row3 col0\" >737550</td>\n",
              "                        <td id=\"T_c45e0ef0_1aef_11eb_8f86_0242ac1c0002row3_col1\" class=\"data row3 col1\" >Fritsch, Russel and Anderson</td>\n",
              "                        <td id=\"T_c45e0ef0_1aef_11eb_8f86_0242ac1c0002row3_col2\" class=\"data row3 col2\" >Craig Booker</td>\n",
              "                        <td id=\"T_c45e0ef0_1aef_11eb_8f86_0242ac1c0002row3_col3\" class=\"data row3 col3\" >Debra Henley</td>\n",
              "                        <td id=\"T_c45e0ef0_1aef_11eb_8f86_0242ac1c0002row3_col4\" class=\"data row3 col4\" >CPU</td>\n",
              "                        <td id=\"T_c45e0ef0_1aef_11eb_8f86_0242ac1c0002row3_col5\" class=\"data row3 col5\" >1</td>\n",
              "                        <td id=\"T_c45e0ef0_1aef_11eb_8f86_0242ac1c0002row3_col6\" class=\"data row3 col6\" >$              35,000</td>\n",
              "                        <td id=\"T_c45e0ef0_1aef_11eb_8f86_0242ac1c0002row3_col7\" class=\"data row3 col7\" >declined</td>\n",
              "            </tr>\n",
              "            <tr>\n",
              "                        <th id=\"T_c45e0ef0_1aef_11eb_8f86_0242ac1c0002level0_row4\" class=\"row_heading level0 row4\" >4</th>\n",
              "                        <td id=\"T_c45e0ef0_1aef_11eb_8f86_0242ac1c0002row4_col0\" class=\"data row4 col0\" >146832</td>\n",
              "                        <td id=\"T_c45e0ef0_1aef_11eb_8f86_0242ac1c0002row4_col1\" class=\"data row4 col1\" >Kiehn-Spinka</td>\n",
              "                        <td id=\"T_c45e0ef0_1aef_11eb_8f86_0242ac1c0002row4_col2\" class=\"data row4 col2\" >Daniel Hilton</td>\n",
              "                        <td id=\"T_c45e0ef0_1aef_11eb_8f86_0242ac1c0002row4_col3\" class=\"data row4 col3\" >Debra Henley</td>\n",
              "                        <td id=\"T_c45e0ef0_1aef_11eb_8f86_0242ac1c0002row4_col4\" class=\"data row4 col4\" >CPU</td>\n",
              "                        <td id=\"T_c45e0ef0_1aef_11eb_8f86_0242ac1c0002row4_col5\" class=\"data row4 col5\" >2</td>\n",
              "                        <td id=\"T_c45e0ef0_1aef_11eb_8f86_0242ac1c0002row4_col6\" class=\"data row4 col6\" >$              65,000</td>\n",
              "                        <td id=\"T_c45e0ef0_1aef_11eb_8f86_0242ac1c0002row4_col7\" class=\"data row4 col7\" >won</td>\n",
              "            </tr>\n",
              "            <tr>\n",
              "                        <th id=\"T_c45e0ef0_1aef_11eb_8f86_0242ac1c0002level0_row5\" class=\"row_heading level0 row5\" >5</th>\n",
              "                        <td id=\"T_c45e0ef0_1aef_11eb_8f86_0242ac1c0002row5_col0\" class=\"data row5 col0\" >218895</td>\n",
              "                        <td id=\"T_c45e0ef0_1aef_11eb_8f86_0242ac1c0002row5_col1\" class=\"data row5 col1\" >Kulas Inc</td>\n",
              "                        <td id=\"T_c45e0ef0_1aef_11eb_8f86_0242ac1c0002row5_col2\" class=\"data row5 col2\" >Daniel Hilton</td>\n",
              "                        <td id=\"T_c45e0ef0_1aef_11eb_8f86_0242ac1c0002row5_col3\" class=\"data row5 col3\" >Debra Henley</td>\n",
              "                        <td id=\"T_c45e0ef0_1aef_11eb_8f86_0242ac1c0002row5_col4\" class=\"data row5 col4\" >CPU</td>\n",
              "                        <td id=\"T_c45e0ef0_1aef_11eb_8f86_0242ac1c0002row5_col5\" class=\"data row5 col5\" >2</td>\n",
              "                        <td id=\"T_c45e0ef0_1aef_11eb_8f86_0242ac1c0002row5_col6\" class=\"data row5 col6\" >$              40,000</td>\n",
              "                        <td id=\"T_c45e0ef0_1aef_11eb_8f86_0242ac1c0002row5_col7\" class=\"data row5 col7\" >pending</td>\n",
              "            </tr>\n",
              "            <tr>\n",
              "                        <th id=\"T_c45e0ef0_1aef_11eb_8f86_0242ac1c0002level0_row6\" class=\"row_heading level0 row6\" >6</th>\n",
              "                        <td id=\"T_c45e0ef0_1aef_11eb_8f86_0242ac1c0002row6_col0\" class=\"data row6 col0\" >218895</td>\n",
              "                        <td id=\"T_c45e0ef0_1aef_11eb_8f86_0242ac1c0002row6_col1\" class=\"data row6 col1\" >Kulas Inc</td>\n",
              "                        <td id=\"T_c45e0ef0_1aef_11eb_8f86_0242ac1c0002row6_col2\" class=\"data row6 col2\" >Daniel Hilton</td>\n",
              "                        <td id=\"T_c45e0ef0_1aef_11eb_8f86_0242ac1c0002row6_col3\" class=\"data row6 col3\" >Debra Henley</td>\n",
              "                        <td id=\"T_c45e0ef0_1aef_11eb_8f86_0242ac1c0002row6_col4\" class=\"data row6 col4\" >Software</td>\n",
              "                        <td id=\"T_c45e0ef0_1aef_11eb_8f86_0242ac1c0002row6_col5\" class=\"data row6 col5\" >1</td>\n",
              "                        <td id=\"T_c45e0ef0_1aef_11eb_8f86_0242ac1c0002row6_col6\" class=\"data row6 col6\" >$              10,000</td>\n",
              "                        <td id=\"T_c45e0ef0_1aef_11eb_8f86_0242ac1c0002row6_col7\" class=\"data row6 col7\" >presented</td>\n",
              "            </tr>\n",
              "            <tr>\n",
              "                        <th id=\"T_c45e0ef0_1aef_11eb_8f86_0242ac1c0002level0_row7\" class=\"row_heading level0 row7\" >7</th>\n",
              "                        <td id=\"T_c45e0ef0_1aef_11eb_8f86_0242ac1c0002row7_col0\" class=\"data row7 col0\" >412290</td>\n",
              "                        <td id=\"T_c45e0ef0_1aef_11eb_8f86_0242ac1c0002row7_col1\" class=\"data row7 col1\" >Jerde-Hilpert</td>\n",
              "                        <td id=\"T_c45e0ef0_1aef_11eb_8f86_0242ac1c0002row7_col2\" class=\"data row7 col2\" >John Smith</td>\n",
              "                        <td id=\"T_c45e0ef0_1aef_11eb_8f86_0242ac1c0002row7_col3\" class=\"data row7 col3\" >Debra Henley</td>\n",
              "                        <td id=\"T_c45e0ef0_1aef_11eb_8f86_0242ac1c0002row7_col4\" class=\"data row7 col4\" >Maintenance</td>\n",
              "                        <td id=\"T_c45e0ef0_1aef_11eb_8f86_0242ac1c0002row7_col5\" class=\"data row7 col5\" >2</td>\n",
              "                        <td id=\"T_c45e0ef0_1aef_11eb_8f86_0242ac1c0002row7_col6\" class=\"data row7 col6\" >$               5,000</td>\n",
              "                        <td id=\"T_c45e0ef0_1aef_11eb_8f86_0242ac1c0002row7_col7\" class=\"data row7 col7\" >pending</td>\n",
              "            </tr>\n",
              "            <tr>\n",
              "                        <th id=\"T_c45e0ef0_1aef_11eb_8f86_0242ac1c0002level0_row8\" class=\"row_heading level0 row8\" >8</th>\n",
              "                        <td id=\"T_c45e0ef0_1aef_11eb_8f86_0242ac1c0002row8_col0\" class=\"data row8 col0\" >740150</td>\n",
              "                        <td id=\"T_c45e0ef0_1aef_11eb_8f86_0242ac1c0002row8_col1\" class=\"data row8 col1\" >Barton LLC</td>\n",
              "                        <td id=\"T_c45e0ef0_1aef_11eb_8f86_0242ac1c0002row8_col2\" class=\"data row8 col2\" >John Smith</td>\n",
              "                        <td id=\"T_c45e0ef0_1aef_11eb_8f86_0242ac1c0002row8_col3\" class=\"data row8 col3\" >Debra Henley</td>\n",
              "                        <td id=\"T_c45e0ef0_1aef_11eb_8f86_0242ac1c0002row8_col4\" class=\"data row8 col4\" >CPU</td>\n",
              "                        <td id=\"T_c45e0ef0_1aef_11eb_8f86_0242ac1c0002row8_col5\" class=\"data row8 col5\" >1</td>\n",
              "                        <td id=\"T_c45e0ef0_1aef_11eb_8f86_0242ac1c0002row8_col6\" class=\"data row8 col6\" >$              35,000</td>\n",
              "                        <td id=\"T_c45e0ef0_1aef_11eb_8f86_0242ac1c0002row8_col7\" class=\"data row8 col7\" >declined</td>\n",
              "            </tr>\n",
              "            <tr>\n",
              "                        <th id=\"T_c45e0ef0_1aef_11eb_8f86_0242ac1c0002level0_row9\" class=\"row_heading level0 row9\" >9</th>\n",
              "                        <td id=\"T_c45e0ef0_1aef_11eb_8f86_0242ac1c0002row9_col0\" class=\"data row9 col0\" >141962</td>\n",
              "                        <td id=\"T_c45e0ef0_1aef_11eb_8f86_0242ac1c0002row9_col1\" class=\"data row9 col1\" >Herman LLC</td>\n",
              "                        <td id=\"T_c45e0ef0_1aef_11eb_8f86_0242ac1c0002row9_col2\" class=\"data row9 col2\" >Cedric Moss</td>\n",
              "                        <td id=\"T_c45e0ef0_1aef_11eb_8f86_0242ac1c0002row9_col3\" class=\"data row9 col3\" >Fred Anderson</td>\n",
              "                        <td id=\"T_c45e0ef0_1aef_11eb_8f86_0242ac1c0002row9_col4\" class=\"data row9 col4\" >CPU</td>\n",
              "                        <td id=\"T_c45e0ef0_1aef_11eb_8f86_0242ac1c0002row9_col5\" class=\"data row9 col5\" >2</td>\n",
              "                        <td id=\"T_c45e0ef0_1aef_11eb_8f86_0242ac1c0002row9_col6\" class=\"data row9 col6\" >$              65,000</td>\n",
              "                        <td id=\"T_c45e0ef0_1aef_11eb_8f86_0242ac1c0002row9_col7\" class=\"data row9 col7\" >won</td>\n",
              "            </tr>\n",
              "            <tr>\n",
              "                        <th id=\"T_c45e0ef0_1aef_11eb_8f86_0242ac1c0002level0_row10\" class=\"row_heading level0 row10\" >10</th>\n",
              "                        <td id=\"T_c45e0ef0_1aef_11eb_8f86_0242ac1c0002row10_col0\" class=\"data row10 col0\" >163416</td>\n",
              "                        <td id=\"T_c45e0ef0_1aef_11eb_8f86_0242ac1c0002row10_col1\" class=\"data row10 col1\" >Purdy-Kunde</td>\n",
              "                        <td id=\"T_c45e0ef0_1aef_11eb_8f86_0242ac1c0002row10_col2\" class=\"data row10 col2\" >Cedric Moss</td>\n",
              "                        <td id=\"T_c45e0ef0_1aef_11eb_8f86_0242ac1c0002row10_col3\" class=\"data row10 col3\" >Fred Anderson</td>\n",
              "                        <td id=\"T_c45e0ef0_1aef_11eb_8f86_0242ac1c0002row10_col4\" class=\"data row10 col4\" >CPU</td>\n",
              "                        <td id=\"T_c45e0ef0_1aef_11eb_8f86_0242ac1c0002row10_col5\" class=\"data row10 col5\" >1</td>\n",
              "                        <td id=\"T_c45e0ef0_1aef_11eb_8f86_0242ac1c0002row10_col6\" class=\"data row10 col6\" >$              30,000</td>\n",
              "                        <td id=\"T_c45e0ef0_1aef_11eb_8f86_0242ac1c0002row10_col7\" class=\"data row10 col7\" >presented</td>\n",
              "            </tr>\n",
              "            <tr>\n",
              "                        <th id=\"T_c45e0ef0_1aef_11eb_8f86_0242ac1c0002level0_row11\" class=\"row_heading level0 row11\" >11</th>\n",
              "                        <td id=\"T_c45e0ef0_1aef_11eb_8f86_0242ac1c0002row11_col0\" class=\"data row11 col0\" >239344</td>\n",
              "                        <td id=\"T_c45e0ef0_1aef_11eb_8f86_0242ac1c0002row11_col1\" class=\"data row11 col1\" >Stokes LLC</td>\n",
              "                        <td id=\"T_c45e0ef0_1aef_11eb_8f86_0242ac1c0002row11_col2\" class=\"data row11 col2\" >Cedric Moss</td>\n",
              "                        <td id=\"T_c45e0ef0_1aef_11eb_8f86_0242ac1c0002row11_col3\" class=\"data row11 col3\" >Fred Anderson</td>\n",
              "                        <td id=\"T_c45e0ef0_1aef_11eb_8f86_0242ac1c0002row11_col4\" class=\"data row11 col4\" >Maintenance</td>\n",
              "                        <td id=\"T_c45e0ef0_1aef_11eb_8f86_0242ac1c0002row11_col5\" class=\"data row11 col5\" >1</td>\n",
              "                        <td id=\"T_c45e0ef0_1aef_11eb_8f86_0242ac1c0002row11_col6\" class=\"data row11 col6\" >$               5,000</td>\n",
              "                        <td id=\"T_c45e0ef0_1aef_11eb_8f86_0242ac1c0002row11_col7\" class=\"data row11 col7\" >pending</td>\n",
              "            </tr>\n",
              "            <tr>\n",
              "                        <th id=\"T_c45e0ef0_1aef_11eb_8f86_0242ac1c0002level0_row12\" class=\"row_heading level0 row12\" >12</th>\n",
              "                        <td id=\"T_c45e0ef0_1aef_11eb_8f86_0242ac1c0002row12_col0\" class=\"data row12 col0\" >239344</td>\n",
              "                        <td id=\"T_c45e0ef0_1aef_11eb_8f86_0242ac1c0002row12_col1\" class=\"data row12 col1\" >Stokes LLC</td>\n",
              "                        <td id=\"T_c45e0ef0_1aef_11eb_8f86_0242ac1c0002row12_col2\" class=\"data row12 col2\" >Cedric Moss</td>\n",
              "                        <td id=\"T_c45e0ef0_1aef_11eb_8f86_0242ac1c0002row12_col3\" class=\"data row12 col3\" >Fred Anderson</td>\n",
              "                        <td id=\"T_c45e0ef0_1aef_11eb_8f86_0242ac1c0002row12_col4\" class=\"data row12 col4\" >Software</td>\n",
              "                        <td id=\"T_c45e0ef0_1aef_11eb_8f86_0242ac1c0002row12_col5\" class=\"data row12 col5\" >1</td>\n",
              "                        <td id=\"T_c45e0ef0_1aef_11eb_8f86_0242ac1c0002row12_col6\" class=\"data row12 col6\" >$              10,000</td>\n",
              "                        <td id=\"T_c45e0ef0_1aef_11eb_8f86_0242ac1c0002row12_col7\" class=\"data row12 col7\" >presented</td>\n",
              "            </tr>\n",
              "            <tr>\n",
              "                        <th id=\"T_c45e0ef0_1aef_11eb_8f86_0242ac1c0002level0_row13\" class=\"row_heading level0 row13\" >13</th>\n",
              "                        <td id=\"T_c45e0ef0_1aef_11eb_8f86_0242ac1c0002row13_col0\" class=\"data row13 col0\" >307599</td>\n",
              "                        <td id=\"T_c45e0ef0_1aef_11eb_8f86_0242ac1c0002row13_col1\" class=\"data row13 col1\" >Kassulke, Ondricka and Metz</td>\n",
              "                        <td id=\"T_c45e0ef0_1aef_11eb_8f86_0242ac1c0002row13_col2\" class=\"data row13 col2\" >Wendy Yule</td>\n",
              "                        <td id=\"T_c45e0ef0_1aef_11eb_8f86_0242ac1c0002row13_col3\" class=\"data row13 col3\" >Fred Anderson</td>\n",
              "                        <td id=\"T_c45e0ef0_1aef_11eb_8f86_0242ac1c0002row13_col4\" class=\"data row13 col4\" >Maintenance</td>\n",
              "                        <td id=\"T_c45e0ef0_1aef_11eb_8f86_0242ac1c0002row13_col5\" class=\"data row13 col5\" >3</td>\n",
              "                        <td id=\"T_c45e0ef0_1aef_11eb_8f86_0242ac1c0002row13_col6\" class=\"data row13 col6\" >$               7,000</td>\n",
              "                        <td id=\"T_c45e0ef0_1aef_11eb_8f86_0242ac1c0002row13_col7\" class=\"data row13 col7\" >won</td>\n",
              "            </tr>\n",
              "            <tr>\n",
              "                        <th id=\"T_c45e0ef0_1aef_11eb_8f86_0242ac1c0002level0_row14\" class=\"row_heading level0 row14\" >14</th>\n",
              "                        <td id=\"T_c45e0ef0_1aef_11eb_8f86_0242ac1c0002row14_col0\" class=\"data row14 col0\" >688981</td>\n",
              "                        <td id=\"T_c45e0ef0_1aef_11eb_8f86_0242ac1c0002row14_col1\" class=\"data row14 col1\" >Keeling LLC</td>\n",
              "                        <td id=\"T_c45e0ef0_1aef_11eb_8f86_0242ac1c0002row14_col2\" class=\"data row14 col2\" >Wendy Yule</td>\n",
              "                        <td id=\"T_c45e0ef0_1aef_11eb_8f86_0242ac1c0002row14_col3\" class=\"data row14 col3\" >Fred Anderson</td>\n",
              "                        <td id=\"T_c45e0ef0_1aef_11eb_8f86_0242ac1c0002row14_col4\" class=\"data row14 col4\" >CPU</td>\n",
              "                        <td id=\"T_c45e0ef0_1aef_11eb_8f86_0242ac1c0002row14_col5\" class=\"data row14 col5\" >5</td>\n",
              "                        <td id=\"T_c45e0ef0_1aef_11eb_8f86_0242ac1c0002row14_col6\" class=\"data row14 col6\" >$             100,000</td>\n",
              "                        <td id=\"T_c45e0ef0_1aef_11eb_8f86_0242ac1c0002row14_col7\" class=\"data row14 col7\" >won</td>\n",
              "            </tr>\n",
              "            <tr>\n",
              "                        <th id=\"T_c45e0ef0_1aef_11eb_8f86_0242ac1c0002level0_row15\" class=\"row_heading level0 row15\" >15</th>\n",
              "                        <td id=\"T_c45e0ef0_1aef_11eb_8f86_0242ac1c0002row15_col0\" class=\"data row15 col0\" >729833</td>\n",
              "                        <td id=\"T_c45e0ef0_1aef_11eb_8f86_0242ac1c0002row15_col1\" class=\"data row15 col1\" >Koepp Ltd</td>\n",
              "                        <td id=\"T_c45e0ef0_1aef_11eb_8f86_0242ac1c0002row15_col2\" class=\"data row15 col2\" >Wendy Yule</td>\n",
              "                        <td id=\"T_c45e0ef0_1aef_11eb_8f86_0242ac1c0002row15_col3\" class=\"data row15 col3\" >Fred Anderson</td>\n",
              "                        <td id=\"T_c45e0ef0_1aef_11eb_8f86_0242ac1c0002row15_col4\" class=\"data row15 col4\" >CPU</td>\n",
              "                        <td id=\"T_c45e0ef0_1aef_11eb_8f86_0242ac1c0002row15_col5\" class=\"data row15 col5\" >2</td>\n",
              "                        <td id=\"T_c45e0ef0_1aef_11eb_8f86_0242ac1c0002row15_col6\" class=\"data row15 col6\" >$              65,000</td>\n",
              "                        <td id=\"T_c45e0ef0_1aef_11eb_8f86_0242ac1c0002row15_col7\" class=\"data row15 col7\" >declined</td>\n",
              "            </tr>\n",
              "            <tr>\n",
              "                        <th id=\"T_c45e0ef0_1aef_11eb_8f86_0242ac1c0002level0_row16\" class=\"row_heading level0 row16\" >16</th>\n",
              "                        <td id=\"T_c45e0ef0_1aef_11eb_8f86_0242ac1c0002row16_col0\" class=\"data row16 col0\" >729833</td>\n",
              "                        <td id=\"T_c45e0ef0_1aef_11eb_8f86_0242ac1c0002row16_col1\" class=\"data row16 col1\" >Koepp Ltd</td>\n",
              "                        <td id=\"T_c45e0ef0_1aef_11eb_8f86_0242ac1c0002row16_col2\" class=\"data row16 col2\" >Wendy Yule</td>\n",
              "                        <td id=\"T_c45e0ef0_1aef_11eb_8f86_0242ac1c0002row16_col3\" class=\"data row16 col3\" >Fred Anderson</td>\n",
              "                        <td id=\"T_c45e0ef0_1aef_11eb_8f86_0242ac1c0002row16_col4\" class=\"data row16 col4\" >Monitor</td>\n",
              "                        <td id=\"T_c45e0ef0_1aef_11eb_8f86_0242ac1c0002row16_col5\" class=\"data row16 col5\" >2</td>\n",
              "                        <td id=\"T_c45e0ef0_1aef_11eb_8f86_0242ac1c0002row16_col6\" class=\"data row16 col6\" >$               5,000</td>\n",
              "                        <td id=\"T_c45e0ef0_1aef_11eb_8f86_0242ac1c0002row16_col7\" class=\"data row16 col7\" >presented</td>\n",
              "            </tr>\n",
              "    </tbody></table>"
            ],
            "text/plain": [
              "<pandas.io.formats.style.Styler at 0x7f411dbcca58>"
            ]
          },
          "metadata": {
            "tags": []
          },
          "execution_count": 32
        }
      ]
    },
    {
      "cell_type": "code",
      "metadata": {
        "id": "LY2SjQceQtu4"
      },
      "source": [
        "df.style.format({'Price': \"${:20,.0f}\"}).\\\n",
        "background_gradient(subset=['Quantity'],cmap='Blues').\\\n",
        "bar(subset=[\"Price\"], color='lightgreen').to_excel('sample_data/conformato.xlsx')"
      ],
      "execution_count": null,
      "outputs": []
    },
    {
      "cell_type": "code",
      "metadata": {
        "id": "lIzXl_GbNMYa",
        "colab": {
          "base_uri": "https://localhost:8080/",
          "height": 337
        },
        "outputId": "e474517c-ccc9-42e7-cb0e-59024eb9bcfc"
      },
      "source": [
        "df.style.background_gradient(subset=['Price'],cmap='Greens')"
      ],
      "execution_count": null,
      "outputs": [
        {
          "output_type": "execute_result",
          "data": {
            "text/html": [
              "<style  type=\"text/css\" >\n",
              "#T_4f0ae64a_1af0_11eb_8f86_0242ac1c0002row0_col6,#T_4f0ae64a_1af0_11eb_8f86_0242ac1c0002row10_col6{\n",
              "            background-color:  #c3e7bc;\n",
              "            color:  #000000;\n",
              "        }#T_4f0ae64a_1af0_11eb_8f86_0242ac1c0002row1_col6,#T_4f0ae64a_1af0_11eb_8f86_0242ac1c0002row6_col6,#T_4f0ae64a_1af0_11eb_8f86_0242ac1c0002row12_col6{\n",
              "            background-color:  #f0f9ec;\n",
              "            color:  #000000;\n",
              "        }#T_4f0ae64a_1af0_11eb_8f86_0242ac1c0002row2_col6,#T_4f0ae64a_1af0_11eb_8f86_0242ac1c0002row7_col6,#T_4f0ae64a_1af0_11eb_8f86_0242ac1c0002row11_col6,#T_4f0ae64a_1af0_11eb_8f86_0242ac1c0002row16_col6{\n",
              "            background-color:  #f7fcf5;\n",
              "            color:  #000000;\n",
              "        }#T_4f0ae64a_1af0_11eb_8f86_0242ac1c0002row3_col6,#T_4f0ae64a_1af0_11eb_8f86_0242ac1c0002row8_col6{\n",
              "            background-color:  #b4e1ad;\n",
              "            color:  #000000;\n",
              "        }#T_4f0ae64a_1af0_11eb_8f86_0242ac1c0002row4_col6,#T_4f0ae64a_1af0_11eb_8f86_0242ac1c0002row9_col6,#T_4f0ae64a_1af0_11eb_8f86_0242ac1c0002row15_col6{\n",
              "            background-color:  #3fa95c;\n",
              "            color:  #000000;\n",
              "        }#T_4f0ae64a_1af0_11eb_8f86_0242ac1c0002row5_col6{\n",
              "            background-color:  #a3da9d;\n",
              "            color:  #000000;\n",
              "        }#T_4f0ae64a_1af0_11eb_8f86_0242ac1c0002row13_col6{\n",
              "            background-color:  #f4fbf2;\n",
              "            color:  #000000;\n",
              "        }#T_4f0ae64a_1af0_11eb_8f86_0242ac1c0002row14_col6{\n",
              "            background-color:  #00441b;\n",
              "            color:  #f1f1f1;\n",
              "        }</style><table id=\"T_4f0ae64a_1af0_11eb_8f86_0242ac1c0002\" ><thead>    <tr>        <th class=\"blank level0\" ></th>        <th class=\"col_heading level0 col0\" >Account</th>        <th class=\"col_heading level0 col1\" >Name</th>        <th class=\"col_heading level0 col2\" >Rep</th>        <th class=\"col_heading level0 col3\" >Manager</th>        <th class=\"col_heading level0 col4\" >Product</th>        <th class=\"col_heading level0 col5\" >Quantity</th>        <th class=\"col_heading level0 col6\" >Price</th>        <th class=\"col_heading level0 col7\" >Status</th>    </tr></thead><tbody>\n",
              "                <tr>\n",
              "                        <th id=\"T_4f0ae64a_1af0_11eb_8f86_0242ac1c0002level0_row0\" class=\"row_heading level0 row0\" >0</th>\n",
              "                        <td id=\"T_4f0ae64a_1af0_11eb_8f86_0242ac1c0002row0_col0\" class=\"data row0 col0\" >714466</td>\n",
              "                        <td id=\"T_4f0ae64a_1af0_11eb_8f86_0242ac1c0002row0_col1\" class=\"data row0 col1\" >Trantow-Barrows</td>\n",
              "                        <td id=\"T_4f0ae64a_1af0_11eb_8f86_0242ac1c0002row0_col2\" class=\"data row0 col2\" >Craig Booker</td>\n",
              "                        <td id=\"T_4f0ae64a_1af0_11eb_8f86_0242ac1c0002row0_col3\" class=\"data row0 col3\" >Debra Henley</td>\n",
              "                        <td id=\"T_4f0ae64a_1af0_11eb_8f86_0242ac1c0002row0_col4\" class=\"data row0 col4\" >CPU</td>\n",
              "                        <td id=\"T_4f0ae64a_1af0_11eb_8f86_0242ac1c0002row0_col5\" class=\"data row0 col5\" >1</td>\n",
              "                        <td id=\"T_4f0ae64a_1af0_11eb_8f86_0242ac1c0002row0_col6\" class=\"data row0 col6\" >30000</td>\n",
              "                        <td id=\"T_4f0ae64a_1af0_11eb_8f86_0242ac1c0002row0_col7\" class=\"data row0 col7\" >presented</td>\n",
              "            </tr>\n",
              "            <tr>\n",
              "                        <th id=\"T_4f0ae64a_1af0_11eb_8f86_0242ac1c0002level0_row1\" class=\"row_heading level0 row1\" >1</th>\n",
              "                        <td id=\"T_4f0ae64a_1af0_11eb_8f86_0242ac1c0002row1_col0\" class=\"data row1 col0\" >714466</td>\n",
              "                        <td id=\"T_4f0ae64a_1af0_11eb_8f86_0242ac1c0002row1_col1\" class=\"data row1 col1\" >Trantow-Barrows</td>\n",
              "                        <td id=\"T_4f0ae64a_1af0_11eb_8f86_0242ac1c0002row1_col2\" class=\"data row1 col2\" >Craig Booker</td>\n",
              "                        <td id=\"T_4f0ae64a_1af0_11eb_8f86_0242ac1c0002row1_col3\" class=\"data row1 col3\" >Debra Henley</td>\n",
              "                        <td id=\"T_4f0ae64a_1af0_11eb_8f86_0242ac1c0002row1_col4\" class=\"data row1 col4\" >Software</td>\n",
              "                        <td id=\"T_4f0ae64a_1af0_11eb_8f86_0242ac1c0002row1_col5\" class=\"data row1 col5\" >1</td>\n",
              "                        <td id=\"T_4f0ae64a_1af0_11eb_8f86_0242ac1c0002row1_col6\" class=\"data row1 col6\" >10000</td>\n",
              "                        <td id=\"T_4f0ae64a_1af0_11eb_8f86_0242ac1c0002row1_col7\" class=\"data row1 col7\" >presented</td>\n",
              "            </tr>\n",
              "            <tr>\n",
              "                        <th id=\"T_4f0ae64a_1af0_11eb_8f86_0242ac1c0002level0_row2\" class=\"row_heading level0 row2\" >2</th>\n",
              "                        <td id=\"T_4f0ae64a_1af0_11eb_8f86_0242ac1c0002row2_col0\" class=\"data row2 col0\" >714466</td>\n",
              "                        <td id=\"T_4f0ae64a_1af0_11eb_8f86_0242ac1c0002row2_col1\" class=\"data row2 col1\" >Trantow-Barrows</td>\n",
              "                        <td id=\"T_4f0ae64a_1af0_11eb_8f86_0242ac1c0002row2_col2\" class=\"data row2 col2\" >Craig Booker</td>\n",
              "                        <td id=\"T_4f0ae64a_1af0_11eb_8f86_0242ac1c0002row2_col3\" class=\"data row2 col3\" >Debra Henley</td>\n",
              "                        <td id=\"T_4f0ae64a_1af0_11eb_8f86_0242ac1c0002row2_col4\" class=\"data row2 col4\" >Maintenance</td>\n",
              "                        <td id=\"T_4f0ae64a_1af0_11eb_8f86_0242ac1c0002row2_col5\" class=\"data row2 col5\" >2</td>\n",
              "                        <td id=\"T_4f0ae64a_1af0_11eb_8f86_0242ac1c0002row2_col6\" class=\"data row2 col6\" >5000</td>\n",
              "                        <td id=\"T_4f0ae64a_1af0_11eb_8f86_0242ac1c0002row2_col7\" class=\"data row2 col7\" >pending</td>\n",
              "            </tr>\n",
              "            <tr>\n",
              "                        <th id=\"T_4f0ae64a_1af0_11eb_8f86_0242ac1c0002level0_row3\" class=\"row_heading level0 row3\" >3</th>\n",
              "                        <td id=\"T_4f0ae64a_1af0_11eb_8f86_0242ac1c0002row3_col0\" class=\"data row3 col0\" >737550</td>\n",
              "                        <td id=\"T_4f0ae64a_1af0_11eb_8f86_0242ac1c0002row3_col1\" class=\"data row3 col1\" >Fritsch, Russel and Anderson</td>\n",
              "                        <td id=\"T_4f0ae64a_1af0_11eb_8f86_0242ac1c0002row3_col2\" class=\"data row3 col2\" >Craig Booker</td>\n",
              "                        <td id=\"T_4f0ae64a_1af0_11eb_8f86_0242ac1c0002row3_col3\" class=\"data row3 col3\" >Debra Henley</td>\n",
              "                        <td id=\"T_4f0ae64a_1af0_11eb_8f86_0242ac1c0002row3_col4\" class=\"data row3 col4\" >CPU</td>\n",
              "                        <td id=\"T_4f0ae64a_1af0_11eb_8f86_0242ac1c0002row3_col5\" class=\"data row3 col5\" >1</td>\n",
              "                        <td id=\"T_4f0ae64a_1af0_11eb_8f86_0242ac1c0002row3_col6\" class=\"data row3 col6\" >35000</td>\n",
              "                        <td id=\"T_4f0ae64a_1af0_11eb_8f86_0242ac1c0002row3_col7\" class=\"data row3 col7\" >declined</td>\n",
              "            </tr>\n",
              "            <tr>\n",
              "                        <th id=\"T_4f0ae64a_1af0_11eb_8f86_0242ac1c0002level0_row4\" class=\"row_heading level0 row4\" >4</th>\n",
              "                        <td id=\"T_4f0ae64a_1af0_11eb_8f86_0242ac1c0002row4_col0\" class=\"data row4 col0\" >146832</td>\n",
              "                        <td id=\"T_4f0ae64a_1af0_11eb_8f86_0242ac1c0002row4_col1\" class=\"data row4 col1\" >Kiehn-Spinka</td>\n",
              "                        <td id=\"T_4f0ae64a_1af0_11eb_8f86_0242ac1c0002row4_col2\" class=\"data row4 col2\" >Daniel Hilton</td>\n",
              "                        <td id=\"T_4f0ae64a_1af0_11eb_8f86_0242ac1c0002row4_col3\" class=\"data row4 col3\" >Debra Henley</td>\n",
              "                        <td id=\"T_4f0ae64a_1af0_11eb_8f86_0242ac1c0002row4_col4\" class=\"data row4 col4\" >CPU</td>\n",
              "                        <td id=\"T_4f0ae64a_1af0_11eb_8f86_0242ac1c0002row4_col5\" class=\"data row4 col5\" >2</td>\n",
              "                        <td id=\"T_4f0ae64a_1af0_11eb_8f86_0242ac1c0002row4_col6\" class=\"data row4 col6\" >65000</td>\n",
              "                        <td id=\"T_4f0ae64a_1af0_11eb_8f86_0242ac1c0002row4_col7\" class=\"data row4 col7\" >won</td>\n",
              "            </tr>\n",
              "            <tr>\n",
              "                        <th id=\"T_4f0ae64a_1af0_11eb_8f86_0242ac1c0002level0_row5\" class=\"row_heading level0 row5\" >5</th>\n",
              "                        <td id=\"T_4f0ae64a_1af0_11eb_8f86_0242ac1c0002row5_col0\" class=\"data row5 col0\" >218895</td>\n",
              "                        <td id=\"T_4f0ae64a_1af0_11eb_8f86_0242ac1c0002row5_col1\" class=\"data row5 col1\" >Kulas Inc</td>\n",
              "                        <td id=\"T_4f0ae64a_1af0_11eb_8f86_0242ac1c0002row5_col2\" class=\"data row5 col2\" >Daniel Hilton</td>\n",
              "                        <td id=\"T_4f0ae64a_1af0_11eb_8f86_0242ac1c0002row5_col3\" class=\"data row5 col3\" >Debra Henley</td>\n",
              "                        <td id=\"T_4f0ae64a_1af0_11eb_8f86_0242ac1c0002row5_col4\" class=\"data row5 col4\" >CPU</td>\n",
              "                        <td id=\"T_4f0ae64a_1af0_11eb_8f86_0242ac1c0002row5_col5\" class=\"data row5 col5\" >2</td>\n",
              "                        <td id=\"T_4f0ae64a_1af0_11eb_8f86_0242ac1c0002row5_col6\" class=\"data row5 col6\" >40000</td>\n",
              "                        <td id=\"T_4f0ae64a_1af0_11eb_8f86_0242ac1c0002row5_col7\" class=\"data row5 col7\" >pending</td>\n",
              "            </tr>\n",
              "            <tr>\n",
              "                        <th id=\"T_4f0ae64a_1af0_11eb_8f86_0242ac1c0002level0_row6\" class=\"row_heading level0 row6\" >6</th>\n",
              "                        <td id=\"T_4f0ae64a_1af0_11eb_8f86_0242ac1c0002row6_col0\" class=\"data row6 col0\" >218895</td>\n",
              "                        <td id=\"T_4f0ae64a_1af0_11eb_8f86_0242ac1c0002row6_col1\" class=\"data row6 col1\" >Kulas Inc</td>\n",
              "                        <td id=\"T_4f0ae64a_1af0_11eb_8f86_0242ac1c0002row6_col2\" class=\"data row6 col2\" >Daniel Hilton</td>\n",
              "                        <td id=\"T_4f0ae64a_1af0_11eb_8f86_0242ac1c0002row6_col3\" class=\"data row6 col3\" >Debra Henley</td>\n",
              "                        <td id=\"T_4f0ae64a_1af0_11eb_8f86_0242ac1c0002row6_col4\" class=\"data row6 col4\" >Software</td>\n",
              "                        <td id=\"T_4f0ae64a_1af0_11eb_8f86_0242ac1c0002row6_col5\" class=\"data row6 col5\" >1</td>\n",
              "                        <td id=\"T_4f0ae64a_1af0_11eb_8f86_0242ac1c0002row6_col6\" class=\"data row6 col6\" >10000</td>\n",
              "                        <td id=\"T_4f0ae64a_1af0_11eb_8f86_0242ac1c0002row6_col7\" class=\"data row6 col7\" >presented</td>\n",
              "            </tr>\n",
              "            <tr>\n",
              "                        <th id=\"T_4f0ae64a_1af0_11eb_8f86_0242ac1c0002level0_row7\" class=\"row_heading level0 row7\" >7</th>\n",
              "                        <td id=\"T_4f0ae64a_1af0_11eb_8f86_0242ac1c0002row7_col0\" class=\"data row7 col0\" >412290</td>\n",
              "                        <td id=\"T_4f0ae64a_1af0_11eb_8f86_0242ac1c0002row7_col1\" class=\"data row7 col1\" >Jerde-Hilpert</td>\n",
              "                        <td id=\"T_4f0ae64a_1af0_11eb_8f86_0242ac1c0002row7_col2\" class=\"data row7 col2\" >John Smith</td>\n",
              "                        <td id=\"T_4f0ae64a_1af0_11eb_8f86_0242ac1c0002row7_col3\" class=\"data row7 col3\" >Debra Henley</td>\n",
              "                        <td id=\"T_4f0ae64a_1af0_11eb_8f86_0242ac1c0002row7_col4\" class=\"data row7 col4\" >Maintenance</td>\n",
              "                        <td id=\"T_4f0ae64a_1af0_11eb_8f86_0242ac1c0002row7_col5\" class=\"data row7 col5\" >2</td>\n",
              "                        <td id=\"T_4f0ae64a_1af0_11eb_8f86_0242ac1c0002row7_col6\" class=\"data row7 col6\" >5000</td>\n",
              "                        <td id=\"T_4f0ae64a_1af0_11eb_8f86_0242ac1c0002row7_col7\" class=\"data row7 col7\" >pending</td>\n",
              "            </tr>\n",
              "            <tr>\n",
              "                        <th id=\"T_4f0ae64a_1af0_11eb_8f86_0242ac1c0002level0_row8\" class=\"row_heading level0 row8\" >8</th>\n",
              "                        <td id=\"T_4f0ae64a_1af0_11eb_8f86_0242ac1c0002row8_col0\" class=\"data row8 col0\" >740150</td>\n",
              "                        <td id=\"T_4f0ae64a_1af0_11eb_8f86_0242ac1c0002row8_col1\" class=\"data row8 col1\" >Barton LLC</td>\n",
              "                        <td id=\"T_4f0ae64a_1af0_11eb_8f86_0242ac1c0002row8_col2\" class=\"data row8 col2\" >John Smith</td>\n",
              "                        <td id=\"T_4f0ae64a_1af0_11eb_8f86_0242ac1c0002row8_col3\" class=\"data row8 col3\" >Debra Henley</td>\n",
              "                        <td id=\"T_4f0ae64a_1af0_11eb_8f86_0242ac1c0002row8_col4\" class=\"data row8 col4\" >CPU</td>\n",
              "                        <td id=\"T_4f0ae64a_1af0_11eb_8f86_0242ac1c0002row8_col5\" class=\"data row8 col5\" >1</td>\n",
              "                        <td id=\"T_4f0ae64a_1af0_11eb_8f86_0242ac1c0002row8_col6\" class=\"data row8 col6\" >35000</td>\n",
              "                        <td id=\"T_4f0ae64a_1af0_11eb_8f86_0242ac1c0002row8_col7\" class=\"data row8 col7\" >declined</td>\n",
              "            </tr>\n",
              "            <tr>\n",
              "                        <th id=\"T_4f0ae64a_1af0_11eb_8f86_0242ac1c0002level0_row9\" class=\"row_heading level0 row9\" >9</th>\n",
              "                        <td id=\"T_4f0ae64a_1af0_11eb_8f86_0242ac1c0002row9_col0\" class=\"data row9 col0\" >141962</td>\n",
              "                        <td id=\"T_4f0ae64a_1af0_11eb_8f86_0242ac1c0002row9_col1\" class=\"data row9 col1\" >Herman LLC</td>\n",
              "                        <td id=\"T_4f0ae64a_1af0_11eb_8f86_0242ac1c0002row9_col2\" class=\"data row9 col2\" >Cedric Moss</td>\n",
              "                        <td id=\"T_4f0ae64a_1af0_11eb_8f86_0242ac1c0002row9_col3\" class=\"data row9 col3\" >Fred Anderson</td>\n",
              "                        <td id=\"T_4f0ae64a_1af0_11eb_8f86_0242ac1c0002row9_col4\" class=\"data row9 col4\" >CPU</td>\n",
              "                        <td id=\"T_4f0ae64a_1af0_11eb_8f86_0242ac1c0002row9_col5\" class=\"data row9 col5\" >2</td>\n",
              "                        <td id=\"T_4f0ae64a_1af0_11eb_8f86_0242ac1c0002row9_col6\" class=\"data row9 col6\" >65000</td>\n",
              "                        <td id=\"T_4f0ae64a_1af0_11eb_8f86_0242ac1c0002row9_col7\" class=\"data row9 col7\" >won</td>\n",
              "            </tr>\n",
              "            <tr>\n",
              "                        <th id=\"T_4f0ae64a_1af0_11eb_8f86_0242ac1c0002level0_row10\" class=\"row_heading level0 row10\" >10</th>\n",
              "                        <td id=\"T_4f0ae64a_1af0_11eb_8f86_0242ac1c0002row10_col0\" class=\"data row10 col0\" >163416</td>\n",
              "                        <td id=\"T_4f0ae64a_1af0_11eb_8f86_0242ac1c0002row10_col1\" class=\"data row10 col1\" >Purdy-Kunde</td>\n",
              "                        <td id=\"T_4f0ae64a_1af0_11eb_8f86_0242ac1c0002row10_col2\" class=\"data row10 col2\" >Cedric Moss</td>\n",
              "                        <td id=\"T_4f0ae64a_1af0_11eb_8f86_0242ac1c0002row10_col3\" class=\"data row10 col3\" >Fred Anderson</td>\n",
              "                        <td id=\"T_4f0ae64a_1af0_11eb_8f86_0242ac1c0002row10_col4\" class=\"data row10 col4\" >CPU</td>\n",
              "                        <td id=\"T_4f0ae64a_1af0_11eb_8f86_0242ac1c0002row10_col5\" class=\"data row10 col5\" >1</td>\n",
              "                        <td id=\"T_4f0ae64a_1af0_11eb_8f86_0242ac1c0002row10_col6\" class=\"data row10 col6\" >30000</td>\n",
              "                        <td id=\"T_4f0ae64a_1af0_11eb_8f86_0242ac1c0002row10_col7\" class=\"data row10 col7\" >presented</td>\n",
              "            </tr>\n",
              "            <tr>\n",
              "                        <th id=\"T_4f0ae64a_1af0_11eb_8f86_0242ac1c0002level0_row11\" class=\"row_heading level0 row11\" >11</th>\n",
              "                        <td id=\"T_4f0ae64a_1af0_11eb_8f86_0242ac1c0002row11_col0\" class=\"data row11 col0\" >239344</td>\n",
              "                        <td id=\"T_4f0ae64a_1af0_11eb_8f86_0242ac1c0002row11_col1\" class=\"data row11 col1\" >Stokes LLC</td>\n",
              "                        <td id=\"T_4f0ae64a_1af0_11eb_8f86_0242ac1c0002row11_col2\" class=\"data row11 col2\" >Cedric Moss</td>\n",
              "                        <td id=\"T_4f0ae64a_1af0_11eb_8f86_0242ac1c0002row11_col3\" class=\"data row11 col3\" >Fred Anderson</td>\n",
              "                        <td id=\"T_4f0ae64a_1af0_11eb_8f86_0242ac1c0002row11_col4\" class=\"data row11 col4\" >Maintenance</td>\n",
              "                        <td id=\"T_4f0ae64a_1af0_11eb_8f86_0242ac1c0002row11_col5\" class=\"data row11 col5\" >1</td>\n",
              "                        <td id=\"T_4f0ae64a_1af0_11eb_8f86_0242ac1c0002row11_col6\" class=\"data row11 col6\" >5000</td>\n",
              "                        <td id=\"T_4f0ae64a_1af0_11eb_8f86_0242ac1c0002row11_col7\" class=\"data row11 col7\" >pending</td>\n",
              "            </tr>\n",
              "            <tr>\n",
              "                        <th id=\"T_4f0ae64a_1af0_11eb_8f86_0242ac1c0002level0_row12\" class=\"row_heading level0 row12\" >12</th>\n",
              "                        <td id=\"T_4f0ae64a_1af0_11eb_8f86_0242ac1c0002row12_col0\" class=\"data row12 col0\" >239344</td>\n",
              "                        <td id=\"T_4f0ae64a_1af0_11eb_8f86_0242ac1c0002row12_col1\" class=\"data row12 col1\" >Stokes LLC</td>\n",
              "                        <td id=\"T_4f0ae64a_1af0_11eb_8f86_0242ac1c0002row12_col2\" class=\"data row12 col2\" >Cedric Moss</td>\n",
              "                        <td id=\"T_4f0ae64a_1af0_11eb_8f86_0242ac1c0002row12_col3\" class=\"data row12 col3\" >Fred Anderson</td>\n",
              "                        <td id=\"T_4f0ae64a_1af0_11eb_8f86_0242ac1c0002row12_col4\" class=\"data row12 col4\" >Software</td>\n",
              "                        <td id=\"T_4f0ae64a_1af0_11eb_8f86_0242ac1c0002row12_col5\" class=\"data row12 col5\" >1</td>\n",
              "                        <td id=\"T_4f0ae64a_1af0_11eb_8f86_0242ac1c0002row12_col6\" class=\"data row12 col6\" >10000</td>\n",
              "                        <td id=\"T_4f0ae64a_1af0_11eb_8f86_0242ac1c0002row12_col7\" class=\"data row12 col7\" >presented</td>\n",
              "            </tr>\n",
              "            <tr>\n",
              "                        <th id=\"T_4f0ae64a_1af0_11eb_8f86_0242ac1c0002level0_row13\" class=\"row_heading level0 row13\" >13</th>\n",
              "                        <td id=\"T_4f0ae64a_1af0_11eb_8f86_0242ac1c0002row13_col0\" class=\"data row13 col0\" >307599</td>\n",
              "                        <td id=\"T_4f0ae64a_1af0_11eb_8f86_0242ac1c0002row13_col1\" class=\"data row13 col1\" >Kassulke, Ondricka and Metz</td>\n",
              "                        <td id=\"T_4f0ae64a_1af0_11eb_8f86_0242ac1c0002row13_col2\" class=\"data row13 col2\" >Wendy Yule</td>\n",
              "                        <td id=\"T_4f0ae64a_1af0_11eb_8f86_0242ac1c0002row13_col3\" class=\"data row13 col3\" >Fred Anderson</td>\n",
              "                        <td id=\"T_4f0ae64a_1af0_11eb_8f86_0242ac1c0002row13_col4\" class=\"data row13 col4\" >Maintenance</td>\n",
              "                        <td id=\"T_4f0ae64a_1af0_11eb_8f86_0242ac1c0002row13_col5\" class=\"data row13 col5\" >3</td>\n",
              "                        <td id=\"T_4f0ae64a_1af0_11eb_8f86_0242ac1c0002row13_col6\" class=\"data row13 col6\" >7000</td>\n",
              "                        <td id=\"T_4f0ae64a_1af0_11eb_8f86_0242ac1c0002row13_col7\" class=\"data row13 col7\" >won</td>\n",
              "            </tr>\n",
              "            <tr>\n",
              "                        <th id=\"T_4f0ae64a_1af0_11eb_8f86_0242ac1c0002level0_row14\" class=\"row_heading level0 row14\" >14</th>\n",
              "                        <td id=\"T_4f0ae64a_1af0_11eb_8f86_0242ac1c0002row14_col0\" class=\"data row14 col0\" >688981</td>\n",
              "                        <td id=\"T_4f0ae64a_1af0_11eb_8f86_0242ac1c0002row14_col1\" class=\"data row14 col1\" >Keeling LLC</td>\n",
              "                        <td id=\"T_4f0ae64a_1af0_11eb_8f86_0242ac1c0002row14_col2\" class=\"data row14 col2\" >Wendy Yule</td>\n",
              "                        <td id=\"T_4f0ae64a_1af0_11eb_8f86_0242ac1c0002row14_col3\" class=\"data row14 col3\" >Fred Anderson</td>\n",
              "                        <td id=\"T_4f0ae64a_1af0_11eb_8f86_0242ac1c0002row14_col4\" class=\"data row14 col4\" >CPU</td>\n",
              "                        <td id=\"T_4f0ae64a_1af0_11eb_8f86_0242ac1c0002row14_col5\" class=\"data row14 col5\" >5</td>\n",
              "                        <td id=\"T_4f0ae64a_1af0_11eb_8f86_0242ac1c0002row14_col6\" class=\"data row14 col6\" >100000</td>\n",
              "                        <td id=\"T_4f0ae64a_1af0_11eb_8f86_0242ac1c0002row14_col7\" class=\"data row14 col7\" >won</td>\n",
              "            </tr>\n",
              "            <tr>\n",
              "                        <th id=\"T_4f0ae64a_1af0_11eb_8f86_0242ac1c0002level0_row15\" class=\"row_heading level0 row15\" >15</th>\n",
              "                        <td id=\"T_4f0ae64a_1af0_11eb_8f86_0242ac1c0002row15_col0\" class=\"data row15 col0\" >729833</td>\n",
              "                        <td id=\"T_4f0ae64a_1af0_11eb_8f86_0242ac1c0002row15_col1\" class=\"data row15 col1\" >Koepp Ltd</td>\n",
              "                        <td id=\"T_4f0ae64a_1af0_11eb_8f86_0242ac1c0002row15_col2\" class=\"data row15 col2\" >Wendy Yule</td>\n",
              "                        <td id=\"T_4f0ae64a_1af0_11eb_8f86_0242ac1c0002row15_col3\" class=\"data row15 col3\" >Fred Anderson</td>\n",
              "                        <td id=\"T_4f0ae64a_1af0_11eb_8f86_0242ac1c0002row15_col4\" class=\"data row15 col4\" >CPU</td>\n",
              "                        <td id=\"T_4f0ae64a_1af0_11eb_8f86_0242ac1c0002row15_col5\" class=\"data row15 col5\" >2</td>\n",
              "                        <td id=\"T_4f0ae64a_1af0_11eb_8f86_0242ac1c0002row15_col6\" class=\"data row15 col6\" >65000</td>\n",
              "                        <td id=\"T_4f0ae64a_1af0_11eb_8f86_0242ac1c0002row15_col7\" class=\"data row15 col7\" >declined</td>\n",
              "            </tr>\n",
              "            <tr>\n",
              "                        <th id=\"T_4f0ae64a_1af0_11eb_8f86_0242ac1c0002level0_row16\" class=\"row_heading level0 row16\" >16</th>\n",
              "                        <td id=\"T_4f0ae64a_1af0_11eb_8f86_0242ac1c0002row16_col0\" class=\"data row16 col0\" >729833</td>\n",
              "                        <td id=\"T_4f0ae64a_1af0_11eb_8f86_0242ac1c0002row16_col1\" class=\"data row16 col1\" >Koepp Ltd</td>\n",
              "                        <td id=\"T_4f0ae64a_1af0_11eb_8f86_0242ac1c0002row16_col2\" class=\"data row16 col2\" >Wendy Yule</td>\n",
              "                        <td id=\"T_4f0ae64a_1af0_11eb_8f86_0242ac1c0002row16_col3\" class=\"data row16 col3\" >Fred Anderson</td>\n",
              "                        <td id=\"T_4f0ae64a_1af0_11eb_8f86_0242ac1c0002row16_col4\" class=\"data row16 col4\" >Monitor</td>\n",
              "                        <td id=\"T_4f0ae64a_1af0_11eb_8f86_0242ac1c0002row16_col5\" class=\"data row16 col5\" >2</td>\n",
              "                        <td id=\"T_4f0ae64a_1af0_11eb_8f86_0242ac1c0002row16_col6\" class=\"data row16 col6\" >5000</td>\n",
              "                        <td id=\"T_4f0ae64a_1af0_11eb_8f86_0242ac1c0002row16_col7\" class=\"data row16 col7\" >presented</td>\n",
              "            </tr>\n",
              "    </tbody></table>"
            ],
            "text/plain": [
              "<pandas.io.formats.style.Styler at 0x7f4115c870f0>"
            ]
          },
          "metadata": {
            "tags": []
          },
          "execution_count": 36
        }
      ]
    },
    {
      "cell_type": "code",
      "metadata": {
        "id": "grpbEwryPQrd"
      },
      "source": [
        "df.style.background_gradient(subset=['Price'],cmap='Greens').\\\n",
        "to_excel('sample_data/conformato.xlsx')"
      ],
      "execution_count": null,
      "outputs": []
    },
    {
      "cell_type": "code",
      "metadata": {
        "colab": {
          "base_uri": "https://localhost:8080/",
          "height": 204
        },
        "id": "jghzTanwvTFW",
        "outputId": "2d573048-69fc-4f69-8cb5-04935a7a2f46"
      },
      "source": [
        "from __future__ import print_function\r\n",
        "import pandas as pd\r\n",
        "import numpy as np\r\n",
        "df = pd.read_excel(\"salesfunnel.xlsx\")\r\n",
        "df.head()"
      ],
      "execution_count": 1,
      "outputs": [
        {
          "output_type": "execute_result",
          "data": {
            "text/html": [
              "<div>\n",
              "<style scoped>\n",
              "    .dataframe tbody tr th:only-of-type {\n",
              "        vertical-align: middle;\n",
              "    }\n",
              "\n",
              "    .dataframe tbody tr th {\n",
              "        vertical-align: top;\n",
              "    }\n",
              "\n",
              "    .dataframe thead th {\n",
              "        text-align: right;\n",
              "    }\n",
              "</style>\n",
              "<table border=\"1\" class=\"dataframe\">\n",
              "  <thead>\n",
              "    <tr style=\"text-align: right;\">\n",
              "      <th></th>\n",
              "      <th>Account</th>\n",
              "      <th>Name</th>\n",
              "      <th>Rep</th>\n",
              "      <th>Manager</th>\n",
              "      <th>Product</th>\n",
              "      <th>Quantity</th>\n",
              "      <th>Price</th>\n",
              "      <th>Status</th>\n",
              "    </tr>\n",
              "  </thead>\n",
              "  <tbody>\n",
              "    <tr>\n",
              "      <th>0</th>\n",
              "      <td>714466</td>\n",
              "      <td>Trantow-Barrows</td>\n",
              "      <td>Craig Booker</td>\n",
              "      <td>Debra Henley</td>\n",
              "      <td>CPU</td>\n",
              "      <td>1</td>\n",
              "      <td>30000</td>\n",
              "      <td>presented</td>\n",
              "    </tr>\n",
              "    <tr>\n",
              "      <th>1</th>\n",
              "      <td>714466</td>\n",
              "      <td>Trantow-Barrows</td>\n",
              "      <td>Craig Booker</td>\n",
              "      <td>Debra Henley</td>\n",
              "      <td>Software</td>\n",
              "      <td>1</td>\n",
              "      <td>10000</td>\n",
              "      <td>presented</td>\n",
              "    </tr>\n",
              "    <tr>\n",
              "      <th>2</th>\n",
              "      <td>714466</td>\n",
              "      <td>Trantow-Barrows</td>\n",
              "      <td>Craig Booker</td>\n",
              "      <td>Debra Henley</td>\n",
              "      <td>Maintenance</td>\n",
              "      <td>2</td>\n",
              "      <td>5000</td>\n",
              "      <td>pending</td>\n",
              "    </tr>\n",
              "    <tr>\n",
              "      <th>3</th>\n",
              "      <td>737550</td>\n",
              "      <td>Fritsch, Russel and Anderson</td>\n",
              "      <td>Craig Booker</td>\n",
              "      <td>Debra Henley</td>\n",
              "      <td>CPU</td>\n",
              "      <td>1</td>\n",
              "      <td>35000</td>\n",
              "      <td>declined</td>\n",
              "    </tr>\n",
              "    <tr>\n",
              "      <th>4</th>\n",
              "      <td>146832</td>\n",
              "      <td>Kiehn-Spinka</td>\n",
              "      <td>Daniel Hilton</td>\n",
              "      <td>Debra Henley</td>\n",
              "      <td>CPU</td>\n",
              "      <td>2</td>\n",
              "      <td>65000</td>\n",
              "      <td>won</td>\n",
              "    </tr>\n",
              "  </tbody>\n",
              "</table>\n",
              "</div>"
            ],
            "text/plain": [
              "   Account                          Name  ...  Price     Status\n",
              "0   714466               Trantow-Barrows  ...  30000  presented\n",
              "1   714466               Trantow-Barrows  ...  10000  presented\n",
              "2   714466               Trantow-Barrows  ...   5000    pending\n",
              "3   737550  Fritsch, Russel and Anderson  ...  35000   declined\n",
              "4   146832                  Kiehn-Spinka  ...  65000        won\n",
              "\n",
              "[5 rows x 8 columns]"
            ]
          },
          "metadata": {
            "tags": []
          },
          "execution_count": 1
        }
      ]
    },
    {
      "cell_type": "code",
      "metadata": {
        "colab": {
          "base_uri": "https://localhost:8080/",
          "height": 266
        },
        "id": "oSS_3eVsvahY",
        "outputId": "d1eb3100-865b-47f5-a877-9f33a790b968"
      },
      "source": [
        "sales_report = pd.pivot_table(df, index=[\"Manager\", \"Rep\", \"Product\"], values=[\"Price\", \"Quantity\"],\r\n",
        "                           aggfunc=[np.sum, np.mean], fill_value=0)\r\n",
        "sales_report.head()"
      ],
      "execution_count": 2,
      "outputs": [
        {
          "output_type": "execute_result",
          "data": {
            "text/html": [
              "<div>\n",
              "<style scoped>\n",
              "    .dataframe tbody tr th:only-of-type {\n",
              "        vertical-align: middle;\n",
              "    }\n",
              "\n",
              "    .dataframe tbody tr th {\n",
              "        vertical-align: top;\n",
              "    }\n",
              "\n",
              "    .dataframe thead tr th {\n",
              "        text-align: left;\n",
              "    }\n",
              "\n",
              "    .dataframe thead tr:last-of-type th {\n",
              "        text-align: right;\n",
              "    }\n",
              "</style>\n",
              "<table border=\"1\" class=\"dataframe\">\n",
              "  <thead>\n",
              "    <tr>\n",
              "      <th></th>\n",
              "      <th></th>\n",
              "      <th></th>\n",
              "      <th colspan=\"2\" halign=\"left\">sum</th>\n",
              "      <th colspan=\"2\" halign=\"left\">mean</th>\n",
              "    </tr>\n",
              "    <tr>\n",
              "      <th></th>\n",
              "      <th></th>\n",
              "      <th></th>\n",
              "      <th>Price</th>\n",
              "      <th>Quantity</th>\n",
              "      <th>Price</th>\n",
              "      <th>Quantity</th>\n",
              "    </tr>\n",
              "    <tr>\n",
              "      <th>Manager</th>\n",
              "      <th>Rep</th>\n",
              "      <th>Product</th>\n",
              "      <th></th>\n",
              "      <th></th>\n",
              "      <th></th>\n",
              "      <th></th>\n",
              "    </tr>\n",
              "  </thead>\n",
              "  <tbody>\n",
              "    <tr>\n",
              "      <th rowspan=\"5\" valign=\"top\">Debra Henley</th>\n",
              "      <th rowspan=\"3\" valign=\"top\">Craig Booker</th>\n",
              "      <th>CPU</th>\n",
              "      <td>65000</td>\n",
              "      <td>2</td>\n",
              "      <td>32500</td>\n",
              "      <td>1.0</td>\n",
              "    </tr>\n",
              "    <tr>\n",
              "      <th>Maintenance</th>\n",
              "      <td>5000</td>\n",
              "      <td>2</td>\n",
              "      <td>5000</td>\n",
              "      <td>2.0</td>\n",
              "    </tr>\n",
              "    <tr>\n",
              "      <th>Software</th>\n",
              "      <td>10000</td>\n",
              "      <td>1</td>\n",
              "      <td>10000</td>\n",
              "      <td>1.0</td>\n",
              "    </tr>\n",
              "    <tr>\n",
              "      <th rowspan=\"2\" valign=\"top\">Daniel Hilton</th>\n",
              "      <th>CPU</th>\n",
              "      <td>105000</td>\n",
              "      <td>4</td>\n",
              "      <td>52500</td>\n",
              "      <td>2.0</td>\n",
              "    </tr>\n",
              "    <tr>\n",
              "      <th>Software</th>\n",
              "      <td>10000</td>\n",
              "      <td>1</td>\n",
              "      <td>10000</td>\n",
              "      <td>1.0</td>\n",
              "    </tr>\n",
              "  </tbody>\n",
              "</table>\n",
              "</div>"
            ],
            "text/plain": [
              "                                           sum            mean         \n",
              "                                         Price Quantity  Price Quantity\n",
              "Manager      Rep           Product                                     \n",
              "Debra Henley Craig Booker  CPU           65000        2  32500      1.0\n",
              "                           Maintenance    5000        2   5000      2.0\n",
              "                           Software      10000        1  10000      1.0\n",
              "             Daniel Hilton CPU          105000        4  52500      2.0\n",
              "                           Software      10000        1  10000      1.0"
            ]
          },
          "metadata": {
            "tags": []
          },
          "execution_count": 2
        }
      ]
    },
    {
      "cell_type": "code",
      "metadata": {
        "colab": {
          "base_uri": "https://localhost:8080/"
        },
        "id": "5TThAY3Bvgji",
        "outputId": "1fc06a3a-031f-4a47-c336-e81333df7010"
      },
      "source": [
        "print(df[df[\"Product\"]==\"CPU\"][\"Quantity\"].mean())\r\n",
        "print(df[df[\"Product\"]==\"CPU\"][\"Price\"].mean())\r\n",
        "print(df[df[\"Product\"]==\"Software\"][\"Quantity\"].mean())\r\n",
        "print(df[df[\"Product\"]==\"Software\"][\"Price\"].mean())"
      ],
      "execution_count": 3,
      "outputs": [
        {
          "output_type": "stream",
          "text": [
            "1.8888888888888888\n",
            "51666.666666666664\n",
            "1.0\n",
            "10000.0\n"
          ],
          "name": "stdout"
        }
      ]
    },
    {
      "cell_type": "code",
      "metadata": {
        "id": "rRQvyf3E6n-r"
      },
      "source": [
        "def get_summary_stats(df,product):\r\n",
        "    \"\"\"\r\n",
        "    For certain products we want National Summary level information on the reports\r\n",
        "    Return a list of the average quantity and price\r\n",
        "    \"\"\"\r\n",
        "    results = []\r\n",
        "    results.append(df[df[\"Product\"]==product][\"Quantity\"].mean())\r\n",
        "    results.append(df[df[\"Product\"]==product][\"Price\"].mean())\r\n",
        "    return results"
      ],
      "execution_count": 26,
      "outputs": []
    },
    {
      "cell_type": "code",
      "metadata": {
        "id": "7fxgzMUn6vFu"
      },
      "source": [
        "manager_df = []\r\n",
        "for manager in sales_report.index.get_level_values(0).unique():\r\n",
        "    manager_df.append([manager, sales_report.xs(manager, level=0).to_html()])"
      ],
      "execution_count": 27,
      "outputs": []
    },
    {
      "cell_type": "code",
      "metadata": {
        "id": "SsQWnZbswGPc"
      },
      "source": [
        "from jinja2 import Environment, FileSystemLoader\r\n",
        "env = Environment(loader=FileSystemLoader('.'))\r\n",
        "template = env.get_template(\"myreport.html\")\r\n",
        "template_vars = {\"title\" : \"Sales Funnel Report - National\",\r\n",
        "                 \"national_pivot_table\": sales_report.to_html()}\r\n",
        "# Render our file and create the PDF using our css style file\r\n",
        "html_out = template.render(template_vars)               "
      ],
      "execution_count": 29,
      "outputs": []
    },
    {
      "cell_type": "code",
      "metadata": {
        "colab": {
          "base_uri": "https://localhost:8080/"
        },
        "id": "LwYPf81bxGIg",
        "outputId": "4743e055-9411-449a-ab0b-105f28d40fc2"
      },
      "source": [
        "!pip install weasyprint"
      ],
      "execution_count": 8,
      "outputs": [
        {
          "output_type": "stream",
          "text": [
            "Collecting weasyprint\n",
            "\u001b[?25l  Downloading https://files.pythonhosted.org/packages/ef/5b/58e85042758718f7ea5f6b3927675dc3aa25138884f0eef988a4b6653a53/WeasyPrint-52.2-py3-none-any.whl (363kB)\n",
            "\u001b[K     |████████████████████████████████| 368kB 4.1MB/s \n",
            "\u001b[?25hRequirement already satisfied: setuptools>=39.2.0 in /usr/local/lib/python3.6/dist-packages (from weasyprint) (53.0.0)\n",
            "Collecting Pyphen>=0.9.1\n",
            "\u001b[?25l  Downloading https://files.pythonhosted.org/packages/7c/5a/5bc036e01389bc6a6667a932bac3e388de6e7fa5777a6ff50e652f60ec79/Pyphen-0.10.0-py3-none-any.whl (1.9MB)\n",
            "\u001b[K     |████████████████████████████████| 1.9MB 8.2MB/s \n",
            "\u001b[?25hRequirement already satisfied: cffi>=0.6 in /usr/local/lib/python3.6/dist-packages (from weasyprint) (1.14.4)\n",
            "Requirement already satisfied: Pillow>=4.0.0 in /usr/local/lib/python3.6/dist-packages (from weasyprint) (7.0.0)\n",
            "Requirement already satisfied: html5lib>=0.999999999 in /usr/local/lib/python3.6/dist-packages (from weasyprint) (1.0.1)\n",
            "Collecting CairoSVG>=2.4.0\n",
            "\u001b[?25l  Downloading https://files.pythonhosted.org/packages/5c/a0/9900cf4556f5d55f09bd8c6c28454349235e77ac56f648a463fc0df0045b/CairoSVG-2.5.1-py3-none-any.whl (45kB)\n",
            "\u001b[K     |████████████████████████████████| 51kB 4.9MB/s \n",
            "\u001b[?25hCollecting cairocffi>=0.9.0\n",
            "\u001b[?25l  Downloading https://files.pythonhosted.org/packages/84/ca/0bffed5116d21251469df200448667e90acaa5131edea869b44a3fbc73d0/cairocffi-1.2.0.tar.gz (70kB)\n",
            "\u001b[K     |████████████████████████████████| 71kB 5.8MB/s \n",
            "\u001b[?25hCollecting tinycss2>=1.0.0\n",
            "  Downloading https://files.pythonhosted.org/packages/65/f7/63bf697a7c7257d304269b49f1be3dfe429856889e93963d6f5790d77d82/tinycss2-1.1.0-py3-none-any.whl\n",
            "Collecting cssselect2>=0.1\n",
            "  Downloading https://files.pythonhosted.org/packages/99/da/c86ec74495c69518720652f8aa8ab642d8af61a2098eede9db8b03d3c8b4/cssselect2-0.4.1-py3-none-any.whl\n",
            "Requirement already satisfied: pycparser in /usr/local/lib/python3.6/dist-packages (from cffi>=0.6->weasyprint) (2.20)\n",
            "Requirement already satisfied: webencodings in /usr/local/lib/python3.6/dist-packages (from html5lib>=0.999999999->weasyprint) (0.5.1)\n",
            "Requirement already satisfied: six>=1.9 in /usr/local/lib/python3.6/dist-packages (from html5lib>=0.999999999->weasyprint) (1.15.0)\n",
            "Requirement already satisfied: defusedxml in /usr/local/lib/python3.6/dist-packages (from CairoSVG>=2.4.0->weasyprint) (0.6.0)\n",
            "Building wheels for collected packages: cairocffi\n",
            "  Building wheel for cairocffi (setup.py) ... \u001b[?25l\u001b[?25hdone\n",
            "  Created wheel for cairocffi: filename=cairocffi-1.2.0-cp36-none-any.whl size=89552 sha256=9c86530844794452ccb09685405733d98b21d16d14c52467ff74007b7ff69a9f\n",
            "  Stored in directory: /root/.cache/pip/wheels/40/76/48/f1effadceea83b32e7d957dd0f92db4db8b537d7b72b4ef374\n",
            "Successfully built cairocffi\n",
            "Installing collected packages: Pyphen, cairocffi, tinycss2, cssselect2, CairoSVG, weasyprint\n",
            "Successfully installed CairoSVG-2.5.1 Pyphen-0.10.0 cairocffi-1.2.0 cssselect2-0.4.1 tinycss2-1.1.0 weasyprint-52.2\n"
          ],
          "name": "stdout"
        }
      ]
    },
    {
      "cell_type": "code",
      "metadata": {
        "id": "xAtyRzpkxBVj"
      },
      "source": [
        "from weasyprint import HTML\r\n",
        "HTML(string=html_out).write_pdf(\"report.pdf\")"
      ],
      "execution_count": 30,
      "outputs": []
    },
    {
      "cell_type": "code",
      "metadata": {
        "id": "nRbfxtT3y0Ia"
      },
      "source": [
        "HTML(string=html_out).write_pdf(\"report3.pdf\", stylesheets=[\"style.css\"])"
      ],
      "execution_count": 31,
      "outputs": []
    }
  ]
}