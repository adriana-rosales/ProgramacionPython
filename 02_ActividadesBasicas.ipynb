{
  "nbformat": 4,
  "nbformat_minor": 0,
  "metadata": {
    "colab": {
      "name": "02_ActividadesBasicas.ipynb",
      "provenance": [],
      "collapsed_sections": [],
      "authorship_tag": "ABX9TyP7ZQj75OAeKOGQ/SjwHQcP",
      "include_colab_link": true
    },
    "kernelspec": {
      "name": "python3",
      "display_name": "Python 3"
    }
  },
  "cells": [
    {
      "cell_type": "markdown",
      "metadata": {
        "id": "view-in-github",
        "colab_type": "text"
      },
      "source": [
        "<a href=\"https://colab.research.google.com/github/jcjimenezb123/ProgramacionPython/blob/master/02_ActividadesBasicas.ipynb\" target=\"_parent\"><img src=\"https://colab.research.google.com/assets/colab-badge.svg\" alt=\"Open In Colab\"/></a>"
      ]
    },
    {
      "cell_type": "markdown",
      "metadata": {
        "id": "XRk2uisRgKR0"
      },
      "source": [
        "#Actividades Básicas"
      ]
    },
    {
      "cell_type": "markdown",
      "metadata": {
        "id": "tPYPtXrAgSFb"
      },
      "source": [
        "##Asignación o reemplazo"
      ]
    },
    {
      "cell_type": "code",
      "metadata": {
        "id": "TvPmbfXEgC7Z",
        "colab": {
          "base_uri": "https://localhost:8080/",
          "height": 35
        },
        "outputId": "314ba31d-8581-4bbd-d950-4eda681565ca"
      },
      "source": [
        "entero=10\n",
        "flotante=6.22e23\n",
        "texto=\"Hola\"\n",
        "logico=True\n",
        "complejo=1-2j\n",
        "print(entero,flotante,texto,logico,complejo)"
      ],
      "execution_count": null,
      "outputs": [
        {
          "output_type": "stream",
          "text": [
            "10 6.22e+23 Hola True (1-2j)\n"
          ],
          "name": "stdout"
        }
      ]
    },
    {
      "cell_type": "code",
      "metadata": {
        "id": "YCG_s9gOgqVc",
        "colab": {
          "base_uri": "https://localhost:8080/",
          "height": 34
        },
        "outputId": "8dc56343-1664-40ba-b3a1-d10b48133bce"
      },
      "source": [
        "a=b=c=1.23\n",
        "print(a,b,c)"
      ],
      "execution_count": null,
      "outputs": [
        {
          "output_type": "stream",
          "text": [
            "1.23 1.23 1.23\n"
          ],
          "name": "stdout"
        }
      ]
    },
    {
      "cell_type": "code",
      "metadata": {
        "id": "eJutUwM1g22n",
        "colab": {
          "base_uri": "https://localhost:8080/",
          "height": 34
        },
        "outputId": "996b1233-0b6a-4e21-d869-10620268765b"
      },
      "source": [
        "uno,dos=1,-20\n",
        "print(uno,dos)"
      ],
      "execution_count": null,
      "outputs": [
        {
          "output_type": "stream",
          "text": [
            "1 -20\n"
          ],
          "name": "stdout"
        }
      ]
    },
    {
      "cell_type": "code",
      "metadata": {
        "id": "ICIBQ_qGlnKd",
        "colab": {
          "base_uri": "https://localhost:8080/",
          "height": 34
        },
        "outputId": "d1acdfdc-3ce5-4c12-8b96-bff54f7b0b6a"
      },
      "source": [
        "a=10\n",
        "a+=1\n",
        "print(a)"
      ],
      "execution_count": null,
      "outputs": [
        {
          "output_type": "stream",
          "text": [
            "11\n"
          ],
          "name": "stdout"
        }
      ]
    },
    {
      "cell_type": "code",
      "metadata": {
        "id": "juJ3fL0cmWyO",
        "colab": {
          "base_uri": "https://localhost:8080/",
          "height": 34
        },
        "outputId": "4dcd4bf7-7341-402b-e953-28618d4e884f"
      },
      "source": [
        "a=10\n",
        "a-=1\n",
        "print(a)"
      ],
      "execution_count": null,
      "outputs": [
        {
          "output_type": "stream",
          "text": [
            "9\n"
          ],
          "name": "stdout"
        }
      ]
    },
    {
      "cell_type": "code",
      "metadata": {
        "id": "h7GsznQtmeeW",
        "colab": {
          "base_uri": "https://localhost:8080/",
          "height": 34
        },
        "outputId": "8d2473fb-5fd4-4b13-dd43-e8f0ad2317dd"
      },
      "source": [
        "a=10\n",
        "a*=3\n",
        "print(a)"
      ],
      "execution_count": null,
      "outputs": [
        {
          "output_type": "stream",
          "text": [
            "30\n"
          ],
          "name": "stdout"
        }
      ]
    },
    {
      "cell_type": "code",
      "metadata": {
        "id": "I2-gCIPhmuaN",
        "colab": {
          "base_uri": "https://localhost:8080/",
          "height": 34
        },
        "outputId": "c2ebbabe-7a7a-4e8b-b366-01fb0eb81c82"
      },
      "source": [
        "a=10\n",
        "a/=2\n",
        "print(a)"
      ],
      "execution_count": null,
      "outputs": [
        {
          "output_type": "stream",
          "text": [
            "5.0\n"
          ],
          "name": "stdout"
        }
      ]
    },
    {
      "cell_type": "markdown",
      "metadata": {
        "id": "ToLuoJSfhFxt"
      },
      "source": [
        "##Condicionales"
      ]
    },
    {
      "cell_type": "code",
      "metadata": {
        "id": "dAeDGJbRg-Qi",
        "colab": {
          "base_uri": "https://localhost:8080/",
          "height": 34
        },
        "outputId": "858c9a5b-7662-4d0a-e13a-61b257362d86"
      },
      "source": [
        "calificacion=6\n",
        "if calificacion>=6:\n",
        "  print(\"Aprobado\")\n",
        "else:\n",
        "  print(\"No aprobado\")"
      ],
      "execution_count": null,
      "outputs": [
        {
          "output_type": "stream",
          "text": [
            "Aprobado\n"
          ],
          "name": "stdout"
        }
      ]
    },
    {
      "cell_type": "code",
      "metadata": {
        "id": "4fAeNC3liEpU",
        "colab": {
          "base_uri": "https://localhost:8080/",
          "height": 34
        },
        "outputId": "03f7e499-9ca6-473e-d88c-9c504dbc4c36"
      },
      "source": [
        "edad=20\n",
        "if edad>=60:\n",
        "  print(\"Adulto mayor\")\n",
        "elif edad>=18:\n",
        "  print(\"Adulto\")\n",
        "else:\n",
        "  print(\"Menor\")"
      ],
      "execution_count": null,
      "outputs": [
        {
          "output_type": "stream",
          "text": [
            "Adulto\n"
          ],
          "name": "stdout"
        }
      ]
    },
    {
      "cell_type": "code",
      "metadata": {
        "id": "4VZM147fiqNr",
        "colab": {
          "base_uri": "https://localhost:8080/",
          "height": 34
        },
        "outputId": "099895f6-f6fc-4764-b6f4-ad07464fdd30"
      },
      "source": [
        "a,b,c=-1,0,1\n",
        "\n",
        "if a>b and a>c:\n",
        "  print(a)\n",
        "\n",
        "if b>a and b>c:\n",
        "  print(b)\n",
        "\n",
        "if c>a and c>b:\n",
        "  print(c)"
      ],
      "execution_count": null,
      "outputs": [
        {
          "output_type": "stream",
          "text": [
            "1\n"
          ],
          "name": "stdout"
        }
      ]
    },
    {
      "cell_type": "markdown",
      "metadata": {
        "id": "td9OAzqTjZ92"
      },
      "source": [
        "varificar si x esta en el rango [-5,5]"
      ]
    },
    {
      "cell_type": "code",
      "metadata": {
        "id": "TpZUn4Zqjf40",
        "colab": {
          "base_uri": "https://localhost:8080/",
          "height": 34
        },
        "outputId": "3e7dcddd-4002-48bf-e254-78c6def20b00"
      },
      "source": [
        "x=0\n",
        "if x>=-5 and x<=5:\n",
        "  print(\"x se encuentra en el rango\")"
      ],
      "execution_count": null,
      "outputs": [
        {
          "output_type": "stream",
          "text": [
            "x se encuentra en el rango\n"
          ],
          "name": "stdout"
        }
      ]
    },
    {
      "cell_type": "markdown",
      "metadata": {
        "id": "Nb8mAz3tXz5o"
      },
      "source": [
        "Calcular el calor necesario para llevar 100g de Metanol de la temperatura $t_1$ a una temperatura $t_2$, considerar el calor sensible y calor latente.\n",
        "\n",
        "$$\n",
        "\\begin{array}{cr|cr|c}\n",
        "\\text{Q sensible}&\\text{Q latente fusión}&\\text{Q sensible}&\\text{Q latente ebullición}&\\text{Q sensible}\\\\\n",
        "\\hline\n",
        "Q=mCp\\Delta T&Q=\\lambda_f m &Q=mCp\\Delta T&Q=\\lambda_e m &Q=mCp\\Delta T\n",
        "\\end{array}\\\\\n",
        "Cp=1.37 J/g^{\\circ}C\\\\\n",
        "\\lambda_f=103 J/g\\\\\n",
        "\\lambda_e=1129 J/g\\\\\n",
        "m=100g\\\\\n",
        "T_f=-97.8^{\\circ}C\\\\\n",
        "T_e=64.7^{\\circ}C\n",
        "$$\n"
      ]
    },
    {
      "cell_type": "code",
      "metadata": {
        "id": "Z6RoCf16YHLO",
        "colab": {
          "base_uri": "https://localhost:8080/",
          "height": 35
        },
        "outputId": "38188257-cfba-46ad-f7c3-a6ab42a9e0b2"
      },
      "source": [
        "Cp=1.37\n",
        "Tf,Te=-97.8,64.7\n",
        "m=100\n",
        "Lf,Le=103,1129\n",
        "T1,T2=-100,100\n",
        "\n",
        "if T1<Tf and T2>Te:\n",
        "  Q=m*Cp*(Tf-T1)+Lf*m+m*Cp*(Te-Tf)+Le*m+m*Cp*(T2-Te)\n",
        "\n",
        "if T1<Tf and T2==Te:\n",
        "  Q=m*Cp*(Tf-T1)+Lf*m+m*Cp*(Te-Tf)+Le*m\n",
        "\n",
        "if T1<Tf and T2<Te:\n",
        "  Q=m*Cp*(Tf-T1)+Lf*m+m*Cp*(T2-Tf)\n",
        "\n",
        "if T1<Tf and T2==Tf:\n",
        "  Q=m*Cp*(Tf-T1)+Lf*m\n",
        "\n",
        "if T1<Tf and T2<Tf:\n",
        "  Q=m*Cp*(T2-T1)\n",
        "print(Q,'J')"
      ],
      "execution_count": null,
      "outputs": [
        {
          "output_type": "stream",
          "text": [
            "150600.0 J\n"
          ],
          "name": "stdout"
        }
      ]
    },
    {
      "cell_type": "markdown",
      "metadata": {
        "id": "EwSgVGiOj_sd"
      },
      "source": [
        "##Circuito de conteo `for`"
      ]
    },
    {
      "cell_type": "code",
      "metadata": {
        "id": "9QZWPvT9juHw",
        "colab": {
          "base_uri": "https://localhost:8080/",
          "height": 102
        },
        "outputId": "38cd2398-fd87-4b2a-87f7-79d026849c63"
      },
      "source": [
        "for contador in range(5):\n",
        "  print(contador)"
      ],
      "execution_count": null,
      "outputs": [
        {
          "output_type": "stream",
          "text": [
            "0\n",
            "1\n",
            "2\n",
            "3\n",
            "4\n"
          ],
          "name": "stdout"
        }
      ]
    },
    {
      "cell_type": "code",
      "metadata": {
        "id": "t-51raAQ-Q_1",
        "outputId": "7815413d-a125-430d-aaf9-c9d7cb551b7c",
        "colab": {
          "base_uri": "https://localhost:8080/"
        }
      },
      "source": [
        "for valor in (1,'hola',True,2-5j,3.1416):\r\n",
        "  print(valor)"
      ],
      "execution_count": 1,
      "outputs": [
        {
          "output_type": "stream",
          "text": [
            "1\n",
            "hola\n",
            "True\n",
            "(2-5j)\n",
            "3.1416\n"
          ],
          "name": "stdout"
        }
      ]
    },
    {
      "cell_type": "code",
      "metadata": {
        "id": "hL00FBxX-nQC",
        "outputId": "d261b6bd-82c4-400e-d87d-655cad3820eb",
        "colab": {
          "base_uri": "https://localhost:8080/"
        }
      },
      "source": [
        "lista=[3,12.1,\"pato\",False]\r\n",
        "for v in lista:\r\n",
        "  print(v)"
      ],
      "execution_count": 2,
      "outputs": [
        {
          "output_type": "stream",
          "text": [
            "3\n",
            "12.1\n",
            "pato\n",
            "False\n"
          ],
          "name": "stdout"
        }
      ]
    },
    {
      "cell_type": "code",
      "metadata": {
        "id": "fVeDh7kv-3WU",
        "outputId": "e106806d-0ce6-456d-8a51-fcf2cb12741f",
        "colab": {
          "base_uri": "https://localhost:8080/"
        }
      },
      "source": [
        "lista1=['rojo','blanco','amarillo']\r\n",
        "lista2=[10,20,30]\r\n",
        "\r\n",
        "for v in zip(lista1,lista2):\r\n",
        "  print(v[0],v[1])"
      ],
      "execution_count": 3,
      "outputs": [
        {
          "output_type": "stream",
          "text": [
            "rojo 10\n",
            "blanco 20\n",
            "amarillo 30\n"
          ],
          "name": "stdout"
        }
      ]
    },
    {
      "cell_type": "code",
      "metadata": {
        "id": "AlWn3B-o_6GU",
        "outputId": "6578340c-b68b-42b0-c169-bf95cb36e608",
        "colab": {
          "base_uri": "https://localhost:8080/"
        }
      },
      "source": [
        "for color in lista1:\r\n",
        "  for valor in lista2:\r\n",
        "    print(color,valor)"
      ],
      "execution_count": 4,
      "outputs": [
        {
          "output_type": "stream",
          "text": [
            "rojo 10\n",
            "rojo 20\n",
            "rojo 30\n",
            "blanco 10\n",
            "blanco 20\n",
            "blanco 30\n",
            "amarillo 10\n",
            "amarillo 20\n",
            "amarillo 30\n"
          ],
          "name": "stdout"
        }
      ]
    },
    {
      "cell_type": "markdown",
      "metadata": {
        "id": "eAEGvFCbkbxX"
      },
      "source": [
        "Sumar los valores aleatorios mayores a 0.5 y menores a 0.5"
      ]
    },
    {
      "cell_type": "code",
      "metadata": {
        "id": "jwteyM-nkOh7",
        "colab": {
          "base_uri": "https://localhost:8080/",
          "height": 51
        },
        "outputId": "5ee2a1f4-fbe6-436b-beea-9cc459eb5d08"
      },
      "source": [
        "import numpy as np\n",
        "\n",
        "mayores=menores=0\n",
        "for i in range(50):\n",
        "  valor=np.random.rand()\n",
        "  if valor>0.5:\n",
        "    mayores+=valor\n",
        "  if valor<0.5:\n",
        "    menores+=valor\n",
        "\n",
        "print(mayores)\n",
        "print(menores)"
      ],
      "execution_count": null,
      "outputs": [
        {
          "output_type": "stream",
          "text": [
            "21.38811277586318\n",
            "4.492662888279209\n"
          ],
          "name": "stdout"
        }
      ]
    },
    {
      "cell_type": "markdown",
      "metadata": {
        "id": "nWnM75yqndyI"
      },
      "source": [
        "##Circuitos condicionales `while`"
      ]
    },
    {
      "cell_type": "markdown",
      "metadata": {
        "id": "lAo4w5mKnwUt"
      },
      "source": [
        "sumar numeros aleatorios mientras la suma sea menor a 100"
      ]
    },
    {
      "cell_type": "code",
      "metadata": {
        "id": "KE9e2CEMnkTP",
        "colab": {
          "base_uri": "https://localhost:8080/",
          "height": 51
        },
        "outputId": "278012a9-2420-4219-a278-c90d37b5aa2e"
      },
      "source": [
        "suma=0\n",
        "contador=0\n",
        "while suma<100:\n",
        "  valor=np.random.rand()\n",
        "  suma+=valor\n",
        "  contador+=1\n",
        "\n",
        "print(suma)\n",
        "print(contador)"
      ],
      "execution_count": null,
      "outputs": [
        {
          "output_type": "stream",
          "text": [
            "100.8353478691573\n",
            "207\n"
          ],
          "name": "stdout"
        }
      ]
    },
    {
      "cell_type": "code",
      "metadata": {
        "id": "rmio2-5aoH63"
      },
      "source": [
        ""
      ],
      "execution_count": null,
      "outputs": []
    }
  ]
}