{
  "nbformat": 4,
  "nbformat_minor": 0,
  "metadata": {
    "colab": {
      "name": "unidades.ipynb",
      "provenance": [],
      "collapsed_sections": [],
      "authorship_tag": "ABX9TyM+2RDXsOj23ZlCHvbBgWBK",
      "include_colab_link": true
    },
    "kernelspec": {
      "name": "python3",
      "display_name": "Python 3"
    }
  },
  "cells": [
    {
      "cell_type": "markdown",
      "metadata": {
        "id": "view-in-github",
        "colab_type": "text"
      },
      "source": [
        "<a href=\"https://colab.research.google.com/github/jcjimenezb123/ProgramacionPython/blob/master/unidades.ipynb\" target=\"_parent\"><img src=\"https://colab.research.google.com/assets/colab-badge.svg\" alt=\"Open In Colab\"/></a>"
      ]
    },
    {
      "cell_type": "code",
      "metadata": {
        "colab": {
          "base_uri": "https://localhost:8080/"
        },
        "id": "IeJ68MSOSTIO",
        "outputId": "e80910b9-6eab-4c5f-d887-d2bf6987894d"
      },
      "source": [
        "!pip install pint"
      ],
      "execution_count": 1,
      "outputs": [
        {
          "output_type": "stream",
          "text": [
            "Collecting pint\n",
            "\u001b[?25l  Downloading https://files.pythonhosted.org/packages/5f/0e/dd4fb17aed6bfbc168fd767cffb6ec20b634009b75fd8ea699ea244bff3c/Pint-0.16.1-py2.py3-none-any.whl (205kB)\n",
            "\r\u001b[K     |█▋                              | 10kB 10.7MB/s eta 0:00:01\r\u001b[K     |███▏                            | 20kB 14.0MB/s eta 0:00:01\r\u001b[K     |████▊                           | 30kB 7.9MB/s eta 0:00:01\r\u001b[K     |██████▍                         | 40kB 8.2MB/s eta 0:00:01\r\u001b[K     |████████                        | 51kB 7.0MB/s eta 0:00:01\r\u001b[K     |█████████▌                      | 61kB 7.4MB/s eta 0:00:01\r\u001b[K     |███████████▏                    | 71kB 6.1MB/s eta 0:00:01\r\u001b[K     |████████████▊                   | 81kB 6.1MB/s eta 0:00:01\r\u001b[K     |██████████████▎                 | 92kB 6.3MB/s eta 0:00:01\r\u001b[K     |████████████████                | 102kB 6.4MB/s eta 0:00:01\r\u001b[K     |█████████████████▌              | 112kB 6.4MB/s eta 0:00:01\r\u001b[K     |███████████████████             | 122kB 6.4MB/s eta 0:00:01\r\u001b[K     |████████████████████▊           | 133kB 6.4MB/s eta 0:00:01\r\u001b[K     |██████████████████████▎         | 143kB 6.4MB/s eta 0:00:01\r\u001b[K     |███████████████████████▉        | 153kB 6.4MB/s eta 0:00:01\r\u001b[K     |█████████████████████████▌      | 163kB 6.4MB/s eta 0:00:01\r\u001b[K     |███████████████████████████     | 174kB 6.4MB/s eta 0:00:01\r\u001b[K     |████████████████████████████▋   | 184kB 6.4MB/s eta 0:00:01\r\u001b[K     |██████████████████████████████▎ | 194kB 6.4MB/s eta 0:00:01\r\u001b[K     |███████████████████████████████▉| 204kB 6.4MB/s eta 0:00:01\r\u001b[K     |████████████████████████████████| 215kB 6.4MB/s \n",
            "\u001b[?25hRequirement already satisfied: importlib-metadata; python_version < \"3.8\" in /usr/local/lib/python3.7/dist-packages (from pint) (3.7.2)\n",
            "Requirement already satisfied: packaging in /usr/local/lib/python3.7/dist-packages (from pint) (20.9)\n",
            "Requirement already satisfied: zipp>=0.5 in /usr/local/lib/python3.7/dist-packages (from importlib-metadata; python_version < \"3.8\"->pint) (3.4.1)\n",
            "Requirement already satisfied: typing-extensions>=3.6.4; python_version < \"3.8\" in /usr/local/lib/python3.7/dist-packages (from importlib-metadata; python_version < \"3.8\"->pint) (3.7.4.3)\n",
            "Requirement already satisfied: pyparsing>=2.0.2 in /usr/local/lib/python3.7/dist-packages (from packaging->pint) (2.4.7)\n",
            "Installing collected packages: pint\n",
            "Successfully installed pint-0.16.1\n"
          ],
          "name": "stdout"
        }
      ]
    },
    {
      "cell_type": "markdown",
      "metadata": {
        "id": "mbF648n14-f7"
      },
      "source": [
        "https://github.com/hgrecco/pint/blob/master/pint/default_en.txt"
      ]
    },
    {
      "cell_type": "code",
      "metadata": {
        "id": "clk5k8VoPqxl"
      },
      "source": [
        "import pint"
      ],
      "execution_count": 2,
      "outputs": []
    },
    {
      "cell_type": "code",
      "metadata": {
        "id": "Hq6-skSKSRiB"
      },
      "source": [
        "u=pint.UnitRegistry()\r\n",
        "Q=u.Quantity"
      ],
      "execution_count": 3,
      "outputs": []
    },
    {
      "cell_type": "code",
      "metadata": {
        "colab": {
          "base_uri": "https://localhost:8080/"
        },
        "id": "JmRa56IXShNA",
        "outputId": "223b1b59-515d-4852-c3a0-847424428ccc"
      },
      "source": [
        "v=Q(100,'km/hr')\r\n",
        "print(v)\r\n",
        "print(v.units)\r\n",
        "print(v.magnitude)"
      ],
      "execution_count": 20,
      "outputs": [
        {
          "output_type": "stream",
          "text": [
            "100 kilometer / hour\n",
            "kilometer / hour\n",
            "100\n"
          ],
          "name": "stdout"
        }
      ]
    },
    {
      "cell_type": "code",
      "metadata": {
        "colab": {
          "base_uri": "https://localhost:8080/",
          "height": 35
        },
        "id": "aRX4pyQvSpF9",
        "outputId": "ff6256ff-e804-46c6-fadb-735e9e92d063"
      },
      "source": [
        "v.to('in/s')"
      ],
      "execution_count": null,
      "outputs": [
        {
          "output_type": "execute_result",
          "data": {
            "text/latex": "$1093.6132983377079\\ \\frac{\\mathrm{inch}}{\\mathrm{second}}$",
            "text/html": [
              "1093.6132983377079 inch/second"
            ],
            "text/plain": [
              "1093.6132983377079 inch/second"
            ]
          },
          "metadata": {
            "tags": []
          },
          "execution_count": 22
        }
      ]
    },
    {
      "cell_type": "code",
      "metadata": {
        "colab": {
          "base_uri": "https://localhost:8080/"
        },
        "id": "FmgLgfngcRVy",
        "outputId": "0ae0284d-03d5-45f6-8cb0-ea669fc663df"
      },
      "source": [
        "a=Q(3,'m')\r\n",
        "b=Q(3,'in')\r\n",
        "print(a+b)\r\n",
        "print(Q(1/2,'turn').to('degree'))"
      ],
      "execution_count": 13,
      "outputs": [
        {
          "output_type": "stream",
          "text": [
            "3.0762 meter\n",
            "180.0 degree\n"
          ],
          "name": "stdout"
        }
      ]
    },
    {
      "cell_type": "code",
      "metadata": {
        "colab": {
          "base_uri": "https://localhost:8080/",
          "height": 35
        },
        "id": "u3AY6P6bcxNb",
        "outputId": "7474977a-d002-4228-a42a-a881c679bf28"
      },
      "source": [
        "(a+b).to('cm')"
      ],
      "execution_count": null,
      "outputs": [
        {
          "output_type": "execute_result",
          "data": {
            "text/latex": "$307.62\\ \\mathrm{centimeter}$",
            "text/html": [
              "307.62 centimeter"
            ],
            "text/plain": [
              "307.62 centimeter"
            ]
          },
          "metadata": {
            "tags": []
          },
          "execution_count": 51
        }
      ]
    },
    {
      "cell_type": "code",
      "metadata": {
        "colab": {
          "base_uri": "https://localhost:8080/",
          "height": 35
        },
        "id": "VpiNNqv_j75I",
        "outputId": "353d0cbd-58d8-4b5b-e339-64614b27a6b4"
      },
      "source": [
        "T1=Q(50,'degR')\r\n",
        "T2=Q(100,'°F')\r\n",
        "(T2-T1).to('celsius')"
      ],
      "execution_count": null,
      "outputs": [
        {
          "output_type": "execute_result",
          "data": {
            "text/latex": "$10.000000000000057\\ \\mathrm{degree\\_Celsius}$",
            "text/html": [
              "10.000000000000057 degree_Celsius"
            ],
            "text/plain": [
              "10.000000000000057 degree_Celsius"
            ]
          },
          "metadata": {
            "tags": []
          },
          "execution_count": 104
        }
      ]
    },
    {
      "cell_type": "code",
      "metadata": {
        "colab": {
          "base_uri": "https://localhost:8080/",
          "height": 35
        },
        "id": "5uOSsB1vls1N",
        "outputId": "849fc492-3b14-4a06-dbcc-016bb909daef"
      },
      "source": [
        "d=Q(100,'km')\r\n",
        "t=Q(2,'hr')\r\n",
        "v=d/t\r\n",
        "v"
      ],
      "execution_count": null,
      "outputs": [
        {
          "output_type": "execute_result",
          "data": {
            "text/latex": "$50.0\\ \\frac{\\mathrm{kilometer}}{\\mathrm{hour}}$",
            "text/html": [
              "50.0 kilometer/hour"
            ],
            "text/plain": [
              "50.0 kilometer/hour"
            ]
          },
          "metadata": {
            "tags": []
          },
          "execution_count": 64
        }
      ]
    },
    {
      "cell_type": "code",
      "metadata": {
        "colab": {
          "base_uri": "https://localhost:8080/",
          "height": 35
        },
        "id": "8hGoXtkSl7Y5",
        "outputId": "e028b40b-8ce4-4544-9fa8-67f94521e181"
      },
      "source": [
        "L1=Q(110,'cm')\r\n",
        "L2=Q(30,'in')\r\n",
        "A=L1+L2\r\n",
        "A.to('m')"
      ],
      "execution_count": null,
      "outputs": [
        {
          "output_type": "execute_result",
          "data": {
            "text/latex": "$1.8619999999999999\\ \\mathrm{meter}$",
            "text/html": [
              "1.8619999999999999 meter"
            ],
            "text/plain": [
              "1.8619999999999999 meter"
            ]
          },
          "metadata": {
            "tags": []
          },
          "execution_count": 10
        }
      ]
    },
    {
      "cell_type": "code",
      "metadata": {
        "id": "-HuDDR9dTYlC"
      },
      "source": [
        "R=Q(0.08205746,'atm l/mol/K')"
      ],
      "execution_count": null,
      "outputs": []
    },
    {
      "cell_type": "code",
      "metadata": {
        "colab": {
          "base_uri": "https://localhost:8080/",
          "height": 35
        },
        "id": "Q8znD2V3ToPq",
        "outputId": "f5910950-3c74-4159-ea46-bb3cbef464d3"
      },
      "source": [
        "R.to('J/(mol K)')"
      ],
      "execution_count": null,
      "outputs": [
        {
          "output_type": "execute_result",
          "data": {
            "text/latex": "$8.314472134500003\\ \\frac{\\mathrm{joule}}{\\left(\\mathrm{kelvin} \\cdot \\mathrm{mole}\\right)}$",
            "text/html": [
              "8.314472134500003 joule/(kelvin mole)"
            ],
            "text/plain": [
              "8.314472134500003 joule/kelvin/mole"
            ]
          },
          "metadata": {
            "tags": []
          },
          "execution_count": 52
        }
      ]
    },
    {
      "cell_type": "code",
      "metadata": {
        "colab": {
          "base_uri": "https://localhost:8080/",
          "height": 35
        },
        "id": "ibLN44SRTyO6",
        "outputId": "e0e8ac1c-ba7a-4e4a-e1ae-87034ac3ae79"
      },
      "source": [
        "R.to('cal/mol/K')"
      ],
      "execution_count": null,
      "outputs": [
        {
          "output_type": "execute_result",
          "data": {
            "text/latex": "$1.987206533102295\\ \\frac{\\mathrm{calorie}}{\\left(\\mathrm{kelvin} \\cdot \\mathrm{mole}\\right)}$",
            "text/html": [
              "1.987206533102295 calorie/(kelvin mole)"
            ],
            "text/plain": [
              "1.987206533102295 calorie/kelvin/mole"
            ]
          },
          "metadata": {
            "tags": []
          },
          "execution_count": 53
        }
      ]
    },
    {
      "cell_type": "code",
      "metadata": {
        "colab": {
          "base_uri": "https://localhost:8080/",
          "height": 35
        },
        "id": "cyLlVu6JUBNJ",
        "outputId": "0650a5dc-7de6-4716-ab17-89ae6ae41763"
      },
      "source": [
        "R.to('mmHg l/mol/K')"
      ],
      "execution_count": null,
      "outputs": [
        {
          "output_type": "execute_result",
          "data": {
            "text/latex": "$62.36366071527869\\ \\frac{\\mathrm{liter} \\cdot \\mathrm{millimeter\\_Hg}}{\\left(\\mathrm{kelvin} \\cdot \\mathrm{mole}\\right)}$",
            "text/html": [
              "62.36366071527869 liter millimeter_Hg/(kelvin mole)"
            ],
            "text/plain": [
              "62.36366071527869 liter·millimeter_Hg/kelvin/mole"
            ]
          },
          "metadata": {
            "tags": []
          },
          "execution_count": 54
        }
      ]
    },
    {
      "cell_type": "markdown",
      "metadata": {
        "id": "k1ol-J4RX4m4"
      },
      "source": [
        "Calcular el trabajo en un proceso isotermico reversible con los siguientes datos\r\n",
        "* $n=2\\cdot mol$\r\n",
        "* $T=300\\cdot C$\r\n",
        "* $R=0.08205746\\cdot atm\\cdot l/mol \\cdot K$\r\n",
        "* $V_1=1\\cdot l$ \r\n",
        "* $V_2=0.5\\cdot l$\r\n",
        "\r\n",
        "el trabajo se calcula con la siguiente ecuacion\r\n",
        "$$\r\n",
        "W=-nRTln\\left(\\frac{V_2}{V_1}\\right)\r\n",
        "$$\r\n",
        "expresar el resultado en unidades $joule$"
      ]
    },
    {
      "cell_type": "code",
      "metadata": {
        "id": "VT745h1BV7YM"
      },
      "source": [
        "import math"
      ],
      "execution_count": null,
      "outputs": []
    },
    {
      "cell_type": "code",
      "metadata": {
        "colab": {
          "base_uri": "https://localhost:8080/",
          "height": 35
        },
        "id": "9g7Gl7yKUJbw",
        "outputId": "d620ee1c-81e6-4d83-ffb3-b7e9c3e57a90"
      },
      "source": [
        "R=Q(0.08205746,'atm l/mol/K')\r\n",
        "V1=Q(1,'l')\r\n",
        "V2=Q(0.5,'l')\r\n",
        "n=Q(2,'mol')\r\n",
        "T=Q(300,'degC')\r\n",
        "w=-n*R.to('J/mol/K')*T.to('K')*math.log(V2/V1)\r\n",
        "w"
      ],
      "execution_count": null,
      "outputs": [
        {
          "output_type": "execute_result",
          "data": {
            "text/latex": "$6606.302189757713\\ \\mathrm{joule}$",
            "text/html": [
              "6606.302189757713 joule"
            ],
            "text/plain": [
              "6606.302189757713 joule"
            ]
          },
          "metadata": {
            "tags": []
          },
          "execution_count": 43
        }
      ]
    },
    {
      "cell_type": "markdown",
      "metadata": {
        "id": "9CHKDY5g9evE"
      },
      "source": [
        "https://docs.scipy.org/doc/scipy/reference/constants.html#scipy.constants.physical_constants"
      ]
    },
    {
      "cell_type": "code",
      "metadata": {
        "id": "MiGeuiGKU8AM"
      },
      "source": [
        "import scipy.constants as cons"
      ],
      "execution_count": 14,
      "outputs": []
    },
    {
      "cell_type": "code",
      "metadata": {
        "colab": {
          "base_uri": "https://localhost:8080/"
        },
        "id": "0QiMwoSU75-Y",
        "outputId": "ff43318e-422f-4958-c4c9-00457f30ecb5"
      },
      "source": [
        "cons.value(u'molar gas constant')"
      ],
      "execution_count": 15,
      "outputs": [
        {
          "output_type": "execute_result",
          "data": {
            "text/plain": [
              "8.314462618"
            ]
          },
          "metadata": {
            "tags": []
          },
          "execution_count": 15
        }
      ]
    },
    {
      "cell_type": "code",
      "metadata": {
        "colab": {
          "base_uri": "https://localhost:8080/",
          "height": 35
        },
        "id": "NWw8ZFui_tiP",
        "outputId": "7af98982-36f3-4484-f8b2-a86333d99774"
      },
      "source": [
        "cons.unit(u'molar gas constant')"
      ],
      "execution_count": 16,
      "outputs": [
        {
          "output_type": "execute_result",
          "data": {
            "application/vnd.google.colaboratory.intrinsic+json": {
              "type": "string"
            },
            "text/plain": [
              "'J mol^-1 K^-1'"
            ]
          },
          "metadata": {
            "tags": []
          },
          "execution_count": 16
        }
      ]
    },
    {
      "cell_type": "code",
      "metadata": {
        "colab": {
          "base_uri": "https://localhost:8080/",
          "height": 34
        },
        "id": "J-jFWArg_5-q",
        "outputId": "91dd66f7-7270-4e11-c101-22e77e54b59e"
      },
      "source": [
        "R=Q(cons.value(u'molar gas constant'),\r\n",
        "    cons.unit(u'molar gas constant')).to('atm l/(mol K)')\r\n",
        "R"
      ],
      "execution_count": 18,
      "outputs": [
        {
          "output_type": "execute_result",
          "data": {
            "text/latex": "$0.08205736607944732\\ \\frac{\\mathrm{liter} \\cdot \\mathrm{standard\\_atmosphere}}{\\left(\\mathrm{kelvin} \\cdot \\mathrm{mole}\\right)}$",
            "text/html": [
              "0.08205736607944732 liter standard_atmosphere/(kelvin mole)"
            ],
            "text/plain": [
              "0.08205736607944732 liter·standard_atmosphere/kelvin/mole"
            ]
          },
          "metadata": {
            "tags": []
          },
          "execution_count": 18
        }
      ]
    },
    {
      "cell_type": "code",
      "metadata": {
        "id": "06NGdjX6BXU6",
        "outputId": "5699d0dd-700a-46e0-eb54-709cd824fc8e",
        "colab": {
          "base_uri": "https://localhost:8080/"
        }
      },
      "source": [
        "cons.value(u'Avogadro constant')"
      ],
      "execution_count": 19,
      "outputs": [
        {
          "output_type": "execute_result",
          "data": {
            "text/plain": [
              "6.02214076e+23"
            ]
          },
          "metadata": {
            "tags": []
          },
          "execution_count": 19
        }
      ]
    },
    {
      "cell_type": "code",
      "metadata": {
        "colab": {
          "base_uri": "https://localhost:8080/"
        },
        "id": "yeXze65UnKBi",
        "outputId": "0e57f34b-0af8-4c0c-dc5b-631e75d7e40c"
      },
      "source": [
        "cons.value(u'speed of light in vacuum')"
      ],
      "execution_count": null,
      "outputs": [
        {
          "output_type": "execute_result",
          "data": {
            "text/plain": [
              "299792458.0"
            ]
          },
          "metadata": {
            "tags": []
          },
          "execution_count": 125
        }
      ]
    },
    {
      "cell_type": "code",
      "metadata": {
        "colab": {
          "base_uri": "https://localhost:8080/",
          "height": 35
        },
        "id": "mPanSY358MyM",
        "outputId": "797a8b64-f28a-4708-b1f8-992510e6ae0d"
      },
      "source": [
        "cons.unit(u'speed of light in vacuum')"
      ],
      "execution_count": null,
      "outputs": [
        {
          "output_type": "execute_result",
          "data": {
            "application/vnd.google.colaboratory.intrinsic+json": {
              "type": "string"
            },
            "text/plain": [
              "'m s^-1'"
            ]
          },
          "metadata": {
            "tags": []
          },
          "execution_count": 126
        }
      ]
    },
    {
      "cell_type": "code",
      "metadata": {
        "colab": {
          "base_uri": "https://localhost:8080/",
          "height": 35
        },
        "id": "8LtvooNsnOtB",
        "outputId": "6e47ed59-c607-4d36-fa19-4ef056546e2e"
      },
      "source": [
        "c=Q(cons.value(u'speed of light in vacuum'),\r\n",
        "    cons.unit(u'speed of light in vacuum'))\r\n",
        "c"
      ],
      "execution_count": null,
      "outputs": [
        {
          "output_type": "execute_result",
          "data": {
            "text/latex": "$299792458.0\\ \\frac{\\mathrm{meter}}{\\mathrm{second}}$",
            "text/html": [
              "299792458.0 meter/second"
            ],
            "text/plain": [
              "299792458.0 meter/second"
            ]
          },
          "metadata": {
            "tags": []
          },
          "execution_count": 129
        }
      ]
    },
    {
      "cell_type": "code",
      "metadata": {
        "colab": {
          "base_uri": "https://localhost:8080/",
          "height": 35
        },
        "id": "tC1_FwqJnV0F",
        "outputId": "faf8e9d5-bbcf-4359-9c1a-e64fe9b296b2"
      },
      "source": [
        "añosluz=c*Q(1,'year')\r\n",
        "añosluz.to('km')"
      ],
      "execution_count": null,
      "outputs": [
        {
          "output_type": "execute_result",
          "data": {
            "text/latex": "$9460730472580.8\\ \\mathrm{kilometer}$",
            "text/html": [
              "9460730472580.8 kilometer"
            ],
            "text/plain": [
              "9460730472580.8 kilometer"
            ]
          },
          "metadata": {
            "tags": []
          },
          "execution_count": 135
        }
      ]
    },
    {
      "cell_type": "code",
      "metadata": {
        "colab": {
          "base_uri": "https://localhost:8080/",
          "height": 37
        },
        "id": "4ADtt6MDI49f",
        "outputId": "75b74c35-49da-4910-ba37-72756febb076"
      },
      "source": [
        "g=Q(cons.value('standard acceleration of gravity'),\r\n",
        "    cons.unit('standard acceleration of gravity'))\r\n",
        "g"
      ],
      "execution_count": null,
      "outputs": [
        {
          "output_type": "execute_result",
          "data": {
            "text/latex": "$9.80665\\ \\frac{\\mathrm{meter}}{\\mathrm{second}^{2}}$",
            "text/html": [
              "9.80665 meter/second<sup>2</sup>"
            ],
            "text/plain": [
              "9.80665 meter/second²"
            ]
          },
          "metadata": {
            "tags": []
          },
          "execution_count": 130
        }
      ]
    },
    {
      "cell_type": "code",
      "metadata": {
        "colab": {
          "base_uri": "https://localhost:8080/",
          "height": 37
        },
        "id": "dhIfL-_qJi_S",
        "outputId": "9c7b82f2-b39d-4887-accf-668e14b753a9"
      },
      "source": [
        "h=Q(cons.value('Planck constant'),cons.unit('Planck constant'))\r\n",
        "h"
      ],
      "execution_count": null,
      "outputs": [
        {
          "output_type": "execute_result",
          "data": {
            "text/latex": "$6.62607015\\times 10^{-34}\\ \\frac{\\mathrm{joule}}{\\mathrm{hertz}}$",
            "text/html": [
              "6.62607015×10<sup>-34</sup> joule/hertz"
            ],
            "text/plain": [
              "6.62607015e-34 joule/hertz"
            ]
          },
          "metadata": {
            "tags": []
          },
          "execution_count": 133
        }
      ]
    },
    {
      "cell_type": "code",
      "metadata": {
        "colab": {
          "base_uri": "https://localhost:8080/"
        },
        "id": "U39YJMscoOgE",
        "outputId": "4c1920cf-82a2-4c8d-817e-89fe0d3c587e"
      },
      "source": [
        "!pip install molmass"
      ],
      "execution_count": null,
      "outputs": [
        {
          "output_type": "stream",
          "text": [
            "Collecting molmass\n",
            "\u001b[?25l  Downloading https://files.pythonhosted.org/packages/4a/bc/5faafbf34aba10f7dff23415f8d0ad3507aeb567a3a75906b2ae60a07d02/molmass-2020.6.10-py3-none-any.whl (65kB)\n",
            "\r\u001b[K     |█████                           | 10kB 14.8MB/s eta 0:00:01\r\u001b[K     |██████████                      | 20kB 11.3MB/s eta 0:00:01\r\u001b[K     |███████████████                 | 30kB 8.4MB/s eta 0:00:01\r\u001b[K     |████████████████████            | 40kB 7.1MB/s eta 0:00:01\r\u001b[K     |█████████████████████████       | 51kB 4.3MB/s eta 0:00:01\r\u001b[K     |██████████████████████████████  | 61kB 4.9MB/s eta 0:00:01\r\u001b[K     |████████████████████████████████| 71kB 3.4MB/s \n",
            "\u001b[?25hInstalling collected packages: molmass\n",
            "Successfully installed molmass-2020.6.10\n"
          ],
          "name": "stdout"
        }
      ]
    },
    {
      "cell_type": "markdown",
      "metadata": {
        "id": "lZZ6_pSj7jB8"
      },
      "source": [
        "https://pypi.org/project/molmass/"
      ]
    },
    {
      "cell_type": "markdown",
      "metadata": {
        "id": "kGriEh-YqOmS"
      },
      "source": [
        "Determinar la densidad de $5\\cdot mol$ de $CO_2$ contenidos en un tanque de $3\\cdot l$, exprese las unidades en $kg/l$"
      ]
    },
    {
      "cell_type": "code",
      "metadata": {
        "id": "3bPVM-7qnpR9"
      },
      "source": [
        "from molmass import Formula"
      ],
      "execution_count": null,
      "outputs": []
    },
    {
      "cell_type": "code",
      "metadata": {
        "colab": {
          "base_uri": "https://localhost:8080/"
        },
        "id": "JxqINlVKoKwa",
        "outputId": "a5fbbaa3-0454-474e-a7c7-73741840632a"
      },
      "source": [
        "CO2=Formula('CO2')\r\n",
        "CO2.mass"
      ],
      "execution_count": null,
      "outputs": [
        {
          "output_type": "execute_result",
          "data": {
            "text/plain": [
              "44.00955"
            ]
          },
          "metadata": {
            "tags": []
          },
          "execution_count": 81
        }
      ]
    },
    {
      "cell_type": "code",
      "metadata": {
        "colab": {
          "base_uri": "https://localhost:8080/"
        },
        "id": "WwtZFkl76bvO",
        "outputId": "7238cea4-7a52-4de2-a3e1-63869d9e8e27"
      },
      "source": [
        "print(CO2.composition())"
      ],
      "execution_count": null,
      "outputs": [
        {
          "output_type": "stream",
          "text": [
            "Element  Number  Relative mass  Fraction %\n",
            "C             1      12.010740     27.2912\n",
            "O             2      31.998810     72.7088\n",
            "Total:        3      44.009550    100.0000\n"
          ],
          "name": "stdout"
        }
      ]
    },
    {
      "cell_type": "code",
      "metadata": {
        "colab": {
          "base_uri": "https://localhost:8080/"
        },
        "id": "M1IDTXa36tFU",
        "outputId": "62ce5249-daf4-4038-9b45-def2f132a2d8"
      },
      "source": [
        "print(CO2.spectrum())"
      ],
      "execution_count": null,
      "outputs": [
        {
          "output_type": "stream",
          "text": [
            "Relative mass    Fraction %      Intensity\n",
            "43.989829         98.449784     100.000000\n",
            "44.993241          1.139810       1.157758\n",
            "45.994081          0.405453       0.411837\n",
            "46.997459          0.004531       0.004602\n",
            "47.998333          0.000417       0.000424\n",
            "49.001674          0.000004       0.000005\n"
          ],
          "name": "stdout"
        }
      ]
    },
    {
      "cell_type": "code",
      "metadata": {
        "colab": {
          "base_uri": "https://localhost:8080/",
          "height": 35
        },
        "id": "CVGOQQ42o-nX",
        "outputId": "874f475d-cab5-4ff2-8304-68011da449c0"
      },
      "source": [
        "masa=Q(CO2.mass,'g/mol')*Q(5,'mol')\r\n",
        "masa"
      ],
      "execution_count": null,
      "outputs": [
        {
          "output_type": "execute_result",
          "data": {
            "text/latex": "$220.04774999999998\\ \\mathrm{gram}$",
            "text/html": [
              "220.04774999999998 gram"
            ],
            "text/plain": [
              "220.04774999999998 gram"
            ]
          },
          "metadata": {
            "tags": []
          },
          "execution_count": 90
        }
      ]
    },
    {
      "cell_type": "code",
      "metadata": {
        "colab": {
          "base_uri": "https://localhost:8080/",
          "height": 35
        },
        "id": "ojptfPIhp5Xk",
        "outputId": "4e55f7e9-846a-4e51-80de-422960297994"
      },
      "source": [
        "densidad=masa/Q(3,'l')\r\n",
        "densidad.to('kg/l')"
      ],
      "execution_count": null,
      "outputs": [
        {
          "output_type": "execute_result",
          "data": {
            "text/latex": "$0.07334925\\ \\frac{\\mathrm{kilogram}}{\\mathrm{liter}}$",
            "text/html": [
              "0.07334925 kilogram/liter"
            ],
            "text/plain": [
              "0.07334925 kilogram/liter"
            ]
          },
          "metadata": {
            "tags": []
          },
          "execution_count": 91
        }
      ]
    },
    {
      "cell_type": "code",
      "metadata": {
        "colab": {
          "base_uri": "https://localhost:8080/"
        },
        "id": "DOKHcV6YqHF3",
        "outputId": "ff8d7840-1bd1-493b-d4b5-7445b57660fd"
      },
      "source": [
        "u.define('chafaldrana=1.234m=cha')\r\n",
        "print(Q(100,'cha').to('cm'))"
      ],
      "execution_count": null,
      "outputs": [
        {
          "output_type": "stream",
          "text": [
            "12340.0 centimeter\n"
          ],
          "name": "stdout"
        }
      ]
    },
    {
      "cell_type": "markdown",
      "metadata": {
        "id": "_JfB1u6xtwhQ"
      },
      "source": [
        "Convertir el enfriamiento de un aire acondicionado de $6,000BTU/hr$ a $kW$"
      ]
    },
    {
      "cell_type": "code",
      "metadata": {
        "id": "9p3pSYCgr2Q8"
      },
      "source": [
        "E=Q(6000,'BTU/hr')"
      ],
      "execution_count": null,
      "outputs": []
    },
    {
      "cell_type": "code",
      "metadata": {
        "colab": {
          "base_uri": "https://localhost:8080/",
          "height": 35
        },
        "id": "QLjVM6-ms1MB",
        "outputId": "a9384c07-db72-4f9b-e89f-61fa8debc075"
      },
      "source": [
        "E.to('kW')"
      ],
      "execution_count": null,
      "outputs": [
        {
          "output_type": "execute_result",
          "data": {
            "text/latex": "$1.7584266666666668\\ \\mathrm{kilowatt}$",
            "text/html": [
              "1.7584266666666668 kilowatt"
            ],
            "text/plain": [
              "1.7584266666666668 kilowatt"
            ]
          },
          "metadata": {
            "tags": []
          },
          "execution_count": 102
        }
      ]
    },
    {
      "cell_type": "code",
      "metadata": {
        "id": "lMz2E5rztE8q"
      },
      "source": [
        ""
      ],
      "execution_count": null,
      "outputs": []
    }
  ]
}