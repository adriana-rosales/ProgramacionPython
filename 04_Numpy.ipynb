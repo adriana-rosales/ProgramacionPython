{
  "nbformat": 4,
  "nbformat_minor": 0,
  "metadata": {
    "colab": {
      "name": "03_Numpy.ipynb",
      "provenance": [],
      "collapsed_sections": [],
      "authorship_tag": "ABX9TyNEZw2xK1PJakd6sy5eeRui",
      "include_colab_link": true
    },
    "kernelspec": {
      "name": "python3",
      "display_name": "Python 3"
    }
  },
  "cells": [
    {
      "cell_type": "markdown",
      "metadata": {
        "id": "view-in-github",
        "colab_type": "text"
      },
      "source": [
        "<a href=\"https://colab.research.google.com/github/jcjimenezb123/ProgramacionPython/blob/master/04_Numpy.ipynb\" target=\"_parent\"><img src=\"https://colab.research.google.com/assets/colab-badge.svg\" alt=\"Open In Colab\"/></a>"
      ]
    },
    {
      "cell_type": "markdown",
      "metadata": {
        "id": "E9mvKPXbhSgO"
      },
      "source": [
        "#Numpy\n",
        "\n",
        "**Numpy** es una biblioteca de Python específica para trabajar con arreglos, también tiene funciones de álgebral lineal, transformadas de Fourier y operaciones con matrices.\n",
        "\n",
        "NumPy fue creado en 2005 por Travis Oliphant. Es un proyecto de código abierto que se puede usar libremente.\n",
        "\n",
        "NumPy es un estándar para Python numérico.\n",
        "\n",
        "Las operaciones con listas en Python son muy lentas, el objetivo de numpy es proveer de objetos mucho más rápidos.\n",
        "\n",
        "NumPy almacena los arreglos en lugares continuos dentro de la memoria a diferencia de las listas, por lo tanto pueden ser accesadas y manipuladas de manera más eficiente.\n",
        "\n",
        "NumPy está escrito parcialment en Python pero las partes que requieren su manipulación rápida está escrita en C y C++.\n",
        "\n",
        "Para hacer uso de numpy primero se debe instalar y luego importar al ambiente de trabajo."
      ]
    },
    {
      "cell_type": "code",
      "metadata": {
        "id": "egDcto3W96QN",
        "outputId": "8e4765ce-14dd-481f-d439-e3cdc1b88cd0",
        "colab": {
          "base_uri": "https://localhost:8080/"
        }
      },
      "source": [
        "lista=list(range(10000000))\n",
        "%timeit sum(lista)"
      ],
      "execution_count": 4,
      "outputs": [
        {
          "output_type": "stream",
          "text": [
            "10 loops, best of 3: 53.7 ms per loop\n"
          ],
          "name": "stdout"
        }
      ]
    },
    {
      "cell_type": "code",
      "metadata": {
        "id": "1yjY7GV7-PtH",
        "outputId": "23955f03-bc4c-4784-d7ed-3be7f655378c",
        "colab": {
          "base_uri": "https://localhost:8080/"
        }
      },
      "source": [
        "import numpy as np\n",
        "vector=np.array(lista)\n",
        "%timeit np.sum(vector)"
      ],
      "execution_count": 5,
      "outputs": [
        {
          "output_type": "stream",
          "text": [
            "100 loops, best of 3: 9.83 ms per loop\n"
          ],
          "name": "stdout"
        }
      ]
    },
    {
      "cell_type": "code",
      "metadata": {
        "id": "LrECdLXTquJP",
        "outputId": "568db9d4-a127-48f8-bbcb-6e54a86b8ebb",
        "colab": {
          "base_uri": "https://localhost:8080/"
        }
      },
      "source": [
        "53.7/9.83"
      ],
      "execution_count": 6,
      "outputs": [
        {
          "output_type": "execute_result",
          "data": {
            "text/plain": [
              "5.462868769074262"
            ]
          },
          "metadata": {
            "tags": []
          },
          "execution_count": 6
        }
      ]
    },
    {
      "cell_type": "code",
      "metadata": {
        "id": "m43Ov0UX8-xp",
        "outputId": "b5006bfa-1a1d-4904-930c-085dfd08e717",
        "colab": {
          "base_uri": "https://localhost:8080/"
        }
      },
      "source": [
        "a=[1,2,3,4]\n",
        "b=[10,11,12,13]\n",
        "a+b"
      ],
      "execution_count": 7,
      "outputs": [
        {
          "output_type": "execute_result",
          "data": {
            "text/plain": [
              "[1, 2, 3, 4, 10, 11, 12, 13]"
            ]
          },
          "metadata": {
            "tags": []
          },
          "execution_count": 7
        }
      ]
    },
    {
      "cell_type": "code",
      "metadata": {
        "id": "LaVsRFdy8-k1",
        "outputId": "27f11343-ec2f-4db3-e98f-e3928b3dade5",
        "colab": {
          "base_uri": "https://localhost:8080/"
        }
      },
      "source": [
        "suma=[]\n",
        "for dato1,dato2 in zip(a,b):\n",
        "  suma.append(dato1+dato2)\n",
        "print(suma)"
      ],
      "execution_count": 8,
      "outputs": [
        {
          "output_type": "stream",
          "text": [
            "[11, 13, 15, 17]\n"
          ],
          "name": "stdout"
        }
      ]
    },
    {
      "cell_type": "code",
      "metadata": {
        "id": "VEk9ddC2mw3m",
        "outputId": "7678a14c-6b57-4537-a02c-006efcad3af9",
        "colab": {
          "base_uri": "https://localhost:8080/"
        }
      },
      "source": [
        "x=np.array(a)\n",
        "y=np.array(b)\n",
        "print(x+y)\n",
        "print(x-y)\n",
        "print(x*y)\n",
        "print(x@y)"
      ],
      "execution_count": 13,
      "outputs": [
        {
          "output_type": "stream",
          "text": [
            "[11 13 15 17]\n",
            "[-9 -9 -9 -9]\n",
            "[10 22 36 52]\n",
            "120\n"
          ],
          "name": "stdout"
        }
      ]
    },
    {
      "cell_type": "code",
      "metadata": {
        "id": "xOINPrJHn6SH",
        "outputId": "ade115a5-0b25-47c4-e2c9-b18aeb9b0f56",
        "colab": {
          "base_uri": "https://localhost:8080/"
        }
      },
      "source": [
        "a = np.array(1)\n",
        "b = np.array([1, 2, 3, 4, 5])\n",
        "c = np.array([[1, 2, 3], [4, 5, 6]])\n",
        "d = np.array([[[1, 2, 3], [4, 5, 6]], [[1, 2, 3], [4, 5, 6]]])\n",
        "\n",
        "print(a.ndim)\n",
        "print(b.ndim)\n",
        "print(c.ndim)\n",
        "print(d.ndim)"
      ],
      "execution_count": 16,
      "outputs": [
        {
          "output_type": "stream",
          "text": [
            "0\n",
            "1\n",
            "2\n",
            "3\n"
          ],
          "name": "stdout"
        }
      ]
    },
    {
      "cell_type": "code",
      "metadata": {
        "id": "X57pMgjroOBW",
        "outputId": "d4844e58-39a7-4755-ce4f-9b2faa0fe2ad",
        "colab": {
          "base_uri": "https://localhost:8080/"
        }
      },
      "source": [
        "e = np.array([1, 2, 3, 4], ndmin=5)\n",
        "\n",
        "print(e)\n",
        "print('number of dimensions :', e.ndim)"
      ],
      "execution_count": 18,
      "outputs": [
        {
          "output_type": "stream",
          "text": [
            "[[[[[1 2 3 4]]]]]\n",
            "number of dimensions : 5\n"
          ],
          "name": "stdout"
        }
      ]
    },
    {
      "cell_type": "code",
      "metadata": {
        "id": "WkAmy31PqyNk",
        "outputId": "9bf57afb-c370-4e10-d9e1-0e0fab31fae1",
        "colab": {
          "base_uri": "https://localhost:8080/",
          "height": 35
        }
      },
      "source": [
        "x=np.array([1,2,3,4,-5,-6,-7,-8])\n",
        "print(x)"
      ],
      "execution_count": null,
      "outputs": [
        {
          "output_type": "stream",
          "text": [
            "[ 1  2  3  4 -5 -6 -7 -8]\n"
          ],
          "name": "stdout"
        }
      ]
    },
    {
      "cell_type": "code",
      "metadata": {
        "id": "GIJ6RAQkq-hz",
        "outputId": "8e1d7d0f-3dde-4275-a85c-a28acf2cd1f3",
        "colab": {
          "base_uri": "https://localhost:8080/",
          "height": 121
        }
      },
      "source": [
        "print('tipo de dato',x.dtype)\n",
        "print('forma ',x.shape)\n",
        "print('tamano ',x.size)\n",
        "print('dimensiones ',x.ndim)\n",
        "print('tamano de cada elemento ',x.itemsize)\n",
        "print('memoria usada ',x.nbytes)"
      ],
      "execution_count": null,
      "outputs": [
        {
          "output_type": "stream",
          "text": [
            "tipo de dato int64\n",
            "forma  (8,)\n",
            "tamano  8\n",
            "dimensiones  1\n",
            "tamano de cada elemento  8\n",
            "memoaria usada  64\n"
          ],
          "name": "stdout"
        }
      ]
    },
    {
      "cell_type": "code",
      "metadata": {
        "id": "-Vw-2xMXq6SU",
        "outputId": "5b44fb3a-1847-4c6b-9d1d-22a4082263f0",
        "colab": {
          "base_uri": "https://localhost:8080/",
          "height": 35
        }
      },
      "source": [
        "print(x[0])"
      ],
      "execution_count": null,
      "outputs": [
        {
          "output_type": "stream",
          "text": [
            "1\n"
          ],
          "name": "stdout"
        }
      ]
    },
    {
      "cell_type": "code",
      "metadata": {
        "id": "3kiv8dTmrFZG",
        "outputId": "02083c1f-272e-4c5e-f17a-bae12c4f3410",
        "colab": {
          "base_uri": "https://localhost:8080/",
          "height": 35
        }
      },
      "source": [
        "print(x[1])"
      ],
      "execution_count": null,
      "outputs": [
        {
          "output_type": "stream",
          "text": [
            "2\n"
          ],
          "name": "stdout"
        }
      ]
    },
    {
      "cell_type": "code",
      "metadata": {
        "id": "1_dNAQPYrKsQ",
        "outputId": "5021bb0e-7ae6-4096-e8fb-590feb038c7c",
        "colab": {
          "base_uri": "https://localhost:8080/",
          "height": 35
        }
      },
      "source": [
        "print(x.__getitem__(1))"
      ],
      "execution_count": null,
      "outputs": [
        {
          "output_type": "stream",
          "text": [
            "2\n"
          ],
          "name": "stdout"
        }
      ]
    },
    {
      "cell_type": "code",
      "metadata": {
        "id": "GUg5N5p099Js",
        "outputId": "7a5ac8c4-fb84-415a-bd08-197bf1594fd6",
        "colab": {
          "base_uri": "https://localhost:8080/",
          "height": 35
        }
      },
      "source": [
        "print(x[-1])"
      ],
      "execution_count": null,
      "outputs": [
        {
          "output_type": "stream",
          "text": [
            "-8\n"
          ],
          "name": "stdout"
        }
      ]
    },
    {
      "cell_type": "code",
      "metadata": {
        "id": "YWfXieEY-Hlt",
        "outputId": "f07f56d3-e775-496f-bea0-0cc541d17f4f",
        "colab": {
          "base_uri": "https://localhost:8080/",
          "height": 35
        }
      },
      "source": [
        "print(x[-2])"
      ],
      "execution_count": null,
      "outputs": [
        {
          "output_type": "stream",
          "text": [
            "-7\n"
          ],
          "name": "stdout"
        }
      ]
    },
    {
      "cell_type": "code",
      "metadata": {
        "id": "_3LYJULg-QV5",
        "outputId": "5c60238a-8828-4332-a058-70d9dbe4f34f",
        "colab": {
          "base_uri": "https://localhost:8080/",
          "height": 35
        }
      },
      "source": [
        "print(x[-2:])"
      ],
      "execution_count": null,
      "outputs": [
        {
          "output_type": "stream",
          "text": [
            "[-7 -8]\n"
          ],
          "name": "stdout"
        }
      ]
    },
    {
      "cell_type": "code",
      "metadata": {
        "id": "Dv2GOuBu-V3c",
        "outputId": "46c2296a-a74a-4499-f745-44c853c541f3",
        "colab": {
          "base_uri": "https://localhost:8080/",
          "height": 35
        }
      },
      "source": [
        "print(x[1:3])"
      ],
      "execution_count": null,
      "outputs": [
        {
          "output_type": "stream",
          "text": [
            "[2 3]\n"
          ],
          "name": "stdout"
        }
      ]
    },
    {
      "cell_type": "code",
      "metadata": {
        "id": "V7GClm5C-eEX",
        "outputId": "1d95801e-00e8-498e-e287-63d6e7f24f93",
        "colab": {
          "base_uri": "https://localhost:8080/",
          "height": 35
        }
      },
      "source": [
        "print(x[:3])"
      ],
      "execution_count": null,
      "outputs": [
        {
          "output_type": "stream",
          "text": [
            "[1 2 3]\n"
          ],
          "name": "stdout"
        }
      ]
    },
    {
      "cell_type": "code",
      "metadata": {
        "id": "TWWpsNxtrPG5",
        "outputId": "3da10d38-a907-435e-e344-8b95b96cf3cd",
        "colab": {
          "base_uri": "https://localhost:8080/",
          "height": 35
        }
      },
      "source": [
        "x[0]=3.1416\n",
        "print(x)"
      ],
      "execution_count": null,
      "outputs": [
        {
          "output_type": "stream",
          "text": [
            "[ 3  2  3  4 -5 -6 -7 -8]\n"
          ],
          "name": "stdout"
        }
      ]
    },
    {
      "cell_type": "code",
      "metadata": {
        "id": "JvqymrKPz2pN",
        "outputId": "74d23132-4c82-4d23-f90c-bbcb3002bf1f",
        "colab": {
          "base_uri": "https://localhost:8080/",
          "height": 35
        }
      },
      "source": [
        "x=np.array([0 if valor<0 else valor for valor in x ])\n",
        "print(x)"
      ],
      "execution_count": null,
      "outputs": [
        {
          "output_type": "stream",
          "text": [
            "[3 2 3 4 0 0 0 0]\n"
          ],
          "name": "stdout"
        }
      ]
    },
    {
      "cell_type": "code",
      "metadata": {
        "id": "UQW1X_hOBD4n",
        "outputId": "c1ee989a-db4d-4af8-9b1b-58f03aa3ad9b",
        "colab": {
          "base_uri": "https://localhost:8080/",
          "height": 51
        }
      },
      "source": [
        "complejos=np.array([1+2j,3,4-2.1j])\n",
        "print(complejos)\n",
        "print(complejos.dtype)"
      ],
      "execution_count": null,
      "outputs": [
        {
          "output_type": "stream",
          "text": [
            "[1.+2.j  3.+0.j  4.-2.1j]\n",
            "complex128\n"
          ],
          "name": "stdout"
        }
      ]
    },
    {
      "cell_type": "code",
      "metadata": {
        "id": "aS_MMEEzrXL-",
        "outputId": "cae0be1a-5f27-4fca-aad2-549fd323e136",
        "colab": {
          "base_uri": "https://localhost:8080/",
          "height": 51
        }
      },
      "source": [
        "y=np.array([1,2,3.1416,4])\n",
        "print(y)\n",
        "print(y.dtype)\n"
      ],
      "execution_count": null,
      "outputs": [
        {
          "output_type": "stream",
          "text": [
            "[1.     2.     3.1416 4.    ]\n",
            "float64\n"
          ],
          "name": "stdout"
        }
      ]
    },
    {
      "cell_type": "code",
      "metadata": {
        "id": "SSyrGnRQri2O",
        "outputId": "7eac10a7-d7ed-465d-a21b-d15db9f7ab61",
        "colab": {
          "base_uri": "https://localhost:8080/",
          "height": 34
        }
      },
      "source": [
        "y[1]=2.7172\n",
        "print(y)"
      ],
      "execution_count": null,
      "outputs": [
        {
          "output_type": "stream",
          "text": [
            "[1.     2.7172 3.1416 4.    ]\n"
          ],
          "name": "stdout"
        }
      ]
    },
    {
      "cell_type": "code",
      "metadata": {
        "id": "Q2DFT7lervBn",
        "outputId": "7934b1c3-982d-4f9e-e7be-81c3049c2eef",
        "colab": {
          "base_uri": "https://localhost:8080/",
          "height": 51
        }
      },
      "source": [
        "xx=np.array([1,2,3,4],dtype=float)\n",
        "print(xx)\n",
        "print(xx.dtype)"
      ],
      "execution_count": null,
      "outputs": [
        {
          "output_type": "stream",
          "text": [
            "[1. 2. 3. 4.]\n",
            "float64\n"
          ],
          "name": "stdout"
        }
      ]
    },
    {
      "cell_type": "code",
      "metadata": {
        "id": "-edqleOFr7h1",
        "outputId": "c0e6b719-379a-417b-c8ab-453dfc0ddad9",
        "colab": {
          "base_uri": "https://localhost:8080/",
          "height": 34
        }
      },
      "source": [
        "xx[2]=3.1416\n",
        "print(xx)"
      ],
      "execution_count": null,
      "outputs": [
        {
          "output_type": "stream",
          "text": [
            "[1.     2.     3.1416 4.    ]\n"
          ],
          "name": "stdout"
        }
      ]
    },
    {
      "cell_type": "code",
      "metadata": {
        "id": "8TYOCsSZsD2q",
        "outputId": "67cdf45c-8447-4288-8b45-c5b496e8963f",
        "colab": {
          "base_uri": "https://localhost:8080/",
          "height": 34
        }
      },
      "source": [
        "xx.__setitem__(1,2.7172)\n",
        "print(xx)"
      ],
      "execution_count": null,
      "outputs": [
        {
          "output_type": "stream",
          "text": [
            "[1.     2.7172 3.1416 4.    ]\n"
          ],
          "name": "stdout"
        }
      ]
    },
    {
      "cell_type": "code",
      "metadata": {
        "id": "dpWZRLDlsbSn",
        "outputId": "552e59af-ff71-4007-b097-dd8fdaa05077",
        "colab": {
          "base_uri": "https://localhost:8080/",
          "height": 34
        }
      },
      "source": [
        "xx[0]=1.4142\n",
        "print(xx)"
      ],
      "execution_count": null,
      "outputs": [
        {
          "output_type": "stream",
          "text": [
            "[1.4142 2.7172 3.1416 4.    ]\n"
          ],
          "name": "stdout"
        }
      ]
    },
    {
      "cell_type": "code",
      "metadata": {
        "id": "BfQGECs9szcf",
        "outputId": "43eaeb63-7217-4767-ade0-bee47f0d6060",
        "colab": {
          "base_uri": "https://localhost:8080/",
          "height": 34
        }
      },
      "source": [
        "z=x+y\n",
        "print(z)"
      ],
      "execution_count": null,
      "outputs": [
        {
          "output_type": "stream",
          "text": [
            "[2.     4.7172 6.1416 8.    ]\n"
          ],
          "name": "stdout"
        }
      ]
    },
    {
      "cell_type": "code",
      "metadata": {
        "id": "HQJ4200Et817",
        "outputId": "ab3101be-7f34-4695-867d-5a0b9a5f46e2",
        "colab": {
          "base_uri": "https://localhost:8080/",
          "height": 34
        }
      },
      "source": [
        "z=x/y\n",
        "print(z)"
      ],
      "execution_count": null,
      "outputs": [
        {
          "output_type": "stream",
          "text": [
            "[1.         0.73605182 0.95492743 1.        ]\n"
          ],
          "name": "stdout"
        }
      ]
    },
    {
      "cell_type": "code",
      "metadata": {
        "id": "DOHMHAtWuGlH",
        "outputId": "21ebc801-38f2-4c14-9c9e-61b721d25b51",
        "colab": {
          "base_uri": "https://localhost:8080/",
          "height": 34
        }
      },
      "source": [
        "z=x*y\n",
        "print(z)"
      ],
      "execution_count": null,
      "outputs": [
        {
          "output_type": "stream",
          "text": [
            "[ 1.      5.4344  9.4248 16.    ]\n"
          ],
          "name": "stdout"
        }
      ]
    },
    {
      "cell_type": "code",
      "metadata": {
        "id": "r3d92rs8uKX6",
        "outputId": "ec3c82ab-d65b-4001-bd5e-575162d0fc6e",
        "colab": {
          "base_uri": "https://localhost:8080/",
          "height": 34
        }
      },
      "source": [
        "z=x**y\n",
        "print(z)"
      ],
      "execution_count": null,
      "outputs": [
        {
          "output_type": "stream",
          "text": [
            "[  1.           6.57595306  31.54453529 256.        ]\n"
          ],
          "name": "stdout"
        }
      ]
    },
    {
      "cell_type": "code",
      "metadata": {
        "id": "LbCTwK-UuNV7",
        "outputId": "992c49d0-a064-4278-96f7-4c29ff816f93",
        "colab": {
          "base_uri": "https://localhost:8080/",
          "height": 34
        }
      },
      "source": [
        "s=np.sin(x)\n",
        "print(s)"
      ],
      "execution_count": null,
      "outputs": [
        {
          "output_type": "stream",
          "text": [
            "[ 0.84147098  0.90929743  0.14112001 -0.7568025 ]\n"
          ],
          "name": "stdout"
        }
      ]
    },
    {
      "cell_type": "code",
      "metadata": {
        "id": "MPZgGaYkuR3y",
        "outputId": "0711d62e-0854-4e3f-9d31-879ecf2c8cf5",
        "colab": {
          "base_uri": "https://localhost:8080/",
          "height": 34
        }
      },
      "source": [
        "x10=x*10\n",
        "print(x10)"
      ],
      "execution_count": null,
      "outputs": [
        {
          "output_type": "stream",
          "text": [
            "[10 20 30 40]\n"
          ],
          "name": "stdout"
        }
      ]
    },
    {
      "cell_type": "code",
      "metadata": {
        "id": "3G4yKS7GuWrh",
        "outputId": "43fc0a99-7a95-46b2-a86d-4f3a38361e29",
        "colab": {
          "base_uri": "https://localhost:8080/",
          "height": 34
        }
      },
      "source": [
        "x_10=x-10\n",
        "print(x_10)"
      ],
      "execution_count": null,
      "outputs": [
        {
          "output_type": "stream",
          "text": [
            "[-9 -8 -7 -6]\n"
          ],
          "name": "stdout"
        }
      ]
    },
    {
      "cell_type": "code",
      "metadata": {
        "id": "aIKhfZrTuerQ",
        "outputId": "8ef1fc6f-2412-43bf-c811-be813ea660e0",
        "colab": {
          "base_uri": "https://localhost:8080/",
          "height": 34
        }
      },
      "source": [
        "indices=[0,2,3]\n",
        "print(x[indices])"
      ],
      "execution_count": null,
      "outputs": [
        {
          "output_type": "stream",
          "text": [
            "[1 3 4]\n"
          ],
          "name": "stdout"
        }
      ]
    },
    {
      "cell_type": "code",
      "metadata": {
        "id": "tUn_n8FyxB8b",
        "outputId": "2d57731d-95f3-44cc-983d-1bf2a9716395",
        "colab": {
          "base_uri": "https://localhost:8080/",
          "height": 35
        }
      },
      "source": [
        "arreglo=np.array([-2,-3,0,1,-1,4,-10,3])\n",
        "negativos=arreglo<0\n",
        "print(negativos)"
      ],
      "execution_count": null,
      "outputs": [
        {
          "output_type": "stream",
          "text": [
            "[ True  True False False  True False  True False]\n"
          ],
          "name": "stdout"
        }
      ]
    },
    {
      "cell_type": "code",
      "metadata": {
        "id": "ajv8fzGQxack",
        "outputId": "b875269c-62e1-4f66-a53f-52bfa1f8210f",
        "colab": {
          "base_uri": "https://localhost:8080/",
          "height": 35
        }
      },
      "source": [
        "print(arreglo[negativos])"
      ],
      "execution_count": null,
      "outputs": [
        {
          "output_type": "stream",
          "text": [
            "[ -2  -3  -1 -10]\n"
          ],
          "name": "stdout"
        }
      ]
    },
    {
      "cell_type": "code",
      "metadata": {
        "id": "N38id_T3xeSn",
        "outputId": "4e7a9638-d82d-4200-8d72-f06bef220ec0",
        "colab": {
          "base_uri": "https://localhost:8080/",
          "height": 35
        }
      },
      "source": [
        "arreglo[negativos]=0\n",
        "print(arreglo)"
      ],
      "execution_count": null,
      "outputs": [
        {
          "output_type": "stream",
          "text": [
            "[0 0 0 1 0 4 0 3]\n"
          ],
          "name": "stdout"
        }
      ]
    },
    {
      "cell_type": "code",
      "metadata": {
        "id": "XS_S3Di5xkcu",
        "outputId": "e4356b35-b352-49b4-c178-e00dfa7fd782",
        "colab": {
          "base_uri": "https://localhost:8080/"
        }
      },
      "source": [
        "x=np.array([-2,-4,-1,0,2,4,8,-9])\n",
        "print('x=',x)\n",
        "print('suma ',x.sum() )\n",
        "print('suma acumulada',x.cumsum())\n",
        "print('producto ',x.prod() )\n",
        "print('producto ',x.cumprod() )\n",
        "print('maximo ',x.max() )\n",
        "print('minimo ',x.min() )\n",
        "print('desviasion estandar ',x.std() )\n",
        "print('varianza ',x.var() )\n",
        "print('promedio ',x.mean( ) )"
      ],
      "execution_count": 19,
      "outputs": [
        {
          "output_type": "stream",
          "text": [
            "x= [-2 -4 -1  0  2  4  8 -9]\n",
            "suma  -2\n",
            "suma acumulada [-2 -6 -7 -7 -5 -1  7 -2]\n",
            "producto  0\n",
            "producto  [-2  8 -8  0  0  0  0  0]\n",
            "maximo  8\n",
            "minimo  -9\n",
            "desviasion estandar  4.815340071064556\n",
            "varianza  23.1875\n",
            "promedio  -0.25\n"
          ],
          "name": "stdout"
        }
      ]
    },
    {
      "cell_type": "code",
      "metadata": {
        "id": "PCbEGioG4vPM",
        "outputId": "4b40e127-4947-413f-dae3-987f45eb737c",
        "colab": {
          "base_uri": "https://localhost:8080/"
        }
      },
      "source": [
        "print('suma positivos ',x.sum(where=x>0) )\n",
        "print('suma negativos ',x.sum(where=x<0) )\n",
        "print('desviacion positivos ',np.array([v for v in x if v>0]).std() )\n",
        "print('promedio positivos ',np.array([v for v in x if v>0]).mean() )"
      ],
      "execution_count": 20,
      "outputs": [
        {
          "output_type": "stream",
          "text": [
            "suma positivos  14\n",
            "suma negativos  -16\n",
            "desviacion positivos  2.494438257849294\n",
            "promedio positivos  4.666666666666667\n"
          ],
          "name": "stdout"
        }
      ]
    },
    {
      "cell_type": "code",
      "metadata": {
        "id": "A2l3s5-H1BVH",
        "outputId": "c844bd57-40c2-42e3-a233-7a74ef6c0204",
        "colab": {
          "base_uri": "https://localhost:8080/"
        }
      },
      "source": [
        "p_max=np.where(x==x.max())\n",
        "print(p_max)\n",
        "print(x[p_max])"
      ],
      "execution_count": 21,
      "outputs": [
        {
          "output_type": "stream",
          "text": [
            "(array([6]),)\n",
            "[8]\n"
          ],
          "name": "stdout"
        }
      ]
    },
    {
      "cell_type": "code",
      "metadata": {
        "id": "C3lTlGUg4olf",
        "outputId": "4df6b7bb-36d6-4721-b3ba-1346c9819566",
        "colab": {
          "base_uri": "https://localhost:8080/"
        }
      },
      "source": [
        "y=x\n",
        "y[0]=-100\n",
        "print(x)\n",
        "print(y)"
      ],
      "execution_count": 22,
      "outputs": [
        {
          "output_type": "stream",
          "text": [
            "[-100   -4   -1    0    2    4    8   -9]\n",
            "[-100   -4   -1    0    2    4    8   -9]\n"
          ],
          "name": "stdout"
        }
      ]
    },
    {
      "cell_type": "code",
      "metadata": {
        "id": "wRCwVVS7581u",
        "outputId": "a6c6c345-1169-41dc-e60f-4315629c344a",
        "colab": {
          "base_uri": "https://localhost:8080/"
        }
      },
      "source": [
        "copiax=x.copy()\n",
        "copiax[0]=200\n",
        "print(x)\n",
        "print(copiax)"
      ],
      "execution_count": 23,
      "outputs": [
        {
          "output_type": "stream",
          "text": [
            "[-100   -4   -1    0    2    4    8   -9]\n",
            "[200  -4  -1   0   2   4   8  -9]\n"
          ],
          "name": "stdout"
        }
      ]
    },
    {
      "cell_type": "code",
      "metadata": {
        "id": "K7vXrznO6Mxc",
        "outputId": "cafce206-c106-4c3b-894d-c01e11c53edb",
        "colab": {
          "base_uri": "https://localhost:8080/"
        }
      },
      "source": [
        "arr = np.array([1, 2, 3, 4, 5, 6, 7, 8, 9, 10, 11, 12])\n",
        "\n",
        "newarr = arr.reshape(4, 3)\n",
        "print(newarr)"
      ],
      "execution_count": 26,
      "outputs": [
        {
          "output_type": "stream",
          "text": [
            "[[ 1  2  3]\n",
            " [ 4  5  6]\n",
            " [ 7  8  9]\n",
            " [10 11 12]]\n"
          ],
          "name": "stdout"
        }
      ]
    },
    {
      "cell_type": "code",
      "metadata": {
        "id": "VGl5uEjOplex",
        "outputId": "5a75f9a4-2b1e-41f8-c530-9b50b5c076fe",
        "colab": {
          "base_uri": "https://localhost:8080/"
        }
      },
      "source": [
        "arr = np.array([1, 2, 3, 4, 5, 6, 7, 8, 9, 10, 11, 12])\n",
        "\n",
        "newarr = arr.reshape(2, 3, 2)\n",
        "\n",
        "print(newarr)"
      ],
      "execution_count": 27,
      "outputs": [
        {
          "output_type": "stream",
          "text": [
            "[[[ 1  2]\n",
            "  [ 3  4]\n",
            "  [ 5  6]]\n",
            "\n",
            " [[ 7  8]\n",
            "  [ 9 10]\n",
            "  [11 12]]]\n"
          ],
          "name": "stdout"
        }
      ]
    },
    {
      "cell_type": "code",
      "metadata": {
        "id": "UgcuBIyiqP_m",
        "outputId": "6fbcf6fb-d097-4f13-bcae-05a67c40b95a",
        "colab": {
          "base_uri": "https://localhost:8080/"
        }
      },
      "source": [
        "arr = np.array([[1, 2, 3], [4, 5, 6]])\n",
        "\n",
        "newarr = arr.reshape(-1)\n",
        "\n",
        "print(newarr)"
      ],
      "execution_count": 28,
      "outputs": [
        {
          "output_type": "stream",
          "text": [
            "[1 2 3 4 5 6]\n"
          ],
          "name": "stdout"
        }
      ]
    },
    {
      "cell_type": "code",
      "metadata": {
        "id": "VNYpF2z3qavi",
        "outputId": "4d3809e2-2726-4201-c10f-db3f3ece8fd2",
        "colab": {
          "base_uri": "https://localhost:8080/"
        }
      },
      "source": [
        "arr = np.array([[1, 2, 3], [4, 5, 6]])\n",
        "\n",
        "newarr = arr.flatten()\n",
        "\n",
        "print(newarr)"
      ],
      "execution_count": 29,
      "outputs": [
        {
          "output_type": "stream",
          "text": [
            "[1 2 3 4 5 6]\n"
          ],
          "name": "stdout"
        }
      ]
    },
    {
      "cell_type": "code",
      "metadata": {
        "id": "ZtucNav9qfuG",
        "outputId": "594a7fd2-3126-40b2-8eec-a791e6284028",
        "colab": {
          "base_uri": "https://localhost:8080/"
        }
      },
      "source": [
        "arr = np.array([1, 2, 3])\n",
        "\n",
        "for x in arr:\n",
        "  print(x)"
      ],
      "execution_count": 30,
      "outputs": [
        {
          "output_type": "stream",
          "text": [
            "1\n",
            "2\n",
            "3\n"
          ],
          "name": "stdout"
        }
      ]
    },
    {
      "cell_type": "code",
      "metadata": {
        "id": "h7QD8ixe0GWe",
        "outputId": "360fb77d-24a6-44c5-f076-2aec0640d455",
        "colab": {
          "base_uri": "https://localhost:8080/"
        }
      },
      "source": [
        "arr = np.array([[1, 2, 3], [4, 5, 6]])\n",
        "i=0\n",
        "for x in arr:\n",
        "  i+=1\n",
        "  print(i,x)"
      ],
      "execution_count": 32,
      "outputs": [
        {
          "output_type": "stream",
          "text": [
            "1 [1 2 3]\n",
            "2 [4 5 6]\n"
          ],
          "name": "stdout"
        }
      ]
    },
    {
      "cell_type": "code",
      "metadata": {
        "id": "Tw3BvRte0WFG",
        "outputId": "3e40b07e-1c9d-4613-af38-c5b19a171c6f",
        "colab": {
          "base_uri": "https://localhost:8080/"
        }
      },
      "source": [
        "arr = np.array([[1, 2, 3], [4, 5, 6]])\n",
        "\n",
        "for x in arr:\n",
        "  for y in x:\n",
        "    print(y)"
      ],
      "execution_count": 33,
      "outputs": [
        {
          "output_type": "stream",
          "text": [
            "1\n",
            "2\n",
            "3\n",
            "4\n",
            "5\n",
            "6\n"
          ],
          "name": "stdout"
        }
      ]
    },
    {
      "cell_type": "code",
      "metadata": {
        "id": "Q9iZjcAG0arO",
        "outputId": "d621c4d5-7624-4f5c-d2dd-889b5b686b90",
        "colab": {
          "base_uri": "https://localhost:8080/"
        }
      },
      "source": [
        "arr = np.array([[[1, 2, 3], [4, 5, 6]], [[7, 8, 9], [10, 11, 12]]])\n",
        "i=0\n",
        "for x in arr:\n",
        "  i+=1\n",
        "  print(i,x)"
      ],
      "execution_count": 35,
      "outputs": [
        {
          "output_type": "stream",
          "text": [
            "1 [[1 2 3]\n",
            " [4 5 6]]\n",
            "2 [[ 7  8  9]\n",
            " [10 11 12]]\n"
          ],
          "name": "stdout"
        }
      ]
    },
    {
      "cell_type": "code",
      "metadata": {
        "id": "9STDEWZw0qGv",
        "outputId": "6edae177-6d37-4023-8583-c70dc4870262",
        "colab": {
          "base_uri": "https://localhost:8080/"
        }
      },
      "source": [
        "arr = np.array([[[1, 2, 3], [4, 5, 6]], [[7, 8, 9], [10, 11, 12]]])\n",
        "\n",
        "for x in arr:\n",
        "  for y in x:\n",
        "    for z in y:\n",
        "      print(z)"
      ],
      "execution_count": 36,
      "outputs": [
        {
          "output_type": "stream",
          "text": [
            "1\n",
            "2\n",
            "3\n",
            "4\n",
            "5\n",
            "6\n",
            "7\n",
            "8\n",
            "9\n",
            "10\n",
            "11\n",
            "12\n"
          ],
          "name": "stdout"
        }
      ]
    },
    {
      "cell_type": "code",
      "metadata": {
        "id": "WqmXRVIT0ucY",
        "outputId": "84f52107-6e5b-450b-85de-a0cfbc425356",
        "colab": {
          "base_uri": "https://localhost:8080/"
        }
      },
      "source": [
        "arr = np.array([[[1, 2], [3, 4]], [[5, 6], [7, 8]]])\n",
        "\n",
        "for x in np.nditer(arr):\n",
        "  print(x)"
      ],
      "execution_count": 37,
      "outputs": [
        {
          "output_type": "stream",
          "text": [
            "1\n",
            "2\n",
            "3\n",
            "4\n",
            "5\n",
            "6\n",
            "7\n",
            "8\n"
          ],
          "name": "stdout"
        }
      ]
    },
    {
      "cell_type": "markdown",
      "metadata": {
        "id": "NuNB386Q1vfC"
      },
      "source": [
        "\n",
        "Juntar significa colocar el contenido de dos o mas arreglos en un arreglo simple"
      ]
    },
    {
      "cell_type": "code",
      "metadata": {
        "id": "0fz-EaXL1Rn8",
        "outputId": "e5f3e918-0434-4578-d808-57a12185dbca",
        "colab": {
          "base_uri": "https://localhost:8080/"
        }
      },
      "source": [
        "arr1 = np.array([1, 2, 3])\n",
        "\n",
        "arr2 = np.array([4, 5, 6])\n",
        "\n",
        "arr = np.concatenate((arr1, arr2))\n",
        "\n",
        "print(arr)"
      ],
      "execution_count": 38,
      "outputs": [
        {
          "output_type": "stream",
          "text": [
            "[1 2 3 4 5 6]\n"
          ],
          "name": "stdout"
        }
      ]
    },
    {
      "cell_type": "code",
      "metadata": {
        "id": "eO6qb0nu1VtN",
        "outputId": "b444ac6d-4911-45de-cbcf-c06176d95ce6",
        "colab": {
          "base_uri": "https://localhost:8080/"
        }
      },
      "source": [
        "arr1 = np.array([[1, 2], [3, 4]])\n",
        "\n",
        "arr2 = np.array([[5, 6], [7, 8]])\n",
        "\n",
        "abajo = np.concatenate((arr1, arr2), axis=0)\n",
        "al_lado = np.concatenate((arr1, arr2), axis=1)\n",
        "print(abajo)\n",
        "print()\n",
        "print(al_lado)"
      ],
      "execution_count": 46,
      "outputs": [
        {
          "output_type": "stream",
          "text": [
            "[[1 2]\n",
            " [3 4]\n",
            " [5 6]\n",
            " [7 8]]\n",
            "\n",
            "[[1 2 5 6]\n",
            " [3 4 7 8]]\n"
          ],
          "name": "stdout"
        }
      ]
    },
    {
      "cell_type": "code",
      "metadata": {
        "id": "bICzM2zZ1b-p",
        "outputId": "4f6ca50e-481c-4b02-d78f-1a2068618feb",
        "colab": {
          "base_uri": "https://localhost:8080/"
        }
      },
      "source": [
        "arr1 = np.array([1, 2, 3])\n",
        "\n",
        "arr2 = np.array([4, 5, 6])\n",
        "\n",
        "arr = np.stack((arr1, arr2), axis=1)\n",
        "\n",
        "print(arr)"
      ],
      "execution_count": 40,
      "outputs": [
        {
          "output_type": "stream",
          "text": [
            "[[1 4]\n",
            " [2 5]\n",
            " [3 6]]\n"
          ],
          "name": "stdout"
        }
      ]
    },
    {
      "cell_type": "code",
      "metadata": {
        "id": "pWpioFZg21oV",
        "outputId": "bda8c617-40da-45c4-cfb6-6909dcd6ab21",
        "colab": {
          "base_uri": "https://localhost:8080/"
        }
      },
      "source": [
        "arr1 = np.array([1, 2, 3])\n",
        "\n",
        "arr2 = np.array([4, 5, 6])\n",
        "\n",
        "arr = np.hstack((arr1, arr2))\n",
        "\n",
        "print(arr)"
      ],
      "execution_count": 48,
      "outputs": [
        {
          "output_type": "stream",
          "text": [
            "[1 2 3 4 5 6]\n"
          ],
          "name": "stdout"
        }
      ]
    },
    {
      "cell_type": "code",
      "metadata": {
        "id": "4TNkz3K_3C7v",
        "outputId": "47c506b2-3cfc-4c97-edf7-baec2722c147",
        "colab": {
          "base_uri": "https://localhost:8080/"
        }
      },
      "source": [
        "arr1 = np.array([1, 2, 3])\n",
        "\n",
        "arr2 = np.array([4, 5, 6])\n",
        "\n",
        "arr = np.vstack((arr1, arr2))\n",
        "\n",
        "print(arr)"
      ],
      "execution_count": 49,
      "outputs": [
        {
          "output_type": "stream",
          "text": [
            "[[1 2 3]\n",
            " [4 5 6]]\n"
          ],
          "name": "stdout"
        }
      ]
    },
    {
      "cell_type": "code",
      "metadata": {
        "id": "oilj6GC43IsM",
        "outputId": "ed6d88d2-35d7-4dd1-e3f2-822f81904674",
        "colab": {
          "base_uri": "https://localhost:8080/"
        }
      },
      "source": [
        "arr1 = np.array([1, 2, 3])\n",
        "\n",
        "arr2 = np.array([4, 5, 6])\n",
        "\n",
        "arr = np.dstack((arr1, arr2))\n",
        "\n",
        "print(arr)"
      ],
      "execution_count": 50,
      "outputs": [
        {
          "output_type": "stream",
          "text": [
            "[[[1 4]\n",
            "  [2 5]\n",
            "  [3 6]]]\n"
          ],
          "name": "stdout"
        }
      ]
    },
    {
      "cell_type": "code",
      "metadata": {
        "id": "z7urw99u3u0M",
        "outputId": "691e6089-bdb8-4eab-8859-f4f6bdf5cae0",
        "colab": {
          "base_uri": "https://localhost:8080/"
        }
      },
      "source": [
        "arr = np.array([3, 2, 0, 1])\n",
        "\n",
        "print(np.sort(arr))"
      ],
      "execution_count": 51,
      "outputs": [
        {
          "output_type": "stream",
          "text": [
            "[0 1 2 3]\n"
          ],
          "name": "stdout"
        }
      ]
    },
    {
      "cell_type": "code",
      "metadata": {
        "id": "H4GkPOPR3zsa",
        "outputId": "67014839-c7b3-4632-a710-2290046674d9",
        "colab": {
          "base_uri": "https://localhost:8080/"
        }
      },
      "source": [
        "arr = np.array(['banana', 'cherry', 'apple'])\n",
        "\n",
        "print(np.sort(arr))"
      ],
      "execution_count": 52,
      "outputs": [
        {
          "output_type": "stream",
          "text": [
            "['apple' 'banana' 'cherry']\n"
          ],
          "name": "stdout"
        }
      ]
    },
    {
      "cell_type": "code",
      "metadata": {
        "id": "mBPJK-gX337-",
        "outputId": "28cced6c-a244-4595-fcd8-2fd2640cb2da",
        "colab": {
          "base_uri": "https://localhost:8080/"
        }
      },
      "source": [
        "arr = np.array([[3, 2, 4], [5, 0, 1]])\n",
        "\n",
        "print(np.sort(arr))"
      ],
      "execution_count": 53,
      "outputs": [
        {
          "output_type": "stream",
          "text": [
            "[[2 3 4]\n",
            " [0 1 5]]\n"
          ],
          "name": "stdout"
        }
      ]
    },
    {
      "cell_type": "code",
      "metadata": {
        "id": "NtVLqXeA4NIV",
        "outputId": "6c9389bd-0dd4-4ff0-eb2a-54a3b5d237d9",
        "colab": {
          "base_uri": "https://localhost:8080/"
        }
      },
      "source": [
        "arr = np.array([41, 42, 43, 44])\n",
        "\n",
        "filter_arr = arr > 42\n",
        "\n",
        "newarr = arr[filter_arr]\n",
        "\n",
        "print(filter_arr)\n",
        "print(newarr)"
      ],
      "execution_count": 54,
      "outputs": [
        {
          "output_type": "stream",
          "text": [
            "[False False  True  True]\n",
            "[43 44]\n"
          ],
          "name": "stdout"
        }
      ]
    },
    {
      "cell_type": "code",
      "metadata": {
        "id": "nX9SnmjA4WWQ",
        "outputId": "c25c713e-46d8-4922-ec4a-f4c2940917b7",
        "colab": {
          "base_uri": "https://localhost:8080/"
        }
      },
      "source": [
        "arr = np.array([1, 2, 3, 4, 5, 6, 7])\n",
        "\n",
        "filter_arr = arr % 2 == 0\n",
        "\n",
        "newarr = arr[filter_arr]\n",
        "\n",
        "print(filter_arr)\n",
        "print(newarr)"
      ],
      "execution_count": 55,
      "outputs": [
        {
          "output_type": "stream",
          "text": [
            "[False  True False  True False  True False]\n",
            "[2 4 6]\n"
          ],
          "name": "stdout"
        }
      ]
    },
    {
      "cell_type": "code",
      "metadata": {
        "id": "VKFiWWjG4gHJ",
        "outputId": "b8015cf6-402d-4e1a-a440-980e11473731",
        "colab": {
          "base_uri": "https://localhost:8080/"
        }
      },
      "source": [
        "from numpy import random\n",
        "\n",
        "x = random.randint(100)\n",
        "\n",
        "print(x)"
      ],
      "execution_count": 57,
      "outputs": [
        {
          "output_type": "stream",
          "text": [
            "45\n"
          ],
          "name": "stdout"
        }
      ]
    },
    {
      "cell_type": "code",
      "metadata": {
        "id": "pppnTl854qNb",
        "outputId": "3b3ac68f-eb8b-4186-f1eb-f22d28225e2f",
        "colab": {
          "base_uri": "https://localhost:8080/"
        }
      },
      "source": [
        "x=random.randint(100, size=(5))\n",
        "\n",
        "print(x)"
      ],
      "execution_count": 59,
      "outputs": [
        {
          "output_type": "stream",
          "text": [
            "[32 84 38 20 37]\n"
          ],
          "name": "stdout"
        }
      ]
    },
    {
      "cell_type": "code",
      "metadata": {
        "id": "Z4LQAfu84vMT",
        "outputId": "cfa67dca-3afc-48d8-9414-a02825a9da27",
        "colab": {
          "base_uri": "https://localhost:8080/"
        }
      },
      "source": [
        "x = random.randint(100, size=(3, 5))\n",
        "\n",
        "print(x)"
      ],
      "execution_count": 60,
      "outputs": [
        {
          "output_type": "stream",
          "text": [
            "[[22 30 86 86 57]\n",
            " [70 49 32 15 41]\n",
            " [50 85 93  1 15]]\n"
          ],
          "name": "stdout"
        }
      ]
    },
    {
      "cell_type": "code",
      "metadata": {
        "id": "DGEc3E4w4lwD",
        "outputId": "d8c64ad5-3acb-4515-f1e3-fd7926317c4f",
        "colab": {
          "base_uri": "https://localhost:8080/"
        }
      },
      "source": [
        "x = random.rand()\n",
        "\n",
        "print(x)"
      ],
      "execution_count": 58,
      "outputs": [
        {
          "output_type": "stream",
          "text": [
            "0.16253375476398613\n"
          ],
          "name": "stdout"
        }
      ]
    },
    {
      "cell_type": "code",
      "metadata": {
        "id": "6rcfQNig42ET",
        "outputId": "7bf09c5f-9c05-4f63-e4bc-e47e47a388b4",
        "colab": {
          "base_uri": "https://localhost:8080/"
        }
      },
      "source": [
        "x = random.rand(5)\n",
        "\n",
        "print(x)"
      ],
      "execution_count": 61,
      "outputs": [
        {
          "output_type": "stream",
          "text": [
            "[0.82374832 0.37672948 0.25168734 0.53854614 0.72780458]\n"
          ],
          "name": "stdout"
        }
      ]
    },
    {
      "cell_type": "code",
      "metadata": {
        "id": "nBraixXc45Xy",
        "outputId": "d5bb15f7-9fee-462a-c6a4-464360232748",
        "colab": {
          "base_uri": "https://localhost:8080/"
        }
      },
      "source": [
        "x = random.rand(3, 5)\n",
        "\n",
        "print(x)"
      ],
      "execution_count": 62,
      "outputs": [
        {
          "output_type": "stream",
          "text": [
            "[[0.57986346 0.82961761 0.13575936 0.24230378 0.01678805]\n",
            " [0.51502128 0.28753477 0.54160107 0.9541157  0.63042028]\n",
            " [0.3353144  0.92771725 0.24403812 0.1493946  0.63918891]]\n"
          ],
          "name": "stdout"
        }
      ]
    },
    {
      "cell_type": "code",
      "metadata": {
        "id": "KW-1TRPF4-Mp",
        "outputId": "515ad83f-3543-4bc2-90cd-03b62bac253b",
        "colab": {
          "base_uri": "https://localhost:8080/"
        }
      },
      "source": [
        "x = random.choice([3, 5, 7, 9]) #retorna uno de los 4 valores\n",
        "\n",
        "print(x)"
      ],
      "execution_count": 63,
      "outputs": [
        {
          "output_type": "stream",
          "text": [
            "3\n"
          ],
          "name": "stdout"
        }
      ]
    },
    {
      "cell_type": "code",
      "metadata": {
        "id": "cYwARTjQ5KGP",
        "outputId": "f876a3e0-b9de-4eba-e2e0-ba9539641263",
        "colab": {
          "base_uri": "https://localhost:8080/"
        }
      },
      "source": [
        "x = random.choice([3, 5, 7, 9], size=(3, 5))\n",
        "\n",
        "print(x)"
      ],
      "execution_count": 64,
      "outputs": [
        {
          "output_type": "stream",
          "text": [
            "[[7 9 3 5 3]\n",
            " [5 7 3 9 7]\n",
            " [3 7 5 7 9]]\n"
          ],
          "name": "stdout"
        }
      ]
    },
    {
      "cell_type": "code",
      "metadata": {
        "id": "bW0tdR4h5MrP",
        "outputId": "9a7066eb-394a-425c-859f-fd796c78d2c6",
        "colab": {
          "base_uri": "https://localhost:8080/"
        }
      },
      "source": [
        "x = random.choice([3, 5, 7, 9], p=[0.1, 0.3, 0.6, 0.0], size=(100)) #retorna uno de los valores con la probabilidad indicada para cada digito\n",
        "\n",
        "print(x)"
      ],
      "execution_count": 66,
      "outputs": [
        {
          "output_type": "stream",
          "text": [
            "[7 7 5 5 7 7 5 7 7 7 5 3 7 7 5 7 5 7 7 7 7 5 7 3 7 3 7 5 3 5 7 5 5 5 7 5 5\n",
            " 5 7 7 7 7 5 7 7 5 7 7 5 5 7 7 7 5 7 7 3 5 7 7 7 7 7 7 5 7 7 5 7 7 5 7 7 7\n",
            " 7 7 7 7 7 7 5 7 5 5 7 5 7 5 5 5 5 5 5 3 7 5 5 5 5 5]\n"
          ],
          "name": "stdout"
        }
      ]
    },
    {
      "cell_type": "code",
      "metadata": {
        "id": "7lk79MOb5o_L",
        "outputId": "32837fac-6bd5-4b04-87ce-3877fb8bc2f2",
        "colab": {
          "base_uri": "https://localhost:8080/"
        }
      },
      "source": [
        "x = random.choice([3, 5, 7, 9], p=[0.1, 0.3, 0.6, 0.0], size=(3, 5))\n",
        "\n",
        "print(x)"
      ],
      "execution_count": 67,
      "outputs": [
        {
          "output_type": "stream",
          "text": [
            "[[7 7 5 7 5]\n",
            " [7 7 7 5 7]\n",
            " [7 5 7 7 7]]\n"
          ],
          "name": "stdout"
        }
      ]
    },
    {
      "cell_type": "code",
      "metadata": {
        "id": "kP6bHDxt5y3N",
        "outputId": "381714d7-59fc-4ede-e733-029a5b2e9f4c",
        "colab": {
          "base_uri": "https://localhost:8080/"
        }
      },
      "source": [
        "arr = np.array([1, 2, 3, 4, 5])\n",
        "\n",
        "random.shuffle(arr)\n",
        "\n",
        "print(arr)"
      ],
      "execution_count": 68,
      "outputs": [
        {
          "output_type": "stream",
          "text": [
            "[2 3 1 5 4]\n"
          ],
          "name": "stdout"
        }
      ]
    },
    {
      "cell_type": "code",
      "metadata": {
        "id": "GI-gZ50Q54LQ",
        "outputId": "f9624bb1-78f2-4048-90fa-541600c0ae5a",
        "colab": {
          "base_uri": "https://localhost:8080/"
        }
      },
      "source": [
        "arr = np.array([1, 2, 3, 4, 5]) #Generate a random permutation of elements of following array\n",
        "\n",
        "print(random.permutation(arr))"
      ],
      "execution_count": 69,
      "outputs": [
        {
          "output_type": "stream",
          "text": [
            "[4 3 5 1 2]\n"
          ],
          "name": "stdout"
        }
      ]
    }
  ]
}