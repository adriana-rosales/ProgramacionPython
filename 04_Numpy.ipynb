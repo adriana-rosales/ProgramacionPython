{
  "nbformat": 4,
  "nbformat_minor": 0,
  "metadata": {
    "colab": {
      "name": "04_Numpy.ipynb",
      "provenance": [],
      "collapsed_sections": [],
      "authorship_tag": "ABX9TyNvCB92hEKc+CtRkUo+4Y75",
      "include_colab_link": true
    },
    "kernelspec": {
      "name": "python3",
      "display_name": "Python 3"
    }
  },
  "cells": [
    {
      "cell_type": "markdown",
      "metadata": {
        "id": "view-in-github",
        "colab_type": "text"
      },
      "source": [
        "<a href=\"https://colab.research.google.com/github/jcjimenezb123/ProgramacionPython/blob/master/04_Numpy.ipynb\" target=\"_parent\"><img src=\"https://colab.research.google.com/assets/colab-badge.svg\" alt=\"Open In Colab\"/></a>"
      ]
    },
    {
      "cell_type": "markdown",
      "metadata": {
        "id": "E9mvKPXbhSgO"
      },
      "source": [
        "#Numpy\n",
        "\n",
        "**Numpy** es una biblioteca de Python específica para trabajar con arreglos, también tiene funciones de álgebral lineal, transformadas de Fourier y operaciones con matrices.\n",
        "\n",
        "NumPy fue creado en 2005 por Travis Oliphant. Es un proyecto de código abierto que se puede usar libremente.\n",
        "\n",
        "NumPy es un estándar para Python numérico.\n",
        "\n",
        "Las operaciones con listas en Python son muy lentas, el objetivo de numpy es proveer de objetos mucho más rápidos.\n",
        "\n",
        "NumPy almacena los arreglos en lugares continuos dentro de la memoria a diferencia de las listas, por lo tanto pueden ser accesadas y manipuladas de manera más eficiente.\n",
        "\n",
        "NumPy está escrito parcialment en Python pero las partes que requieren su manipulación rápida está escrita en C y C++.\n",
        "\n",
        "Para hacer uso de numpy primero se debe instalar y luego importar al ambiente de trabajo."
      ]
    },
    {
      "cell_type": "code",
      "metadata": {
        "id": "egDcto3W96QN",
        "outputId": "4dfdad48-7649-42d9-9523-ff7ed9d5a864",
        "colab": {
          "base_uri": "https://localhost:8080/"
        }
      },
      "source": [
        "lista=list(range(10000000))\n",
        "%timeit sum(lista)"
      ],
      "execution_count": null,
      "outputs": [
        {
          "output_type": "stream",
          "text": [
            "10 loops, best of 3: 53.3 ms per loop\n"
          ],
          "name": "stdout"
        }
      ]
    },
    {
      "cell_type": "code",
      "metadata": {
        "id": "1yjY7GV7-PtH",
        "outputId": "4cb43ee1-4f10-43e3-8862-6edf1e017064",
        "colab": {
          "base_uri": "https://localhost:8080/"
        }
      },
      "source": [
        "import numpy as np\n",
        "vector=np.array(lista)\n",
        "%timeit np.sum(vector)"
      ],
      "execution_count": null,
      "outputs": [
        {
          "output_type": "stream",
          "text": [
            "100 loops, best of 3: 9.66 ms per loop\n"
          ],
          "name": "stdout"
        }
      ]
    },
    {
      "cell_type": "code",
      "metadata": {
        "id": "LrECdLXTquJP",
        "outputId": "568db9d4-a127-48f8-bbcb-6e54a86b8ebb",
        "colab": {
          "base_uri": "https://localhost:8080/"
        }
      },
      "source": [
        "53.7/9.83"
      ],
      "execution_count": null,
      "outputs": [
        {
          "output_type": "execute_result",
          "data": {
            "text/plain": [
              "5.462868769074262"
            ]
          },
          "metadata": {
            "tags": []
          },
          "execution_count": 6
        }
      ]
    },
    {
      "cell_type": "code",
      "metadata": {
        "id": "m43Ov0UX8-xp",
        "outputId": "b5006bfa-1a1d-4904-930c-085dfd08e717",
        "colab": {
          "base_uri": "https://localhost:8080/"
        }
      },
      "source": [
        "a=[1,2,3,4]\n",
        "b=[10,11,12,13]\n",
        "a+b"
      ],
      "execution_count": null,
      "outputs": [
        {
          "output_type": "execute_result",
          "data": {
            "text/plain": [
              "[1, 2, 3, 4, 10, 11, 12, 13]"
            ]
          },
          "metadata": {
            "tags": []
          },
          "execution_count": 7
        }
      ]
    },
    {
      "cell_type": "code",
      "metadata": {
        "id": "LaVsRFdy8-k1",
        "outputId": "27f11343-ec2f-4db3-e98f-e3928b3dade5",
        "colab": {
          "base_uri": "https://localhost:8080/"
        }
      },
      "source": [
        "suma=[]\n",
        "for dato1,dato2 in zip(a,b):\n",
        "  suma.append(dato1+dato2)\n",
        "print(suma)"
      ],
      "execution_count": null,
      "outputs": [
        {
          "output_type": "stream",
          "text": [
            "[11, 13, 15, 17]\n"
          ],
          "name": "stdout"
        }
      ]
    },
    {
      "cell_type": "code",
      "metadata": {
        "id": "VEk9ddC2mw3m",
        "outputId": "7678a14c-6b57-4537-a02c-006efcad3af9",
        "colab": {
          "base_uri": "https://localhost:8080/"
        }
      },
      "source": [
        "x=np.array(a)\n",
        "y=np.array(b)\n",
        "print(x+y)\n",
        "print(x-y)\n",
        "print(x*y)\n",
        "print(x@y)"
      ],
      "execution_count": null,
      "outputs": [
        {
          "output_type": "stream",
          "text": [
            "[11 13 15 17]\n",
            "[-9 -9 -9 -9]\n",
            "[10 22 36 52]\n",
            "120\n"
          ],
          "name": "stdout"
        }
      ]
    },
    {
      "cell_type": "code",
      "metadata": {
        "id": "xOINPrJHn6SH",
        "outputId": "ade115a5-0b25-47c4-e2c9-b18aeb9b0f56",
        "colab": {
          "base_uri": "https://localhost:8080/"
        }
      },
      "source": [
        "a = np.array(1)\n",
        "b = np.array([1, 2, 3, 4, 5])\n",
        "c = np.array([[1, 2, 3], [4, 5, 6]])\n",
        "d = np.array([[[1, 2, 3], [4, 5, 6]], [[1, 2, 3], [4, 5, 6]]])\n",
        "\n",
        "print(a.ndim)\n",
        "print(b.ndim)\n",
        "print(c.ndim)\n",
        "print(d.ndim)"
      ],
      "execution_count": null,
      "outputs": [
        {
          "output_type": "stream",
          "text": [
            "0\n",
            "1\n",
            "2\n",
            "3\n"
          ],
          "name": "stdout"
        }
      ]
    },
    {
      "cell_type": "code",
      "metadata": {
        "id": "X57pMgjroOBW",
        "outputId": "d4844e58-39a7-4755-ce4f-9b2faa0fe2ad",
        "colab": {
          "base_uri": "https://localhost:8080/"
        }
      },
      "source": [
        "e = np.array([1, 2, 3, 4], ndmin=5)\n",
        "\n",
        "print(e)\n",
        "print('number of dimensions :', e.ndim)"
      ],
      "execution_count": null,
      "outputs": [
        {
          "output_type": "stream",
          "text": [
            "[[[[[1 2 3 4]]]]]\n",
            "number of dimensions : 5\n"
          ],
          "name": "stdout"
        }
      ]
    },
    {
      "cell_type": "code",
      "metadata": {
        "id": "WkAmy31PqyNk",
        "outputId": "9bf57afb-c370-4e10-d9e1-0e0fab31fae1",
        "colab": {
          "base_uri": "https://localhost:8080/",
          "height": 35
        }
      },
      "source": [
        "x=np.array([1,2,3,4,-5,-6,-7,-8])\n",
        "print(x)"
      ],
      "execution_count": null,
      "outputs": [
        {
          "output_type": "stream",
          "text": [
            "[ 1  2  3  4 -5 -6 -7 -8]\n"
          ],
          "name": "stdout"
        }
      ]
    },
    {
      "cell_type": "code",
      "metadata": {
        "id": "GIJ6RAQkq-hz",
        "outputId": "8e1d7d0f-3dde-4275-a85c-a28acf2cd1f3",
        "colab": {
          "base_uri": "https://localhost:8080/",
          "height": 121
        }
      },
      "source": [
        "print('tipo de dato',x.dtype)\n",
        "print('forma ',x.shape)\n",
        "print('tamano ',x.size)\n",
        "print('dimensiones ',x.ndim)\n",
        "print('tamano de cada elemento ',x.itemsize)\n",
        "print('memoria usada ',x.nbytes)"
      ],
      "execution_count": null,
      "outputs": [
        {
          "output_type": "stream",
          "text": [
            "tipo de dato int64\n",
            "forma  (8,)\n",
            "tamano  8\n",
            "dimensiones  1\n",
            "tamano de cada elemento  8\n",
            "memoaria usada  64\n"
          ],
          "name": "stdout"
        }
      ]
    },
    {
      "cell_type": "code",
      "metadata": {
        "id": "-Vw-2xMXq6SU",
        "outputId": "5b44fb3a-1847-4c6b-9d1d-22a4082263f0",
        "colab": {
          "base_uri": "https://localhost:8080/",
          "height": 35
        }
      },
      "source": [
        "print(x[0])"
      ],
      "execution_count": null,
      "outputs": [
        {
          "output_type": "stream",
          "text": [
            "1\n"
          ],
          "name": "stdout"
        }
      ]
    },
    {
      "cell_type": "code",
      "metadata": {
        "id": "3kiv8dTmrFZG",
        "outputId": "02083c1f-272e-4c5e-f17a-bae12c4f3410",
        "colab": {
          "base_uri": "https://localhost:8080/",
          "height": 35
        }
      },
      "source": [
        "print(x[1])"
      ],
      "execution_count": null,
      "outputs": [
        {
          "output_type": "stream",
          "text": [
            "2\n"
          ],
          "name": "stdout"
        }
      ]
    },
    {
      "cell_type": "code",
      "metadata": {
        "id": "1_dNAQPYrKsQ",
        "outputId": "5021bb0e-7ae6-4096-e8fb-590feb038c7c",
        "colab": {
          "base_uri": "https://localhost:8080/",
          "height": 35
        }
      },
      "source": [
        "print(x.__getitem__(1))"
      ],
      "execution_count": null,
      "outputs": [
        {
          "output_type": "stream",
          "text": [
            "2\n"
          ],
          "name": "stdout"
        }
      ]
    },
    {
      "cell_type": "code",
      "metadata": {
        "id": "GUg5N5p099Js",
        "outputId": "7a5ac8c4-fb84-415a-bd08-197bf1594fd6",
        "colab": {
          "base_uri": "https://localhost:8080/",
          "height": 35
        }
      },
      "source": [
        "print(x[-1])"
      ],
      "execution_count": null,
      "outputs": [
        {
          "output_type": "stream",
          "text": [
            "-8\n"
          ],
          "name": "stdout"
        }
      ]
    },
    {
      "cell_type": "code",
      "metadata": {
        "id": "YWfXieEY-Hlt",
        "outputId": "f07f56d3-e775-496f-bea0-0cc541d17f4f",
        "colab": {
          "base_uri": "https://localhost:8080/",
          "height": 35
        }
      },
      "source": [
        "print(x[-2])"
      ],
      "execution_count": null,
      "outputs": [
        {
          "output_type": "stream",
          "text": [
            "-7\n"
          ],
          "name": "stdout"
        }
      ]
    },
    {
      "cell_type": "code",
      "metadata": {
        "id": "_3LYJULg-QV5",
        "outputId": "5c60238a-8828-4332-a058-70d9dbe4f34f",
        "colab": {
          "base_uri": "https://localhost:8080/",
          "height": 35
        }
      },
      "source": [
        "print(x[-2:])"
      ],
      "execution_count": null,
      "outputs": [
        {
          "output_type": "stream",
          "text": [
            "[-7 -8]\n"
          ],
          "name": "stdout"
        }
      ]
    },
    {
      "cell_type": "code",
      "metadata": {
        "id": "Dv2GOuBu-V3c",
        "outputId": "46c2296a-a74a-4499-f745-44c853c541f3",
        "colab": {
          "base_uri": "https://localhost:8080/",
          "height": 35
        }
      },
      "source": [
        "print(x[1:3])"
      ],
      "execution_count": null,
      "outputs": [
        {
          "output_type": "stream",
          "text": [
            "[2 3]\n"
          ],
          "name": "stdout"
        }
      ]
    },
    {
      "cell_type": "code",
      "metadata": {
        "id": "V7GClm5C-eEX",
        "outputId": "1d95801e-00e8-498e-e287-63d6e7f24f93",
        "colab": {
          "base_uri": "https://localhost:8080/",
          "height": 35
        }
      },
      "source": [
        "print(x[:3])"
      ],
      "execution_count": null,
      "outputs": [
        {
          "output_type": "stream",
          "text": [
            "[1 2 3]\n"
          ],
          "name": "stdout"
        }
      ]
    },
    {
      "cell_type": "code",
      "metadata": {
        "id": "TWWpsNxtrPG5",
        "outputId": "3da10d38-a907-435e-e344-8b95b96cf3cd",
        "colab": {
          "base_uri": "https://localhost:8080/",
          "height": 35
        }
      },
      "source": [
        "x[0]=3.1416\n",
        "print(x)"
      ],
      "execution_count": null,
      "outputs": [
        {
          "output_type": "stream",
          "text": [
            "[ 3  2  3  4 -5 -6 -7 -8]\n"
          ],
          "name": "stdout"
        }
      ]
    },
    {
      "cell_type": "code",
      "metadata": {
        "id": "JvqymrKPz2pN",
        "outputId": "74d23132-4c82-4d23-f90c-bbcb3002bf1f",
        "colab": {
          "base_uri": "https://localhost:8080/",
          "height": 35
        }
      },
      "source": [
        "x=np.array([0 if valor<0 else valor for valor in x ])\n",
        "print(x)"
      ],
      "execution_count": null,
      "outputs": [
        {
          "output_type": "stream",
          "text": [
            "[3 2 3 4 0 0 0 0]\n"
          ],
          "name": "stdout"
        }
      ]
    },
    {
      "cell_type": "code",
      "metadata": {
        "id": "92dCcK6EI6eI",
        "outputId": "e448cd1c-0ff9-4704-f549-8b9b94dcecbf",
        "colab": {
          "base_uri": "https://localhost:8080/"
        }
      },
      "source": [
        "x = np.empty([3,2], dtype=int)\n",
        "print(x)"
      ],
      "execution_count": null,
      "outputs": [
        {
          "output_type": "stream",
          "text": [
            "[[26525328        0]\n",
            " [       0        0]\n",
            " [       0        0]]\n"
          ],
          "name": "stdout"
        }
      ]
    },
    {
      "cell_type": "code",
      "metadata": {
        "id": "DDlorVehJTc1",
        "outputId": "0cd384f0-d8d8-47bf-c571-8a650e949c21",
        "colab": {
          "base_uri": "https://localhost:8080/"
        }
      },
      "source": [
        "x = np.zeros(5)\n",
        "print( x)"
      ],
      "execution_count": null,
      "outputs": [
        {
          "output_type": "stream",
          "text": [
            "[0. 0. 0. 0. 0.]\n"
          ],
          "name": "stdout"
        }
      ]
    },
    {
      "cell_type": "code",
      "metadata": {
        "id": "Cj0b9SMJJfOO",
        "outputId": "8de332ae-6e6d-4720-b47d-02b969404b6a",
        "colab": {
          "base_uri": "https://localhost:8080/"
        }
      },
      "source": [
        "x = np.zeros((2,2), dtype=[('x', 'i4'), ('y', 'i4')])\n",
        "print(x)"
      ],
      "execution_count": null,
      "outputs": [
        {
          "output_type": "stream",
          "text": [
            "[[(0, 0) (0, 0)]\n",
            " [(0, 0) (0, 0)]]\n"
          ],
          "name": "stdout"
        }
      ]
    },
    {
      "cell_type": "code",
      "metadata": {
        "id": "N5nLafbbJtsm",
        "outputId": "ec13bbd7-984a-472f-913f-5b3b3c4bfe60",
        "colab": {
          "base_uri": "https://localhost:8080/"
        }
      },
      "source": [
        "x = np.ones(5)\n",
        "print( x)"
      ],
      "execution_count": null,
      "outputs": [
        {
          "output_type": "stream",
          "text": [
            "[1. 1. 1. 1. 1.]\n"
          ],
          "name": "stdout"
        }
      ]
    },
    {
      "cell_type": "code",
      "metadata": {
        "id": "ve34Bx7cJwZO",
        "outputId": "a2f6bbb9-9f4d-48bf-c7a1-c6bbea1805b9",
        "colab": {
          "base_uri": "https://localhost:8080/"
        }
      },
      "source": [
        "x = np.ones(5)*np.pi\n",
        "print (x)"
      ],
      "execution_count": null,
      "outputs": [
        {
          "output_type": "stream",
          "text": [
            "[3.14159265 3.14159265 3.14159265 3.14159265 3.14159265]\n"
          ],
          "name": "stdout"
        }
      ]
    },
    {
      "cell_type": "code",
      "metadata": {
        "id": "7P5UmpzGK-bL",
        "outputId": "ea05ac6f-1c1a-4fc0-e520-2542f0a9c884",
        "colab": {
          "base_uri": "https://localhost:8080/"
        }
      },
      "source": [
        "x = np.arange(10)\n",
        "print(x)"
      ],
      "execution_count": null,
      "outputs": [
        {
          "output_type": "stream",
          "text": [
            "[0 1 2 3 4 5 6 7 8 9]\n"
          ],
          "name": "stdout"
        }
      ]
    },
    {
      "cell_type": "code",
      "metadata": {
        "id": "hipGXBM5LfDg",
        "outputId": "bc160aa7-23d3-46dd-f186-1e0aae6bc6a6",
        "colab": {
          "base_uri": "https://localhost:8080/"
        }
      },
      "source": [
        "x = np.arange(10,20)\n",
        "print(x)"
      ],
      "execution_count": null,
      "outputs": [
        {
          "output_type": "stream",
          "text": [
            "[10 11 12 13 14 15 16 17 18 19]\n"
          ],
          "name": "stdout"
        }
      ]
    },
    {
      "cell_type": "code",
      "metadata": {
        "id": "nSniLoN8Ljq1",
        "outputId": "1bdf40d4-eee1-47d4-aad9-3568cad1e4af",
        "colab": {
          "base_uri": "https://localhost:8080/"
        }
      },
      "source": [
        "x = np.arange(10,20,2)\n",
        "print(x)"
      ],
      "execution_count": null,
      "outputs": [
        {
          "output_type": "stream",
          "text": [
            "[10 12 14 16 18]\n"
          ],
          "name": "stdout"
        }
      ]
    },
    {
      "cell_type": "code",
      "metadata": {
        "id": "VMt2J0gGLnGC",
        "outputId": "49489dc0-5401-4a40-9b28-35a4dbcf1449",
        "colab": {
          "base_uri": "https://localhost:8080/"
        }
      },
      "source": [
        "x = np.arange(10,20,2,dtype=float)\n",
        "print(x)"
      ],
      "execution_count": null,
      "outputs": [
        {
          "output_type": "stream",
          "text": [
            "[10. 12. 14. 16. 18.]\n"
          ],
          "name": "stdout"
        }
      ]
    },
    {
      "cell_type": "code",
      "metadata": {
        "id": "v7_dnHqAMCFP",
        "outputId": "a99ac5da-ba04-44f8-ee13-01f8184fbd5f",
        "colab": {
          "base_uri": "https://localhost:8080/"
        }
      },
      "source": [
        "x = np.linspace(10,20)\n",
        "print(x)"
      ],
      "execution_count": null,
      "outputs": [
        {
          "output_type": "stream",
          "text": [
            "[10.         10.20408163 10.40816327 10.6122449  10.81632653 11.02040816\n",
            " 11.2244898  11.42857143 11.63265306 11.83673469 12.04081633 12.24489796\n",
            " 12.44897959 12.65306122 12.85714286 13.06122449 13.26530612 13.46938776\n",
            " 13.67346939 13.87755102 14.08163265 14.28571429 14.48979592 14.69387755\n",
            " 14.89795918 15.10204082 15.30612245 15.51020408 15.71428571 15.91836735\n",
            " 16.12244898 16.32653061 16.53061224 16.73469388 16.93877551 17.14285714\n",
            " 17.34693878 17.55102041 17.75510204 17.95918367 18.16326531 18.36734694\n",
            " 18.57142857 18.7755102  18.97959184 19.18367347 19.3877551  19.59183673\n",
            " 19.79591837 20.        ]\n"
          ],
          "name": "stdout"
        }
      ]
    },
    {
      "cell_type": "code",
      "metadata": {
        "id": "PpbcyiiSMQBl",
        "outputId": "7c926f23-cac4-4ae1-990c-828683d60e64",
        "colab": {
          "base_uri": "https://localhost:8080/"
        }
      },
      "source": [
        "x = np.linspace(10,20,11)\n",
        "print(x)"
      ],
      "execution_count": null,
      "outputs": [
        {
          "output_type": "stream",
          "text": [
            "[10. 11. 12. 13. 14. 15. 16. 17. 18. 19. 20.]\n"
          ],
          "name": "stdout"
        }
      ]
    },
    {
      "cell_type": "code",
      "metadata": {
        "id": "UQW1X_hOBD4n",
        "outputId": "c1ee989a-db4d-4af8-9b1b-58f03aa3ad9b",
        "colab": {
          "base_uri": "https://localhost:8080/",
          "height": 51
        }
      },
      "source": [
        "complejos=np.array([1+2j,3,4-2.1j])\n",
        "print(complejos)\n",
        "print(complejos.dtype)"
      ],
      "execution_count": null,
      "outputs": [
        {
          "output_type": "stream",
          "text": [
            "[1.+2.j  3.+0.j  4.-2.1j]\n",
            "complex128\n"
          ],
          "name": "stdout"
        }
      ]
    },
    {
      "cell_type": "code",
      "metadata": {
        "id": "aS_MMEEzrXL-",
        "outputId": "cae0be1a-5f27-4fca-aad2-549fd323e136",
        "colab": {
          "base_uri": "https://localhost:8080/",
          "height": 51
        }
      },
      "source": [
        "y=np.array([1,2,3.1416,4])\n",
        "print(y)\n",
        "print(y.dtype)\n"
      ],
      "execution_count": null,
      "outputs": [
        {
          "output_type": "stream",
          "text": [
            "[1.     2.     3.1416 4.    ]\n",
            "float64\n"
          ],
          "name": "stdout"
        }
      ]
    },
    {
      "cell_type": "code",
      "metadata": {
        "id": "SSyrGnRQri2O",
        "outputId": "7eac10a7-d7ed-465d-a21b-d15db9f7ab61",
        "colab": {
          "base_uri": "https://localhost:8080/",
          "height": 34
        }
      },
      "source": [
        "y[1]=2.7172\n",
        "print(y)"
      ],
      "execution_count": null,
      "outputs": [
        {
          "output_type": "stream",
          "text": [
            "[1.     2.7172 3.1416 4.    ]\n"
          ],
          "name": "stdout"
        }
      ]
    },
    {
      "cell_type": "code",
      "metadata": {
        "id": "Q2DFT7lervBn",
        "outputId": "7934b1c3-982d-4f9e-e7be-81c3049c2eef",
        "colab": {
          "base_uri": "https://localhost:8080/",
          "height": 51
        }
      },
      "source": [
        "xx=np.array([1,2,3,4],dtype=float)\n",
        "print(xx)\n",
        "print(xx.dtype)"
      ],
      "execution_count": null,
      "outputs": [
        {
          "output_type": "stream",
          "text": [
            "[1. 2. 3. 4.]\n",
            "float64\n"
          ],
          "name": "stdout"
        }
      ]
    },
    {
      "cell_type": "code",
      "metadata": {
        "id": "-edqleOFr7h1",
        "outputId": "c0e6b719-379a-417b-c8ab-453dfc0ddad9",
        "colab": {
          "base_uri": "https://localhost:8080/",
          "height": 34
        }
      },
      "source": [
        "xx[2]=3.1416\n",
        "print(xx)"
      ],
      "execution_count": null,
      "outputs": [
        {
          "output_type": "stream",
          "text": [
            "[1.     2.     3.1416 4.    ]\n"
          ],
          "name": "stdout"
        }
      ]
    },
    {
      "cell_type": "code",
      "metadata": {
        "id": "8TYOCsSZsD2q",
        "outputId": "67cdf45c-8447-4288-8b45-c5b496e8963f",
        "colab": {
          "base_uri": "https://localhost:8080/",
          "height": 34
        }
      },
      "source": [
        "xx.__setitem__(1,2.7172)\n",
        "print(xx)"
      ],
      "execution_count": null,
      "outputs": [
        {
          "output_type": "stream",
          "text": [
            "[1.     2.7172 3.1416 4.    ]\n"
          ],
          "name": "stdout"
        }
      ]
    },
    {
      "cell_type": "code",
      "metadata": {
        "id": "dpWZRLDlsbSn",
        "outputId": "552e59af-ff71-4007-b097-dd8fdaa05077",
        "colab": {
          "base_uri": "https://localhost:8080/",
          "height": 34
        }
      },
      "source": [
        "xx[0]=1.4142\n",
        "print(xx)"
      ],
      "execution_count": null,
      "outputs": [
        {
          "output_type": "stream",
          "text": [
            "[1.4142 2.7172 3.1416 4.    ]\n"
          ],
          "name": "stdout"
        }
      ]
    },
    {
      "cell_type": "code",
      "metadata": {
        "id": "BfQGECs9szcf",
        "outputId": "43eaeb63-7217-4767-ade0-bee47f0d6060",
        "colab": {
          "base_uri": "https://localhost:8080/",
          "height": 34
        }
      },
      "source": [
        "z=x+y\n",
        "print(z)"
      ],
      "execution_count": null,
      "outputs": [
        {
          "output_type": "stream",
          "text": [
            "[2.     4.7172 6.1416 8.    ]\n"
          ],
          "name": "stdout"
        }
      ]
    },
    {
      "cell_type": "code",
      "metadata": {
        "id": "HQJ4200Et817",
        "outputId": "ab3101be-7f34-4695-867d-5a0b9a5f46e2",
        "colab": {
          "base_uri": "https://localhost:8080/",
          "height": 34
        }
      },
      "source": [
        "z=x/y\n",
        "print(z)"
      ],
      "execution_count": null,
      "outputs": [
        {
          "output_type": "stream",
          "text": [
            "[1.         0.73605182 0.95492743 1.        ]\n"
          ],
          "name": "stdout"
        }
      ]
    },
    {
      "cell_type": "code",
      "metadata": {
        "id": "DOHMHAtWuGlH",
        "outputId": "21ebc801-38f2-4c14-9c9e-61b721d25b51",
        "colab": {
          "base_uri": "https://localhost:8080/",
          "height": 34
        }
      },
      "source": [
        "z=x*y\n",
        "print(z)"
      ],
      "execution_count": null,
      "outputs": [
        {
          "output_type": "stream",
          "text": [
            "[ 1.      5.4344  9.4248 16.    ]\n"
          ],
          "name": "stdout"
        }
      ]
    },
    {
      "cell_type": "code",
      "metadata": {
        "id": "r3d92rs8uKX6",
        "outputId": "ec3c82ab-d65b-4001-bd5e-575162d0fc6e",
        "colab": {
          "base_uri": "https://localhost:8080/",
          "height": 34
        }
      },
      "source": [
        "z=x**y\n",
        "print(z)"
      ],
      "execution_count": null,
      "outputs": [
        {
          "output_type": "stream",
          "text": [
            "[  1.           6.57595306  31.54453529 256.        ]\n"
          ],
          "name": "stdout"
        }
      ]
    },
    {
      "cell_type": "code",
      "metadata": {
        "id": "LbCTwK-UuNV7",
        "outputId": "992c49d0-a064-4278-96f7-4c29ff816f93",
        "colab": {
          "base_uri": "https://localhost:8080/",
          "height": 34
        }
      },
      "source": [
        "s=np.sin(x)\n",
        "print(s)"
      ],
      "execution_count": null,
      "outputs": [
        {
          "output_type": "stream",
          "text": [
            "[ 0.84147098  0.90929743  0.14112001 -0.7568025 ]\n"
          ],
          "name": "stdout"
        }
      ]
    },
    {
      "cell_type": "code",
      "metadata": {
        "id": "MPZgGaYkuR3y",
        "outputId": "0711d62e-0854-4e3f-9d31-879ecf2c8cf5",
        "colab": {
          "base_uri": "https://localhost:8080/",
          "height": 34
        }
      },
      "source": [
        "x10=x*10\n",
        "print(x10)"
      ],
      "execution_count": null,
      "outputs": [
        {
          "output_type": "stream",
          "text": [
            "[10 20 30 40]\n"
          ],
          "name": "stdout"
        }
      ]
    },
    {
      "cell_type": "code",
      "metadata": {
        "id": "3G4yKS7GuWrh",
        "outputId": "43fc0a99-7a95-46b2-a86d-4f3a38361e29",
        "colab": {
          "base_uri": "https://localhost:8080/",
          "height": 34
        }
      },
      "source": [
        "x_10=x-10\n",
        "print(x_10)"
      ],
      "execution_count": null,
      "outputs": [
        {
          "output_type": "stream",
          "text": [
            "[-9 -8 -7 -6]\n"
          ],
          "name": "stdout"
        }
      ]
    },
    {
      "cell_type": "code",
      "metadata": {
        "id": "aIKhfZrTuerQ",
        "outputId": "8ef1fc6f-2412-43bf-c811-be813ea660e0",
        "colab": {
          "base_uri": "https://localhost:8080/",
          "height": 34
        }
      },
      "source": [
        "indices=[0,2,3]\n",
        "print(x[indices])"
      ],
      "execution_count": null,
      "outputs": [
        {
          "output_type": "stream",
          "text": [
            "[1 3 4]\n"
          ],
          "name": "stdout"
        }
      ]
    },
    {
      "cell_type": "code",
      "metadata": {
        "id": "tUn_n8FyxB8b",
        "outputId": "2d57731d-95f3-44cc-983d-1bf2a9716395",
        "colab": {
          "base_uri": "https://localhost:8080/",
          "height": 35
        }
      },
      "source": [
        "arreglo=np.array([-2,-3,0,1,-1,4,-10,3])\n",
        "negativos=arreglo<0\n",
        "print(negativos)"
      ],
      "execution_count": null,
      "outputs": [
        {
          "output_type": "stream",
          "text": [
            "[ True  True False False  True False  True False]\n"
          ],
          "name": "stdout"
        }
      ]
    },
    {
      "cell_type": "code",
      "metadata": {
        "id": "ajv8fzGQxack",
        "outputId": "b875269c-62e1-4f66-a53f-52bfa1f8210f",
        "colab": {
          "base_uri": "https://localhost:8080/",
          "height": 35
        }
      },
      "source": [
        "print(arreglo[negativos])"
      ],
      "execution_count": null,
      "outputs": [
        {
          "output_type": "stream",
          "text": [
            "[ -2  -3  -1 -10]\n"
          ],
          "name": "stdout"
        }
      ]
    },
    {
      "cell_type": "code",
      "metadata": {
        "id": "N38id_T3xeSn",
        "outputId": "4e7a9638-d82d-4200-8d72-f06bef220ec0",
        "colab": {
          "base_uri": "https://localhost:8080/",
          "height": 35
        }
      },
      "source": [
        "arreglo[negativos]=0\n",
        "print(arreglo)"
      ],
      "execution_count": null,
      "outputs": [
        {
          "output_type": "stream",
          "text": [
            "[0 0 0 1 0 4 0 3]\n"
          ],
          "name": "stdout"
        }
      ]
    },
    {
      "cell_type": "code",
      "metadata": {
        "id": "XS_S3Di5xkcu",
        "outputId": "8b1545bd-4ed0-480d-e930-fe9c18adad08",
        "colab": {
          "base_uri": "https://localhost:8080/"
        }
      },
      "source": [
        "x=np.array([-2,-4,-1,0,2,4,8,-9])\n",
        "print('x=',x)\n",
        "print('suma ',x.sum() )\n",
        "print('suma acumulada',x.cumsum())\n",
        "print('producto ',x.prod() )\n",
        "print('producto ',x.cumprod() )\n",
        "print('maximo ',x.max() )\n",
        "print('minimo ',x.min() )\n",
        "print('desviasion estandar ',x.std() )\n",
        "print('varianza ',x.var() )\n",
        "print('promedio ',x.mean( ) )"
      ],
      "execution_count": null,
      "outputs": [
        {
          "output_type": "stream",
          "text": [
            "x= [-2 -4 -1  0  2  4  8 -9]\n",
            "suma  -2\n",
            "suma acumulada [-2 -6 -7 -7 -5 -1  7 -2]\n",
            "producto  0\n",
            "producto  [-2  8 -8  0  0  0  0  0]\n",
            "maximo  8\n",
            "minimo  -9\n",
            "desviasion estandar  4.815340071064556\n",
            "varianza  23.1875\n",
            "promedio  -0.25\n"
          ],
          "name": "stdout"
        }
      ]
    },
    {
      "cell_type": "code",
      "metadata": {
        "id": "PCbEGioG4vPM",
        "outputId": "37d16bd9-b8b7-4f7a-cb21-5a871034e863",
        "colab": {
          "base_uri": "https://localhost:8080/"
        }
      },
      "source": [
        "print('suma positivos ',x.sum(where=x>0) )\n",
        "print('suma positivos ',x[x>0].sum() )\n",
        "\n",
        "print('suma negativos ',x.sum(where=x<0) )\n",
        "print('desviacion positivos ',x[x>0].std() )\n",
        "\n",
        "print('promedio positivos ',x[x>0].mean() )"
      ],
      "execution_count": null,
      "outputs": [
        {
          "output_type": "stream",
          "text": [
            "suma positivos  14\n",
            "suma positivos  14\n",
            "suma negativos  -16\n",
            "desviacion positivos  2.494438257849294\n",
            "promedio positivos  4.666666666666667\n"
          ],
          "name": "stdout"
        }
      ]
    },
    {
      "cell_type": "code",
      "metadata": {
        "id": "A2l3s5-H1BVH",
        "outputId": "4b3e5e30-9d38-4bdb-c584-c60064423bf0",
        "colab": {
          "base_uri": "https://localhost:8080/"
        }
      },
      "source": [
        "p_max=np.where(x==x.max())\n",
        "print(p_max)\n",
        "print(x[p_max])"
      ],
      "execution_count": null,
      "outputs": [
        {
          "output_type": "stream",
          "text": [
            "(array([6]),)\n",
            "[8]\n"
          ],
          "name": "stdout"
        }
      ]
    },
    {
      "cell_type": "code",
      "metadata": {
        "id": "nBF_Ip4ePnpl",
        "outputId": "0be97709-1943-4656-cb25-1b59111c1c68",
        "colab": {
          "base_uri": "https://localhost:8080/"
        }
      },
      "source": [
        "x = np.array([np.nan, 1,2,np.nan,3,4,5])\n",
        "print (x[~np.isnan(x)])"
      ],
      "execution_count": null,
      "outputs": [
        {
          "output_type": "stream",
          "text": [
            "[1. 2. 3. 4. 5.]\n"
          ],
          "name": "stdout"
        }
      ]
    },
    {
      "cell_type": "code",
      "metadata": {
        "id": "C3lTlGUg4olf",
        "outputId": "4df6b7bb-36d6-4721-b3ba-1346c9819566",
        "colab": {
          "base_uri": "https://localhost:8080/"
        }
      },
      "source": [
        "y=x\n",
        "y[0]=-100\n",
        "print(x)\n",
        "print(y)"
      ],
      "execution_count": null,
      "outputs": [
        {
          "output_type": "stream",
          "text": [
            "[-100   -4   -1    0    2    4    8   -9]\n",
            "[-100   -4   -1    0    2    4    8   -9]\n"
          ],
          "name": "stdout"
        }
      ]
    },
    {
      "cell_type": "code",
      "metadata": {
        "id": "wRCwVVS7581u",
        "outputId": "a6c6c345-1169-41dc-e60f-4315629c344a",
        "colab": {
          "base_uri": "https://localhost:8080/"
        }
      },
      "source": [
        "copiax=x.copy()\n",
        "copiax[0]=200\n",
        "print(x)\n",
        "print(copiax)"
      ],
      "execution_count": null,
      "outputs": [
        {
          "output_type": "stream",
          "text": [
            "[-100   -4   -1    0    2    4    8   -9]\n",
            "[200  -4  -1   0   2   4   8  -9]\n"
          ],
          "name": "stdout"
        }
      ]
    },
    {
      "cell_type": "code",
      "metadata": {
        "id": "K7vXrznO6Mxc",
        "outputId": "cafce206-c106-4c3b-894d-c01e11c53edb",
        "colab": {
          "base_uri": "https://localhost:8080/"
        }
      },
      "source": [
        "arr = np.array([1, 2, 3, 4, 5, 6, 7, 8, 9, 10, 11, 12])\n",
        "\n",
        "newarr = arr.reshape(4, 3)\n",
        "print(newarr)"
      ],
      "execution_count": null,
      "outputs": [
        {
          "output_type": "stream",
          "text": [
            "[[ 1  2  3]\n",
            " [ 4  5  6]\n",
            " [ 7  8  9]\n",
            " [10 11 12]]\n"
          ],
          "name": "stdout"
        }
      ]
    },
    {
      "cell_type": "code",
      "metadata": {
        "id": "VGl5uEjOplex",
        "outputId": "5a75f9a4-2b1e-41f8-c530-9b50b5c076fe",
        "colab": {
          "base_uri": "https://localhost:8080/"
        }
      },
      "source": [
        "arr = np.array([1, 2, 3, 4, 5, 6, 7, 8, 9, 10, 11, 12])\n",
        "\n",
        "newarr = arr.reshape(2, 3, 2)\n",
        "\n",
        "print(newarr)"
      ],
      "execution_count": null,
      "outputs": [
        {
          "output_type": "stream",
          "text": [
            "[[[ 1  2]\n",
            "  [ 3  4]\n",
            "  [ 5  6]]\n",
            "\n",
            " [[ 7  8]\n",
            "  [ 9 10]\n",
            "  [11 12]]]\n"
          ],
          "name": "stdout"
        }
      ]
    },
    {
      "cell_type": "code",
      "metadata": {
        "id": "UgcuBIyiqP_m",
        "outputId": "6fbcf6fb-d097-4f13-bcae-05a67c40b95a",
        "colab": {
          "base_uri": "https://localhost:8080/"
        }
      },
      "source": [
        "arr = np.array([[1, 2, 3], [4, 5, 6]])\n",
        "\n",
        "newarr = arr.reshape(-1)\n",
        "\n",
        "print(newarr)"
      ],
      "execution_count": null,
      "outputs": [
        {
          "output_type": "stream",
          "text": [
            "[1 2 3 4 5 6]\n"
          ],
          "name": "stdout"
        }
      ]
    },
    {
      "cell_type": "code",
      "metadata": {
        "id": "VNYpF2z3qavi",
        "outputId": "4d3809e2-2726-4201-c10f-db3f3ece8fd2",
        "colab": {
          "base_uri": "https://localhost:8080/"
        }
      },
      "source": [
        "arr = np.array([[1, 2, 3], [4, 5, 6]])\n",
        "\n",
        "newarr = arr.flatten()\n",
        "\n",
        "print(newarr)"
      ],
      "execution_count": null,
      "outputs": [
        {
          "output_type": "stream",
          "text": [
            "[1 2 3 4 5 6]\n"
          ],
          "name": "stdout"
        }
      ]
    },
    {
      "cell_type": "code",
      "metadata": {
        "id": "ZtucNav9qfuG",
        "outputId": "594a7fd2-3126-40b2-8eec-a791e6284028",
        "colab": {
          "base_uri": "https://localhost:8080/"
        }
      },
      "source": [
        "arr = np.array([1, 2, 3])\n",
        "\n",
        "for x in arr:\n",
        "  print(x)"
      ],
      "execution_count": null,
      "outputs": [
        {
          "output_type": "stream",
          "text": [
            "1\n",
            "2\n",
            "3\n"
          ],
          "name": "stdout"
        }
      ]
    },
    {
      "cell_type": "code",
      "metadata": {
        "id": "h7QD8ixe0GWe",
        "outputId": "360fb77d-24a6-44c5-f076-2aec0640d455",
        "colab": {
          "base_uri": "https://localhost:8080/"
        }
      },
      "source": [
        "arr = np.array([[1, 2, 3], [4, 5, 6]])\n",
        "i=0\n",
        "for x in arr:\n",
        "  i+=1\n",
        "  print(i,x)"
      ],
      "execution_count": null,
      "outputs": [
        {
          "output_type": "stream",
          "text": [
            "1 [1 2 3]\n",
            "2 [4 5 6]\n"
          ],
          "name": "stdout"
        }
      ]
    },
    {
      "cell_type": "code",
      "metadata": {
        "id": "Tw3BvRte0WFG",
        "outputId": "3e40b07e-1c9d-4613-af38-c5b19a171c6f",
        "colab": {
          "base_uri": "https://localhost:8080/"
        }
      },
      "source": [
        "arr = np.array([[1, 2, 3], [4, 5, 6]])\n",
        "\n",
        "for x in arr:\n",
        "  for y in x:\n",
        "    print(y)"
      ],
      "execution_count": null,
      "outputs": [
        {
          "output_type": "stream",
          "text": [
            "1\n",
            "2\n",
            "3\n",
            "4\n",
            "5\n",
            "6\n"
          ],
          "name": "stdout"
        }
      ]
    },
    {
      "cell_type": "code",
      "metadata": {
        "id": "Q9iZjcAG0arO",
        "outputId": "d621c4d5-7624-4f5c-d2dd-889b5b686b90",
        "colab": {
          "base_uri": "https://localhost:8080/"
        }
      },
      "source": [
        "arr = np.array([[[1, 2, 3], [4, 5, 6]], [[7, 8, 9], [10, 11, 12]]])\n",
        "i=0\n",
        "for x in arr:\n",
        "  i+=1\n",
        "  print(i,x)"
      ],
      "execution_count": null,
      "outputs": [
        {
          "output_type": "stream",
          "text": [
            "1 [[1 2 3]\n",
            " [4 5 6]]\n",
            "2 [[ 7  8  9]\n",
            " [10 11 12]]\n"
          ],
          "name": "stdout"
        }
      ]
    },
    {
      "cell_type": "code",
      "metadata": {
        "id": "9STDEWZw0qGv",
        "outputId": "6edae177-6d37-4023-8583-c70dc4870262",
        "colab": {
          "base_uri": "https://localhost:8080/"
        }
      },
      "source": [
        "arr = np.array([[[1, 2, 3], [4, 5, 6]], [[7, 8, 9], [10, 11, 12]]])\n",
        "\n",
        "for x in arr:\n",
        "  for y in x:\n",
        "    for z in y:\n",
        "      print(z)"
      ],
      "execution_count": null,
      "outputs": [
        {
          "output_type": "stream",
          "text": [
            "1\n",
            "2\n",
            "3\n",
            "4\n",
            "5\n",
            "6\n",
            "7\n",
            "8\n",
            "9\n",
            "10\n",
            "11\n",
            "12\n"
          ],
          "name": "stdout"
        }
      ]
    },
    {
      "cell_type": "code",
      "metadata": {
        "id": "WqmXRVIT0ucY",
        "outputId": "84f52107-6e5b-450b-85de-a0cfbc425356",
        "colab": {
          "base_uri": "https://localhost:8080/"
        }
      },
      "source": [
        "arr = np.array([[[1, 2], [3, 4]], [[5, 6], [7, 8]]])\n",
        "\n",
        "for x in np.nditer(arr):\n",
        "  print(x)"
      ],
      "execution_count": null,
      "outputs": [
        {
          "output_type": "stream",
          "text": [
            "1\n",
            "2\n",
            "3\n",
            "4\n",
            "5\n",
            "6\n",
            "7\n",
            "8\n"
          ],
          "name": "stdout"
        }
      ]
    },
    {
      "cell_type": "markdown",
      "metadata": {
        "id": "NuNB386Q1vfC"
      },
      "source": [
        "\n",
        "Juntar significa colocar el contenido de dos o mas arreglos en un arreglo simple"
      ]
    },
    {
      "cell_type": "code",
      "metadata": {
        "id": "0fz-EaXL1Rn8",
        "outputId": "e5f3e918-0434-4578-d808-57a12185dbca",
        "colab": {
          "base_uri": "https://localhost:8080/"
        }
      },
      "source": [
        "arr1 = np.array([1, 2, 3])\n",
        "\n",
        "arr2 = np.array([4, 5, 6])\n",
        "\n",
        "arr = np.concatenate((arr1, arr2))\n",
        "\n",
        "print(arr)"
      ],
      "execution_count": null,
      "outputs": [
        {
          "output_type": "stream",
          "text": [
            "[1 2 3 4 5 6]\n"
          ],
          "name": "stdout"
        }
      ]
    },
    {
      "cell_type": "code",
      "metadata": {
        "id": "eO6qb0nu1VtN",
        "outputId": "b444ac6d-4911-45de-cbcf-c06176d95ce6",
        "colab": {
          "base_uri": "https://localhost:8080/"
        }
      },
      "source": [
        "arr1 = np.array([[1, 2], [3, 4]])\n",
        "\n",
        "arr2 = np.array([[5, 6], [7, 8]])\n",
        "\n",
        "abajo = np.concatenate((arr1, arr2), axis=0)\n",
        "al_lado = np.concatenate((arr1, arr2), axis=1)\n",
        "print(abajo)\n",
        "print()\n",
        "print(al_lado)"
      ],
      "execution_count": null,
      "outputs": [
        {
          "output_type": "stream",
          "text": [
            "[[1 2]\n",
            " [3 4]\n",
            " [5 6]\n",
            " [7 8]]\n",
            "\n",
            "[[1 2 5 6]\n",
            " [3 4 7 8]]\n"
          ],
          "name": "stdout"
        }
      ]
    },
    {
      "cell_type": "code",
      "metadata": {
        "id": "bICzM2zZ1b-p",
        "outputId": "4f6ca50e-481c-4b02-d78f-1a2068618feb",
        "colab": {
          "base_uri": "https://localhost:8080/"
        }
      },
      "source": [
        "arr1 = np.array([1, 2, 3])\n",
        "\n",
        "arr2 = np.array([4, 5, 6])\n",
        "\n",
        "arr = np.stack((arr1, arr2), axis=1)\n",
        "\n",
        "print(arr)"
      ],
      "execution_count": null,
      "outputs": [
        {
          "output_type": "stream",
          "text": [
            "[[1 4]\n",
            " [2 5]\n",
            " [3 6]]\n"
          ],
          "name": "stdout"
        }
      ]
    },
    {
      "cell_type": "code",
      "metadata": {
        "id": "pWpioFZg21oV",
        "outputId": "bda8c617-40da-45c4-cfb6-6909dcd6ab21",
        "colab": {
          "base_uri": "https://localhost:8080/"
        }
      },
      "source": [
        "arr1 = np.array([1, 2, 3])\n",
        "\n",
        "arr2 = np.array([4, 5, 6])\n",
        "\n",
        "arr = np.hstack((arr1, arr2))\n",
        "\n",
        "print(arr)"
      ],
      "execution_count": null,
      "outputs": [
        {
          "output_type": "stream",
          "text": [
            "[1 2 3 4 5 6]\n"
          ],
          "name": "stdout"
        }
      ]
    },
    {
      "cell_type": "code",
      "metadata": {
        "id": "4TNkz3K_3C7v",
        "outputId": "47c506b2-3cfc-4c97-edf7-baec2722c147",
        "colab": {
          "base_uri": "https://localhost:8080/"
        }
      },
      "source": [
        "arr1 = np.array([1, 2, 3])\n",
        "\n",
        "arr2 = np.array([4, 5, 6])\n",
        "\n",
        "arr = np.vstack((arr1, arr2))\n",
        "\n",
        "print(arr)"
      ],
      "execution_count": null,
      "outputs": [
        {
          "output_type": "stream",
          "text": [
            "[[1 2 3]\n",
            " [4 5 6]]\n"
          ],
          "name": "stdout"
        }
      ]
    },
    {
      "cell_type": "code",
      "metadata": {
        "id": "oilj6GC43IsM",
        "outputId": "ed6d88d2-35d7-4dd1-e3f2-822f81904674",
        "colab": {
          "base_uri": "https://localhost:8080/"
        }
      },
      "source": [
        "arr1 = np.array([1, 2, 3])\n",
        "\n",
        "arr2 = np.array([4, 5, 6])\n",
        "\n",
        "arr = np.dstack((arr1, arr2))\n",
        "\n",
        "print(arr)"
      ],
      "execution_count": null,
      "outputs": [
        {
          "output_type": "stream",
          "text": [
            "[[[1 4]\n",
            "  [2 5]\n",
            "  [3 6]]]\n"
          ],
          "name": "stdout"
        }
      ]
    },
    {
      "cell_type": "code",
      "metadata": {
        "id": "z7urw99u3u0M",
        "outputId": "691e6089-bdb8-4eab-8859-f4f6bdf5cae0",
        "colab": {
          "base_uri": "https://localhost:8080/"
        }
      },
      "source": [
        "arr = np.array([3, 2, 0, 1])\n",
        "\n",
        "print(np.sort(arr))"
      ],
      "execution_count": null,
      "outputs": [
        {
          "output_type": "stream",
          "text": [
            "[0 1 2 3]\n"
          ],
          "name": "stdout"
        }
      ]
    },
    {
      "cell_type": "code",
      "metadata": {
        "id": "H4GkPOPR3zsa",
        "outputId": "67014839-c7b3-4632-a710-2290046674d9",
        "colab": {
          "base_uri": "https://localhost:8080/"
        }
      },
      "source": [
        "arr = np.array(['banana', 'cherry', 'apple'])\n",
        "\n",
        "print(np.sort(arr))"
      ],
      "execution_count": null,
      "outputs": [
        {
          "output_type": "stream",
          "text": [
            "['apple' 'banana' 'cherry']\n"
          ],
          "name": "stdout"
        }
      ]
    },
    {
      "cell_type": "code",
      "metadata": {
        "id": "mBPJK-gX337-",
        "outputId": "28cced6c-a244-4595-fcd8-2fd2640cb2da",
        "colab": {
          "base_uri": "https://localhost:8080/"
        }
      },
      "source": [
        "arr = np.array([[3, 2, 4], [5, 0, 1]])\n",
        "\n",
        "print(np.sort(arr))"
      ],
      "execution_count": null,
      "outputs": [
        {
          "output_type": "stream",
          "text": [
            "[[2 3 4]\n",
            " [0 1 5]]\n"
          ],
          "name": "stdout"
        }
      ]
    },
    {
      "cell_type": "code",
      "metadata": {
        "id": "NtVLqXeA4NIV",
        "outputId": "6c9389bd-0dd4-4ff0-eb2a-54a3b5d237d9",
        "colab": {
          "base_uri": "https://localhost:8080/"
        }
      },
      "source": [
        "arr = np.array([41, 42, 43, 44])\n",
        "\n",
        "filter_arr = arr > 42\n",
        "\n",
        "newarr = arr[filter_arr]\n",
        "\n",
        "print(filter_arr)\n",
        "print(newarr)"
      ],
      "execution_count": null,
      "outputs": [
        {
          "output_type": "stream",
          "text": [
            "[False False  True  True]\n",
            "[43 44]\n"
          ],
          "name": "stdout"
        }
      ]
    },
    {
      "cell_type": "code",
      "metadata": {
        "id": "nX9SnmjA4WWQ",
        "outputId": "c25c713e-46d8-4922-ec4a-f4c2940917b7",
        "colab": {
          "base_uri": "https://localhost:8080/"
        }
      },
      "source": [
        "arr = np.array([1, 2, 3, 4, 5, 6, 7])\n",
        "\n",
        "filter_arr = arr % 2 == 0\n",
        "\n",
        "newarr = arr[filter_arr]\n",
        "\n",
        "print(filter_arr)\n",
        "print(newarr)"
      ],
      "execution_count": null,
      "outputs": [
        {
          "output_type": "stream",
          "text": [
            "[False  True False  True False  True False]\n",
            "[2 4 6]\n"
          ],
          "name": "stdout"
        }
      ]
    },
    {
      "cell_type": "code",
      "metadata": {
        "id": "VKFiWWjG4gHJ",
        "outputId": "b8015cf6-402d-4e1a-a440-980e11473731",
        "colab": {
          "base_uri": "https://localhost:8080/"
        }
      },
      "source": [
        "from numpy import random\n",
        "\n",
        "x = random.randint(100)\n",
        "\n",
        "print(x)"
      ],
      "execution_count": null,
      "outputs": [
        {
          "output_type": "stream",
          "text": [
            "45\n"
          ],
          "name": "stdout"
        }
      ]
    },
    {
      "cell_type": "code",
      "metadata": {
        "id": "pppnTl854qNb",
        "outputId": "3b3ac68f-eb8b-4186-f1eb-f22d28225e2f",
        "colab": {
          "base_uri": "https://localhost:8080/"
        }
      },
      "source": [
        "x=random.randint(100, size=(5))\n",
        "\n",
        "print(x)"
      ],
      "execution_count": null,
      "outputs": [
        {
          "output_type": "stream",
          "text": [
            "[32 84 38 20 37]\n"
          ],
          "name": "stdout"
        }
      ]
    },
    {
      "cell_type": "code",
      "metadata": {
        "id": "Z4LQAfu84vMT",
        "outputId": "cfa67dca-3afc-48d8-9414-a02825a9da27",
        "colab": {
          "base_uri": "https://localhost:8080/"
        }
      },
      "source": [
        "x = random.randint(100, size=(3, 5))\n",
        "\n",
        "print(x)"
      ],
      "execution_count": null,
      "outputs": [
        {
          "output_type": "stream",
          "text": [
            "[[22 30 86 86 57]\n",
            " [70 49 32 15 41]\n",
            " [50 85 93  1 15]]\n"
          ],
          "name": "stdout"
        }
      ]
    },
    {
      "cell_type": "code",
      "metadata": {
        "id": "DGEc3E4w4lwD",
        "outputId": "d8c64ad5-3acb-4515-f1e3-fd7926317c4f",
        "colab": {
          "base_uri": "https://localhost:8080/"
        }
      },
      "source": [
        "x = random.rand()\n",
        "\n",
        "print(x)"
      ],
      "execution_count": null,
      "outputs": [
        {
          "output_type": "stream",
          "text": [
            "0.16253375476398613\n"
          ],
          "name": "stdout"
        }
      ]
    },
    {
      "cell_type": "code",
      "metadata": {
        "id": "6rcfQNig42ET",
        "outputId": "7bf09c5f-9c05-4f63-e4bc-e47e47a388b4",
        "colab": {
          "base_uri": "https://localhost:8080/"
        }
      },
      "source": [
        "x = random.rand(5)\n",
        "\n",
        "print(x)"
      ],
      "execution_count": null,
      "outputs": [
        {
          "output_type": "stream",
          "text": [
            "[0.82374832 0.37672948 0.25168734 0.53854614 0.72780458]\n"
          ],
          "name": "stdout"
        }
      ]
    },
    {
      "cell_type": "code",
      "metadata": {
        "id": "nBraixXc45Xy",
        "outputId": "d5bb15f7-9fee-462a-c6a4-464360232748",
        "colab": {
          "base_uri": "https://localhost:8080/"
        }
      },
      "source": [
        "x = random.rand(3, 5)\n",
        "\n",
        "print(x)"
      ],
      "execution_count": null,
      "outputs": [
        {
          "output_type": "stream",
          "text": [
            "[[0.57986346 0.82961761 0.13575936 0.24230378 0.01678805]\n",
            " [0.51502128 0.28753477 0.54160107 0.9541157  0.63042028]\n",
            " [0.3353144  0.92771725 0.24403812 0.1493946  0.63918891]]\n"
          ],
          "name": "stdout"
        }
      ]
    },
    {
      "cell_type": "code",
      "metadata": {
        "id": "KW-1TRPF4-Mp",
        "outputId": "515ad83f-3543-4bc2-90cd-03b62bac253b",
        "colab": {
          "base_uri": "https://localhost:8080/"
        }
      },
      "source": [
        "x = random.choice([3, 5, 7, 9]) #retorna uno de los 4 valores\n",
        "\n",
        "print(x)"
      ],
      "execution_count": null,
      "outputs": [
        {
          "output_type": "stream",
          "text": [
            "3\n"
          ],
          "name": "stdout"
        }
      ]
    },
    {
      "cell_type": "code",
      "metadata": {
        "id": "cYwARTjQ5KGP",
        "outputId": "f876a3e0-b9de-4eba-e2e0-ba9539641263",
        "colab": {
          "base_uri": "https://localhost:8080/"
        }
      },
      "source": [
        "x = random.choice([3, 5, 7, 9], size=(3, 5))\n",
        "\n",
        "print(x)"
      ],
      "execution_count": null,
      "outputs": [
        {
          "output_type": "stream",
          "text": [
            "[[7 9 3 5 3]\n",
            " [5 7 3 9 7]\n",
            " [3 7 5 7 9]]\n"
          ],
          "name": "stdout"
        }
      ]
    },
    {
      "cell_type": "code",
      "metadata": {
        "id": "bW0tdR4h5MrP",
        "outputId": "9a7066eb-394a-425c-859f-fd796c78d2c6",
        "colab": {
          "base_uri": "https://localhost:8080/"
        }
      },
      "source": [
        "x = random.choice([3, 5, 7, 9], p=[0.1, 0.3, 0.6, 0.0], size=(100)) #retorna uno de los valores con la probabilidad indicada para cada digito\n",
        "\n",
        "print(x)"
      ],
      "execution_count": null,
      "outputs": [
        {
          "output_type": "stream",
          "text": [
            "[7 7 5 5 7 7 5 7 7 7 5 3 7 7 5 7 5 7 7 7 7 5 7 3 7 3 7 5 3 5 7 5 5 5 7 5 5\n",
            " 5 7 7 7 7 5 7 7 5 7 7 5 5 7 7 7 5 7 7 3 5 7 7 7 7 7 7 5 7 7 5 7 7 5 7 7 7\n",
            " 7 7 7 7 7 7 5 7 5 5 7 5 7 5 5 5 5 5 5 3 7 5 5 5 5 5]\n"
          ],
          "name": "stdout"
        }
      ]
    },
    {
      "cell_type": "code",
      "metadata": {
        "id": "7lk79MOb5o_L",
        "outputId": "32837fac-6bd5-4b04-87ce-3877fb8bc2f2",
        "colab": {
          "base_uri": "https://localhost:8080/"
        }
      },
      "source": [
        "x = random.choice([3, 5, 7, 9], p=[0.1, 0.3, 0.6, 0.0], size=(3, 5))\n",
        "\n",
        "print(x)"
      ],
      "execution_count": null,
      "outputs": [
        {
          "output_type": "stream",
          "text": [
            "[[7 7 5 7 5]\n",
            " [7 7 7 5 7]\n",
            " [7 5 7 7 7]]\n"
          ],
          "name": "stdout"
        }
      ]
    },
    {
      "cell_type": "code",
      "metadata": {
        "id": "kP6bHDxt5y3N",
        "outputId": "381714d7-59fc-4ede-e733-029a5b2e9f4c",
        "colab": {
          "base_uri": "https://localhost:8080/"
        }
      },
      "source": [
        "arr = np.array([1, 2, 3, 4, 5])\n",
        "\n",
        "random.shuffle(arr)\n",
        "\n",
        "print(arr)"
      ],
      "execution_count": null,
      "outputs": [
        {
          "output_type": "stream",
          "text": [
            "[2 3 1 5 4]\n"
          ],
          "name": "stdout"
        }
      ]
    },
    {
      "cell_type": "code",
      "metadata": {
        "id": "GI-gZ50Q54LQ",
        "outputId": "f9624bb1-78f2-4048-90fa-541600c0ae5a",
        "colab": {
          "base_uri": "https://localhost:8080/"
        }
      },
      "source": [
        "arr = np.array([1, 2, 3, 4, 5]) #Generate a random permutation of elements of following array\n",
        "\n",
        "print(random.permutation(arr))"
      ],
      "execution_count": null,
      "outputs": [
        {
          "output_type": "stream",
          "text": [
            "[4 3 5 1 2]\n"
          ],
          "name": "stdout"
        }
      ]
    },
    {
      "cell_type": "code",
      "metadata": {
        "id": "--WVzaFSRV6D",
        "outputId": "ce73735a-d03d-4622-debf-eeb100298c7c",
        "colab": {
          "base_uri": "https://localhost:8080/"
        }
      },
      "source": [
        "a = np.arange(12).reshape(3,4)\n",
        "print ('The original array is:')\n",
        "print (a)\n",
        "print ('\\n')\n",
        "print ('Array after applying the function:')\n",
        "print (a.T)"
      ],
      "execution_count": null,
      "outputs": [
        {
          "output_type": "stream",
          "text": [
            "The original array is:\n",
            "[[ 0  1  2  3]\n",
            " [ 4  5  6  7]\n",
            " [ 8  9 10 11]]\n",
            "\n",
            "\n",
            "Array after applying the function:\n",
            "[[ 0  4  8]\n",
            " [ 1  5  9]\n",
            " [ 2  6 10]\n",
            " [ 3  7 11]]\n"
          ],
          "name": "stdout"
        }
      ]
    },
    {
      "cell_type": "code",
      "metadata": {
        "id": "qyzI_fv3RsGU",
        "outputId": "e395a093-7bb5-42dc-d6bd-a03b684336c2",
        "colab": {
          "base_uri": "https://localhost:8080/"
        }
      },
      "source": [
        "a = np.arange(9).reshape(3,3)\n",
        "print ('The original array is:')\n",
        "print (a)\n",
        "print ('\\n')\n",
        "print ('Array after applying the function:')\n",
        "print (np.swapaxes(a,1,0))"
      ],
      "execution_count": null,
      "outputs": [
        {
          "output_type": "stream",
          "text": [
            "The original array is:\n",
            "[[0 1 2]\n",
            " [3 4 5]\n",
            " [6 7 8]]\n",
            "\n",
            "\n",
            "Array after applying the function:\n",
            "[[0 3 6]\n",
            " [1 4 7]\n",
            " [2 5 8]]\n"
          ],
          "name": "stdout"
        }
      ]
    },
    {
      "cell_type": "code",
      "metadata": {
        "id": "2K_dJbOtR_cM",
        "outputId": "3882dced-db58-4d13-a4ac-92f248d48202",
        "colab": {
          "base_uri": "https://localhost:8080/"
        }
      },
      "source": [
        "import numpy as np\n",
        "a = np.array([[3,7,5],[8,4,3],[2,4,9]])\n",
        "print ('Our array is:')\n",
        "print (a)\n",
        "print ('\\n')\n",
        "print ('Applying amin() function:')\n",
        "print (np.amin(a))\n",
        "print ('\\n')\n",
        "print ('Applying amin() function:')\n",
        "print (np.amin(a,1))\n",
        "print ('\\n')\n",
        "print ('Applying amin() function again:')\n",
        "print (np.amin(a,0))\n",
        "print ('\\n')\n",
        "print ('Applying amax() function:')\n",
        "print (np.amax(a))\n",
        "print ('\\n')\n",
        "print ('Applying amax() function again:')\n",
        "print (np.amax(a, axis=0))"
      ],
      "execution_count": null,
      "outputs": [
        {
          "output_type": "stream",
          "text": [
            "Our array is:\n",
            "[[3 7 5]\n",
            " [8 4 3]\n",
            " [2 4 9]]\n",
            "\n",
            "\n",
            "Applying amin() function:\n",
            "2\n",
            "\n",
            "\n",
            "Applying amin() function:\n",
            "[3 3 2]\n",
            "\n",
            "\n",
            "Applying amin() function again:\n",
            "[2 4 3]\n",
            "\n",
            "\n",
            "Applying amax() function:\n",
            "9\n",
            "\n",
            "\n",
            "Applying amax() function again:\n",
            "[8 7 9]\n"
          ],
          "name": "stdout"
        }
      ]
    },
    {
      "cell_type": "code",
      "metadata": {
        "id": "cf4K0dGgQ9NC",
        "outputId": "e8c3982e-a479-4cc0-9411-a3bf87630768",
        "colab": {
          "base_uri": "https://localhost:8080/"
        }
      },
      "source": [
        "a = np.array([[3,7,5],[8,4,3],[2,4,9]])\n",
        "print ('Our array is:')\n",
        "print (a)\n",
        "print ('\\n')\n",
        "print ('Applying ptp() function:')\n",
        "print (np.ptp(a))\n",
        "print ('\\n')\n",
        "print ('Applying ptp() function along axis 1:')\n",
        "print (np.ptp(a, axis=1))\n",
        "print ('\\n')\n",
        "print ('Applying ptp() function along axis 0:')\n",
        "print (np.ptp(a, axis=0))"
      ],
      "execution_count": null,
      "outputs": [
        {
          "output_type": "stream",
          "text": [
            "Our array is:\n",
            "[[3 7 5]\n",
            " [8 4 3]\n",
            " [2 4 9]]\n",
            "\n",
            "\n",
            "Applying ptp() function:\n",
            "7\n",
            "\n",
            "\n",
            "Applying ptp() function along axis 1:\n",
            "[4 5 7]\n",
            "\n",
            "\n",
            "Applying ptp() function along axis 0:\n",
            "[6 3 6]\n"
          ],
          "name": "stdout"
        }
      ]
    },
    {
      "cell_type": "code",
      "metadata": {
        "id": "I_Bz7THuRutA",
        "outputId": "0ec3cb40-8b8d-46aa-b329-1ce52b90f800",
        "colab": {
          "base_uri": "https://localhost:8080/"
        }
      },
      "source": [
        "a = np.array([[30,65,70],[80,95,10],[50,90,60]])\n",
        "print ('Our array is:')\n",
        "print (a)\n",
        "print ('\\n')\n",
        "print ('Applying median() function:')\n",
        "print (np.median(a))\n",
        "print ('\\n')\n",
        "print ('Applying median() function along axis 0:')\n",
        "print (np.median(a, axis=0))\n",
        "print ('\\n')\n",
        "print ('Applying median() function along axis 1:')\n",
        "print (np.median(a, axis=1))"
      ],
      "execution_count": null,
      "outputs": [
        {
          "output_type": "stream",
          "text": [
            "Our array is:\n",
            "[[30 65 70]\n",
            " [80 95 10]\n",
            " [50 90 60]]\n",
            "\n",
            "\n",
            "Applying median() function:\n",
            "65.0\n",
            "\n",
            "\n",
            "Applying median() function along axis 0:\n",
            "[50. 90. 60.]\n",
            "\n",
            "\n",
            "Applying median() function along axis 1:\n",
            "[65. 80. 60.]\n"
          ],
          "name": "stdout"
        }
      ]
    },
    {
      "cell_type": "code",
      "metadata": {
        "id": "f3rCkJqoSJVm",
        "outputId": "f62311ee-f160-4fa0-c8db-cc1a664be46b",
        "colab": {
          "base_uri": "https://localhost:8080/"
        }
      },
      "source": [
        "a = np.array([[1,2,3],[3,4,5],[4,5,6]])\n",
        "print ('Our array is:')\n",
        "print (a)\n",
        "print ('\\n')\n",
        "print ('Applying mean() function:')\n",
        "print (np.mean(a))\n",
        "print ('\\n')\n",
        "print ('Applying mean() function along axis 0:')\n",
        "print (np.mean(a, axis=0))\n",
        "print ('\\n')\n",
        "print ('Applying mean() function along axis 1:')\n",
        "print (np.mean(a, axis=1))"
      ],
      "execution_count": null,
      "outputs": [
        {
          "output_type": "stream",
          "text": [
            "Our array is:\n",
            "[[1 2 3]\n",
            " [3 4 5]\n",
            " [4 5 6]]\n",
            "\n",
            "\n",
            "Applying mean() function:\n",
            "3.6666666666666665\n",
            "\n",
            "\n",
            "Applying mean() function along axis 0:\n",
            "[2.66666667 3.66666667 4.66666667]\n",
            "\n",
            "\n",
            "Applying mean() function along axis 1:\n",
            "[2. 4. 5.]\n"
          ],
          "name": "stdout"
        }
      ]
    },
    {
      "cell_type": "code",
      "metadata": {
        "id": "0QA9McwrSjqx",
        "outputId": "f56a5822-d66a-4f99-e727-2bb3027a4ecf",
        "colab": {
          "base_uri": "https://localhost:8080/"
        }
      },
      "source": [
        "a = np.array([1,2,3,4])\n",
        "print ('Our array is:')\n",
        "print (a)\n",
        "print ('\\n')\n",
        "print ('Applying average() function:')\n",
        "print (np.average(a))\n",
        "print ('\\n')\n",
        "# this is same as mean when weight is not specified\n",
        "wts=np.array([4,3,2,1])\n",
        "print ('Applying average() function again:')\n",
        "print (np.average(a,weights=wts))\n",
        "print ('\\n')\n",
        "# Returns the sum of weights, if the returned parameter is set to True.\n",
        "print ('Sum of weights')\n",
        "print (np.average([1,2,3, 4],weights=[4,3,2,1], returned=True))"
      ],
      "execution_count": null,
      "outputs": [
        {
          "output_type": "stream",
          "text": [
            "Our array is:\n",
            "[1 2 3 4]\n",
            "\n",
            "\n",
            "Applying average() function:\n",
            "2.5\n",
            "\n",
            "\n",
            "Applying average() function again:\n",
            "2.0\n",
            "\n",
            "\n",
            "Sum of weights\n",
            "(2.0, 10.0)\n"
          ],
          "name": "stdout"
        }
      ]
    },
    {
      "cell_type": "code",
      "metadata": {
        "id": "_HYMAS4-TQSn",
        "outputId": "1a678cf3-5918-4806-9913-0dd9d24a0285",
        "colab": {
          "base_uri": "https://localhost:8080/"
        }
      },
      "source": [
        "a = np.arange(6).reshape(3,2)\n",
        "print ('Our array is:')\n",
        "print (a)\n",
        "print ('\\n')\n",
        "print ('Modified array:')\n",
        "wt=np.array([3,5])\n",
        "print (np.average(a, axis=1, weights=wt))\n",
        "print ('\\n')\n",
        "print ('Modified array:')\n",
        "print (np.average(a, axis=1, weights=wt, returned=True))"
      ],
      "execution_count": null,
      "outputs": [
        {
          "output_type": "stream",
          "text": [
            "Our array is:\n",
            "[[0 1]\n",
            " [2 3]\n",
            " [4 5]]\n",
            "\n",
            "\n",
            "Modified array:\n",
            "[0.625 2.625 4.625]\n",
            "\n",
            "\n",
            "Modified array:\n",
            "(array([0.625, 2.625, 4.625]), array([8., 8., 8.]))\n"
          ],
          "name": "stdout"
        }
      ]
    },
    {
      "cell_type": "code",
      "metadata": {
        "id": "g5T06O9yT6KQ",
        "outputId": "97de70b3-1f37-4bed-946f-a91098cc7b00",
        "colab": {
          "base_uri": "https://localhost:8080/"
        }
      },
      "source": [
        "x=np.array([1,2,3,4])\n",
        "print (np.std(x))\n",
        "std = np.sqrt(np.mean(abs(x - x.mean())**2))\n",
        "print(std)"
      ],
      "execution_count": null,
      "outputs": [
        {
          "output_type": "stream",
          "text": [
            "1.118033988749895\n",
            "1.118033988749895\n"
          ],
          "name": "stdout"
        }
      ]
    },
    {
      "cell_type": "code",
      "metadata": {
        "id": "bCuSqg2hUY-_",
        "outputId": "634a3876-4292-4b84-b044-6fd8cabe9729",
        "colab": {
          "base_uri": "https://localhost:8080/"
        }
      },
      "source": [
        "print (np.var([1,2,3,4]))"
      ],
      "execution_count": null,
      "outputs": [
        {
          "output_type": "stream",
          "text": [
            "1.25\n"
          ],
          "name": "stdout"
        }
      ]
    },
    {
      "cell_type": "code",
      "metadata": {
        "id": "Msi9i8WBW5q6",
        "outputId": "3f11a7a3-1151-4d17-b3b8-885084ec28d3",
        "colab": {
          "base_uri": "https://localhost:8080/"
        }
      },
      "source": [
        "a = np.array([[3,7],[9,1]])\n",
        "print ('Our array is:')\n",
        "print (a)\n",
        "print ('\\n')\n",
        "print ('Applying sort() function:')\n",
        "print (np.sort(a))\n",
        "print ('\\n')\n",
        "print ('Sort along axis 0:')\n",
        "print (np.sort(a, axis=0))\n",
        "print ('\\n')\n",
        "# Order parameter in sort function\n",
        "dt = np.dtype([('name', 'S10'),('age', int)])\n",
        "a = np.array([(\"raju\",21),(\"anil\",25),(\"ravi\", 17), (\"amar\",27)], dtype=dt)\n",
        "print ('Our array is:')\n",
        "print (a)\n",
        "print ('\\n')\n",
        "print ('Order by name:')\n",
        "print (np.sort(a, order='name'))"
      ],
      "execution_count": null,
      "outputs": [
        {
          "output_type": "stream",
          "text": [
            "Our array is:\n",
            "[[3 7]\n",
            " [9 1]]\n",
            "\n",
            "\n",
            "Applying sort() function:\n",
            "[[3 7]\n",
            " [1 9]]\n",
            "\n",
            "\n",
            "Sort along axis 0:\n",
            "[[3 1]\n",
            " [9 7]]\n",
            "\n",
            "\n",
            "Our array is:\n",
            "[(b'raju', 21) (b'anil', 25) (b'ravi', 17) (b'amar', 27)]\n",
            "\n",
            "\n",
            "Order by name:\n",
            "[(b'amar', 27) (b'anil', 25) (b'raju', 21) (b'ravi', 17)]\n"
          ],
          "name": "stdout"
        }
      ]
    },
    {
      "cell_type": "code",
      "metadata": {
        "id": "20t1HkZyUM8z",
        "outputId": "9871801a-693b-4694-8cc9-1456d7998aee",
        "colab": {
          "base_uri": "https://localhost:8080/"
        }
      },
      "source": [
        "x = np.arange(9.).reshape(3, 3)\n",
        "print ('Our array is:')\n",
        "print (x)\n",
        "# define a condition\n",
        "condition = np.mod(x,2)==0\n",
        "print ('Element-wise value of condition')\n",
        "print (condition)\n",
        "print ('Extract elements using condition')\n",
        "print (np.extract(condition, x))"
      ],
      "execution_count": null,
      "outputs": [
        {
          "output_type": "stream",
          "text": [
            "Our array is:\n",
            "[[0. 1. 2.]\n",
            " [3. 4. 5.]\n",
            " [6. 7. 8.]]\n",
            "Element-wise value of condition\n",
            "[[ True False  True]\n",
            " [False  True False]\n",
            " [ True False  True]]\n",
            "Extract elements using condition\n",
            "[0. 2. 4. 6. 8.]\n"
          ],
          "name": "stdout"
        }
      ]
    },
    {
      "cell_type": "code",
      "metadata": {
        "id": "cRiPG6aAZtgf",
        "outputId": "abbce3e4-7f1b-49aa-a5a2-9b31c33ccacd",
        "colab": {
          "base_uri": "https://localhost:8080/"
        }
      },
      "source": [
        "# For 2-D array, it is matrix multiplication\n",
        "import numpy.matlib\n",
        "import numpy as np\n",
        "a = [[1,0],[0,1]]\n",
        "b = [[4,1],[2,2]]\n",
        "print (np.matmul(a,b))"
      ],
      "execution_count": null,
      "outputs": [
        {
          "output_type": "stream",
          "text": [
            "[[4 1]\n",
            " [2 2]]\n"
          ],
          "name": "stdout"
        }
      ]
    },
    {
      "cell_type": "code",
      "metadata": {
        "id": "PdZNePxcZ2pz",
        "outputId": "0c14cb5a-6425-4868-f89e-c6ee71bc8d94",
        "colab": {
          "base_uri": "https://localhost:8080/"
        }
      },
      "source": [
        "# 2-D mixed with 1-D\n",
        "import numpy.matlib\n",
        "import numpy as np\n",
        "a=[[1,0],[0,1]]\n",
        "b=[1,2]\n",
        "print (np.matmul(a,b))\n",
        "print (np.matmul(b,a))"
      ],
      "execution_count": null,
      "outputs": [
        {
          "output_type": "stream",
          "text": [
            "[1 2]\n",
            "[1 2]\n"
          ],
          "name": "stdout"
        }
      ]
    },
    {
      "cell_type": "code",
      "metadata": {
        "id": "lan4ruOraCLq",
        "outputId": "46646f15-47ae-4c58-f7bc-467529c4864f",
        "colab": {
          "base_uri": "https://localhost:8080/"
        }
      },
      "source": [
        "a = np.array([[1,2], [3,4]])\n",
        "print (np.linalg.det(a))"
      ],
      "execution_count": null,
      "outputs": [
        {
          "output_type": "stream",
          "text": [
            "-2.0000000000000004\n"
          ],
          "name": "stdout"
        }
      ]
    },
    {
      "cell_type": "code",
      "metadata": {
        "id": "iZgYay0OaICY",
        "outputId": "3a7d2527-faf3-4a7c-f083-7482b2204ed8",
        "colab": {
          "base_uri": "https://localhost:8080/"
        }
      },
      "source": [
        "a = np.array([[1,1,1],[0,2,5],[2,5,-1]])\n",
        "print ('Array a:')\n",
        "print (a)\n",
        "ainv=np.linalg.inv(a)\n",
        "print ('Inverse of a:')\n",
        "print (ainv)\n",
        "print ('Matrix B is:')\n",
        "b = np.array([[6],[-4],[27]])\n",
        "print (b)\n",
        "print ('Compute A-1B:')\n",
        "print (np.matmul(ainv,b))\n",
        "print ('solve:')\n",
        "print (np.linalg.solve(a,b))"
      ],
      "execution_count": null,
      "outputs": [
        {
          "output_type": "stream",
          "text": [
            "Array a:\n",
            "[[ 1  1  1]\n",
            " [ 0  2  5]\n",
            " [ 2  5 -1]]\n",
            "Inverse of a:\n",
            "[[ 1.28571429 -0.28571429 -0.14285714]\n",
            " [-0.47619048  0.14285714  0.23809524]\n",
            " [ 0.19047619  0.14285714 -0.0952381 ]]\n",
            "Matrix B is:\n",
            "[[ 6]\n",
            " [-4]\n",
            " [27]]\n",
            "Compute A-1B:\n",
            "[[ 5.]\n",
            " [ 3.]\n",
            " [-2.]]\n",
            "solve:\n",
            "[[ 5.]\n",
            " [ 3.]\n",
            " [-2.]]\n"
          ],
          "name": "stdout"
        }
      ]
    },
    {
      "cell_type": "code",
      "metadata": {
        "id": "Vq_kLvAGbIGZ"
      },
      "source": [
        "a=np.array([1,2,3,4,5])\n",
        "np.save('var_a',a)"
      ],
      "execution_count": null,
      "outputs": []
    },
    {
      "cell_type": "code",
      "metadata": {
        "id": "zLX1lpPFk_Ws",
        "outputId": "6fa82152-492d-45fe-abd5-a84c8e2ffcca",
        "colab": {
          "base_uri": "https://localhost:8080/"
        }
      },
      "source": [
        "b = np.load('var_a.npy')\n",
        "print (b)"
      ],
      "execution_count": null,
      "outputs": [
        {
          "output_type": "stream",
          "text": [
            "[1 2 3 4 5]\n"
          ],
          "name": "stdout"
        }
      ]
    },
    {
      "cell_type": "code",
      "metadata": {
        "id": "LLSpvyEulM1G",
        "outputId": "3455db00-e06e-4ece-9898-54adc34562a7",
        "colab": {
          "base_uri": "https://localhost:8080/"
        }
      },
      "source": [
        "a = np.array([1,2,3,4,5])\n",
        "np.savetxt('a.txt',a)\n",
        "b = np.loadtxt('a.txt')\n",
        "print (b)"
      ],
      "execution_count": null,
      "outputs": [
        {
          "output_type": "stream",
          "text": [
            "[1. 2. 3. 4. 5.]\n"
          ],
          "name": "stdout"
        }
      ]
    },
    {
      "cell_type": "code",
      "metadata": {
        "id": "e3I3i7JRl2m6",
        "outputId": "4cc7ccc2-2f5a-484e-ff27-840f8c4a4755",
        "colab": {
          "base_uri": "https://localhost:8080/"
        }
      },
      "source": [
        "!cat a.txt"
      ],
      "execution_count": null,
      "outputs": [
        {
          "output_type": "stream",
          "text": [
            "1.000000000000000000e+00\n",
            "2.000000000000000000e+00\n",
            "3.000000000000000000e+00\n",
            "4.000000000000000000e+00\n",
            "5.000000000000000000e+00\n"
          ],
          "name": "stdout"
        }
      ]
    },
    {
      "cell_type": "code",
      "metadata": {
        "id": "hPdA6pTWm3Fp",
        "outputId": "9fcce60b-dd85-48f7-ccbb-b12191064e35",
        "colab": {
          "base_uri": "https://localhost:8080/"
        }
      },
      "source": [
        "!pip install mat4py"
      ],
      "execution_count": null,
      "outputs": [
        {
          "output_type": "stream",
          "text": [
            "Collecting mat4py\n",
            "  Downloading https://files.pythonhosted.org/packages/c7/02/a6855d4e61f7b6484535c1a2500c207bc0772e9c70ea6a3e30c553a6e3ef/mat4py-0.4.3-py2.py3-none-any.whl\n",
            "Installing collected packages: mat4py\n",
            "Successfully installed mat4py-0.4.3\n"
          ],
          "name": "stdout"
        }
      ]
    },
    {
      "cell_type": "code",
      "metadata": {
        "id": "qqaDawAymxPq"
      },
      "source": [
        "from mat4py import savemat\n",
        "a={'a':100}\n",
        "savemat('datafile.mat', a)"
      ],
      "execution_count": null,
      "outputs": []
    },
    {
      "cell_type": "code",
      "metadata": {
        "id": "XELs9vA0l9BS",
        "outputId": "a676c2e5-fe6d-4dd4-b317-0c36cc2c4ec8",
        "colab": {
          "base_uri": "https://localhost:8080/"
        }
      },
      "source": [
        "from mat4py import loadmat\n",
        "data = loadmat('datafile.mat')\n",
        "print(data)"
      ],
      "execution_count": null,
      "outputs": [
        {
          "output_type": "stream",
          "text": [
            "{'a': 100}\n"
          ],
          "name": "stdout"
        }
      ]
    },
    {
      "cell_type": "code",
      "metadata": {
        "id": "BCkk6wd_o-ys",
        "outputId": "9145d8de-e07a-434c-dcc7-c4f4045917e1",
        "colab": {
          "base_uri": "https://localhost:8080/"
        }
      },
      "source": [
        "!pip install matlab"
      ],
      "execution_count": null,
      "outputs": [
        {
          "output_type": "stream",
          "text": [
            "Requirement already satisfied: matlab in /usr/local/lib/python3.6/dist-packages (0.1)\n"
          ],
          "name": "stdout"
        }
      ]
    },
    {
      "cell_type": "code",
      "metadata": {
        "id": "8bUlAXpyoARc",
        "outputId": "622035d5-d87f-470c-9022-1d2b91019048",
        "colab": {
          "base_uri": "https://localhost:8080/"
        }
      },
      "source": [
        "import matlab\n",
        "\n",
        "print(matlab.cos(np.pi))\n",
        "\n",
        "x=np.array([1,2,3,4])\n",
        "y=np.array([1,2,3,4])\n",
        "xi=1.5\n",
        "print(matlab.interp(xi,x,y))"
      ],
      "execution_count": null,
      "outputs": [
        {
          "output_type": "stream",
          "text": [
            "-1.0\n",
            "1.5\n"
          ],
          "name": "stdout"
        }
      ]
    },
    {
      "cell_type": "code",
      "metadata": {
        "id": "OJOHan3HrT-J"
      },
      "source": [
        ""
      ],
      "execution_count": null,
      "outputs": []
    }
  ]
}